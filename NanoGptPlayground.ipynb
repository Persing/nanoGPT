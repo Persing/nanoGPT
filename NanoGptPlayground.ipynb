{
 "cells": [
  {
   "cell_type": "code",
   "execution_count": null,
   "outputs": [],
   "source": [],
   "metadata": {
    "collapsed": false
   }
  },
  {
   "cell_type": "code",
   "execution_count": null,
   "metadata": {
    "collapsed": true
   },
   "outputs": [],
   "source": [
    "###############################################"
   ]
  },
  {
   "cell_type": "code",
   "execution_count": null,
   "outputs": [],
   "source": [
    "!pip install transformers\n",
    "!pip install datasets\n",
    "!pip install tiktoken\n",
    "!pip install wandb\n",
    "!pip install tqdm"
   ],
   "metadata": {
    "collapsed": false
   }
  },
  {
   "cell_type": "code",
   "execution_count": 52,
   "outputs": [],
   "source": [
    "import pandas as pd\n",
    "data = pd.read_json('data/mtg_char/default-cards-20230313210730.json')"
   ],
   "metadata": {
    "collapsed": false
   }
  },
  {
   "cell_type": "code",
   "execution_count": 33,
   "outputs": [
    {
     "name": "stdout",
     "output_type": "stream",
     "text": [
      "(80731, 84)\n"
     ]
    },
    {
     "data": {
      "text/plain": "  object                                    id  \\\n0   card  0000579f-7b35-4ed3-b44c-db2a538066fe   \n1   card  00006596-1166-4a79-8443-ca9f82e6db4e   \n2   card  0000a54c-a511-4925-92dc-01b937f9afad   \n3   card  0000cd57-91fe-411f-b798-646e965eec37   \n4   card  00012bd8-ed68-4978-a22d-f450c8a6e048   \n\n                              oracle_id multiverse_ids  mtgo_id  mtgo_foil_id  \\\n0  44623693-51d6-49ad-8cd7-140505caf02f       [109722]  25527.0       25528.0   \n1  8ae3562f-28b7-4462-96ed-be0cf7052ccc       [189637]  34586.0       34587.0   \n2  dc4e2134-f0c2-49aa-9ea3-ebf83af1445c             []      NaN           NaN   \n3  9f0d82ae-38bf-45d8-8cda-982b6ead1d72       [435231]  65170.0       65171.0   \n4  5aa12aff-db3c-4be5-822b-3afdf536b33e         [1278]      NaN           NaN   \n\n   tcgplayer_id  cardmarket_id           name lang  ... tcgplayer_etched_id  \\\n0       14240.0        13850.0    Fury Sliver   en  ...                 NaN   \n1       33347.0        21851.0  Kor Outfitter   en  ...                 NaN   \n2       98659.0            NaN         Spirit   en  ...                 NaN   \n3      145764.0       301766.0  Siren Lookout   en  ...                 NaN   \n4        1623.0         5664.0            Web   en  ...                 NaN   \n\n  attraction_lights color_indicator variation_of  life_modifier hand_modifier  \\\n0               NaN             NaN          NaN            NaN           NaN   \n1               NaN             NaN          NaN            NaN           NaN   \n2               NaN             NaN          NaN            NaN           NaN   \n3               NaN             NaN          NaN            NaN           NaN   \n4               NaN             NaN          NaN            NaN           NaN   \n\n  printed_type_line printed_text  content_warning flavor_name  \n0               NaN          NaN              NaN         NaN  \n1               NaN          NaN              NaN         NaN  \n2               NaN          NaN              NaN         NaN  \n3               NaN          NaN              NaN         NaN  \n4               NaN          NaN              NaN         NaN  \n\n[5 rows x 84 columns]",
      "text/html": "<div>\n<style scoped>\n    .dataframe tbody tr th:only-of-type {\n        vertical-align: middle;\n    }\n\n    .dataframe tbody tr th {\n        vertical-align: top;\n    }\n\n    .dataframe thead th {\n        text-align: right;\n    }\n</style>\n<table border=\"1\" class=\"dataframe\">\n  <thead>\n    <tr style=\"text-align: right;\">\n      <th></th>\n      <th>object</th>\n      <th>id</th>\n      <th>oracle_id</th>\n      <th>multiverse_ids</th>\n      <th>mtgo_id</th>\n      <th>mtgo_foil_id</th>\n      <th>tcgplayer_id</th>\n      <th>cardmarket_id</th>\n      <th>name</th>\n      <th>lang</th>\n      <th>...</th>\n      <th>tcgplayer_etched_id</th>\n      <th>attraction_lights</th>\n      <th>color_indicator</th>\n      <th>variation_of</th>\n      <th>life_modifier</th>\n      <th>hand_modifier</th>\n      <th>printed_type_line</th>\n      <th>printed_text</th>\n      <th>content_warning</th>\n      <th>flavor_name</th>\n    </tr>\n  </thead>\n  <tbody>\n    <tr>\n      <th>0</th>\n      <td>card</td>\n      <td>0000579f-7b35-4ed3-b44c-db2a538066fe</td>\n      <td>44623693-51d6-49ad-8cd7-140505caf02f</td>\n      <td>[109722]</td>\n      <td>25527.0</td>\n      <td>25528.0</td>\n      <td>14240.0</td>\n      <td>13850.0</td>\n      <td>Fury Sliver</td>\n      <td>en</td>\n      <td>...</td>\n      <td>NaN</td>\n      <td>NaN</td>\n      <td>NaN</td>\n      <td>NaN</td>\n      <td>NaN</td>\n      <td>NaN</td>\n      <td>NaN</td>\n      <td>NaN</td>\n      <td>NaN</td>\n      <td>NaN</td>\n    </tr>\n    <tr>\n      <th>1</th>\n      <td>card</td>\n      <td>00006596-1166-4a79-8443-ca9f82e6db4e</td>\n      <td>8ae3562f-28b7-4462-96ed-be0cf7052ccc</td>\n      <td>[189637]</td>\n      <td>34586.0</td>\n      <td>34587.0</td>\n      <td>33347.0</td>\n      <td>21851.0</td>\n      <td>Kor Outfitter</td>\n      <td>en</td>\n      <td>...</td>\n      <td>NaN</td>\n      <td>NaN</td>\n      <td>NaN</td>\n      <td>NaN</td>\n      <td>NaN</td>\n      <td>NaN</td>\n      <td>NaN</td>\n      <td>NaN</td>\n      <td>NaN</td>\n      <td>NaN</td>\n    </tr>\n    <tr>\n      <th>2</th>\n      <td>card</td>\n      <td>0000a54c-a511-4925-92dc-01b937f9afad</td>\n      <td>dc4e2134-f0c2-49aa-9ea3-ebf83af1445c</td>\n      <td>[]</td>\n      <td>NaN</td>\n      <td>NaN</td>\n      <td>98659.0</td>\n      <td>NaN</td>\n      <td>Spirit</td>\n      <td>en</td>\n      <td>...</td>\n      <td>NaN</td>\n      <td>NaN</td>\n      <td>NaN</td>\n      <td>NaN</td>\n      <td>NaN</td>\n      <td>NaN</td>\n      <td>NaN</td>\n      <td>NaN</td>\n      <td>NaN</td>\n      <td>NaN</td>\n    </tr>\n    <tr>\n      <th>3</th>\n      <td>card</td>\n      <td>0000cd57-91fe-411f-b798-646e965eec37</td>\n      <td>9f0d82ae-38bf-45d8-8cda-982b6ead1d72</td>\n      <td>[435231]</td>\n      <td>65170.0</td>\n      <td>65171.0</td>\n      <td>145764.0</td>\n      <td>301766.0</td>\n      <td>Siren Lookout</td>\n      <td>en</td>\n      <td>...</td>\n      <td>NaN</td>\n      <td>NaN</td>\n      <td>NaN</td>\n      <td>NaN</td>\n      <td>NaN</td>\n      <td>NaN</td>\n      <td>NaN</td>\n      <td>NaN</td>\n      <td>NaN</td>\n      <td>NaN</td>\n    </tr>\n    <tr>\n      <th>4</th>\n      <td>card</td>\n      <td>00012bd8-ed68-4978-a22d-f450c8a6e048</td>\n      <td>5aa12aff-db3c-4be5-822b-3afdf536b33e</td>\n      <td>[1278]</td>\n      <td>NaN</td>\n      <td>NaN</td>\n      <td>1623.0</td>\n      <td>5664.0</td>\n      <td>Web</td>\n      <td>en</td>\n      <td>...</td>\n      <td>NaN</td>\n      <td>NaN</td>\n      <td>NaN</td>\n      <td>NaN</td>\n      <td>NaN</td>\n      <td>NaN</td>\n      <td>NaN</td>\n      <td>NaN</td>\n      <td>NaN</td>\n      <td>NaN</td>\n    </tr>\n  </tbody>\n</table>\n<p>5 rows × 84 columns</p>\n</div>"
     },
     "execution_count": 33,
     "metadata": {},
     "output_type": "execute_result"
    }
   ],
   "source": [
    "# peek at the data\n",
    "print(data.shape)\n",
    "data.head()"
   ],
   "metadata": {
    "collapsed": false
   }
  },
  {
   "cell_type": "code",
   "execution_count": 53,
   "outputs": [
    {
     "name": "stdout",
     "output_type": "stream",
     "text": [
      "(78312, 84)\n"
     ]
    },
    {
     "data": {
      "text/plain": "  object                                    id  \\\n0   card  0000579f-7b35-4ed3-b44c-db2a538066fe   \n1   card  00006596-1166-4a79-8443-ca9f82e6db4e   \n2   card  0000a54c-a511-4925-92dc-01b937f9afad   \n3   card  0000cd57-91fe-411f-b798-646e965eec37   \n4   card  00012bd8-ed68-4978-a22d-f450c8a6e048   \n\n                              oracle_id multiverse_ids  mtgo_id  mtgo_foil_id  \\\n0  44623693-51d6-49ad-8cd7-140505caf02f       [109722]  25527.0       25528.0   \n1  8ae3562f-28b7-4462-96ed-be0cf7052ccc       [189637]  34586.0       34587.0   \n2  dc4e2134-f0c2-49aa-9ea3-ebf83af1445c             []      NaN           NaN   \n3  9f0d82ae-38bf-45d8-8cda-982b6ead1d72       [435231]  65170.0       65171.0   \n4  5aa12aff-db3c-4be5-822b-3afdf536b33e         [1278]      NaN           NaN   \n\n   tcgplayer_id  cardmarket_id           name lang  ... tcgplayer_etched_id  \\\n0       14240.0        13850.0    Fury Sliver   en  ...                 NaN   \n1       33347.0        21851.0  Kor Outfitter   en  ...                 NaN   \n2       98659.0            NaN         Spirit   en  ...                 NaN   \n3      145764.0       301766.0  Siren Lookout   en  ...                 NaN   \n4        1623.0         5664.0            Web   en  ...                 NaN   \n\n  attraction_lights color_indicator variation_of  life_modifier hand_modifier  \\\n0               NaN             NaN          NaN            NaN           NaN   \n1               NaN             NaN          NaN            NaN           NaN   \n2               NaN             NaN          NaN            NaN           NaN   \n3               NaN             NaN          NaN            NaN           NaN   \n4               NaN             NaN          NaN            NaN           NaN   \n\n  printed_type_line printed_text  content_warning flavor_name  \n0               NaN          NaN              NaN         NaN  \n1               NaN          NaN              NaN         NaN  \n2               NaN          NaN              NaN         NaN  \n3               NaN          NaN              NaN         NaN  \n4               NaN          NaN              NaN         NaN  \n\n[5 rows x 84 columns]",
      "text/html": "<div>\n<style scoped>\n    .dataframe tbody tr th:only-of-type {\n        vertical-align: middle;\n    }\n\n    .dataframe tbody tr th {\n        vertical-align: top;\n    }\n\n    .dataframe thead th {\n        text-align: right;\n    }\n</style>\n<table border=\"1\" class=\"dataframe\">\n  <thead>\n    <tr style=\"text-align: right;\">\n      <th></th>\n      <th>object</th>\n      <th>id</th>\n      <th>oracle_id</th>\n      <th>multiverse_ids</th>\n      <th>mtgo_id</th>\n      <th>mtgo_foil_id</th>\n      <th>tcgplayer_id</th>\n      <th>cardmarket_id</th>\n      <th>name</th>\n      <th>lang</th>\n      <th>...</th>\n      <th>tcgplayer_etched_id</th>\n      <th>attraction_lights</th>\n      <th>color_indicator</th>\n      <th>variation_of</th>\n      <th>life_modifier</th>\n      <th>hand_modifier</th>\n      <th>printed_type_line</th>\n      <th>printed_text</th>\n      <th>content_warning</th>\n      <th>flavor_name</th>\n    </tr>\n  </thead>\n  <tbody>\n    <tr>\n      <th>0</th>\n      <td>card</td>\n      <td>0000579f-7b35-4ed3-b44c-db2a538066fe</td>\n      <td>44623693-51d6-49ad-8cd7-140505caf02f</td>\n      <td>[109722]</td>\n      <td>25527.0</td>\n      <td>25528.0</td>\n      <td>14240.0</td>\n      <td>13850.0</td>\n      <td>Fury Sliver</td>\n      <td>en</td>\n      <td>...</td>\n      <td>NaN</td>\n      <td>NaN</td>\n      <td>NaN</td>\n      <td>NaN</td>\n      <td>NaN</td>\n      <td>NaN</td>\n      <td>NaN</td>\n      <td>NaN</td>\n      <td>NaN</td>\n      <td>NaN</td>\n    </tr>\n    <tr>\n      <th>1</th>\n      <td>card</td>\n      <td>00006596-1166-4a79-8443-ca9f82e6db4e</td>\n      <td>8ae3562f-28b7-4462-96ed-be0cf7052ccc</td>\n      <td>[189637]</td>\n      <td>34586.0</td>\n      <td>34587.0</td>\n      <td>33347.0</td>\n      <td>21851.0</td>\n      <td>Kor Outfitter</td>\n      <td>en</td>\n      <td>...</td>\n      <td>NaN</td>\n      <td>NaN</td>\n      <td>NaN</td>\n      <td>NaN</td>\n      <td>NaN</td>\n      <td>NaN</td>\n      <td>NaN</td>\n      <td>NaN</td>\n      <td>NaN</td>\n      <td>NaN</td>\n    </tr>\n    <tr>\n      <th>2</th>\n      <td>card</td>\n      <td>0000a54c-a511-4925-92dc-01b937f9afad</td>\n      <td>dc4e2134-f0c2-49aa-9ea3-ebf83af1445c</td>\n      <td>[]</td>\n      <td>NaN</td>\n      <td>NaN</td>\n      <td>98659.0</td>\n      <td>NaN</td>\n      <td>Spirit</td>\n      <td>en</td>\n      <td>...</td>\n      <td>NaN</td>\n      <td>NaN</td>\n      <td>NaN</td>\n      <td>NaN</td>\n      <td>NaN</td>\n      <td>NaN</td>\n      <td>NaN</td>\n      <td>NaN</td>\n      <td>NaN</td>\n      <td>NaN</td>\n    </tr>\n    <tr>\n      <th>3</th>\n      <td>card</td>\n      <td>0000cd57-91fe-411f-b798-646e965eec37</td>\n      <td>9f0d82ae-38bf-45d8-8cda-982b6ead1d72</td>\n      <td>[435231]</td>\n      <td>65170.0</td>\n      <td>65171.0</td>\n      <td>145764.0</td>\n      <td>301766.0</td>\n      <td>Siren Lookout</td>\n      <td>en</td>\n      <td>...</td>\n      <td>NaN</td>\n      <td>NaN</td>\n      <td>NaN</td>\n      <td>NaN</td>\n      <td>NaN</td>\n      <td>NaN</td>\n      <td>NaN</td>\n      <td>NaN</td>\n      <td>NaN</td>\n      <td>NaN</td>\n    </tr>\n    <tr>\n      <th>4</th>\n      <td>card</td>\n      <td>00012bd8-ed68-4978-a22d-f450c8a6e048</td>\n      <td>5aa12aff-db3c-4be5-822b-3afdf536b33e</td>\n      <td>[1278]</td>\n      <td>NaN</td>\n      <td>NaN</td>\n      <td>1623.0</td>\n      <td>5664.0</td>\n      <td>Web</td>\n      <td>en</td>\n      <td>...</td>\n      <td>NaN</td>\n      <td>NaN</td>\n      <td>NaN</td>\n      <td>NaN</td>\n      <td>NaN</td>\n      <td>NaN</td>\n      <td>NaN</td>\n      <td>NaN</td>\n      <td>NaN</td>\n      <td>NaN</td>\n    </tr>\n  </tbody>\n</table>\n<p>5 rows × 84 columns</p>\n</div>"
     },
     "execution_count": 53,
     "metadata": {},
     "output_type": "execute_result"
    }
   ],
   "source": [
    "# filter out cards that are not in english\n",
    "data = data[data['lang'] == 'en']\n",
    "print(data.shape)\n",
    "data.head()"
   ],
   "metadata": {
    "collapsed": false
   }
  },
  {
   "cell_type": "code",
   "execution_count": 54,
   "outputs": [],
   "source": [
    "# Keep only normal cards\n",
    "data = data[data['layout'] == 'normal']"
   ],
   "metadata": {
    "collapsed": false
   }
  },
  {
   "cell_type": "code",
   "execution_count": 36,
   "outputs": [
    {
     "data": {
      "text/plain": "  object                                    id  \\\n0   card  0000579f-7b35-4ed3-b44c-db2a538066fe   \n1   card  00006596-1166-4a79-8443-ca9f82e6db4e   \n3   card  0000cd57-91fe-411f-b798-646e965eec37   \n4   card  00012bd8-ed68-4978-a22d-f450c8a6e048   \n5   card  0001f1ef-b957-4a55-b47f-14839cdbab6f   \n\n                              oracle_id multiverse_ids  mtgo_id  mtgo_foil_id  \\\n0  44623693-51d6-49ad-8cd7-140505caf02f       [109722]  25527.0       25528.0   \n1  8ae3562f-28b7-4462-96ed-be0cf7052ccc       [189637]  34586.0       34587.0   \n3  9f0d82ae-38bf-45d8-8cda-982b6ead1d72       [435231]  65170.0       65171.0   \n4  5aa12aff-db3c-4be5-822b-3afdf536b33e         [1278]      NaN           NaN   \n5  ef027846-be81-4959-a6b5-56bd01b1e68a       [472997]  78170.0           NaN   \n\n   tcgplayer_id  cardmarket_id              name lang  ...  \\\n0       14240.0        13850.0       Fury Sliver   en  ...   \n1       33347.0        21851.0     Kor Outfitter   en  ...   \n3      145764.0       301766.0     Siren Lookout   en  ...   \n4        1623.0         5664.0               Web   en  ...   \n5      198861.0       400134.0  Venerable Knight   en  ...   \n\n  tcgplayer_etched_id attraction_lights color_indicator variation_of  \\\n0                 NaN               NaN             NaN          NaN   \n1                 NaN               NaN             NaN          NaN   \n3                 NaN               NaN             NaN          NaN   \n4                 NaN               NaN             NaN          NaN   \n5                 NaN               NaN             NaN          NaN   \n\n   life_modifier hand_modifier printed_type_line printed_text  \\\n0            NaN           NaN               NaN          NaN   \n1            NaN           NaN               NaN          NaN   \n3            NaN           NaN               NaN          NaN   \n4            NaN           NaN               NaN          NaN   \n5            NaN           NaN               NaN          NaN   \n\n   content_warning flavor_name  \n0              NaN         NaN  \n1              NaN         NaN  \n3              NaN         NaN  \n4              NaN         NaN  \n5              NaN         NaN  \n\n[5 rows x 84 columns]",
      "text/html": "<div>\n<style scoped>\n    .dataframe tbody tr th:only-of-type {\n        vertical-align: middle;\n    }\n\n    .dataframe tbody tr th {\n        vertical-align: top;\n    }\n\n    .dataframe thead th {\n        text-align: right;\n    }\n</style>\n<table border=\"1\" class=\"dataframe\">\n  <thead>\n    <tr style=\"text-align: right;\">\n      <th></th>\n      <th>object</th>\n      <th>id</th>\n      <th>oracle_id</th>\n      <th>multiverse_ids</th>\n      <th>mtgo_id</th>\n      <th>mtgo_foil_id</th>\n      <th>tcgplayer_id</th>\n      <th>cardmarket_id</th>\n      <th>name</th>\n      <th>lang</th>\n      <th>...</th>\n      <th>tcgplayer_etched_id</th>\n      <th>attraction_lights</th>\n      <th>color_indicator</th>\n      <th>variation_of</th>\n      <th>life_modifier</th>\n      <th>hand_modifier</th>\n      <th>printed_type_line</th>\n      <th>printed_text</th>\n      <th>content_warning</th>\n      <th>flavor_name</th>\n    </tr>\n  </thead>\n  <tbody>\n    <tr>\n      <th>0</th>\n      <td>card</td>\n      <td>0000579f-7b35-4ed3-b44c-db2a538066fe</td>\n      <td>44623693-51d6-49ad-8cd7-140505caf02f</td>\n      <td>[109722]</td>\n      <td>25527.0</td>\n      <td>25528.0</td>\n      <td>14240.0</td>\n      <td>13850.0</td>\n      <td>Fury Sliver</td>\n      <td>en</td>\n      <td>...</td>\n      <td>NaN</td>\n      <td>NaN</td>\n      <td>NaN</td>\n      <td>NaN</td>\n      <td>NaN</td>\n      <td>NaN</td>\n      <td>NaN</td>\n      <td>NaN</td>\n      <td>NaN</td>\n      <td>NaN</td>\n    </tr>\n    <tr>\n      <th>1</th>\n      <td>card</td>\n      <td>00006596-1166-4a79-8443-ca9f82e6db4e</td>\n      <td>8ae3562f-28b7-4462-96ed-be0cf7052ccc</td>\n      <td>[189637]</td>\n      <td>34586.0</td>\n      <td>34587.0</td>\n      <td>33347.0</td>\n      <td>21851.0</td>\n      <td>Kor Outfitter</td>\n      <td>en</td>\n      <td>...</td>\n      <td>NaN</td>\n      <td>NaN</td>\n      <td>NaN</td>\n      <td>NaN</td>\n      <td>NaN</td>\n      <td>NaN</td>\n      <td>NaN</td>\n      <td>NaN</td>\n      <td>NaN</td>\n      <td>NaN</td>\n    </tr>\n    <tr>\n      <th>3</th>\n      <td>card</td>\n      <td>0000cd57-91fe-411f-b798-646e965eec37</td>\n      <td>9f0d82ae-38bf-45d8-8cda-982b6ead1d72</td>\n      <td>[435231]</td>\n      <td>65170.0</td>\n      <td>65171.0</td>\n      <td>145764.0</td>\n      <td>301766.0</td>\n      <td>Siren Lookout</td>\n      <td>en</td>\n      <td>...</td>\n      <td>NaN</td>\n      <td>NaN</td>\n      <td>NaN</td>\n      <td>NaN</td>\n      <td>NaN</td>\n      <td>NaN</td>\n      <td>NaN</td>\n      <td>NaN</td>\n      <td>NaN</td>\n      <td>NaN</td>\n    </tr>\n    <tr>\n      <th>4</th>\n      <td>card</td>\n      <td>00012bd8-ed68-4978-a22d-f450c8a6e048</td>\n      <td>5aa12aff-db3c-4be5-822b-3afdf536b33e</td>\n      <td>[1278]</td>\n      <td>NaN</td>\n      <td>NaN</td>\n      <td>1623.0</td>\n      <td>5664.0</td>\n      <td>Web</td>\n      <td>en</td>\n      <td>...</td>\n      <td>NaN</td>\n      <td>NaN</td>\n      <td>NaN</td>\n      <td>NaN</td>\n      <td>NaN</td>\n      <td>NaN</td>\n      <td>NaN</td>\n      <td>NaN</td>\n      <td>NaN</td>\n      <td>NaN</td>\n    </tr>\n    <tr>\n      <th>5</th>\n      <td>card</td>\n      <td>0001f1ef-b957-4a55-b47f-14839cdbab6f</td>\n      <td>ef027846-be81-4959-a6b5-56bd01b1e68a</td>\n      <td>[472997]</td>\n      <td>78170.0</td>\n      <td>NaN</td>\n      <td>198861.0</td>\n      <td>400134.0</td>\n      <td>Venerable Knight</td>\n      <td>en</td>\n      <td>...</td>\n      <td>NaN</td>\n      <td>NaN</td>\n      <td>NaN</td>\n      <td>NaN</td>\n      <td>NaN</td>\n      <td>NaN</td>\n      <td>NaN</td>\n      <td>NaN</td>\n      <td>NaN</td>\n      <td>NaN</td>\n    </tr>\n  </tbody>\n</table>\n<p>5 rows × 84 columns</p>\n</div>"
     },
     "execution_count": 36,
     "metadata": {},
     "output_type": "execute_result"
    }
   ],
   "source": [
    "data.head()"
   ],
   "metadata": {
    "collapsed": false
   }
  },
  {
   "cell_type": "code",
   "execution_count": 55,
   "outputs": [
    {
     "name": "stdout",
     "output_type": "stream",
     "text": [
      "(25438, 84)\n"
     ]
    },
    {
     "data": {
      "text/plain": "  object                                    id  \\\n0   card  0000579f-7b35-4ed3-b44c-db2a538066fe   \n1   card  00006596-1166-4a79-8443-ca9f82e6db4e   \n3   card  0000cd57-91fe-411f-b798-646e965eec37   \n4   card  00012bd8-ed68-4978-a22d-f450c8a6e048   \n5   card  0001f1ef-b957-4a55-b47f-14839cdbab6f   \n\n                              oracle_id multiverse_ids  mtgo_id  mtgo_foil_id  \\\n0  44623693-51d6-49ad-8cd7-140505caf02f       [109722]  25527.0       25528.0   \n1  8ae3562f-28b7-4462-96ed-be0cf7052ccc       [189637]  34586.0       34587.0   \n3  9f0d82ae-38bf-45d8-8cda-982b6ead1d72       [435231]  65170.0       65171.0   \n4  5aa12aff-db3c-4be5-822b-3afdf536b33e         [1278]      NaN           NaN   \n5  ef027846-be81-4959-a6b5-56bd01b1e68a       [472997]  78170.0           NaN   \n\n   tcgplayer_id  cardmarket_id              name lang  ...  \\\n0       14240.0        13850.0       Fury Sliver   en  ...   \n1       33347.0        21851.0     Kor Outfitter   en  ...   \n3      145764.0       301766.0     Siren Lookout   en  ...   \n4        1623.0         5664.0               Web   en  ...   \n5      198861.0       400134.0  Venerable Knight   en  ...   \n\n  tcgplayer_etched_id attraction_lights color_indicator variation_of  \\\n0                 NaN               NaN             NaN          NaN   \n1                 NaN               NaN             NaN          NaN   \n3                 NaN               NaN             NaN          NaN   \n4                 NaN               NaN             NaN          NaN   \n5                 NaN               NaN             NaN          NaN   \n\n   life_modifier hand_modifier printed_type_line printed_text  \\\n0            NaN           NaN               NaN          NaN   \n1            NaN           NaN               NaN          NaN   \n3            NaN           NaN               NaN          NaN   \n4            NaN           NaN               NaN          NaN   \n5            NaN           NaN               NaN          NaN   \n\n   content_warning flavor_name  \n0              NaN         NaN  \n1              NaN         NaN  \n3              NaN         NaN  \n4              NaN         NaN  \n5              NaN         NaN  \n\n[5 rows x 84 columns]",
      "text/html": "<div>\n<style scoped>\n    .dataframe tbody tr th:only-of-type {\n        vertical-align: middle;\n    }\n\n    .dataframe tbody tr th {\n        vertical-align: top;\n    }\n\n    .dataframe thead th {\n        text-align: right;\n    }\n</style>\n<table border=\"1\" class=\"dataframe\">\n  <thead>\n    <tr style=\"text-align: right;\">\n      <th></th>\n      <th>object</th>\n      <th>id</th>\n      <th>oracle_id</th>\n      <th>multiverse_ids</th>\n      <th>mtgo_id</th>\n      <th>mtgo_foil_id</th>\n      <th>tcgplayer_id</th>\n      <th>cardmarket_id</th>\n      <th>name</th>\n      <th>lang</th>\n      <th>...</th>\n      <th>tcgplayer_etched_id</th>\n      <th>attraction_lights</th>\n      <th>color_indicator</th>\n      <th>variation_of</th>\n      <th>life_modifier</th>\n      <th>hand_modifier</th>\n      <th>printed_type_line</th>\n      <th>printed_text</th>\n      <th>content_warning</th>\n      <th>flavor_name</th>\n    </tr>\n  </thead>\n  <tbody>\n    <tr>\n      <th>0</th>\n      <td>card</td>\n      <td>0000579f-7b35-4ed3-b44c-db2a538066fe</td>\n      <td>44623693-51d6-49ad-8cd7-140505caf02f</td>\n      <td>[109722]</td>\n      <td>25527.0</td>\n      <td>25528.0</td>\n      <td>14240.0</td>\n      <td>13850.0</td>\n      <td>Fury Sliver</td>\n      <td>en</td>\n      <td>...</td>\n      <td>NaN</td>\n      <td>NaN</td>\n      <td>NaN</td>\n      <td>NaN</td>\n      <td>NaN</td>\n      <td>NaN</td>\n      <td>NaN</td>\n      <td>NaN</td>\n      <td>NaN</td>\n      <td>NaN</td>\n    </tr>\n    <tr>\n      <th>1</th>\n      <td>card</td>\n      <td>00006596-1166-4a79-8443-ca9f82e6db4e</td>\n      <td>8ae3562f-28b7-4462-96ed-be0cf7052ccc</td>\n      <td>[189637]</td>\n      <td>34586.0</td>\n      <td>34587.0</td>\n      <td>33347.0</td>\n      <td>21851.0</td>\n      <td>Kor Outfitter</td>\n      <td>en</td>\n      <td>...</td>\n      <td>NaN</td>\n      <td>NaN</td>\n      <td>NaN</td>\n      <td>NaN</td>\n      <td>NaN</td>\n      <td>NaN</td>\n      <td>NaN</td>\n      <td>NaN</td>\n      <td>NaN</td>\n      <td>NaN</td>\n    </tr>\n    <tr>\n      <th>3</th>\n      <td>card</td>\n      <td>0000cd57-91fe-411f-b798-646e965eec37</td>\n      <td>9f0d82ae-38bf-45d8-8cda-982b6ead1d72</td>\n      <td>[435231]</td>\n      <td>65170.0</td>\n      <td>65171.0</td>\n      <td>145764.0</td>\n      <td>301766.0</td>\n      <td>Siren Lookout</td>\n      <td>en</td>\n      <td>...</td>\n      <td>NaN</td>\n      <td>NaN</td>\n      <td>NaN</td>\n      <td>NaN</td>\n      <td>NaN</td>\n      <td>NaN</td>\n      <td>NaN</td>\n      <td>NaN</td>\n      <td>NaN</td>\n      <td>NaN</td>\n    </tr>\n    <tr>\n      <th>4</th>\n      <td>card</td>\n      <td>00012bd8-ed68-4978-a22d-f450c8a6e048</td>\n      <td>5aa12aff-db3c-4be5-822b-3afdf536b33e</td>\n      <td>[1278]</td>\n      <td>NaN</td>\n      <td>NaN</td>\n      <td>1623.0</td>\n      <td>5664.0</td>\n      <td>Web</td>\n      <td>en</td>\n      <td>...</td>\n      <td>NaN</td>\n      <td>NaN</td>\n      <td>NaN</td>\n      <td>NaN</td>\n      <td>NaN</td>\n      <td>NaN</td>\n      <td>NaN</td>\n      <td>NaN</td>\n      <td>NaN</td>\n      <td>NaN</td>\n    </tr>\n    <tr>\n      <th>5</th>\n      <td>card</td>\n      <td>0001f1ef-b957-4a55-b47f-14839cdbab6f</td>\n      <td>ef027846-be81-4959-a6b5-56bd01b1e68a</td>\n      <td>[472997]</td>\n      <td>78170.0</td>\n      <td>NaN</td>\n      <td>198861.0</td>\n      <td>400134.0</td>\n      <td>Venerable Knight</td>\n      <td>en</td>\n      <td>...</td>\n      <td>NaN</td>\n      <td>NaN</td>\n      <td>NaN</td>\n      <td>NaN</td>\n      <td>NaN</td>\n      <td>NaN</td>\n      <td>NaN</td>\n      <td>NaN</td>\n      <td>NaN</td>\n      <td>NaN</td>\n    </tr>\n  </tbody>\n</table>\n<p>5 rows × 84 columns</p>\n</div>"
     },
     "execution_count": 55,
     "metadata": {},
     "output_type": "execute_result"
    }
   ],
   "source": [
    "# remove cards with duplicate names\n",
    "data = data.drop_duplicates(subset=['name'])\n",
    "print(data.shape)\n",
    "data.head()"
   ],
   "metadata": {
    "collapsed": false
   }
  },
  {
   "cell_type": "code",
   "execution_count": 56,
   "outputs": [
    {
     "name": "stdout",
     "output_type": "stream",
     "text": [
      "(25438, 83)\n"
     ]
    },
    {
     "data": {
      "text/plain": "  object                                    id  \\\n0   card  0000579f-7b35-4ed3-b44c-db2a538066fe   \n1   card  00006596-1166-4a79-8443-ca9f82e6db4e   \n3   card  0000cd57-91fe-411f-b798-646e965eec37   \n4   card  00012bd8-ed68-4978-a22d-f450c8a6e048   \n5   card  0001f1ef-b957-4a55-b47f-14839cdbab6f   \n\n                              oracle_id multiverse_ids  mtgo_id  mtgo_foil_id  \\\n0  44623693-51d6-49ad-8cd7-140505caf02f       [109722]  25527.0       25528.0   \n1  8ae3562f-28b7-4462-96ed-be0cf7052ccc       [189637]  34586.0       34587.0   \n3  9f0d82ae-38bf-45d8-8cda-982b6ead1d72       [435231]  65170.0       65171.0   \n4  5aa12aff-db3c-4be5-822b-3afdf536b33e         [1278]      NaN           NaN   \n5  ef027846-be81-4959-a6b5-56bd01b1e68a       [472997]  78170.0           NaN   \n\n   tcgplayer_id  cardmarket_id              name released_at  ...  \\\n0       14240.0        13850.0       Fury Sliver  2006-10-06  ...   \n1       33347.0        21851.0     Kor Outfitter  2009-10-02  ...   \n3      145764.0       301766.0     Siren Lookout  2017-09-29  ...   \n4        1623.0         5664.0               Web  1994-04-01  ...   \n5      198861.0       400134.0  Venerable Knight  2019-10-04  ...   \n\n  tcgplayer_etched_id attraction_lights color_indicator  variation_of  \\\n0                 NaN               NaN             NaN           NaN   \n1                 NaN               NaN             NaN           NaN   \n3                 NaN               NaN             NaN           NaN   \n4                 NaN               NaN             NaN           NaN   \n5                 NaN               NaN             NaN           NaN   \n\n  life_modifier hand_modifier printed_type_line  printed_text content_warning  \\\n0           NaN           NaN               NaN           NaN             NaN   \n1           NaN           NaN               NaN           NaN             NaN   \n3           NaN           NaN               NaN           NaN             NaN   \n4           NaN           NaN               NaN           NaN             NaN   \n5           NaN           NaN               NaN           NaN             NaN   \n\n  flavor_name  \n0         NaN  \n1         NaN  \n3         NaN  \n4         NaN  \n5         NaN  \n\n[5 rows x 83 columns]",
      "text/html": "<div>\n<style scoped>\n    .dataframe tbody tr th:only-of-type {\n        vertical-align: middle;\n    }\n\n    .dataframe tbody tr th {\n        vertical-align: top;\n    }\n\n    .dataframe thead th {\n        text-align: right;\n    }\n</style>\n<table border=\"1\" class=\"dataframe\">\n  <thead>\n    <tr style=\"text-align: right;\">\n      <th></th>\n      <th>object</th>\n      <th>id</th>\n      <th>oracle_id</th>\n      <th>multiverse_ids</th>\n      <th>mtgo_id</th>\n      <th>mtgo_foil_id</th>\n      <th>tcgplayer_id</th>\n      <th>cardmarket_id</th>\n      <th>name</th>\n      <th>released_at</th>\n      <th>...</th>\n      <th>tcgplayer_etched_id</th>\n      <th>attraction_lights</th>\n      <th>color_indicator</th>\n      <th>variation_of</th>\n      <th>life_modifier</th>\n      <th>hand_modifier</th>\n      <th>printed_type_line</th>\n      <th>printed_text</th>\n      <th>content_warning</th>\n      <th>flavor_name</th>\n    </tr>\n  </thead>\n  <tbody>\n    <tr>\n      <th>0</th>\n      <td>card</td>\n      <td>0000579f-7b35-4ed3-b44c-db2a538066fe</td>\n      <td>44623693-51d6-49ad-8cd7-140505caf02f</td>\n      <td>[109722]</td>\n      <td>25527.0</td>\n      <td>25528.0</td>\n      <td>14240.0</td>\n      <td>13850.0</td>\n      <td>Fury Sliver</td>\n      <td>2006-10-06</td>\n      <td>...</td>\n      <td>NaN</td>\n      <td>NaN</td>\n      <td>NaN</td>\n      <td>NaN</td>\n      <td>NaN</td>\n      <td>NaN</td>\n      <td>NaN</td>\n      <td>NaN</td>\n      <td>NaN</td>\n      <td>NaN</td>\n    </tr>\n    <tr>\n      <th>1</th>\n      <td>card</td>\n      <td>00006596-1166-4a79-8443-ca9f82e6db4e</td>\n      <td>8ae3562f-28b7-4462-96ed-be0cf7052ccc</td>\n      <td>[189637]</td>\n      <td>34586.0</td>\n      <td>34587.0</td>\n      <td>33347.0</td>\n      <td>21851.0</td>\n      <td>Kor Outfitter</td>\n      <td>2009-10-02</td>\n      <td>...</td>\n      <td>NaN</td>\n      <td>NaN</td>\n      <td>NaN</td>\n      <td>NaN</td>\n      <td>NaN</td>\n      <td>NaN</td>\n      <td>NaN</td>\n      <td>NaN</td>\n      <td>NaN</td>\n      <td>NaN</td>\n    </tr>\n    <tr>\n      <th>3</th>\n      <td>card</td>\n      <td>0000cd57-91fe-411f-b798-646e965eec37</td>\n      <td>9f0d82ae-38bf-45d8-8cda-982b6ead1d72</td>\n      <td>[435231]</td>\n      <td>65170.0</td>\n      <td>65171.0</td>\n      <td>145764.0</td>\n      <td>301766.0</td>\n      <td>Siren Lookout</td>\n      <td>2017-09-29</td>\n      <td>...</td>\n      <td>NaN</td>\n      <td>NaN</td>\n      <td>NaN</td>\n      <td>NaN</td>\n      <td>NaN</td>\n      <td>NaN</td>\n      <td>NaN</td>\n      <td>NaN</td>\n      <td>NaN</td>\n      <td>NaN</td>\n    </tr>\n    <tr>\n      <th>4</th>\n      <td>card</td>\n      <td>00012bd8-ed68-4978-a22d-f450c8a6e048</td>\n      <td>5aa12aff-db3c-4be5-822b-3afdf536b33e</td>\n      <td>[1278]</td>\n      <td>NaN</td>\n      <td>NaN</td>\n      <td>1623.0</td>\n      <td>5664.0</td>\n      <td>Web</td>\n      <td>1994-04-01</td>\n      <td>...</td>\n      <td>NaN</td>\n      <td>NaN</td>\n      <td>NaN</td>\n      <td>NaN</td>\n      <td>NaN</td>\n      <td>NaN</td>\n      <td>NaN</td>\n      <td>NaN</td>\n      <td>NaN</td>\n      <td>NaN</td>\n    </tr>\n    <tr>\n      <th>5</th>\n      <td>card</td>\n      <td>0001f1ef-b957-4a55-b47f-14839cdbab6f</td>\n      <td>ef027846-be81-4959-a6b5-56bd01b1e68a</td>\n      <td>[472997]</td>\n      <td>78170.0</td>\n      <td>NaN</td>\n      <td>198861.0</td>\n      <td>400134.0</td>\n      <td>Venerable Knight</td>\n      <td>2019-10-04</td>\n      <td>...</td>\n      <td>NaN</td>\n      <td>NaN</td>\n      <td>NaN</td>\n      <td>NaN</td>\n      <td>NaN</td>\n      <td>NaN</td>\n      <td>NaN</td>\n      <td>NaN</td>\n      <td>NaN</td>\n      <td>NaN</td>\n    </tr>\n  </tbody>\n</table>\n<p>5 rows × 83 columns</p>\n</div>"
     },
     "execution_count": 56,
     "metadata": {},
     "output_type": "execute_result"
    }
   ],
   "source": [
    "# now that we dont have any other languages, we can drop the lang column\n",
    "data = data.drop(columns=['lang'])\n",
    "print(data.shape)\n",
    "data.head()"
   ],
   "metadata": {
    "collapsed": false
   }
  },
  {
   "cell_type": "code",
   "execution_count": 57,
   "outputs": [],
   "source": [
    "data = data.drop(columns=['mtgo_id', 'mtgo_foil_id', 'arena_id', 'tcgplayer_id', 'cardmarket_id', 'legalities', 'games', 'reserved', 'foil', 'nonfoil', 'finishes', 'oversized', 'promo', 'reprint', 'variation', 'artist', 'artist_ids', 'illustration_id', 'border_color', 'booster', 'story_spotlight', 'edhrec_rank', 'penny_rank','prices', 'promo_types', 'arena_id', 'preview', 'security_stamp', 'tcgplayer_etched_id', 'variation_of','released_at', 'set_id','set', 'set_uri', 'set_search_uri', 'scryfall_set_uri', 'rulings_uri', 'prints_search_uri', 'card_back_id', 'frame', 'related_uris'])"
   ],
   "metadata": {
    "collapsed": false
   }
  },
  {
   "cell_type": "code",
   "execution_count": 58,
   "outputs": [],
   "source": [
    "data = data.drop(columns=['object', 'id', 'oracle_id', 'uri', 'scryfall_uri', 'layout', 'highres_image', 'image_status', 'printed_name', 'card_faces', 'attraction_lights', 'color_indicator', 'color_indicator', 'life_modifier', 'hand_modifier', 'printed_type_line', 'printed_text', 'content_warning', 'flavor_name'])"
   ],
   "metadata": {
    "collapsed": false
   }
  },
  {
   "cell_type": "code",
   "execution_count": 59,
   "outputs": [],
   "source": [
    "data = data.drop(columns=['full_art', 'textless', 'all_parts', 'produced_mana', 'watermark', 'loyalty', 'frame_effects', 'digital', 'cmc' ])"
   ],
   "metadata": {
    "collapsed": false
   }
  },
  {
   "cell_type": "code",
   "execution_count": 60,
   "outputs": [],
   "source": [
    "data = data.drop(columns=['keywords', 'collector_number', 'colors', 'color_identity'])"
   ],
   "metadata": {
    "collapsed": false
   }
  },
  {
   "cell_type": "code",
   "execution_count": 61,
   "outputs": [
    {
     "name": "stdout",
     "output_type": "stream",
     "text": [
      "(25438, 12)\n"
     ]
    },
    {
     "data": {
      "text/plain": "  multiverse_ids              name  \\\n0       [109722]       Fury Sliver   \n1       [189637]     Kor Outfitter   \n3       [435231]     Siren Lookout   \n4         [1278]               Web   \n5       [472997]  Venerable Knight   \n\n                                          image_uris mana_cost  \\\n0  {'small': 'https://cards.scryfall.io/small/fro...    {5}{R}   \n1  {'small': 'https://cards.scryfall.io/small/fro...    {W}{W}   \n3  {'small': 'https://cards.scryfall.io/small/fro...    {2}{U}   \n4  {'small': 'https://cards.scryfall.io/small/fro...       {G}   \n5  {'small': 'https://cards.scryfall.io/small/fro...       {W}   \n\n                 type_line                                        oracle_text  \\\n0        Creature — Sliver           All Sliver creatures have double strike.   \n1   Creature — Kor Soldier  When Kor Outfitter enters the battlefield, you...   \n3  Creature — Siren Pirate  Flying\\nWhen Siren Lookout enters the battlefi...   \n4       Enchantment — Aura  Enchant creature (Target a creature as you cas...   \n5  Creature — Human Knight  When Venerable Knight dies, put a +1/+1 counte...   \n\n  power toughness            set_name   set_type    rarity  \\\n0     3         3         Time Spiral  expansion  uncommon   \n1     2         2            Zendikar  expansion    common   \n3     1         2              Ixalan  expansion    common   \n4   NaN       NaN     Revised Edition       core      rare   \n5     2         1  Throne of Eldraine  expansion  uncommon   \n\n                                         flavor_text  \n0  \"A rift opened, and our arrows were abruptly s...  \n1  \"We take only what we need to survive. Believe...  \n3                                                NaN  \n4                                                NaN  \n5  \"May this blade guide you on your great journe...  ",
      "text/html": "<div>\n<style scoped>\n    .dataframe tbody tr th:only-of-type {\n        vertical-align: middle;\n    }\n\n    .dataframe tbody tr th {\n        vertical-align: top;\n    }\n\n    .dataframe thead th {\n        text-align: right;\n    }\n</style>\n<table border=\"1\" class=\"dataframe\">\n  <thead>\n    <tr style=\"text-align: right;\">\n      <th></th>\n      <th>multiverse_ids</th>\n      <th>name</th>\n      <th>image_uris</th>\n      <th>mana_cost</th>\n      <th>type_line</th>\n      <th>oracle_text</th>\n      <th>power</th>\n      <th>toughness</th>\n      <th>set_name</th>\n      <th>set_type</th>\n      <th>rarity</th>\n      <th>flavor_text</th>\n    </tr>\n  </thead>\n  <tbody>\n    <tr>\n      <th>0</th>\n      <td>[109722]</td>\n      <td>Fury Sliver</td>\n      <td>{'small': 'https://cards.scryfall.io/small/fro...</td>\n      <td>{5}{R}</td>\n      <td>Creature — Sliver</td>\n      <td>All Sliver creatures have double strike.</td>\n      <td>3</td>\n      <td>3</td>\n      <td>Time Spiral</td>\n      <td>expansion</td>\n      <td>uncommon</td>\n      <td>\"A rift opened, and our arrows were abruptly s...</td>\n    </tr>\n    <tr>\n      <th>1</th>\n      <td>[189637]</td>\n      <td>Kor Outfitter</td>\n      <td>{'small': 'https://cards.scryfall.io/small/fro...</td>\n      <td>{W}{W}</td>\n      <td>Creature — Kor Soldier</td>\n      <td>When Kor Outfitter enters the battlefield, you...</td>\n      <td>2</td>\n      <td>2</td>\n      <td>Zendikar</td>\n      <td>expansion</td>\n      <td>common</td>\n      <td>\"We take only what we need to survive. Believe...</td>\n    </tr>\n    <tr>\n      <th>3</th>\n      <td>[435231]</td>\n      <td>Siren Lookout</td>\n      <td>{'small': 'https://cards.scryfall.io/small/fro...</td>\n      <td>{2}{U}</td>\n      <td>Creature — Siren Pirate</td>\n      <td>Flying\\nWhen Siren Lookout enters the battlefi...</td>\n      <td>1</td>\n      <td>2</td>\n      <td>Ixalan</td>\n      <td>expansion</td>\n      <td>common</td>\n      <td>NaN</td>\n    </tr>\n    <tr>\n      <th>4</th>\n      <td>[1278]</td>\n      <td>Web</td>\n      <td>{'small': 'https://cards.scryfall.io/small/fro...</td>\n      <td>{G}</td>\n      <td>Enchantment — Aura</td>\n      <td>Enchant creature (Target a creature as you cas...</td>\n      <td>NaN</td>\n      <td>NaN</td>\n      <td>Revised Edition</td>\n      <td>core</td>\n      <td>rare</td>\n      <td>NaN</td>\n    </tr>\n    <tr>\n      <th>5</th>\n      <td>[472997]</td>\n      <td>Venerable Knight</td>\n      <td>{'small': 'https://cards.scryfall.io/small/fro...</td>\n      <td>{W}</td>\n      <td>Creature — Human Knight</td>\n      <td>When Venerable Knight dies, put a +1/+1 counte...</td>\n      <td>2</td>\n      <td>1</td>\n      <td>Throne of Eldraine</td>\n      <td>expansion</td>\n      <td>uncommon</td>\n      <td>\"May this blade guide you on your great journe...</td>\n    </tr>\n  </tbody>\n</table>\n</div>"
     },
     "execution_count": 61,
     "metadata": {},
     "output_type": "execute_result"
    }
   ],
   "source": [
    "print(data.shape)\n",
    "data.head()"
   ],
   "metadata": {
    "collapsed": false
   }
  },
  {
   "cell_type": "code",
   "execution_count": 62,
   "outputs": [],
   "source": [
    "data['oracle_text'] = data.apply(lambda x: x['oracle_text'].replace(x['name'], '<card_name>'), axis=1)\n"
   ],
   "metadata": {
    "collapsed": false
   }
  },
  {
   "cell_type": "code",
   "execution_count": 63,
   "outputs": [
    {
     "name": "stdout",
     "output_type": "stream",
     "text": [
      "(25438, 12)\n"
     ]
    },
    {
     "data": {
      "text/plain": "  multiverse_ids              name  \\\n0       [109722]       Fury Sliver   \n1       [189637]     Kor Outfitter   \n3       [435231]     Siren Lookout   \n4         [1278]               Web   \n5       [472997]  Venerable Knight   \n\n                                          image_uris mana_cost  \\\n0  {'small': 'https://cards.scryfall.io/small/fro...    {5}{R}   \n1  {'small': 'https://cards.scryfall.io/small/fro...    {W}{W}   \n3  {'small': 'https://cards.scryfall.io/small/fro...    {2}{U}   \n4  {'small': 'https://cards.scryfall.io/small/fro...       {G}   \n5  {'small': 'https://cards.scryfall.io/small/fro...       {W}   \n\n                 type_line                                        oracle_text  \\\n0        Creature — Sliver           All Sliver creatures have double strike.   \n1   Creature — Kor Soldier  When <card_name> enters the battlefield, you m...   \n3  Creature — Siren Pirate  Flying\\nWhen <card_name> enters the battlefiel...   \n4       Enchantment — Aura  Enchant creature (Target a creature as you cas...   \n5  Creature — Human Knight  When <card_name> dies, put a +1/+1 counter on ...   \n\n  power toughness            set_name   set_type    rarity  \\\n0     3         3         Time Spiral  expansion  uncommon   \n1     2         2            Zendikar  expansion    common   \n3     1         2              Ixalan  expansion    common   \n4   NaN       NaN     Revised Edition       core      rare   \n5     2         1  Throne of Eldraine  expansion  uncommon   \n\n                                         flavor_text  \n0  \"A rift opened, and our arrows were abruptly s...  \n1  \"We take only what we need to survive. Believe...  \n3                                                NaN  \n4                                                NaN  \n5  \"May this blade guide you on your great journe...  ",
      "text/html": "<div>\n<style scoped>\n    .dataframe tbody tr th:only-of-type {\n        vertical-align: middle;\n    }\n\n    .dataframe tbody tr th {\n        vertical-align: top;\n    }\n\n    .dataframe thead th {\n        text-align: right;\n    }\n</style>\n<table border=\"1\" class=\"dataframe\">\n  <thead>\n    <tr style=\"text-align: right;\">\n      <th></th>\n      <th>multiverse_ids</th>\n      <th>name</th>\n      <th>image_uris</th>\n      <th>mana_cost</th>\n      <th>type_line</th>\n      <th>oracle_text</th>\n      <th>power</th>\n      <th>toughness</th>\n      <th>set_name</th>\n      <th>set_type</th>\n      <th>rarity</th>\n      <th>flavor_text</th>\n    </tr>\n  </thead>\n  <tbody>\n    <tr>\n      <th>0</th>\n      <td>[109722]</td>\n      <td>Fury Sliver</td>\n      <td>{'small': 'https://cards.scryfall.io/small/fro...</td>\n      <td>{5}{R}</td>\n      <td>Creature — Sliver</td>\n      <td>All Sliver creatures have double strike.</td>\n      <td>3</td>\n      <td>3</td>\n      <td>Time Spiral</td>\n      <td>expansion</td>\n      <td>uncommon</td>\n      <td>\"A rift opened, and our arrows were abruptly s...</td>\n    </tr>\n    <tr>\n      <th>1</th>\n      <td>[189637]</td>\n      <td>Kor Outfitter</td>\n      <td>{'small': 'https://cards.scryfall.io/small/fro...</td>\n      <td>{W}{W}</td>\n      <td>Creature — Kor Soldier</td>\n      <td>When &lt;card_name&gt; enters the battlefield, you m...</td>\n      <td>2</td>\n      <td>2</td>\n      <td>Zendikar</td>\n      <td>expansion</td>\n      <td>common</td>\n      <td>\"We take only what we need to survive. Believe...</td>\n    </tr>\n    <tr>\n      <th>3</th>\n      <td>[435231]</td>\n      <td>Siren Lookout</td>\n      <td>{'small': 'https://cards.scryfall.io/small/fro...</td>\n      <td>{2}{U}</td>\n      <td>Creature — Siren Pirate</td>\n      <td>Flying\\nWhen &lt;card_name&gt; enters the battlefiel...</td>\n      <td>1</td>\n      <td>2</td>\n      <td>Ixalan</td>\n      <td>expansion</td>\n      <td>common</td>\n      <td>NaN</td>\n    </tr>\n    <tr>\n      <th>4</th>\n      <td>[1278]</td>\n      <td>Web</td>\n      <td>{'small': 'https://cards.scryfall.io/small/fro...</td>\n      <td>{G}</td>\n      <td>Enchantment — Aura</td>\n      <td>Enchant creature (Target a creature as you cas...</td>\n      <td>NaN</td>\n      <td>NaN</td>\n      <td>Revised Edition</td>\n      <td>core</td>\n      <td>rare</td>\n      <td>NaN</td>\n    </tr>\n    <tr>\n      <th>5</th>\n      <td>[472997]</td>\n      <td>Venerable Knight</td>\n      <td>{'small': 'https://cards.scryfall.io/small/fro...</td>\n      <td>{W}</td>\n      <td>Creature — Human Knight</td>\n      <td>When &lt;card_name&gt; dies, put a +1/+1 counter on ...</td>\n      <td>2</td>\n      <td>1</td>\n      <td>Throne of Eldraine</td>\n      <td>expansion</td>\n      <td>uncommon</td>\n      <td>\"May this blade guide you on your great journe...</td>\n    </tr>\n  </tbody>\n</table>\n</div>"
     },
     "execution_count": 63,
     "metadata": {},
     "output_type": "execute_result"
    }
   ],
   "source": [
    "print(data.shape)\n",
    "data.head()"
   ],
   "metadata": {
    "collapsed": false
   }
  },
  {
   "cell_type": "code",
   "execution_count": null,
   "outputs": [],
   "source": [
    "# Build a string representation of each card to be saved out as a text file.\n",
    "# Card data will be represented as a string with the following format:\n",
    "# \"<|endoftext|>{card_name} | ?{mana_cost} | {type_line} | {rarity} | ?{oracle_text} | ?{flavor_text} | ?{power} | ?{toughness}<|endoftext|>\"\n",
    "# The ? indicates that the field may be empty.\n",
    "\n",
    "# start of text token\n",
    "sot = \"<|startoftext|>\"\n",
    "# end of text token\n",
    "eot = \"<|endoftext|>\"\n",
    "# pad token\n",
    "pad = \"<|pad|>\"\n",
    "\n",
    "card_data = []\n",
    "\n",
    "for index, row in data.iterrows():\n",
    "    card_data.append(f\" {eot} {row['name']} | {row['mana_cost']} | {row['type_line']} | {row['rarity']} | {row['oracle_text']} | {row['flavor_text']} | {row['power']} | {row['toughness']} {eot} \\n\")\n",
    "\n",
    "# sample the first 10 cards\n",
    "card_data[:10]\n"
   ],
   "metadata": {
    "collapsed": false
   }
  },
  {
   "cell_type": "code",
   "execution_count": null,
   "outputs": [],
   "source": [
    "# Remove all new line characters from the data\n",
    "card_data = [card.replace('\\n', ' ') for card in card_data]"
   ],
   "metadata": {
    "collapsed": false
   }
  },
  {
   "cell_type": "code",
   "execution_count": null,
   "outputs": [],
   "source": [
    "# save the card data to a text file\n",
    "with open('data/mtg_char/mtg_card_data.txt', 'w') as f:\n",
    "    f.write(''.join(card_data))"
   ],
   "metadata": {
    "collapsed": false
   }
  },
  {
   "cell_type": "code",
   "execution_count": null,
   "outputs": [],
   "source": [
    "# write out the dataframe to a json file\n",
    "data.to_json('data/mtg_char/mtg_card_data.json', orient='records', lines=True)"
   ],
   "metadata": {
    "collapsed": false
   }
  },
  {
   "cell_type": "markdown",
   "source": [
    "# Load the data into a dataset"
   ],
   "metadata": {
    "collapsed": false
   }
  },
  {
   "cell_type": "code",
   "execution_count": null,
   "outputs": [],
   "source": [
    "# Create a dataset from the text file\n",
    "from datasets import load_dataset\n",
    "dataset = load_dataset('text', data_files='data/mtg_char/mtg_card_data.json')\n"
   ],
   "metadata": {
    "collapsed": false
   }
  },
  {
   "cell_type": "code",
   "execution_count": null,
   "outputs": [],
   "source": [
    "# sample the first 10 cards\n",
    "dataset['train'][:1]\n"
   ],
   "metadata": {
    "collapsed": false
   }
  },
  {
   "cell_type": "code",
   "execution_count": null,
   "outputs": [],
   "source": [
    "dataset['train'].shape"
   ],
   "metadata": {
    "collapsed": false
   }
  },
  {
   "cell_type": "code",
   "execution_count": null,
   "outputs": [],
   "source": [
    "# create a tokenizer"
   ],
   "metadata": {
    "collapsed": false
   }
  },
  {
   "cell_type": "code",
   "execution_count": null,
   "outputs": [],
   "source": [
    "from transformers import GPT2Tokenizer\n",
    "tokenizer = GPT2Tokenizer.from_pretrained('gpt2', max_length=1024 , padding='max_length', pad_to_max_length=True, add_prefix_space=True, truncation=True, bos_token='<|endoftext|>', eos_token='<|endoftext|>', pad_token='<|pad|>', return_tensors='pt', mask_token='<|mask|>')\n"
   ],
   "metadata": {
    "collapsed": false
   }
  },
  {
   "cell_type": "code",
   "execution_count": null,
   "outputs": [],
   "source": [
    "# tokenize the dataset\n",
    "tokenized_dataset = dataset.map(lambda examples: tokenizer(examples['text'], add_special_tokens=True ), batched=True)\n",
    "\n"
   ],
   "metadata": {
    "collapsed": false
   }
  },
  {
   "cell_type": "code",
   "execution_count": null,
   "outputs": [],
   "source": [
    "tokenized_dataset.shape"
   ],
   "metadata": {
    "collapsed": false
   }
  },
  {
   "cell_type": "code",
   "execution_count": null,
   "outputs": [],
   "source": [
    "# split the dataset into train and validation\n",
    "tokenized_dataset = tokenized_dataset['train'].train_test_split(test_size=0.2)\n"
   ],
   "metadata": {
    "collapsed": false
   }
  },
  {
   "cell_type": "code",
   "execution_count": null,
   "outputs": [],
   "source": [
    "from transformers import DataCollatorForLanguageModeling\n",
    "\n",
    "data_collator = DataCollatorForLanguageModeling(\n",
    "    tokenizer=tokenizer, mlm=True, mlm_probability=0.15\n",
    ")"
   ],
   "metadata": {
    "collapsed": false
   }
  },
  {
   "cell_type": "code",
   "execution_count": null,
   "outputs": [],
   "source": [
    "# create a model\n",
    "from transformers import AutoModelForCausalLM\n",
    "model = AutoModelForCausalLM.from_pretrained('gpt2-medium')\n"
   ],
   "metadata": {
    "collapsed": false
   }
  },
  {
   "cell_type": "code",
   "execution_count": null,
   "outputs": [],
   "source": [
    "# train the model\n",
    "from transformers import Trainer, TrainingArguments\n",
    "training_args = TrainingArguments(\n",
    "    output_dir='./results',          # output directory\n",
    "    num_train_epochs=1,              # total # of training epochs\n",
    "    per_device_train_batch_size=1,  # batch size per device during training\n",
    "    per_device_eval_batch_size=1,   # batch size for evaluation\n",
    "    warmup_steps=500,                # number of warmup steps for learning rate scheduler\n",
    "    weight_decay=0.01,               # strength of weight decay\n",
    "    logging_dir='./logs',            # directory for storing logs\n",
    "    logging_steps=10,\n",
    ")\n"
   ],
   "metadata": {
    "collapsed": false
   }
  },
  {
   "cell_type": "code",
   "execution_count": null,
   "outputs": [],
   "source": [
    "trainer = Trainer(\n",
    "    model=model,                         # the instantiated 🤗 Transformers model to be trained\n",
    "    args=training_args,                  # training arguments, defined above\n",
    "    train_dataset=tokenized_dataset['train'],         # training dataset\n",
    "    eval_dataset=tokenized_dataset['test'],           # evaluation dataset\n",
    "    data_collator=data_collator,         # data collator\n",
    ")\n"
   ],
   "metadata": {
    "collapsed": false
   }
  },
  {
   "cell_type": "code",
   "execution_count": null,
   "outputs": [],
   "source": [
    "from transformers.integrations import WandbCallback\n",
    "\n",
    "# disable the wandb logger\n",
    "trainer.remove_callback(WandbCallback)"
   ],
   "metadata": {
    "collapsed": false
   }
  },
  {
   "cell_type": "code",
   "execution_count": null,
   "outputs": [],
   "source": [
    "trainer.train()"
   ],
   "metadata": {
    "collapsed": false
   }
  },
  {
   "cell_type": "code",
   "execution_count": null,
   "outputs": [],
   "source": [
    "# peek into the tokenized dataset\n",
    "tokenized_dataset['train'][0]\n",
    "\n",
    "\n",
    "\n",
    "\n"
   ],
   "metadata": {
    "collapsed": false
   }
  },
  {
   "cell_type": "code",
   "execution_count": null,
   "outputs": [],
   "source": [],
   "metadata": {
    "collapsed": false
   }
  },
  {
   "cell_type": "code",
   "execution_count": null,
   "outputs": [],
   "source": [
    "# Create a dataset from the text file\n",
    "from datasets import load_dataset\n",
    "\n",
    "dataset = load_dataset('text', data_files='data/mtg_char/mtg_card_data.json')\n",
    "\n",
    "# sample the first 10 cards\n",
    "dataset['train'][:1]\n",
    "\n",
    "dataset['train'].shape\n",
    "# create a tokenizer\n",
    "from transformers import GPT2Tokenizer\n",
    "\n",
    "tokenizer = GPT2Tokenizer.from_pretrained('gpt2', max_length=1024, padding='max_length', pad_to_max_length=True, add_prefix_space=True, truncation=True, bos_token='', eos_token='', pad_token='<pad>', return_tensors='pt', mask_token='')\n",
    "\n",
    "\n",
    "# tokenize the dataset\n",
    "def tokenize_function(examples):\n",
    "    return tokenizer(examples['text'], add_special_tokens=True, padding='max_length', truncation=True, max_length=1024)\n",
    "\n",
    "\n",
    "tokenized_dataset = dataset.map(tokenize_function, batched=True)\n",
    "\n",
    "tokenized_dataset.shape\n",
    "# split the dataset into train and validation\n",
    "tokenized_dataset = tokenized_dataset['train'].train_test_split(test_size=0.2)\n",
    "\n",
    "from transformers import DataCollatorForLanguageModeling\n",
    "\n",
    "data_collator = DataCollatorForLanguageModeling(\n",
    "    tokenizer=tokenizer, mlm=True, mlm_probability=0.15\n",
    ")\n",
    "# create a model\n",
    "from transformers import AutoModelForCausalLM\n",
    "\n",
    "model = AutoModelForCausalLM.from_pretrained('gpt2-medium')\n",
    "\n",
    "# train the model\n",
    "from transformers import Trainer, TrainingArguments\n",
    "\n",
    "training_args = TrainingArguments(\n",
    "    output_dir='./results',  # output directory\n",
    "    num_train_epochs=1,  # total # of training epochs\n",
    "    per_device_train_batch_size=1,  # batch size per device during training\n",
    "    per_device_eval_batch_size=1,  # batch size for evaluation\n",
    "    warmup_steps=500,  # number of warmup steps for learning rate scheduler\n",
    "    weight_decay=0.01,  # strength of weight decay\n",
    "    logging_dir='./logs',  # directory for storing logs\n",
    "    logging_steps=10,\n",
    "    device='cpu'\n",
    ")\n",
    "\n",
    "trainer = Trainer(\n",
    "    model=model,  # the instantiated 🤗 Transformers model to be trained\n",
    "    args=training_args,  # training arguments, defined above\n",
    "    train_dataset=tokenized_dataset['train'],  # training dataset\n",
    "    eval_dataset=tokenized_dataset['test'],  # evaluation dataset\n",
    "    data_collator=data_collator,  # data collator\n",
    ")\n",
    "\n",
    "from transformers.integrations import WandbCallback\n",
    "\n",
    "# disable the wandb logger\n",
    "trainer.remove_callback(WandbCallback)\n",
    "\n",
    "trainer.train()\n"
   ],
   "metadata": {
    "collapsed": false
   }
  },
  {
   "cell_type": "code",
   "execution_count": null,
   "outputs": [],
   "source": [
    "# Create a dataset from the text file\n",
    "from datasets import load_dataset\n",
    "dataset = load_dataset('text', data_files='data/mtg_char/mtg_card_data.json')\n",
    "\n",
    "# create a tokenizer\n",
    "from transformers import GPT2Tokenizer\n",
    "tokenizer = GPT2Tokenizer.from_pretrained('gpt2', max_length=1024 , padding='max_length', pad_to_max_length=True, add_prefix_space=True, truncation=True, bos_token='', eos_token='', pad_token='<pad>', return_tensors='pt', mask_token='')\n",
    "\n",
    "# tokenize the dataset\n",
    "tokenized_dataset = dataset.map(lambda examples: tokenizer(examples['text'], add_special_tokens=True ), batched=True)\n",
    "\n",
    "# split the dataset into train and validation\n",
    "tokenized_dataset = tokenized_dataset['train'].train_test_split(test_size=0.2)\n",
    "\n",
    "# create a model\n",
    "from transformers import AutoModelForCausalLM\n",
    "model = AutoModelForCausalLM.from_pretrained('gpt2-medium')\n",
    "model.resize_token_embeddings(len(tokenizer))\n",
    "\n",
    "# train the model\n",
    "from transformers import Trainer, TrainingArguments, DataCollatorForLanguageModeling\n",
    "training_args = TrainingArguments(\n",
    "    output_dir='./results',\n",
    "    num_train_epochs=1,\n",
    "    per_device_train_batch_size=1,\n",
    "    per_device_eval_batch_size=1,\n",
    "    warmup_steps=500,\n",
    "    weight_decay=0.01,\n",
    "    logging_dir='./logs',\n",
    "    logging_steps=10,\n",
    ")\n",
    "\n",
    "data_collator = DataCollatorForLanguageModeling(\n",
    "    tokenizer=tokenizer, mlm=True, mlm_probability=0.15\n",
    ")\n",
    "\n",
    "trainer = Trainer(\n",
    "    model=model,\n",
    "    args=training_args,\n",
    "    train_dataset=tokenized_dataset['train'],\n",
    "    eval_dataset=tokenized_dataset['test'],\n",
    "    data_collator=data_collator\n",
    ")\n",
    "\n",
    "from transformers.integrations import WandbCallback\n",
    "\n",
    "# disable the wandb logger\n",
    "trainer.remove_callback(WandbCallback)\n",
    "\n",
    "trainer.train()\n"
   ],
   "metadata": {
    "collapsed": false
   }
  },
  {
   "cell_type": "code",
   "execution_count": null,
   "outputs": [],
   "source": [
    "# Evalute the model\n",
    "trainer.evaluate()\n"
   ],
   "metadata": {
    "collapsed": false
   }
  },
  {
   "cell_type": "code",
   "execution_count": null,
   "outputs": [],
   "source": [
    "# save the model\n",
    "trainer.save_model('mtg_card_model')\n"
   ],
   "metadata": {
    "collapsed": false
   }
  },
  {
   "cell_type": "code",
   "execution_count": null,
   "outputs": [],
   "source": [
    "#sample the model output\n",
    "from transformers import pipeline\n",
    "unmasker = pipeline('fill-mask', model='mtg_card_model', tokenizer='gpt2')\n",
    "unmasker('')\n",
    "\n",
    "\n"
   ],
   "metadata": {
    "collapsed": false
   }
  },
  {
   "cell_type": "code",
   "execution_count": null,
   "outputs": [],
   "source": [
    "#generate the model output\n",
    "from transformers import pipeline\n",
    "generator = pipeline('text-generation', model='mtg_card_model', tokenizer='gpt2', max_length=1024, do_sample=True, top_k=50, top_p=0.95, num_return_sequences=1, repetition_penalty=1.0, temperature=1.0, no_repeat_ngram_size=2, bad_words_ids=None, pad_token_id=50256, length_penalty=1.0, num_beams=1, early_stopping=False, use_cache=True, num_beam_groups=1, diversity_penalty=0.0, prefix_allowed_tokens_fn=None, output_attentions=None, output_hidden_states=None, output_scores=None, return_dict_in_generate=None, forced_bos_token_id=None, forced_eos_token_id=None, remove_invalid_values=None, return_dict=None)\n",
    "generator('')\n"
   ],
   "metadata": {
    "collapsed": false
   }
  },
  {
   "cell_type": "code",
   "execution_count": null,
   "outputs": [],
   "source": [
    "# sample the first element of the dataset\n",
    "\n",
    "dataset['train'][0]\n",
    "dataset.shape"
   ],
   "metadata": {
    "collapsed": false
   }
  },
  {
   "cell_type": "code",
   "execution_count": 93,
   "outputs": [],
   "source": [
    "# create a function to get the base64 encoded art_crop image\n",
    "import base64\n",
    "import requests\n",
    "\n",
    "def get_image_url(card):\n",
    "    return card['image_uris']['art_crop']\n",
    "\n",
    "#create a function to get the image from the url in base64 encoding\n",
    "def get_image_base64(card):\n",
    "    url = get_image_url(card)\n",
    "    response = requests.get(url)\n",
    "    return base64.b64encode(response.content).decode('utf-8')\n"
   ],
   "metadata": {
    "collapsed": false
   }
  },
  {
   "cell_type": "code",
   "execution_count": 94,
   "outputs": [
    {
     "data": {
      "text/plain": "'/9j/4AAQSkZJRgABAQAAAQABAAD/2wBDAAUDBAQEAwUEBAQFBQUGBwwIBwcHBw8LCwkMEQ8SEhEPERETFhwXExQaFRERGCEYGh0dHx8fExciJCIeJBweHx7/2wBDAQUFBQcGBw4ICA4eFBEUHh4eHh4eHh4eHh4eHh4eHh4eHh4eHh4eHh4eHh4eHh4eHh4eHh4eHh4eHh4eHh4eHh7/wgARCAHEAmgDASIAAhEBAxEB/8QAGwAAAgMBAQEAAAAAAAAAAAAAAwQBAgUGAAf/xAAaAQACAwEBAAAAAAAAAAAAAAACAwABBAUG/9oADAMBAAIQAxAAAAH5JW3rlZtW5M1mpenrSTaJkltfSE6EnymxKYSBtWniGJ9JVYoCVdhnpUD4gbH1Ji6J6kXd3UtNbHWwsZd9rWlbYmbLbe9IAvA9l6MmyZNvPrkfk5Z6qttzQOckhcSyD6sWtoLtZ9VAPLUWfpEixBlNPGtcJkroCR6acgr3JdGMmVTjKrpkLa8WYqlqVuiSO0lvD9cn1xVLV9NyK3iTxKlkixNJZjYMolzJDAW6Vw6pDih6IF1izqgYrN83QgFetLqREiUt4pLgYZBdWbNdTtI9D4elIyCoy3SeG5m64GpzzdN/M3WK5mTeXKy+n14bFpzoFoY1jasc7zcZNvj1orRfx6iQV3VSX5GDPQSrtkacymomxWLZjP1Ypq4SVkjaVaqaxModmF7lYmsr3veKzCtUYSYtJ6SHEgetoCVdG7uXavldBZbcZ0I2oaS1LrfSLQtvgzYgQWfBoyZUOUcgIWq1SzdPXd4O4pxgvGRrH69VOGo7jOz6rPvZ9BM93lWLFvImdlb5F7Ofn3dL3Oq0UJdXXgJ1kX5/VpFV6jtUHJbhqFRqXEf2jKxjvSYSE1MuxcEraMchKtoztVy2hMQ3slmdsSlDXWL1MaRat1PvekJW9qKNXI2FsBaCiV9FdhGkhpujV4XutZna5DvuR2c3EJ0OgnVwzT3NAx9nM01PHm6Ga1I6lOxSw3Q1aymgua9VkhcXTqFjMl6UWoJTz2/zL8vU0qFLhYlZ2YI01FbETWfqMXUdl7Ae9ldUjX4KOKtr+UPc0ZF+pqTB1SeiUa7RWLG1bxRVEYJpF4FtvPtnaSDkKraiUEaBQMV6J9YUqYd2OpK3K+t6C1eZW1fRQNI4allOaeztnNruAtEuB2XE9z0OXtc50XKmlk9eZur8h1mBUjcxN7H1Kgerm1pVZWapQLST8k1rRi9DQy9XLvHl6eEQdECQAdMNkevC9bKYqZsGppxmqVCSumvtSIZtNij1MYLSmrIzpNU30HOdDz+tM+GjSXyrVib02W6npiTw7VsYrKBqZCnd+ZTPZX289b1xmq8V9JWLjuDmaye9HpGiD8JGuC9Xoio8tttLNez7F3sLZGs7vvm3eb+Z13LdLlrmHldLg1EMzpMhg4vV8h2GXoksK2DqWziLuzLVpbXhYEdMSJqJnXp9zXVcyxOyNa8rNLEacQdPI6ax5ogbEFF2X7mji7XNyUIueXcIjXCQWoETosrKTp0Yb3lOo3khy7NkuN663PIPA2oDholszRnVgTV0KEOWs+toyKVJRiq+vElaWqVAgtJK+t6R0N2AOhZaEkdOLg1yRly7PDcIBY2zk6XT5H0VSThWRxn0z5rJuZeikNcrpJONPZrQ3I7qyTMNzoVZu7PRmCJ1e8SAbXmuq5vRkgo40ZCo7uQedPosTVIcG8GKZ+7kWkayb+uGG7NWCbIVUueLRqdF4efVqr4dQbWdLTKgtrs59bHvXQ+lYyzW1fH2XZahIoVAUKbRkyaNpsV6tfFVq1m6HaJkp63pTuqu3m1x40LcAyzliA9w0T7ee1k2p2Zw+hzPqLuJ0ZZUvnX0/wCXSdAgyvdcp0OD0ekSSqbmdb1yVxblwtKNz1oapE3E1Tptgb3P6cIR6WLu5XVYPS85Bi/ilWcGyxSRsrXB7yidRoAwXPPp1lvysMCs0nq1eqfmlEa+oV5xw1ammLcy6hnvGHohE1U1oMEIS0xaACHGuzOjLhZvQYWrKuMw3K9ccyWt6snve9JqaeN0GTYSsxn1T646hvADpyy+i0jS5z28hL3e1+c/RtvIngPoXH1fsLSySrF18lp46BM59WnQuO/B7413BsUIZxxtgurXVec6E2/lpcrv4OnnfQ+I+j/MZNBS2WVUkWtcCtR6oNJglxYd/XZCLVk9E+qTekS7MJ+k6HW4p7Pp6bVx3ef0HpHKdN49Wpa1Yuh0gbFVXGDVk8s+o1Kih1H5/UaBYgpaDonh+qdE8L2Hot0rVbrTWboJ2oAkXJaIRWlnPqwPrHyr6Z2PP6PG9fz43jZmgrY80u/gtrVc5yh12mlx29zetpTS2HfA5i79SnjVo6vO73W4vz9exqT1vD9Vy8tZNqp0cOxhjYdBjNujBKsU96lquw7TIO02krNySAvaLre1uMYyan3OY7xbmK4juTa9YMrYasCkgEeegKhktORhAqDkB9NWqg4LSVraboXr+lbpU9HNsufPOl7fqkBx6zKXVuL0J1cRKvO6/km+lw/oiTObQYACDcvm8bd55kBakwp1cn1122tw/XsoDKt+T15MmyljPP8AQ02YOWBq5LsfQJzBTJdX6mpx7s40nrnRKeodsrzSdLEnO7DfcLkZnRqpvnj7GRcTT6PWqfJs76h80dU9Zxng0dKlbJodze4fq0adERK49yVbo6sjWe4Egy19/I0ZVreOYBq6KiVg9CEXvelazI3823Ocdqp47rMVRbUsDfCs0D0mVDEumb0PGacP1pbLdLHjyNV4pc30OSyszdye8z6vnkdfzDFs+zvNV2Ihb5TKLrY2LZsqsYGvGNW9FR91F+UXB0+RqFEKrLmLaFzqHBadhdfDRC+l2eL6BRa4MVJZb+BBWD0mtjtKPPU205XzVX6t8o0DYgdGG7Xc4rLr7+47Yd4EnVtGfwrVIJzWmDDMFtLktEDyxiuFmWKzfW8YdA0mzi6LXqGTpgkWBi5byQBvZAh2cssdTll5zolubvW7L5v9C28pdbTwxsXLdXzbhp0vLdTl2Xj1827nsvsSPz8L1lef1497G0qOR0HJ6OLKlhXQSUGTNVhyHFDkHc9YtbOP1N0qYqlXzbL+ZJ7TwZG9JDPDJuexiSd/s8D02cuiJlsrJTC3+fYPFRpZWmuuVBv4Ogtr8p16HK1cGDlAuUNWI63Q1yqwGFlW8LTjkd7XFfR41PtKXTq0iIuo02tWwsn3qVZz57LFMDqTp8vK18rQ5PW4zrshLocr6Hz/AE2OILZu6vK4nbzKkWy7FcXSsAorJvG3GlnwGzivdbjEx3NYCV6LROmY/MfSOcl8zi9XzDRsRezKdcyJqt3oOEDcdooyJLO9E7m28lnd+jU40r+XqxtdxxHYgPbiNTG3CQ1slocxkdRzzxH3XB91l35u+mfJsvStwYOYJLBNqkFMzVyn5QKNqaclPCkhJ6nqKCjMcdazWk6GZUIJNSI6m1tMFa4G7vz+gLo3PE99xwX3VuZ7LTzc5cqdXygNnnmj1rfOb+PaWhqp1U0sxsSyBMZHS5j/AEuSTHq+l49djXiz8x3jFFz2T7YcKgNnps+j5rX6PilOTHrw9R9rzOLfU1YTquq9SLFy3TgajnNPI6nbzOhb57VysPh7XPFWXkvo6VpdtxfSZ9mqXHDl1716WRrpALtQQLCJAcVx2IMvVztGbO8WH57enwF60pnbTWSxJqGQbU9o6Rlm0O10vXqzc5e6853FzCaLF8d9N+W931OL5HZ5xcRw+i55lG6LkNlTulpb2DorP5wWLzAa3XsSLJ6PLwbq9rxHR9fj2+U/Svn1TH+h8R32Pbj6lG82nLqx4mBlxSiXtMHUTWZZvUsFxHs00YWsv03S499LQHmPMzY51lQjpY7hG+iGyc1snRU7pZqLmdmk+s7NesWqDqYNiug3n6M3k3YakHp9IEXqOCrID3TbSbCnHKu2lrRAey6mLUuDB1qJqnVm0XpzgdBxTEfauE303ZcrlesxDHBaXtZdk9g7HN6AF3WIemwo1g23Feqyy+v4vpe3wOf5F3BZW12GLt83p0OIWfQMAKaFGjJI9GjCQ5WlbPYW1mBAls4erjtQ10GB3z8M47mMsh849muGqdhMqnR5ncZdmNldNyqtHWAYHk6FLEixHNqQarMAdnEjpqOzp+VV0ZW/B8VAHcTAsQF7rRaznFNi3kxt/Rw+jS80rnz6rxeIVmFypcXgPofKvyV635j2PU5MIdJg2PPKaSFGz2PDdTm0PmtTLs2/JNY9njLsBOV3+d2OxwuHTtsOndhYU4faXDbP0JHXc9r51neYCau7x8Y9XzDxEWFq1S8p4RO3bmd6bCGMbzK5MqTUUdQQ+asun1vX43cDyfV4TU9CIgc+2fUFcOAfmZ5Xsq1K6bK+vCqE4XJn1PSrVrJVPpm5Fwkq3B0cWewziTm1bRue0gbrVgmbSOL+o2M1slV80Y3eY7PE7xHF3WJyMfcyJYHUbUX0ouDqcjq0elUGO2GsBcy9gtdjiYna8R9FRq0kzJc3pVXWd3c57FAjsxrKzo2Wlo8hqLHQGoarVf8AXl1KFeVoJDDLLnDXYJF/QV27pPZ53TmR3x7gLu2IRVEAxsqKr81iZnmodEvN1EXk1oCcSaoXq+MKWiChfDmpM+vJ68zResW9EtpV11OaYWJz+jWPRUuwrWjtyPcZWjLw+ost0uXv5vjWGZRkFE59G+Xdpj2dEm5mYNzQZEYcSdW3W5CH035n9Ox7ZzHlMmvJaRZ6PMRzXR6U9AU1+V1eQp0/I7MLpkJYnSrm2k2KZgRvTEj4qlablYuxvt87qRWYxbqz6l0OFxuRQDEacqgqKtTKsCcg7CBbmmXHoBmSsJqvep4paPTKsaGRulqWlkeWeUw95tn01NX0I4gJ2Oh7L06jEgKnSYdSVaPL9eHVj45qiuzE8sespZ1Kav6chgbPP6Fzq6Qn8+qVbp8v30v5132DarcJgfiEpGrAjRnJervLqucftRkbQ7rgadqnv5/KzqgapGDVIaj6AymYnYlYw9CtbeRpLNfAULGqa8jMcyejy7aKbLBqjs5Uigziar1w2lEqP1ynvVuR6fSR6ZkZuswN0vUlQ7IGlONdWwMd8tYWEF61ihoBNYnYyLPRrkT1Ob00ktKl0Piewadn+fsjHvwFAyGXbuuB6VD9rTUa53R4bK6vk+ny9TrOc6LJpCSkC5bF3sPTj0MDRUfmd6DjtROno4VJh3nhc8KLVJKwtRutj4l4Q+brWKmTK+AnQBpUZFGexSeUW/S5t5oOihIyjVSKRkF4ity1Ljuo8O0snveletSau5QXksUV6sxkiiT1VmBK5Bgu3LgKs7eG8s0WPQYuNZYYXQVEXFuDQ0WA+F+lZbUcOQfujz629S59A1eL63kdRb599U+Xac/SagSKZNJpdrUHTRkxmVRaUGi45G9vlNrPo2W897H0LkCRZz4NyE9hWS+02VgnqqwVEpcQEGPQ5Cyjw351kn1nJSV189qkxlGxYz19depasg7em7t73hk2iLl59aXEVrKscE1Gzo3omrrSNu0QYG3zLEU5thM6dDUeIp0+iaKvvekjQyyWC3EfSMt+fjYiehgr2fF6SW/ROG6pHn7ngtL1a8EC0MwdxbMMVI8vVzBqC04i3BNTsG1mOX2C8nq478r+wLEl9Qbm9/PplF4YyKMhl+AZIgLX0muw1zkNliWsc9bRznoQCwDQiaxSS1Ji5NqzJb3vVItQly8RaStbRJHo9KkobSzlA0NnrawGwRJ4oElhDbTeWxm1als8+fST1VCF2lLSjwteEpxv0Pn35edj0bsXYbvz3vubvkB10uoucD1opbPPaMh9rndenu5egROnnSbcNQwYVMunJsdXTkLl+eMDK9Bhp19A3zW9mbayxgdbL0VTTj+CHo8nqJ5WWhuqpuLNXwQyeUJQ1ipepSIv6StomSPe9JafVkJYPpCj965FoiqmPelnYWYGQYHpZbCtLNUTI20ym0t1q2gTDXQzJWyPP0EttUTMJg+a8pnPcz3OHsxYXTcyZyfoYQuczpKjaAVC5nYDqy5pEi6M2+bNfydMs0sp8j8M0eDAjThdHzHYHD5r3PJ1tdTg7irHcMq2HBeIPOj3w7OfjRqZbsdL+IakaOAIV5i10KhvSCuS10vQtJcet6pSs+Ke9PpPRMyo9eKuKWmVFqeuzXXtUuYJahGYsJsHVsDG2Fl1N0g5/pKbmHq1L3AITbsOtXoKTYS57G7PJ05Vut4DpwLdWLXHtST1s3UnDB0OPoyDdyjMX0V+XZRp02cQMElFGXJjq0HsvREuzUGFczjA5gIGBO4/YjE7LfP61Q+Q6G15Yz018ysDEQ+raLGY9aSb1i6HS1JL+j12KtpkrF/XKXj1S0eiSbVmT0TMkXqSSDjaEvMgYAhmEK4yANpK0MAwJo5bSmGfxCCeyJM4G3IyCwwC0EksLr0TSV/C2UukDq8cpB4ZWcjvhNXLh7FNqebc6A0ma5eQZPrQrRaRyt1QxBhekJGiykj04SamRoq0KKXG1Higm1aFEijdBkkxpaIktWIkrWYuT6PSQT3quI96Sae9JNfesfF96FEe9U8T3pJL7wwke8J1B7xBqbHvS1FPeZSM+8sh0964f3vCemX3kaBl94bET3hJd73qHwPejBz7zLst70IpPeofW96rUj3m5z395Wny/vXcX961DB7xoCL3m5yM+8GoK/vGj1fesPR711aPegzT3pJr7xXX3vVPe94Z/8QALhAAAgICAgEFAAIBBAIDAQAAAQIAAwQREiETBRAiMUEUMiMgJDNCFTQGJUMw/9oACAEBAAEFAjB7j73N9zc/BEUCDcrAY7WfGN/TTa/fbqN7ECfpPU5Tc3KBylP9R99maE1BAOoxgaL8m/IYzCH+2xGPf9pdkVK2MzP7ajds/diVhZZoSrdtoUCHiAxBjam4rnaP1ybcteNYYx37E9/cHt37df6O51B1AekEXZsK9FjwNTQgifLffsAQPxZ2Z9TsxoZ3NQe2KQKqdgL9L9fuuvxfpv6Ofj51WY7BknKWWhZX2x1GOpfYtYuueyYlHlbZ1XsCaQBFVGaXq7kV+NXDMviMOpqeMzShf3nxNtpJJ71uah9j7fvt++w9v0Re5Ump8Unjdm+CKvjZbk+RTQ46n5xBjKYJ+H760072YPsTW4nIGsfBB0dhe9g79h1P23dhyjXyoXxIxmTeKlx+V1tShYbOJvyuj1MWjzEL8aR8IVZoOiTGILvbxa9smJCvKGpTHrAm9S1WDN2TV14joCGbM+5xaGfkP37/AJ7a6QbeiriX3xXjtbObMCV4eNlKmAIAa54ti2scjTo60OWiB1+kaX8QeS1q+KgTHT42pu5RAB7N8ZS3OfU1H6XNv4zAq0JmXLUfnddXUES1kSX3covwXEoa91UKn1DPIPL9ezcuNtbirxUY0Onfxrx0YVjhY6KIz7ldqwsxl3In97ijc6Wb793hg+h7cZqdRKDupdS1uNXE8/JSjBqiXDGviFiACLoTQllcK9OvfEkDucZ9TWph9ZWV8XpqJIHGtF5WaIn4JlsRXQONe5+W2aGMhyskPyuy7/DR2Z6bVpbbFqDs+RYwVFx6GyHQKq/UBDTqV1f5up9Rm7rra4iimsOHbKI1CdR33CQRfT5EP8fHqxbarJejOrcUVlLwVV6v0Pb8PufruCa60ysi8QfvEr+ajZrQKEX/ACXKnFCSbKqnevlx+zG6nIRgJ892bDLqP051ruBZS3+bO6ysf6A6PbNPw/XqJ6/fx5n2Gy1iuLi+mrxoyna+9jyNeq6b3bIt6pRQ91taqifcYgEtofykEx7OakCD6s/rW7JTrvoTcZZk8USniE3bdL0qpTFsatse9ud1ug7EzcOzOvf9h+/2BE4EBZsQVozgaAgbjOUKPbP4g/iuFyaFurENtZhyTXCemUlQAASEl7wEgD5HXRjf1/7XJ5LKE4zoFds4n4w+NzcvUhonlybPu8dPpqA33scjIzn8dTkBfTq+d+bkeR1CV1uxnp1PjXsy1+rL0WO/I4mK10RQoMXqAbn5o+34GG2EpxRdMjM2bsfTFl411lXdRqHr27h/0NAOupR3VYVCVoStA0vxlAPK4rwbU9OoBxv4oWnJFYtqodltwVajKRWTFt8TZDmtFflLBusI+vG81oMNzUIijTnRi/b/AHW3+41D9E/46D5PVD1VilfFm2eWzl4sPAASbLs7GNYMfGopAS1+bYdPmf6fIykrj2PYWaYeF1+LDCZs6/PbU46dju+5b8iV1Csfx0AZV1yRA59h9fv7P320IQUidspln/JuDj46VYk/d2uC/NsNeMsX4Wiuo02F2ey2sZWRymTxaY1pdFVdanATj8SGDNAdEmMOgSWHUbXAf+4PlGjvxxvTP/b9Rs0uS/hw26XZd9+SXQH54lPkfMt2wBdq+GLRZfZczKtaklph4vGdb6g+mOp+rrX71P1YdTnxnc6IPCpbQTH17aEHXsdf6e+TaII7qbibV8tdbbrpEoOoW7v/AKU2ePIxNNLD8LZUqANlWDMscMc+tEjqHx4sI6+o/wAWsBCDuMIT3R97+LnpX/8Asd/5LZlPvC9O6y7/APJmZZNubkff9a6xwrfs4VBttyiEjmY/HGpbyX2uy1IzNa9QqxpVm2eTZHsxnnr5KrGD/Rs73D9W5CqfJZYzFKjY/Jm+/wAP137dzUPv2IDNzXWOR43BF1Jg46yXKhNNVi2h7sEnZ6TMAY1mwCzau9Z5PsozkMsWbhjlFlr84oWGsEWD5J8XBlv9Lvjl1nln5Z0tmtYPV2L3l4CFxZ3f9tYdpqUj+Pj5B0AdMDzc2fK1y7Utwh6lCWX2W21YqXZtrzEpuyJTVVQuxOUHKfk1DH+K2W8K8epq63HkJAWN9fcM0NfXtqH79j771AxFmvJAJvrIJJwWXh3j5Xp5E7au06mPyU1Wf7k1eNsqvSPvmnGD7jO0cFjx0UBg5aduTUrBOpmKf5fp7hsjP+6xzvVgrptZRqv0YduNiXn5en0gta/Jr352TWlip25VBjVeV7MrivLvGweyAiXZNKwX2PAcliteVutrVi2D2cfFxBxEKq4I6Ydss3s+5+j9n3P99CAfF10RMcgDhud6elbJg18JaEsHpbMLK/8AjeuOrCipueRSxspyuStmjSY2T/jGmj9y37s2IV3E++jAkC6Ptdpsz07Yyc3fk9MXnboiyzXLJ+GLrT4oBt5FmNgoqzG4wfdKGxrO2VDHbxgbZmb4qr2tjY61QACWqXmQmOpxKbLI33WNJxAn7vrewzDlxJHEwy1ljciSND2/DD37DWzCBK6SZ4mEIbhUqsCDW4sUkdivkDUvVvxtrHFsRuSWb1qz+Pr+RmDq3MmeSafRbAlq0/x7vw78+Qhj1sCF+IUa/B3ADpv+O345yDxeoZn/ACelqP49g/3gXeV6gSVuXiK/j6fjj5c+drtyKrylreKqij4PYEAUklFrrrx3tO6qEOZWA+XaWFWTdKcOtJ3NhSutD2s3q611GPyikx2aWb8fe9fG0CHeydAzf+jua7r1rcJTjS3z+14gitouojd5qneHapmEdSzcuP8At2Nnn+zkryozhxT0igfxbjrJ/GADGMo1riZuIJ+trjmA+fO0tuSdv6eNen2Ff5eKN5OTtnzD8MrpVfRboaO/8eLXTXzN95sKjZ+NEQqHtvuuboSitr2oqrqhcAPZyV3cEWVCVv5WVJqFNw0zh2FhSWKTPFoOu0sUxv8AQPuH2VQ8H0qdWVjboyTH+Qqrayv4xP7D6vTy0Vf83pz93amVxNViePLXYhmaV44LNWxbySt+S9a4xw0o+SsnQB5CfrfWZrh6pX/iZt14Sf8A1eYOOTh/1238i/55V78r6l1UDMJQIzm+6+3mQJy1EGy3whMHynmWmtsmzTMxglFNlpo9PqWKqge5mjo6gjgaZdDj1evwYfPXRB9twTuCIso5ACHv2ppFYqtNDZqja/a6ITqPurJ9PtOuQZbUD1AWYWXlDePzE9Q3/JVv8OwmVSOJ+h1D2ePEkdAe3/c9o/yxbuNvpejzxVH/AIvNP+TB6rpsPPe7KENt2U4K0p5HzbOTBSYyhZ20Ra41p1Pv2WEyqh3lCYNYOXSCubjCI/JZ37daG9TlOQljLGtAFzuQE2La12QN+JipBE+vZftBKgVn4IG6YiIVLB3xwV4mvsL9eoKBd6Z09WzQF2l+T47a3RX4cJmNGsK49zBk57YfQ6n3NT79qhsf9bHAs/geLEwGL4T9XaVPQsv7oKigNqsRE8FLtsq6UUpSzwsqwT7h0J+df6hKMbyti4VVZe2qiIWZdmLN+xM7242HAM12o6s0q2O22+l1HH+jxjmjDRA0R8o4LItbCAifLGZdcVmUnlx8N/8AJ6aeeMAwnqFlQs1jWVXhplieXddtvGj0y8cw/gY/Y+9T8b6qPFm/ti8f/I+oMFxvSD/my04vl2j/AMTmfSPqj/rhUeVsmzm4BYrQESy0tOIE+zudcT7fuiTw3OHVbcJjZVTtbfVWt+fYy+n0aU9QT9EMM+hs6uM3NfG5+/xyDK+yxHE/eoPvYgPy3CymN0UYGda0CRMeitAF4ygiFRVb6Kf8Pfn9QJW2s4jreupkb8lglp5WK+lXK5BXNUWbEMP1vsdTLJrnlqtpxiv8nOO1yiDgZS6laFmsHkvyuOPjLW1jNxoFjs5JCRu5+e+iYJsmcjoltue1Gy/+MIrWuh3XlZNlN2Nk1XDeoPsQ/ZIjRkPJiJz3GE4/HRM/PswzuE8mQNF4heuQgHYmvasskOnWttWZ/wD7XoFsyGK2ZjKa6zW9tyPXXmMI/wDzb98LLaqYK088nE2KbfIFbROpQuwv+TEd7Mej02t3tb/1ncfw7G8kq1Xjel1aW/d2S5rpV2Z24xmn37j6wcTmlCLXjt6djao9JosWz0/EDWekY+n9EtJyca/FsbWsS7+PemRSV9S/490B/K9OSpHMncb63CQISDLR8yvGfU/V++PcPsIPuv8Ary2+xqLF+u9QdgMVg2Z6n/y+jX8HyyChbdNpUuOXH1AFg3fv+TFuZBi5SmeoDViNzQt/kobibDxq9Yrr8eASfU8tl55g8eAiL/4yipsq/wBU4VI1S4iMzWWJwpW2zm2PRbexwbf5fqXpP8ar/wAPcK8r0zwylAyDcvPT3cVDNU+NzNdc9cHmxrEYNrrekSxbPTgPLa3IpiEX0cAscGEtuzZnE6I+Vq/EqeRHtcFgA2y6frRg7le+QHZDcVMXQin2aNzQA8on9/Ul5YeJYVtrs8mL5DwyrgLEaq4ZA4sw61MjB1VB1EdHUO1NtPkIqFlRB5Gvk0xtW5ea+/WPT216jm8Vu9YXVPwqXAoXGudv5GVk2m21GCAkkz0orRhelgvk+p2LztylNuYx/l1fApcooxOTzMzaamyf5Fgwq2erxoi5A1blYaZIvqelzKrOC43/ALXqdOp6TcEc/X2LF6fkvu/1wO7K5Uu5pTANM+4fuJ1aAhC6EsBM+EHU+4NaPbf9eQY/pCuE+M9ItDIx425KgWfAvnDiCNy0aZ/jMnFquW2p6ngMwrg1SPo2pXcaG1PTRxT1BlT1Ks8PVPUAou9W4PZcnmbOfhS7fKExVLFcZuCKz2UEVW51209PyJlW+W6l/hazeDLyfFg4iUUPkXh39Pcsgt8tt1GxWoNvq3jsw9FYBs+nVrZl2ILE+VFx/oP6v0WQPBuMeMZwy1/1IECqLOMaHs8Z/wBq/wCqkb3NAwACdkHoLviBxLN/jp4ZGGW5NU09RTxZPp1mmuUuh1FxqLD6jXqorwFa88xjyYfVlYcXYKS3FurlTlWqtDK7kvmNxuxrAmNnOTa7f7rOLTMO7/TrGN2bazWb67Erodzg4/yQc71yAjY6+fDyed1ubSMNK9UTDyG/mteXsvt8uQLwzU2B7My4rh0Guqp1UqiITn1rZXmYvkw7Ngp1ZXdZXPVqSR6bcbaPwqSNFRoF3r2oWxSiAJoasIMZuM30y9t9ldxT2D2ehBqLv2/GZQFd7hXjZJlwNkpfyj1FPLiYrab09zZQPvgA7sHqKf4qDqH+ysZ1NjlsTKxEvWl7KrvIpXKQNVj3Hjm2eS6zYnA3Ao1tWL8KLj8QCxqb/NRoirIdn/vTk4K2nOyHa3FNeFOZybzZzvqs0RYwG5uVbBGQBkekHjW1nOzjbq5uK3X+OZhW32wORUBbaMDnj5o9jqdRtz7X6CiMO7w0QkI78orAxhAO1EG4e5+z8br2x28Zbz1vnANTg8gdblyGm/0WwcrlIstR0tsrIITiyjVlLg12dBdmEQ62v16viqyY7/LbNRyU1/8A74+NW9XpdHhx89a6PT7Dqhsf/bn6DfDka5jkqqZnjWjNsx6rMumnFzbjbYz9bleNfdXZg3qrAqfqK2pST5PTHBsrcuLjoMy2KVVr82kJlFZj2WVWVsGqzECZH1BuEnX3D2AJro/VhbkTyh+t6g7Dbm4HUyttid72J1DEYQcWWqzxPd8G4+K0H4+srpvT7vFksy2U2n5InxyqS62934zAWL8gFKwka491kQqu8zHONdgMSc1iHowSvptOHx9OrXlMnGqurfDSix+dtTgrF/tvULmDSxbDUWLs/QiUu8ooRVVSI2gMmmm6WYLqgmNU91uFXyCcVlq841AA148v1UDzEfKs8Gr4mpgDBF+/YdTU6jxlM47B/tOgd9sDFErG4CZvsPN9cQYR8uxMriaab2rsdl8eMwK3Vi3GqOm9Os8lNi7FW1mU2qmblXVZq7FI4f2Vdxx0sGmT1ZFszGrYPhVi3Os1ZdwXddSE3Vn+PfjIEzM03uq2WWNRxyFxrjGUrOZnKbmJSoSsBAD1ynU18+K7z6hVfiP41xeXlDmteSiNYmsvRfLflZZ/YzHP+25Sp+awxiFKkz8Lam9htTvi3UaCCL1FM5bKno75gEMv0s61NspVaiGS3mihYkzazVmej38HvA4AzM/4OPko+nqt8T78bt37Lve+NOaf91ba61ekgnCz28Wc+Ru5Qhuz7/l6pnM+Ck9JVnzrK+Pq29Mzc5lYVdkbAyBFwcndaGKo1roxQI3akdZ9PnooTkyY+JWUx7uS4+Or2Y1di5AastL/AO7Cemb/AIeZkKleEWOMPY/3Uwn4tD1Dv2u7YwDc/wCyHi7N0rbVX7B2GMXc30fZl6XkGRuSiKwJ9Yr54+JYUtxm8tWYoqOQ/VRNbXn/ADVkkYVnlx/0nQB6XZl9/wDkx6rc3KrqRE9aq3PTri1aniM0KV9QY+TGrN12HQmOmSNepj+v7qeJo9ZX2H0fYQxtRnCJQltzgIyYpun0P5azMsUrXx53tuxulS7xYh1PRz8e59BtTXf4Y2wSBDLR2wGwNuNR1Ux4raXfxX+yzfRaDcXuETjPot/Xn8gV1cn8fI9AuFjeq1nTYlur/mckkyszBsFeZ2HPFo/Uy7TXj4WD/INKqiz1UE4WLSHo8jbznPlyKhXZ6bo+o/8Aa9VZow7QQugjts+xA1+gFZ+TNfWHgkLZSnjsFNTh0WWqVjK1sVSK2ja4gGGrx0+j/wDOBG3vXy32PvsAmb7tYKXO5/2/AGE3s/Qi70hMBM3tVWADSwdTqN92KLawPKmM/Oetqefpd3juz60uoq5IpG3s+cEU/FLPLRVqyZENP8nKTj7blx/w+nqfDYiLMq4/yMsBLPQV/wB0Bs1jcaMwLc4SYdex3vY0NbGtFujPUzpsNBbX6dVyNj+JbckS29HqtY7LkUtvhuYOGd+qVk43o+v5M/QIB2o7j/UtTlNQj48hq0lw32T3+KYpik7BlbViF9RWgbpj7DptCxVFlOZmVebEx34thZXlpzFZRy6yFFVrjTKZ6W3+QHx2X6ZBxWUqAZvccck9JsDDOu/xZt3K65udvoNXGlOkVgA55AttuQEfMrEF7OOeRDk2JFuS2AiBtQtFYTOZXf0n/noVUW55Z4y2S4jI/H7L7nptHmyAuhkDlR6R/wC1Drf57GGH7aOycrN75TfT9RiZuIYv3WCRZuLsF2G8XtWPe5rZVBsaEXsEFZnVmnLwMgqxIvo4lWyQXpuA5SpyrW/OlSSE+99/YTe56cNXeoFuGS23rQuyqK078e5c+5dcElWFkZRrxcalVNIiXUmepPUBfrnRb5K13t9ayi8ZAq+lVd2XFBe/IPYQxId7/wDHSf672fSqDVTG3x9GBN8P+hoSNXEoHshsaO25oxCNn21qD7XQnEleXxLgBLZWnxXbRfsbh1OtINzXx9UQW4iPpvTMpeeVSI/xl/8AjsaKZ6PaIK+/plclgRpdBm6GCdZHqFnEW/folQszG/qdeIzLtIbCwhQl2QdvldnJPPC3ZL6w8ux1EC6UXoCtrvMWkNfxExH3VafI2TzRmJ5EjVjmx7DtsKrz5IHt+ejpO59mFiJufhPTdqw2LB3x2D9a7P2PcERSdq0atueMoqnknIFVPYn3B1G+ESeH5WqUeiwqcTI51XaD2jc3Po49hrfmrI6BoDpkeEqrXaFOO/DI9SsEaf8Ax5NY5McxzpPSKvLbmW7ssvQC99zns4lo4c9sOLQhNKm2xgCMVgLVXjZbTWQQyS1w1ZIBscmfS1I9r4eOuNXPw9JgU+PHafUdjtj3yhO4WlhEJMbWj3G+uvYex7WCb1EsO/IdGzkBbxldgcL2R7b6rOmf69Wxww/cS/gzKrJfLR8os9Gv3XQTXbYAxQRvlVYWOGhHkzm37ekgr6c5jNqZ7axMJvDil/LMktFW6824YSjHt4ln2K3PK+wabiuLh/0yQdtaQOe1N3TN2xn6m2fAx/AsBMB6buEgS19FmbSnccwEzyHfMzsj87CuABYTAfZYNTqan79zqCb7mOG2Bqf9W3pSfap9y4CtvUcX+O/7i3cZZ2LNRh7Y9nhttTyRe1YaZS3iu5fw6j/nyTszE+OO292fKeonbbH8a3YNnNmrrArYTLx/C1TCbIjN1Zbyqqv4TyjibIGEsK66hg7PpeF4g069tmPYVjfbtqA7A7FjGPtY5Ox1AYrCE18LmVjCZvr372o7E1uLSxhpbVVW5UvFV1OpvtiNdzoTYsrsCouZQce0GV2AywgxuoYJ6LkAqOrC23r6OQB4B8bbTv2TpnbtRqZw/wB3/wDlaXBq7zNddGZNQtr0a2DcRy7LRLIW05bo2GbjHcCkt6fhrSPs7hnWutWt/kd/lVYiyy9fFz7sfZJ37D6U9wmEw79vzZm++MA7PUXsVKdrUoiiaBK9LzInkBHkGlZmYGAxTLeLK618Milqbdyp4dab2xLzRcLB5LureUtBNNnVjnqnu1zpgXYzPA89cvHVLayBPwa3m4nlWwEN9jegXJm59wbn5j0W3tjY1WOo6CP8R7+T5H/mtv5WKDZK6tC1e23Cep3B9E/E7h6n5+mdaRTomfg6KSskQHZY99absn6cxX7QaRT8vog+zDTW112pkU202/iHZ17D79Pvslz86qWDRFBF/wDytqYa8sp2Mq3GOlzwfHi/OZAKx+lxrPLjAmCN9WKryzBxbC/pzT+DkbvotpFVNt0HpvVNFG6kKwGGV+x6XkSG4CZtF1j/AO3WHIuJpFix2On+21Dv2XUMaHs+3U/UlnQB7WV+y9TYE2J+/Ex1hD+PyaqxM2pwvCePUKkFhsfJZdQmZj2I1dkB3H9lYhkPnxaaVWVAT1ZOOUZ6ON57/VWtPLkDrjtwuyiDLem9PuatUsSwBoDudCHRgg4hcnGtutoq4VhBpVUTU1s8IEAHQjncSoCX3V0JZkHKRVRoukn9Uextxj0fv9+vY9/6DrYix/rUH9l6nPlAQA8VtgOsY/IfKBip05XDbEsGTiZFdnpVhZLl0sYBlqbhMzHTMrdSjbn3G6Inol+rMQkD6f8A+QKIZ6EP9203N7lx412J8ardreGmMeNztxau5LU3qb3BqaGwJ1FZYINGcAIdxH0PI0B7cxdmXU16tqRG0YvFQeRj9Qn2fU37H6O/cTTclg6jfX2Bve4jxjyK7m4S3PUG4FZ5/mRG4ZArybqBaD5K7GZerIpYSxdjHsnqGJ/KVl4kHU+/ZGKvzJNoJnqtXkwjPQhpSdmJuZ5/wpoK/wAbAeSuup5GmGx5oSVQ9ifu4RNEQGb9vybjHUM+53xu+J1zf6DbjgbME/fYkw+w9vz2/B37DqbimV7IJ0W7Kk7D/JgpKWaj0BpSzRKr6Vrv5X9ze/axJWeY9Qw/5Skdj7Pt6XkdUtHXmlg03pK8fTnn4v36n2CxCGsuyn2sWIz1tiW+Rl0Z+jcHQNtasW2f0b9nLm3ycbFhMJE5bMs1GXRZTwHzLAR6+j9z7n5+df6CIZv2/IO/ZdQNqdFUKbUf49xRFiicUYiX013N37ib4ENynqOGMlT0dwwGYt3lrrYEetJwza08WJYBFG2A0/qHdr/0xNFcisFVab7fUx2/3A+xOhM3KayzCoELBYjI3uR5bFAqlbRo2tlordN9kCaBhSM4ltgJbv2/7Q6n77/sHse5++wbZ33+MJyKlegtkLpA2jyBKttexNgzqfUaEndZnKeoYgyAdg/ftgXeK7GIVvXKgaLT1B9v1PUP+Rv64B61uW1mt53pN81ikT1K3VeDV5GJ0L8ywHHy63gO669Fgt7kpq7Xdn0zExOHFm0DkKSrK4BM0SLVEasgGfp9gf8AQPb9E61+++4D2sDRELAqwGNSLa3qvQqOcBIKGBxoEw/X/Xfy1uAdKdwEg+pYYyFh9vTrDbTYv8jEfZDCd827f1If4a9zCOsj8buWYlTRsK0TGxXZ/wAB2fU03PTf+LKOhjJ5sjIw1dcXMaqAzn0GE30dS8dMG4UZBx3qzce2WpVY3DxreXdQzsEPws9/r/8AgJ+6+PuPuDU/VabBJ8ZZLLkVrqXJt0UZSO9o3YsG2Yg3/wBvwRjORMrYo3q2Jw98S40302CZeuJ+q/7v/bMBbHqIj/B6iIvsRO5+LoTPQvj+l78eY/Kz0sCd69SrHj9IbkmuwPnAsuGl2FCv8TUpgtyKomXuaR1dwtjMSWaGH2H+j9Pt+Qzv2Huv3vU38g4jEmb78jhfIdUtqbg6n95YTryKQjAgRdGHo1Mpg+MzPTwYfb0m8cW21P4B3aNKCHrceO7fwxG4kaHtsex1rY5ZP/renrrDdyzemj/aswEzm/23pA/zfn6fr8cErdU6wIHnHQBjKDCG4EMG60Ie4B7CET9n7Nzc3Nzft9+41GI0YfYkH2UdLOtdxfkxUayUImG/xtH+Ck8o2jEYhlcGX/4pnUK3tU5qspu5q8eN8k5FHz05qpjSm7lB9Qdwnrsz1B+OICavTpj9UGZdm56YOFRh0IrxpuEBp4apZXxB5LNkzsloRD0fzU1OOpo7P3/q6n37n7gM5Gcpse6lt1/Y+lY8tytgFJ2clFNNXLnU+0SpK21qfqjY5MDb8Zm4w9vT7/G+yIp3NSxSI/yl9bVsD0RuVZOojBgWZQHJgcM+dZ5Lsm82zHTnYx0sTEQSldMPppqEic0MDjYbqwbl1Xy+p3Oc1CG9yPYwzXeoIfcQQe2pqa91hlQJb8X2E7IRvGzW/F7m1UoLKWUW2WLDaQ4IM/eXx7hBU5OJy9sC7yVDfJ/s9i1eNjfKW0Ms3qc4NRb7Un8ptWZFr+1VbMcangWHKanyle5y1Kz8gY5GrCu0+99CzUaxd7TelaEEHc5TqbHuTD97/wBJ9x7/ALqfZgnHteoD2F0PYW6DFT7H6o7tNrc7X5Cu5HhRHiNN9r3NDRDA5OMl4Hkxr6rOSp81KkG2AaGpbjo8fDaOrV+w2SmLY0ropSdtDrXW1HZ46Yze2Blr6lthKk7Yf3pf4WWEzcDaituKA0aszRHuO/Yw+259+59gf9PW4IITBqfqWGFlAdhqE7llVirvsdTyTn2kB+XL/LvTfu+g0HcyuOsZWx7v6l9mPxgHQ7nWrdAcQQ2NjsVrRAR8hNj2MEYib6MJ3LPo/wBuog3AemPXc+iYGMDsZvc7nUM7n53ymp+e32n777g7n7/03N9BukcmBj4fIY7GcjxwAtlgv/x5WQ7LkkVTkfGzQN2LGgsIsFjeR7TryHy+dvB5CLEubk2Q3h5mvJ8p4pe3jNh8nmbxG5g4tPNr2NXlbYuMNzBBaTab24WXOHqyHINzePmefkJLWMF8rC3ynVzkK50/MkBor/K4/AMSN9MYfsn4sdRz8+XXKPN/L6OyZuf/xAAsEQACAgEEAQQBBAMAAwAAAAAAAQIRAwQSITEQEyAiQVEwMkJhFCNxBTOR/9oACAEDAQE/AfbFC/scmN37H5xq5EI8G0UePE8m1mJ/GyeRRQm5cmTJtPVcuEYl/EnEjjS5Ztc5f0Sv6RIpkZP7JZPovzV+2MNxW0pJWhfPhksFDxtFeUrGqFBrkguB0Y5blY+ETfqS2o3LFAU3mlf0ZMnpqhylllRDDsQqiqHFWTiyVtU3yel+SeJJWS4NqY170iMdzox4SencluIy/DPSUuThIk1NEkjaUR4aNm7K0elfJ/Rle2BBUjVZNqMS52//AE1Gb1Jf0Sl6MKXZzJmHCsa/slKiE4SaIxZqN/UTHondzZNP6JT+VMnlhF/HsjmjKKizJSdG7246s+zGqIKlZq8kktvj/LnRi1Dk6kQktxlsUWzaOJDEt24n8WkPg1D/AGocuVEnk3ZN34N+2Df2zFV7n9E5ub5NLi/mzNqEuERU80qRp8EcY6NyFyTsyqU/jBE9JNHp7OyT9jZ9EeGfZhVmXo1E90/Zo5eoufoljRPhEuOBs0zs1EqkjJLgct2SJLJ+5+LvxjhufJkz38Y9EY2aR49tRG9op73wVSNxJ2SmorkeZSVom7f6C+SowyrgxS9SbRLvkXnQfYjLO+jm+SdGC0jWdJjneGxP52XxXujcuBZI4VUOzFhnk+WQWeGPiI80n9MhJMa4M2P1HyyUOKXRKPuptiiQjt+Qtr6I41akjLam7F4ZizSxcoxz9XGpGRbkza7IQrs2muXxE7w17V5jcuEQjCDuTJZ1P4xVmPT27kRS3FGTNsI5d5KS+htyHx7G6McTbIxp3tISV8EHaNbj2zvwx+P/AB87g4/gaGuaKl0dI1nMRPj9De6pEEv5C1Sgqih5pTMOKf3wRjRKEWRxolj44PTMkafsswdjOF8jNGnvRgnuNdC8dr6F4fjRz2ZV/ZRssiS5RrMsVwu/00Y87jxFGKU0rmJ35b4JzZJfbHRXmNRNyYmnwz0q4IYXCXx6JRuFMqnXsrg0mt42ZBuxMs1UduV/pohqnFdGnbyy3SI5ouW0TGyTMjZOXthyyM0d+EWaiNZX7t0l0zTZ/Ujz2bka2t0V77OykUkJFUYs7x8Gb5S3L7NLkf7WPrklKifPBOFeHHmvOOFno0iL5I9nZCW410akmJ+cEFO7J4pQKITljdow5vU4ZKe+bftvyiyxFFUY7lJIy/6su9F8k+XwORSkx4uSUShogyPIq6FCmTyRxKmQyvC+OjOllxWvZpumcMemhLozYXjfhey/C9q8SER/2wpmne6PJ6dcjgmLFtJl80fY0JojKxMcqMuNZY8ElXDNK4vHSM0Nk2vDRjltZCRJ/gnj9SFElXDMeNy6KKbH7FGzHo+fkZdKl+1ji49i8Pxom+SENsmztEY8FJGaxllWIhI3sXK5Eq6MmD1ZWmaPHkjLk1+PqQh9eMMrRRGXBqP/AGsS2YP++Ut0qIYN9ktM10elP8GPFS6La7MkL5MsN8CvD8aSVTFlqW0Rv5JtobMnj/g21wRkRlaFOhG3mxT2rklJZ8bQ1tfJXjFLbLwpV2YtNLI90jLj/wBbXiRo4LshCpM2I+hMs4JS2q/CL8Rlt6NNayolwrKKsaMr+jvwxESPLLRZJ3wyGOWCfH7WauG3JfsxStWbbZDofKEM08axoXCHkHmR60COQczPK4C9mmwb/kzIq1EWjIrPSs20qJoyQXY5cnflFmHliYv7F+DVxuI/OnfNESLL48QjulR0ZJ1GyU9xfiEto8iok7F5S3cGOChGia3ZYEhySQ8i+icuCTfhP2Kn2LMlwhZrYuSuCcVIyw2SrwhOiE1JWK0N8FmjVzGaqXKQ2KDav9DS4VH5Ps7Iw5seVJ8ksjkrPUHkvwyr9u1mKDbIi/JZqMVko/T86WdPayTJdeNH2yT+jM7myCtiiZse18eb86XS18pjSPolkqxy/sc+BsTPUL814hRSOiWRohNyYpWOVmTHuQ1XfhOmLLviR5XjTcJsRl/eR4ZBJmTEpIenf0elNfRtfR6EjT4FFW+y3fBuonP7Msn0Qomv0Ylm4fJBV0LJKLsx1KG4lC+UZMXqK135wS+VfkxpVwZo7ZtGBfA+jULnxj1Dhwz1PwdiRHFFSs2UKRZIn18RpyfyOhv237Eyyy0Rr8koX2Y3LG6kJjjzuRnwbluj5wTUkayNNMjxjQmah/Mp14wz+iD8JxFInS5IyT6Gz7Jx5JIlH9K/G4i0RkqKTXPiiMvoz4N3yj4xT2szrfiskvooz/vZGG7EhqmR4YjPNt+nE3Rwxox5FNWS5FBoyOi/uzdGR2StfqcM+S6I5CEyORUPJXRaYpGfDa3x8aealGmfZ/E1C+RpZ8UShGfZ/jwTOuyqzEY+rnSNRh2f7IGF7kmJfkzxtEiqPVfTE/1rZFnZJOPIm5Rsi90bISMuP7RjntdkafJKP0ZFvjf4IS2OyElIRkkrJNb/APiNAv8AY2anI4xdmjVQoaJRvglpOeDJicOyiv1kWKW1jyp2YTdFdFnZkxfaMGT+LHyrMkaMmP7RGbh0R1P5FlSHKTf/AE0sJQg3+SddyRhe2NsjNT5Zn1Hp9GHJ6nJqEmhl/rLw5N+ISpHqu7N18iHRkx/yRilfI0hL6J6ePY9JL6Fpq7FFRIXVkaJSsy5aRKbZpm1yZJNsRa9z9r8vrzDyh9n2iBhJdIiS6PsZk6Iv4ExMydeMJPsl0MXt/8QAKxEAAgIBAwMEAgMAAwEAAAAAAAECEQMSITEEEEETICJRMmEjMEIUM0Nx/9oACAECAQE/Afa2N2hJFd0LvN0iUtzUOTPJGFoyKnRGDZJKJGGo9NLeRP7IslkvgvTH9kf2yJY0RgJd1ftlLSK5H6Y/huhZhZFZq72Jjmm6JMRNU6OSC0xsUXkkOKxL9kIepuJRxqyWXUbyFIg0RSW56hDI7E74LaE/ZfduiUtKsnlIZ1F0NfZr07HIrTE9zUWPdM1VjTPU7QWqQ3bMGPUzJutRgx6IkY+pK2KkjLl1sSscZJDZg08yMnVJxqKIsjHa0Qxya3JY3GWpEbYo+3IeNybsb8GCK5KP+PF7k8Kr4krox1yy0hSIyHPaiG9i3MK5Yl5IQrHX2ablXhE7qkRSSpHUZP8AKMeBvcenGrZmyvJv209o1RicY7yZHqoNGtzWxFezVXaSs8GR0iHJijURl2R5OqjoexHJRHciJfRm2MUdmRW4o1CTFDhdqGSelEMVbvkbozqd/IqzTpW5ZyJEYahQcSKr+h/F2ZFuZI6YJnjYlSZfkTOs8DIRo2rYjdmTc6Z+BRrJQ18aHzfdd3tuxweT8uCeSMPjA9Kct2ekvslFpie5iyemtiMt7E9vbsXQ5E3ew7JTenSYqcESErRDknijkVMnD05uJB1SNSolK+CzpuWV/LfaXtolS3ZOU58CwuO7ZPMkqRJ7DlRCGsnDTwQjfJ+KE79lWTdmqJNqtSJRfkkjo53HT2h5IEOTr4VPV9li4s2PJ035H0xc9l2ffSrsm34PQb5Z6SijLmj4HJtkZy4JzfBHI7NZjlftzbIRvwYZJ/CRmjpdHST05B8nkWwjq4a8bGKVdkzpcUpK2IXa/e/0Twp7yZkjBuolV2ZpVkIRE/CFdCe/eTsqh2lY56jJl1K3yXT1H5bj3OBGqmdT0n+4CQijpJXiX6P9C57J+S/dVk+mUmdRWOOmJLFJR1eBkUKJAgvv2z2Q4962KMLvEh80eRcdk64IqD2aOpwelLbgknR0aemT8C5HsSewt+O1dpypGt2apSHklFEJalZlwKbswrTGn4OpxpbkasjGyGzITsYpeSxmSdDy2xoZwTVcnSO4tElQktPbPNwaohkUyxwjONSOowenwKGnFR5HuqFctxIosokrFAjGtiVuRqrhkJ6idRi2Y36uPQyiH77W4oWW0KRZZJWMY5WQxyyvgliWeO+zMT9PJTJoi34I2krM63RwLPOPJizKRySla7PcXax96KJx+JKLINvjtL+OdmeOmWx6l7Ck0PJqIcng3RbGrGqGtijHkeKW5B6t0dSpepbMc9eOy6dCnexkjqRKmR/ZHI8crISvgyZFHkbbQpJcmNt+xvYn1H0Q6l/6FJS4MnaL8Ii9jq/BKVpJi2Y32xUIrvNDifi9htvkhn9KNNHV5ISWx0c93ElHcivkXaMsadlk42zp9sSJPXn/APhVjTbodY4bE+ocUq3IdUn+R6sPsnks5FKtjHPRPckxpGMSOpVxHiuOoZp2IC2IHjts9yUSURwsZ6m1Gm+BKWGdiqS2EJeTNG4nk03wZupjjWmJiyfyJl7MxtHWzd0SnaQpCdj7qNuhskyMFYhx1Lcz08boSsvsmYxFvsxkm0im0ISaMmZZofL8jpZ3CvoZFbDMsadI1NLYnyLZj2sgqOplqyOjkUBYpHpscKFGzDF6ibIqyKEdTm0/FGJ3gkiLNZdkWQkxRsS7yOTN8UUP6RL7OllpkM8duoW2ok7JRPJLknPRCxbmONsjtwKDatmmmSqSFB2LbYkrZFCG9Ktk5apWY3WOQimxRIoikIfsdrglhct2SxV3T08GLJrjfdqycHFtfRakhRGvkdbKsZFGGPxshiJTjF0OO5Q3Z+ymV26nNr2XHbV8aI47QoUz0xQER92pGTJQz9GmzBkaZGVq136uDrUiMRfkVudbwiC8mNVBE3SZbZinrjuUaTSae3UdVq+MRMQoEb4oUdxRGj09xKvbJls5FjRKCihxo00Y8mkTT37NWqPS0Ton8e3V7yQ1WxH/AKz8okmyGRp7EeoXkWWD8lqrPXiZ87m68G1blEVvRjjHkndEH2fuZI0jj2m75HjjJUTemekhOtiGR43T4Oe3UR+OpGSTbowS1Y0zqH/LRzuYHa3IqtjJ0+rdGj7NNDZLI3Ghtsa3GmIhu9xOMY/Hsl/S4lFFMdkcungyRhkVxKE/8s6fPo+Mu+eGhnRSuLQ/llY1Rhj8EPtlj5JoZuNCt7DjXJHtCWxFkZL+quziNMknZbvbvPH5MGbT8Z9s0NSMD9PLX2Q+xu2zF+CHKpnI+CRgglHWzS8jMkHFkXRaZBX20yiXRGv62bnwfJPFStMlCyWN2RhZuOB0+Wnol26iDjK0R4FyYHcDLHeyLceD1pUNWf8Akfhjsxz1/GZljplQ0vBjdMjsakx4lyirFx/bSJRFsRcZbFaZUSWlk47mHI+GZIa40OyMt0zH8JV4ZJWqJKhiiV8DqPxoxRtnUu5lWIjn23IyUi2J+1/02MlHUhY3dmY0tjRVGPL4Z1GP/RH6MUrITvklFS5HhPTZpSMslKRG/BNWxx0mPFqMkNJi1RLK9tf0Mf6ORRKJRtnpqjT4GJMx5H+LMkVexBssjkkeuj1vo1Nkq8DuxIjCxIyqxIaKa96F74sjyZ/yXZCPB4ZMn4MXJIRLg8CHyLtARLgjx72f/8QAPRAAAQMCBAQDBgUDBAEFAQAAAQACESExAxJBURAiYXEygaETQpGxwfAEIFLR4SNi8RQwM3KCNENTkrKi/9oACAEBAAY/Avl+S6+S6fkhZtFWJ7qiq9Vd6/VUNPkojjJMoenDqr6I/l+adl0Erp9EKcKH0XVeWyjhMhAbfP8AJ91UUVuBqqRG6/8AkKGI5oDZsNShFQq/JRln73Xs8IEz8kPeP1VRvCktho6KPuVvspJVP44HVaK0LQ19VBI3FVqvNQpn/Y6fluv7VSrp81pCMC8ZSpYZ6Lf9l1KuqyhuqSr1CO/3K+7L+V5Ir/yVLcPosYzpHkhPi4dF149VX5qqvTvVcpkd1daKvkCj06qaQtTsuczs2fmocabLM4ck/FZWVHTZVvwpX6IuFCVflCDW2OqDG+LuosN1Vx/dZWry9Fp/Kp67KSjzD48Ov5BwjhRdeOvGIqr0QVpPqUZIhTVuymDS8KltAi4X9VES2VUGtqIrbSdIU/5XRWovPzVLenCxnh19VW/3dXonMMgm+6HDdELUcPuilezaQ1vvOQw8JsuO6y7cJdfQI4z55LcNS5FmEe5U3ci90wFFI6WQcQQdl81t5oiCqeaubeFZddpqpd4dSEJ+C1hWjvZUuNCo8Kl+lqLKyTw+7q/DT82g8vyV/JWnkgXR2Gq5KIYjlQGVGi6K4lViFy8wMUVhTbRfx9FlspI7SvF6L3forL7qgEG2JKcbw6P5UVKnRQv4UcCSPRE9V0X8LLug1t+yOM7xG37rZbv2X6nOomtiYRkwUWYbjlmrt11PxUnwC5Qa0QNlNz2X8IYQFwoVqI9lkwS0H3nKXunE6qpdXovDPdWX8Iwpim30CkuqKf5Rc4DoFmdI8lBIp9zwiq3Gqp3U1KuuvDrxtVaQv5UQpUOmdpuVDI8vVV2oubxm46rKDQa6KA8GyMXWV1t1avC+ivv3ldPSFUfFHVzVfl+iv6691904DfusQC0gqDFVlbss58O668NEawU0RSF24OeYj6IvxPD7yyiwHwCzUJNlncZJRx3Do1S53kq/NXrdf26uTWsIygKSbrlMweDsQulxHCllUdlDHZW/qUMAzRVzhVNycwF+ErRSYrsjkdDr90JALiFiPDWhw6KBArK5ubZAmGkqPF5oBadf9mxzT5oWVaBF7m1Ft5VD6+qEdFmi1JROLBA3Ut/Dck0OpUA+zxB6oNfdGF9Z4Wqv5p3XMJ23UR6oyO2y94lXQlGJlMPuz5QtagKWwuipxpVMw5u5R9a8IXsMOtbdVlB5k7Ed4nmUf0tXRMafchdAKdloXHVDDqXE1QYPD3XRQpphsVXE9PopiAvorrpCY3CGZxq6bBEuJc43MqLcTIkTVNltZm6j8M0hur9AiXy9ycQ0nMFGLRUE/urrXhXVH8n3PHNJM9PRQ2Pp3QmfgtfhdZbRKmPT0RzKkTCz3wWutHiP7LPZyOG7xNNKeErLizhPA5pC5BiYk/pH1Q9tguwmusgjJ/jhJJQEcuicY70qthKtboqD+VFUTFQfNB27dqcS2d0SvgqpgGh4mJlF7jRqpvAQ/DYe32UG6LOR4KosZbUqY5iPgpN17R3id8kJUT5qMMSddlJJJWZ1MP5oQKRQcOnHfjAlErNiUwdG7r2OAzOf0hZvxWIHP6aIjC/5PQL9WL8lV1I043XX8vXuj6bKvzX9/dUsubWy8VdvmiaEbKSNUaUNFP8AamMdqK917NrzHVEMac28XQ9ph066rlrCdh42HlcvYYruWeUrNlFCv7oREgDtRZKaKKqwhWr134eSrvuhtHCVSLKZ4VtCmNV7vw0WZrqE0lEicoo1ADxPqUcZ3uBHFeL+gXUpuCyC91T0XtcQduGc+FqiipzO+SzPMN2UCyGLjimjF042VL6KNOEqoRdHeiDfZuewXj91leRhYf6W7IDD5TFO+6/qPOJqjZo7KGVV0brpw+f5AunorGdODRPJbohI5z8QvmgN+qJiqoVJtRVoD8YQIfnYbFV1RLTL9Vlzw1CmaOtU7M7yUbr/AE+LTEbTuqW0qt6qfvuq7KRXpqjBAHorfyqSpmiYD86rRd0+JnLwmITnahpTexUC5oE1raGI/ddEAawvZtJDLlZddVOyOLiUYKkn5LIKLKypXMf5WVnKD8Sr1XdDExBJ91uyquq0V1K04342pwgmiG5+a/qns1Wp9FtwmyEfZ4WqqLVfyp19VChV10jVclaoTEtV/REWuqLf6qHdPJZpKoVl33RIFdViYb6efqs0+RQexkHXqvae80j/ACjHDVaqLr7+Cn7KoodQ6qnCIRr/AGqK9VXZNpQugKY90pjOuiyaMsFlF7lT5Kfev1nZfNf2jUr2WHOaUeq9o/8A5HWHRF+JP7KhHeFJvoFnxebEjw7KXwG/LhWytCyNJc7opdRduHX8hqo//KytGTedFqXRUzVT/hRWZ81E0QCFCttV58OnGKEq1OFLotJVtqIKHIObfMg+btQlrRSd0b34TmygdKyshzA60Tzl9qw1zkWTzWSoNmlOjop6KKR2VuHPEaUVD58Y5fvVQYi9l1RITjs6U7/rwwRehJThFsMoPNKysb8R1gJ31W8fcL7qUF4ax8Uc1STVAkClYRfiGSo92VPwClsZ9DoOq3PVcvm5Bs2o1uqo3KF4oZqVGG3zKuhC/jjquqPZBuCCXOEkxVV8bjVH9AtRaqgH0Vvyj68L8DaFrPC1EKSfqmkVd93W3dW5qqDRo1TALhVPvEUKuI0hDouUSUX5pWIwUknSqIaZY70Rj72RG9F6cSI7K3Mui+XTbhAEhB0VlUhVWIG6omfcUH3tEG/pYsZ2mVE6wsoIqaolcvimAmtbZjYRe7whB4IAE0Uiwtwn4cK/BRMlc1Gi5Rwvw1B+pfqcVmxzX9CjSFzP8kPZfh5mxJXiw22sv+cfBc2Rw9VWikK6CytFVWoWip8JRk/4Ue9x0VF1V+Nb7a8Oi1lRSFBk6qZK+K1DhYp3/aKLGJ1xIrooPxJ4XTnYbTmCxWHlcOvqhmMFZPM1RMeaHtx/5/upBodeAF0eai3+aIQ+qz/5V6Id1MT1T7AJ4N4Q7J5MZYThUOlRoaBMbEUojvBX9jGzKLyarCwwJnxdQsrf44R66BZV1VKuPyXVBvhw9h9VDP4UgFz91UqS9wGglGHvc5Tmc3D3ULt1XyXRbcIF9gtO/C8bwqNH0VAUYt9FVQuygfZUWHGtlos1luspEI5h3pZAjQqJKn6KOqdG82Tx+o526ypH31WSvXgdCiMRpw8advEEf1QPMoOJsEL3WR1Wu5cundYmGJyl0gcB1FlMGey2r9lbcKKVvwB6fpQ2NEw9FivO6g0n4d0wARVD4KYt8FiP1eYndDZFz9qKV0CyCc7r9OizuMAiiysiflwlxus+JyM0/hZZDG+pRjMewXK0NVZg7qX859BwvVXPTjKlgJ7fNEvN6oFDJ5oZqQqVPqtwUKV0H0C33VqLrx68c0Rqmx0uoBqubwo91GiFYMfFG2b6q6CY5vVqyuDfhTiRmiUcN2Z0Hxayva0y5VGsbKt6+RUmua42QfqeUqoUq6rbtovNRwnVBcywndwmmkAikKXH4IkRYoGKZNkZE9t02miusLB/S3dU1EKD8UG3KaXCT8078RjHlnXVECjNOFIfilDExud2jFV2Vfq6ldNSuVgLhqqkLlcAF/zhnZT7SSNSpbXyXMv4U7dF/CsFJXnsv7lT73Q2HRR+bQDh+yrUoBc0dlQVmo3RdTJ8gvNYjmeJk03Qd7pVuZX9U5upFO6z803800itboKJFl/TEtsXA0P8rK6RVRSya3SyOE4znt3WIAYy/RAj3lbhyVN1LnK66rpw0TH6B3omH9TQm9GrEzHSE2NrdU4i0xPRZgOUUUdapzhbTss5ufCjqUfxGJ4W6rNiHylQKMAgBVXLTzWqrQ/VbKNyvZ4bu8XJWVtGqrjPCGiRubIZzn6aKluFAuivwrxif2W52XSKqvDyXVR+QZTG2y5pU9ERdVb3RGaZWYeHWdl7VvhfrsdlExVfBBYmFYXHYphIg6oHhGNhF2E65mUXMdPmgdD6Id1Qdq+qBnxR/hPwT7pp24fyr+SkC+iur+q3XRFON3AxOqwTS0GqiFPNeq6ArrNljw7lhSVlidVy2+iyjzKGGymG2w4VuoQLysmCMo9eJhdOHutbu4qX4mc9V/yNjoF4qdkHNMzbhWnDyR7q6vRV4ctlfsuayp/hWqeqpYD0UHh0Ua/VVp5eiHlfhUUjZRqgnNcKgei9k7/07pA6eaj3eOFjZT+krJqKfyhCO6LcVme+YfVHCwzmwHVbOnROZVAmOUp1/h6Jr9KVWBi6Obkceun5J4UsiFGs3TcMVcbCE52JDnVdTdYjP0GYWVN6reqd8E7dylOze/8AcoFODTmxHivRZnW3Ky4Y5lmKoIUfk6flgOPeKIGMx6qC6uwUkQqcK/k6aqqqCqU+7qmm4ov4qqqM1VeeHVaq3AUor1XhhEFqnZEES03b0Q95nuO+hUtq024YjekjumOjxD7CqpEJ3t8IeYX9OA/Tus3SqcRc81k12aKrLSqP4dxljwvY4pJb7uJoeAorKvA7dl3RaYrhy1Ys3DS4dU5v66eaa7qmTWBaFHVOoplEnwNqp+ChZsWygKpEqVDfiuvH6KXTxPK13dez9mxnVc/wAuqRht0Gqbjv5nOFOgXTgNvyRqrUVfkqxM/dVsNka114V0UKBZXNeEo2hfCioVIdRUmeEIotMFjrhENccpihPhUcCzVuLRHU8CS1ruigYfs6XUG4UHZNGgKPN4bLqDIX9QThmmIPqoxDmZ7uJ+6uriVRV4SsL8U0+Ch7Lmi2qxS1tBZBwpYpjG3IshXxfJNw9qlZMMHohgtvqh1stzHpw5VKvHCqrCs6Oy2UBQDKhaIhx7rKL7ygACe2ybLctLLKGh7SFykNOzlVdF14aAK/+V10r8VK5T6rft/sRZ3qp04TqukoQpUEx5rUq6kaIp9hyg/ygCdLKR8FzBQXw7aUWnmGhQWs7fk9k939E3BWWXiDMTfshjfhiGPaLfq6I+64XadFuuid5LEa60ao4eI6hbQiyxWmjiPNHU2WG99skrPFYnzT8SvNQdk78Q/s1ZWmaqkHqpKnThHCl+Htnjk92bJpaxsxWEXvaJhB7pAOgXsms5t5qozOzWR9njt81/XYRNjoVKzkTTdT7YW3QdoDVDOy9xKbhnFzYX92y7hHK5T9V1VPNXCgb+avwhGsBV0PHqun0Xf4LNHZRCjSqmCuipbjKkKQsJ4Hi5UGkmhhB6tRFnsmzPi1R58zNOipO6BjT8orGXwmFd2U07L27JGIBb9XRBzbGq+/gnA6hMw/exKNWDgCpc6PIJwBmKSE7Dawtr6rDbiOIcdkK+L6LB/DMMDXoh+EwYnwpzsQte53hiytJXMJefgFKy4bZX+lFTumYmE/NNwg84rBmsFhf1c4ceaiaYjZNiigLlBcdgnuBDj7x0CGI93M5HeV7IkXmuhRBHMEJRY4SNOic33mCExk3WR12UTHkmRdUEKQrofJb/NRHfZAmsb/ACUdOA3QrSFp9EV04Sfkss1W5+Skt9FCH7KKr4r+EIGfsFEFq7p9KsMoOFjWoQKdKsfgi/D5XRUIk6gx0Kt+67oPwiSYq3hKgnKUIKkcwsnN9mXNvQWWX3vuqgapzo8AygpgvkYnmKysR4dL3mFhg0ytWCHAiGSaeif+IBsOXupzZW3k7K/Los2unE4x22Rx3CHH7hNw3WFTKbhsaS1niKwg+1RTVZRZe0M7JxeQdKLI081bVQLv6Yjwapr8V1YoAqbKrZlBruWLuXOxwHuki6MJ9BzCFhDqvbNbSeZHBdZ1Wo7IA8I1XxQP04SPvsnmJinVaKo9F1C+4Vuw+iimy6oSFYLr3V/RCmyJCqVddFOVwHUcCP1iLKNRQr2aIihUnQ6HVZ/aVtaFrb0UfVNCtsszYadwod8eMOMEIPFawV7LEIz/APtvCnEMFh5u60MySeqY7Vw5qITr81bluEwZzmgckIOo72boI3pdYWGJBAqjVV8uENEkrM5sdFhYThDAJ7rFdAEJ+MYJd4UGuE82c99Fhuboa10Q1jSLBFp8WZMYxxl2yaXu54zOMLO+jT4W7+aP4jElrGiGArWnu/usxevZEyDXyT2Pi3wVQqqpHL6pzHeFwXVjlIXNEIaqar6q0rnjpT7lVujS0/couNPJfXqpFEVS31QUmOiGpQ0XRbqJoot1VpK0AlHcBNIOnm1Ow3iMVlxv1CtUaJ8CjxmH1UyhiWcoLQ4IE4h0hqdAiJsh2meiwp/VWFMwFOirdHI7J/2sqskbhDpZEDuOywdCwzfXZOguAxK3QOf3VmMh3Upj6xRCVgkHTdPk8ouu3XXhZQFmNOpRzD+kz1Kd+IxCAHSGBYj8cFjJkE7JmBgjMdAsNuaXhPz1ecP49FlOrK94WQHkFSeibNhssbGdY0a3dOdiV+iwmNPO60IMbzPiSs2JZHERmjd1TmxAaQi1CSWjdN9vzg/+41DFFYvCh5ktpw2C/ZXsrhGL6TuhXhFzNpQqe/Rafyu/X4rojp+67FUKCnXuon1/JmcLKcLBxXi07rP/AMIih3UPGXHajPI8eILN72HVT8KqCZTtI+KJY8s3PVPBrS/RR7zJiqn9JmeiofJRK2ChwUhZmtDH6FFpo4FZq5ZGqO4qEBFqqVhv1+qdl91mb90cQAj2cCUXC5+aueB6KrvEZPZZcIXN0PwrLnx1WC3DxGw2uXdM/AtvPMsT8Q6S53hX+oxpyMM9zoEXuB7J/wCIJ6J0e8u61VDzLP4vZs5Snficd5zvvN5Xsix0bbrJAawakqskmwWbDdm3WazhsoX9Guj2E+qsQ1wsfkjgmVThuqBddpWndfRRXsiRQDrwhsQqx8EARVfVZYp2ohwPAKuytKLXAFuqyE/9TuvaBzsVkczNV7Vmkx9V7Zwq4W26KDEJzHiP2RZoUXbrO03uD9FnE9RqnYD4ynw/pX9zTZUmWmD+6GYUU17KtlqpE+SP4rDEfrGndFOfSY01WWYAGYdFnrErGL3wxg5Tus2Kz+piDK0HZHBwJM4nMdSmt+nqsztPnsgidTTssgUsb3d0Tg2r3IsviPK09ofFurfwo0FlCzNbA0lTlzdlDmkdOFUBllxK9s7wYQyg7ndS0U4bx801rhTKntbJVfjC9oyaXCDwCMywfxAA8UO4UKqio0UmeFKD0VLqFYdFaqgRGtOA+yuW2q9Oi8tlQa+q68Lxdbdwi14GUpuHiOo7wOP1Uj3tI9FmE5SqVosPHyivK7qmVgJrx8kLkbLOHSuScwq2lws1P6grspcPCId1C8Vwom1kCR6VURwLXQWuonYc8s0O6OGdGoc3NYrGdiUL7DZezANgTROxP/hwxA6o4QF25vNHFc7PksLUTmtAw8IGnL4lDkaUVwZVXR92XLXqs9C7SVmJOZdVL+VunXsoGEB1I5uEk1WV3i3RdnabrdZcO+p0CZ7XE/pt8MKnDlJ/YLM50nUhUIGq+5U0O/VNyjlLaLKeGvCg/IaTwzFXW3XRVatJRH+F0UTZXE99VM0Ua0XVSSusqQQgXBxbrGydguh7ZhuJN1fkWXMKLEwukiibuLqsZtVoocZRPvN+eybTwmm6JvKOG0jl0Waw+i0/lDZVCA6rAH9snsgQ0NYRzHbZOcY9ngD1WD+Gmj3Seyyx1X4nIKaUQg5Tky2WbEILWVM6lcoIaNVkFXEoYDHVNCTaU8+zJyXVQQ6aqpKsqlNfILzYfpCpUm/fgaKwKDtPoi8xKltGOr5p/wDfSFlbV3xlNGIQyV/yBeMFSyIV5+ay/wCJXksMh08qk/FZmwUNFdRqqLovEuqOb7C0lUHqtyomirtQTopmlpUzBpqrye6vAhGbzaVm2UrVTFFaFunGOV1xKcx3h/VNT0URAU/VYjRvmCAmO6D9Co+qkH/yRDoDztqoOlFhv/8Av2WWsE8vVcvCk/FSDqg+fA31WG7Ocr55U95oMR8rCxDYCQEx2akx3lUOlkGRTVPM0xT5wo90GvdF2kFNGl0ICMtaszORxVMp7FTyCNypxMubpqoHDcqZWyDR81INQg0yJPqhhE4ntHCW4mZBuPiF2HfOh/TmuplUhjhYo5stfXhRSfiqxEp7Zlx2TMhMh8X4kfVaQuvdeXCPqqOWxUKpJC86914a/VTRRTuqeKsjrsjXXa/VC/RVk7q+4QurlXpC1+9FQzVarbqm4wFWmvZAg3OyjUKhumg3PxRwTQNtKdSxRBlRm5mUMj1WqouiaIO6e4+F79rgKMvLqdAE3CbSAsLGBiDlPRNztq2Lp3wUOodD1Qw9QEzCBjMYmLLLhtvc7rAdGh4CZVJ6q0LU9F0XyRhbIKFKL3Ty1KJw2g6+SGG/+niNKpzR1UyPispBbHqnD6/VVjoenFrGT7R1eyIuda3T60B4fyj9hbqJpqvKgUVJU+qsrx1VSj8l0UN/hNKiy0+ndQRE/FAk7Sr00U6+q0n6qnAqQOGV4c3YxdFrhSNk7CmcpuvZuPNFKKWrnr2tKbhYlYHKSKxsubxC/VQq+F4g0RHVQfKikrldBcY7IYuLmbhjwt6KGNAHRdViZdE44JAzARCy6uCw4EtHi7LE5gXzdYegng0kVBlqsrenClVmK+W/A1WvwQoqVoq/JYg8raqHUkR1C9li5ccNtIqgWthUCLfNH9A3WI+cwbTuijpwZiOkOcTSNE8DbhZXUD+OPSvDxIGisT804/RSe/8AC1nreFfWqFfivL7C3/dD04XEyrqypxyh8fpcjg4tHxLSPosr/ECQe6w8cTBblQf+kiVm1iU95diW9FmIBgWUDuOAqmYldiiDRCiAPLhYdzug1pF7ccSnulfhi05Q1tF7XWE+YgMsn8xOYT17IumwTtlJrwk+SotFsri/qryIVQtFQrqqdYWGyp1KcymeeWmvVQ7RXPYI97ryp1CygxN1lBGTdD68M+KK+6paJyGZTh/bw68Jj041lUj6KenoiNVsNFqpBtfuo6qi7ofdVS30Q2WW52U+qmv3oqnuplWqtxb+VymLLK7uK2Rc/wALveT8P3vEyqlNE1ARyGtzW6BZQtseiaQIDqo9DwdgOs/mHdUss7dU3CkyfEvPhCeN5WEyxF00J8/phGtJ3T8Ug81G9kTvpwLnHvwPZHnnsFyYWIe9pUNwX9yv6mCfIo5D5StVZdOADTOS+07JtYkKRSb1UiICzdL9FAGvqpoW7lVJjVD99UKcraleKqeBXlK7tP5frwy/VXgIdeqAg2NePQCmlFQg+SFOG47eqr8NVIj4LYKS4zeIqhzXodlbsuq+KmOMGoVIpuntih5gpG3xVakX2WUTuN+wX/SpWYW34Zm3bZYeKLEKq8/yEpnf7K7NRI03QaNaINb4WiyO61QFeyAklxsAL9Vmxf6bP0qjEOUXuhIC8IixRc2nVSbzB68KlRJko3WeI+qya6oh/kuWCe/otQss0Q5ZrKkmwWZ45n14FF2w/LVarp6KimoAv+67dLcOnZbHgayo4afRBw0FOiNjujXVQ5nwQpFldE3oq+KVZTE0USnCE3Hb4mcrlNl7P/Klpqt+ijRU4O/Du1q1OaKnSik6cXI+aZProsT/AK1WiBpDBK79F007I+tEMNjQXvPKF7bHOZ5ufoFAEIVnRGmaBTeF1N4GqDSRA1VS4/NcgBbNlzSI3UYeGZPvEImpy3cbSm4j/EXrKPPugAZAsVLvF9FNkMQiCuaobdTSOia3LyipX8cKLEd/dFuNOEaryRustqrfNbsqCdFsN1lAiquop8acd1tTRSKIVBKkTDvkskydeq22WbhdVVAsw+alYuETyOCLTccBmgjXonbUustNY7qDwbiD3KpuMLEKRCmbcJhYhP6SppojWiKfifqcoPmtFegBJX+qxBV1h/assinzXs3syuhGTz/PZCv7ITTboF4QiTW8Ik0pURopcG0r081mrak7J2YZa7IsfhtLS6R3WYYhEj0UtJ6hVI6VW9FXT4KN0GMkuKy0Ljc8NJTppfVNBueYqF5KKKkfFXlW5ipHXVGV+26B7xVTWVM6+SHGyv8Ak6ypnzVdVqQpBIj5cJV0eAOyH4nD/wDLhDve2V5IF/yv/DPkgWRwMQ0FqrrKvwxQBXIdU66p8OGFW9eLutF1i0okulZnmVyieuikVN8y7rM0n46KEMvvHdEzMiJsiLa3QDbjqpfXqNFQV7rWNEZ815+qr5SogknQarnAzu20/JEcBEfFVKrPxWoQIoe68X+FddzVUNI9ERqreq8vTh1VOH3K0+nHQD0QNZ4yF9FTRTCrdSoN1MTgv8TdkHN5sJ1unThkdpZTWqm+h24sxR7pqFm1UKicsSw5Va5st+vDCZWjEUFh4fmQmtJ6fyhAMxb6INk1KDKQBspN+1UHN8J9FVdlMz1UH4LLbqunain3vVQK9vmraURhVC+7oY2L49OihXKnhAmV+6FJKMSU4/Siq391vG3zQ4baKHQr1jRXgdl14HjpdeXD7urfvC0+N1mzNj5Kro6qABrbdWEL6Ly0VIheaBFlWqOFiHPhO12Ky3afCd+GUkKZ/eFEjh0XsXOlzZjqODp39V0WKNIkIqfXg0UhrKFei0lMrQtMK2g+CNjvssG8IgxOqoodbRFrqEXUT+y1+KuFaehVD1PRfLbhGy6IMy5nHQXK9riAHF//ADwO6txaBEqyMwTKMZYOh2RWl+HVDm5VVaKYWv5rUUOqe+q5SukVREVXijsqhSPEqupVDdVqtkYmet0dkJr9ESiV7DEDjhzTdhRYa7EahTw+vFuKNPkhrmqFOhCvCxBEmCvL0RTB/cnGyvWbSte6w30AIIUfcqnh36LCdE141qszCM4pMrK8EP14ldFWeAlf0xTdcol/6tVWqlacLVQH1T3jEugJouQOjU9FLjzKjVrTXotL8OvD5dlWQeFfySV19VGnZCZCrWigRG+imEAqbKR8kRT6KQouVU+a94dx6KNUJtwjdDBfY/8AG79J2RZiNhw4QbrfhZDBbceDssPFaIUOqdd0WunKZCF7Kiwx/cnOrJJUUv8AZXlRDcFAGygiq6g0TH7jXiF/UZ7TyquScNcr+2YXXhafNA4oFeqIYF/VxfgFGBhh5vmcjJJdxiFACmCeDc0dNSnY7mhjRuarV57IMw25dMqqZ3R90LmJnZdFO/RVV1ZU/L9F80Gh1PRTWfVaQohRX+Nl5+q/dTHwRrVfdlEeqgNFPC4BF3s5IFoXsn3+fmuR3tcA/Fi5ajdCRv8AFWojnFN0GTDx4Cix7edt+M8A4GrbIYrKzBcOqzNJLCKcHD+7gzzXxWvmqlEaRRaz6oPEHN8J4PbDXNGmq/pmo0OirZCymlFKp9leVES+A0WgVWRoho+5VRPkqCPJGNF/Cp8lZHRZVVF59Ajkb7PB3KjBo39ahplxu5Anw6Ix8NVpt0W/T6IrT6Lqr8b8YQ+AU6fRH99UK0VCtZJ+BU3HDX46rooF73X1UT96I5aP76rJjMyYmmyn8PhFo1ymhTg8i9QpCpBKpQawo0+4Vw3FHhd9EWuEOF+H3Ti7AcRDhSU7AfEt4MxPVBPOzCryuq6WTiUMQHmmSFl02R31haAHqs4IDh6hB7R5SpDhGiMqi8VF3R81HXh0hTKurLZSahUUZ46LK2vWdFlcXYn9qlxHbRZtETKnvA+a5v5XVSLLrur/AJalRFeHkrVV6IUXVGtD8lBnPwFoWuabK67aI/2qfdR93EmQdQVl/EWn/kBovb/hyJ1Gjgva4bpabtN+y5DlKrKkX3C9m4RW6loAxx//AEiIMi/5GuFwVhfiMPwuEOgreUYu2Dwx39IVjPdXhCVS6vyxtoo6yiDWFELI4xBTsMHIHVnZSb6q6KFyjdbT1opg/Xj5KqoePXhJ1VFMwNV12USs3quv1V/yGd/X8/zXTdVmUdlCNIV+VC9LKV5xKo3yUIdvguZruq9phOqdllcKRURos34Q5m64brhSOXNduxWYSuqg2HRZoWWuYLOz/wBQ0W/WP3Uen5D+HeaEcqyvunYZio1Rbsi/V5VY+iqFF/3WG2wnZa5gjlqBcqOHQawpCj3/AJoR/CnjDn1sumy34hrH1A2vsshLSf7fyAwR81dfRRqhQd0TEDZan5rfqqhR/sVRqF2twjjccNAuqq4j7spLgKxdWVVzU81LXf4Ua0Qmh3C9o7lxP1jVRdyFeHxVv8IEQHI4uCAMYXH6lEFacKXQePFqsw1Tv7qrCw8sHLVGbdl93Q20TRrqha/qnnqjiCjhfrw+54MPVWuqKXH0Raww0baoYmJXbooVFRWTiTDTiZR5JzcFgbF94VYzKZpounZUHkrRRGT6LKVUI6KIEK0R8V9V0Wv5+s8evddOJuvu/Douq1gj0XNfuqSvJVVboCR5rlr0V6IUUjhYz3Qr5hc1DujiYcDG2/V+Tm8DrrJ5iqZ+I1YanommdF/KNabofJMcr0j0ThHvKhpYogzCjg2N1CvRBrTDifgs2g3UmgUMhvqub+m4fBAmiugIazDDt6pz58QFFPCt1M+qp6rwPjcKWPae37K1VE07qTTcrN9V2+Srxkfmj4cNgrV4BWlX4TqroXnYom/ZT7X+FLh7Tt4lyGP+wVaKkrpWvDbgQBVSKBSBWAiDdVKONhj+rr/d+S/Oz7lFgkEiQE3sjWllVRPdMPugqnz1RboW0KBB8lXW6OTk+SuCUC/lAOqClNePRO6OWsmUA7wqcIQ7b9S9niyW27KZ5DaFAV+BEqlFyPylf1cPN1Ciw9ECWy4GhCOY5hqZt1U4L4j3U4YjnyqrbbhX89VCjoqX9VeiEqi6flg/whEhS6jry268YxWiUBj4b2GNkPZczdZKtl7q5UBV2UFDJF6rN9FCkbKx7QrUK/1GF4D4unFuJtfsg9lWuhB2iJ4Akdk6mivTfRNxRpWFy1B1VlNZUK3A6CUSBzCvknxuqaJ7tqcBigQ75p+HqLIiIV+ERRZoRYSuYCNJXI4zfqtwgPCRuol076rLR3ZUb/u/ytR+UcDZCi0Wi2+ajNNdVYUVWg+Skbr7somUATUWKqcp+iilOGXhUemi3baqOJ+G75OJwXeSLCOYKDA45QE5gmNFpC9m6xtxjjVYh6eqzIkzUqYuZUyEQnHYcZFuFAFOXkCkOgi8qpC1+qrXdQ1xg1g2VTZUhdEfy6/7Pz/J+6n7hftvw8S8M/uqafJVKAR2i6NKzadVANFMXupkfFX/AMJxF6QoJkioI9VeAswrO6obr22HMahHHw5qeYbcGvFwg9tQQs1wp4Az3qg9piOqH3RTZZTyuHVXQ4Gq3rusu6rqrpk7LN6LILKtJP5bqCoy0UytP5Q7eima99VE76qvC/DRdFX/AHLfk3V1dVNOFJHDqhFt1X4K9ET+nZTNdlXVF7ZE6KrTJmmqvTdUoaQuYTRF48Poji4Ph1ZqOGR3gciyua4rwgrqsvu/dVmuOE1C/rAn+8IZHShetqLY1oo930UaNogLNaKKthUqNTwzmruqM0+aMrqqqvqomvD5LVdN1rwr8lSZWv8AC68K8Pu3Dqh+e6+fDX8l1dW+C6bxRBXWw3iijX7ooKGgULkOaei8PZBoEkrI/kvG3dA6lUuoOm6N59VLafLuva4Pm1EFZHGrEKFU4S1v7qMqmI+ShRKsoa+ig4eGfJGwnZXQOUuRzETsFUcOyPXTgTAQojqpFK7IHVfVWUuP7qhorV2hQBVVtqvv4cP4XVTK+i6rogrfniip+bsrq3rw0CjXZQf4KmY2RVI+ndVobjdRTqgNiucDMNIRyOyuO1kM19OyPbZafzwlt1nbyv8ARS5sEabpuKw01ouhCM1HZaCtF924WhchmtjQrK4EGVCpJPRc0MHVDlz91Hy4VlTThBQqqqW3VuXRdVAciqDzXi4Uor+WipzfNGDBsYPDzUW4ddVFIW3+zqr8NV9wgK/xwsBsq/YQtdN2iiPL5oxb0lC/TeE6L6qS2FlOb6rNbrpKEt0pwiR9E2f5RjSCVpB1Vf5U0nvqhrsuq5mtLCbzquXnwna7LxTmv3U6a1RWnxUq6mR0UHZTky9AVyhqmy0/lQNvRFaBaKVp0lV00Wgr6q9NKoyf3V0F1Xy41PZAiafFDmWwj0Vb6rzVOF/yjrdHovOF5Sj0/IE4qfLh2shQVRHTMnO2MICnNdOH6bKV/UaHawsR4w8MHDtA6rDo0Zl7NjQNZ1Wbaib1uiNrJp8lYWzKdqLDoOYx8kWxYZkX5WyKINgVqn25R9VnytkmF7NoGU8yxBlbyphgc10W6RmRfAkFMEDmT2wKLNDa0QEBPoOUIGG1WUgWlF1KLCiOe6LSG0CmAmiAnT7qa7dAdE40p/KY7V1/inNin+FmN0KCtU4QCmuAHNddhKNLWQP5HN0FuFgo2HGvD//EACYQAAICAgIBBAMBAQEAAAAAAAERACExQVFhcYGRocGx0fDh8RD/2gAIAQEAAT8hMPhbfqHzjEsaxi4Uv72lUTPP3MvfKBLDw5E6p/fmABkP+xDhd0wDR48QwMGdXvnuMkfDrhQsgQbO5VXqMREEctAb8xFAIPxxWoSVWHdb+kQ5nbTxzB6QaLZ14jFbt5O/ucHR91woOETpHejATDVXo58wLYAA6v41E8G1WaB5cQwWlvwpeAAHK+PCmAeSi8HlwHnllC14jEkV5dPmACQA6pGOQeej8AxsCN1sMZLlgPD28NwsyYJ2f8gQRq8Z7PcOiXeniIGDsN78xAyRWo90BQkq/tQgHJWwPTmDRQCGteJZmprb8Q2EgIA0n58waLPUWAANKKAzYO1yjxIkiXTv6hMVsRW+bgDkMUDWvEDgBq+D9QG9l0WAXd7hciPCgtBQYlJZOboQhsFKD4+4QTyt/hWoAJYZK7Vk8IzQiyd/z+7AiwNWs/SGRkL2b3c9Qwy4CnCaHr9JmsA2hYgEq6vqv79GLJAB1vyhNjAHB/EBSHWXfmESgeLKHN/Uu4VQWRqo8jAGd8j/AH+hQQegGx5hhORzC7BDL9zSex44ELufcaBADjiJZrw/xCqDBO/2YgFJ5EFFD1+5oCdcUtSyEP4wDKPkvqPzr/JQ0bE2RpfEJOF+YLJEP+vmIvJX6fUApmtwR/USeabx6/3+AC1GzpT8yODAVhAHyIo3A7xxcBSiGq+fMzdCon48RBMAed/8gphJYPW6/v1QncBAyy68QgAMFjQN3y3KCiSDs49EIvNn3PVwCMLl1y45GQfPGojKBZwvfmWsnkDyN1NTxv8AHiYJCaeWDs9zHsvQeEHV12baiHQ96PJMB5MhzXUObdoMDTPOoiAJRPD7iV7O4YB4jJ0xFGcikGrhLIdR+7zHyirTqDnJ91CAFkBRfEDAjZAY3M4UQLWHI7iAyeVSobHR5PUcHCKPf2hNgMvGFAwPLKEgUiHEQN+OjzD4tG3rc8cZjECq5MF8PIKO+5dg4Lha8SoSFjA4uDYlNFtc9mEAYT7rhBArDDycHdwmUSEA30rc1A2IYH8U6iOXq8mEoyFE5GVqoCzppHbzEAKu9fcMWJZbH9UB0Brs+8UkOwPxBIbE4E1qEXbxbj08p0+YAMAUdRAgsCPgdyzpQ8CA/a+DKATYwCcGEEt2+Y38JkdywRFaxuAOHFioFAKXv0vMJUiSwsh0YuZwAVDvzEThyCsVhQDLRhsCeZSABgqs59YMCUZJJIt1A5EyVRxFRPoUyDB52eQYwHkfsPMIKF+cOoAZWlle7lagHJpdQ8jkYaHiZBkrt35gMiyGNj2XmIloj19eoFEEMVYFQCjzI9UI48FadxUHsRIxwpfS6AWOxKC82deTCmlYQ/U0BoiRCQQAuzqCMIYPMFgAVHC3uACKS/pQygCsBA/2ONRuxHAHDi8bAWSnDisPuowF/ITx/sxNU8u/EY0xZzXp5mFBF3/ahQSEoJsefMOhE8hvx4hRg7kN+sxaAFRB35msQP6CFgZb5d7hzYEkcPTzALgZYu4JABVMMeYqOpT6gCAuNh+fEFGDACgIXMEAizehE8gtnZ5MdBAR0/hMxogjGTxLBgwSNDnuGBugZcIQFMGSAr7Z/v2VmfVaiQQQ7OYKHsAf98wgOnkzQLPB58ws7BPHUZYdmnzKFEWOZlnU20R33D2BDfTpQ278wo8ceIECBz/KIBCf494BsehiSAOtQAS/dPmZjYV9IEuatn+ILmNECkSdnuLsC2sscKCIOIBw1sxvCgCWRz5cZidS/wCxPM1Efl7hSlt0wlhbhnmgP4+Il4CBSeo9wASCwmHqsRnQwTwayT/fscUDBjr1hI9gVe14B8f3SSDyIf5OKhJBjix0pkEKsgvyPChukgT4HcPaXhVgeI2DZdV5SgAWnYxEhurFnpahUQLz52XAoZH4DxAEROtbhNVYul7w0IYez4qOC4CuYBtoE4BuwcvTqoFVtkT8mYuCA9OiIW97d7v/AFKIZBC6iEOIAEVxGMM5FiAoiwre/MCpqysnVQ9gSZvzC4wAGx7BDoCx34gI4ARTUQPMhQdgNVKEBouxg+eoHCJ+D7gL5e0I4rJf3A2ASCQtQVKIwwECjksMcoQwwr4SuIEEBUk3zCR2AVBa4lg4GTBhwelPlwQHVYS1AJsKsCn3yUXQdIqtz2IDfGIIqK3+ouA5SiIAG4q5lIBIZFes4gZCUz46hMlY/EsDD6gzXhzMnPrC5L2vfmELyYIUv/ZwsXe/MAZoht0ITCea5PjxA2xFeJYHT64UBASEdyKRg0Mw2VDtBURiMzupnCRYxKM0qiOn7gUwlPOhA5oo7zcBTEqvrhQMXloHNCCxIDZetuAqqPh1DZytR/gQhAFJsYdpZfgcr0uIgKx/vmVbIyeeCigIC+NtICAM3i/cDzKuknl8BT3EsrXMvwE/QrjmCdJMZJ14gAAFFbzy4YgACFaEeJxMmLtykJx1xB1b8deJnWE9fMCFAIeoHYKeheYMxu27MEZLZA+EtMAsseBBGFWJI0HEEZqAAb89QlhpSJ0TDDa7DaGypScsZM6XAhNkGSBgP3AOxD1KcdI83p5gGyp4+4dRlj48QtSek7V3A1kvGkFAbgQ4P8o0GN3CDYhYNDEEACLA7GEJOMgL7/7CMsRXRLHiWAL8GtQFmAFZWYUWFnD5Jg2trY/2BhSGQDSoKOlxTLLnQhf15iLgj3HQ1UxbM2Xu4GYI/Dgcx6yOAbHniVRZLR7uJAzwNjgTGB6j9TEwAsaOoFqZPXxPSlAyGD7Sx5K9YBo9X3AZoK5VLmDwoDkoVNmGSPly+RdeNKEBFYigGwLo+jaD5iFQy0ggEI59PuGjRBZPUfsDyQKMKYS4nXaGoBRo+xHmI4A8nPgwqgt+hzCB7YSWhwIBkAFoQs39QzKSN/wuHKYNDgePELCKHIdk+IAXryfuHZlimSbFvjxLToDrjuFtmK/AEOAGyue3EMAUNwzBkFtwcTAO97jQYRa/UKhgR7nqGd4PdDuAgF6U4aJDlY+5bkqI0uZaBSQWSsRr8i4NNWzcVA/yCAzp29H065nlEhyBhTvRT+b3DBT0Fa8QGwUIo5OUIZkZGGNvMKSQae1QQLHYN7uVkgrw8wBNim96Ah45t1vuVxUPNJe7j7OV4RkpFM6eTCiyD6qhYU1nFQFyoJ0BzExQwl0eYRLJIJQiMgAfWDHtbuOILAQ5yO4aFPgGYRQAIuXHMAYV1tAGT2Y+vc7OvAhY0kDjmEJNkDAA/twa1iRZLXAcQzdB3rfmYAAgQbv6gAAd8vfcqFZM9RlNu5kP+M2bXXEveXrmBijfXsgAK1fGIQQRXjrxBhrVnL0f36NWjs+GRg9mA/r3BtMCL8mDwotXCAH5cNaC/Z0gAJ6AJPccAESK3XJ7l0GYBOs9IC4CAG9FYlI2bS7I5cYEQg/F1AgzhGv6RsKVyAX0RCEgBBQRXzAco6R5WYKgunS+JjEHT9XLj4Aux0OZaYRfkb4UGxXAEK8uArG6eHS3AQIMyrXuPCiW5G+PTzCSd1AFTo9RJghA+yDwJAQQUKNnuqPHiE/AqMfLiEkZA/EISXyqvPUYtqJZgCwkA1Y6UHdeSdeYu0hA4wIRppGmYBMRksjcenRAO31BEjNSRobgViAFmqhiVOFl8SkKmjZggWQvBcDzHHPTmZ0A8aCfmHIUEQCMxmADWCzZgdAbc4HqEPmlGHb3pjP95jCBQBUBMCQYrZHaKWycwsAP+eYSWRsYGmzRv2zKHln9w4gEQGt+IcMPPn1gHbUUOx6hWZIAwDgQhE/j83iA5pgDHyYRFnCa9SgJ0ZDoO4TkDGmP5TYiTkcyj0PwJQtFqw76jDOfqEIjhTNr0gC0KmSIFkv2giQgsZaDdTIHBMfzEYIyxXbl+IAUHTC4XMT6MMs8RqAB/NylgxElDS0PMZtnMnR6iEtHQCIABU1/CnLc82zBU89kMBGhsLUWYhsiLcwuJVEJUvEPiKqI3q9OFEISQ9IPBljQtJBw6+oQz2L2iYxXIFcKryYts68QaGyuhyYSYQXsClqowSBui3DmeNJ9J2+YM2wskH48QLkNhsGsuYVOHt4gChBFVABoAbOFLJ9zrxAf8Z8xwOwR7CZ6Dp9q1EGJzReBDAQxa2+EzYYyXBk1th9z5gBbf6EMm8l5J7nZBH4BzLhIJsN61DBCmraGRBFHkt/38WAJBbJI3w4PC/NActtoYlAb9Z8oLFIw0OO4BIQxqBkbfZgsdAqA1AaY9FuEckc6ggdnmupsP2QUAYD1mTVAvI3CEAnxMAKDkLMQQAJ/jqEPNhGvpB9PlATIShCpmgRD8HcFf2Dp/uDIaokI+AtL+6vvJD7LjLNtA/gf3+kO7HB5PZioKHbEzg7obHUPiSkgz2Yce6Bx4iOrJxVzIyhuoOXp+oDjnzSbniRY+yjIOS+gDtxW1bO3Hq4ybhDZNQFhNJnXZPEDAIN6dcxQBCzy+IICUHuHQ0sj8KHaKd75HDib6sHFpqu5b8LDQ4hJYCv2Ji5a8ECAHZwBYX+QSDhwLXC4jUYg8NjzAMzAiAxOWId4x4hQw1l/LiC26wuk6UPrdoD7IXqoXYcmIBnSBNcIAjNk5vv+/jaDhIeocAkhVs6jX27pQwImm5v0hjNWWbhABbqy6hHRhkr0EPbILN9ubgoGvdR+8HFliX0OP7oIJggBk84goRwGMdxWFpz4HjZhVcA8Ac8eIBSBPB/cYjy24goSWLQ0fqDwmsV8+ZfCYyeUNXEbPySxAyvYH7m9ohXMrnnKX5GWYvcyrYoaBN9wgj0zBAWCzZzBdiOnkwMNK9Yg1H/YLaGYGOQGFWWo+9IgiGwUDj4hJMYHWYXgCCscQzCZUs5VCDSQTfjlmGRyACiD6Km0Fazon6hbWFh4H3CQPT36r7jokvZx4RALoaBOvuMscnudRYBZJ3NXp6qYC94DEQRFY9AUwAEA85/5AEKPDOvExKm/wQoUtt+XCa1Cwj/rgmBgRQLbx0oADFKNTIA0djUohFlXL/JZBNE8Dz8zANIxpR9ihxXUcEGUw+XzCFlFuoVIEDkUX8xAigk3kHQEWXcTGA59ImSc4hQfucF0gdaMZj9/MKyFCCYQOnRhkoAs6GuyfqGiBIJZWfRHC2QvLuF5gKgf33CDFXYInqITyBSrPcBkH77MUBiV+X9RLkeQ/tmBQMBRQaHChgNs8M9wgGgFSG/WZQqYEzNExenfrMkmhVwCBUzIM+D4jB+RThcyx4kLyaSwV5ASxJDOCVChkMtYmSCCnLqVRSCQXwA8xsCLwMQp2KIMD35l3CR/wmQLwHHnCbp1puJ6j5mC0KBOFKuCrs8QZgBqxMEsInTv0gkBA0l8w4/rhDpbU4sL1uUAOgLjAdfPiIUewzNhOUD/AJwd1TrggIsQRi58ekZXR5vpGUgViQtu+InhdOIoYI/epqaLXPcFCjRMqWq5mZCs089cQlbNjn89yn7D6l6MNoqgFUTKA80e31Akkl/JLkducSH2NjXiXLJSAXvlw3AGTVeFzBwBcu3HiYgwRa1y4RIaOqWq5hv77UaHMMM3APzBTnmizNBRBts8uXVVrEcQlVmWi4hcgEnae+4BoYz4LxzElgEM5PI4lzIAk/2XKdoJjQPxA0OynRohsqCE6iFlIriCDoUDhQBhGctnlyoMHsahBSY+68QhbSxdEHtDAUD9AcKUgWaC5yALJzm4VB4zqqUODhOB35jS7WVrjsw/PigVzsVjLhJiAkP4UItHM5OvHkwAJRXL3mMGggmrPhFI0CgsbDEJSzsfQgxO5ixbYBGl/dHBMJP2fxHvcpheimM8rzKdB2VCMgQIPKwBD/ahgLDSydDFoKdw0Yusn9wMwMe1sjiE8sZT/XDpZixWREeqISgkOiBuVfNW8KX8gaiuwR6Q42QIGBKFoHDEKicEiRCI1SZ+Ionk8Xq4GgNn8AdxIy2yBft1/dYB/Nmab0cfAgJgGidC/WEAMU/QSyS4K3Mghaz9wuLAgagBa83zKdpBol+2ZQIKPRbhYIyQC8jiAWRkv/rgFiR7k0uu5cAJ5vhfEAgTcs+8ZTjQII0HSjEgKOVvvqVqsNxDCOEIGx/kIEsPuzJ9IRyTUtedxFKWnUOekF8QqmLGiIEErIg5OOKlwnrJ7GGJB4xyNJjmWR3TllALBH2UAebsyl41pQEgoQGJyeoYaCa24SJ8gaW2IAw2SQGOXCELNkdoku/SNQEH2/ceSngAJv0gALkFhpblqAAEVxmNASzHIr8QV0C50O4VBFofLRE5yKfWBIAoAVrxCIbwdnub0I0tbhAjgmnxqoeYGrG2swaQVC+YrHN29eIYhQAa3v0gfOzmWQWyCeczIilQn38xm+8w5AXJKDzMQFAaHEsz2IoeOoISASQAryYWM3vQqtngDZPZlnAAngTCHKc6g4UdSMFARzYMSB3LVZId7SuJI8p+4UQQ5XCLBLrUFQVAvu4EkiiAbGulHPBUvMzUIChgDsbhS9APy9cRyl/F3BtFbv0BREC9LbPL1CXbrNn38wBAEAZvfiuoNAHLZo9vUUoyTR0OIpuSvyYuAl+0I7/vEAJNeDcA3A3D2HjxA6gwrXzOCsADoaIhXICD7fEHAGz0XL5iOEYQ68eZYrAK9eYLESACHXlzItGgVWIdYsKXaAHDQYVHHmFNJFGx4ULrEJ2zmJ2D3uA3nhIAcnk4IUyekRkQ0NPBy16SrIDSWE8g8wwOeqAmvR9wkBEFMx5cq4SJv4hXBbH91Hrw5r7eYa5BJvyUWgaA9OX/AJGhtMcPHmPYGySyR7IQWPB57hFWOG4yG6tgc/qKB7QNLR8xVkBob8Q1QWro+5I5iaYDJQA0oSeCMTmOXoR8+sNGbCR2DoDzCRQtDt7ceibZBCUQmQeyYyOFjjkcCRAADZAL6GW2bigCAvgcwjcDfp6SsAHj45cGkkPT/Uz5JM/MI9RQMgRslsxZmPFOIRA65W1a/cAE8AYNe8WJgfSEs8R2GDtwsOXsn4hAATJOA2fESAk6Elp0hnKWFdLswtwAC37RAFoy4Wbs+ZZ7G2qEIDJLtHngCIAa0WwB5MKDADy30Hr/AHYpMtgIMnd8RAKwtfl/f4b7eKJ64hs2ed32zAQwRIoT1qoQNhB1cFsQP+uE24FB0ebcENN6sCBAophuvMChwAWsD7cqIEE2s9LUKZmkHo7LhOv9gsKCWNDBvP4iqBSCGPXuLlhvND0pcG6DlqIAC+VDtiUu2dagbEaoj1I/EqQYAWgg3PtANpCKgIZIiCfQLcqwWBCAvJ1BABFBIYr/AGAIbtV4WoehUsGw2gqKGsBxKTLpfuAkiioBj/TCKKFFMCOIMkNqLZ7QSEPAgLH7cBp6138QZOs513BODHXWIEDwx5gkMLABb1AeuxPswo17dqIWYlcI1BFjgDlwQ0BtsvuXjgLHhW3MMdCIUr6AioKIGFg99Q6dOQp4jHAkSX08QJIcLOwuZYSTAfhQjzMdQyAEqoMaAnzH6GFNmHYjmJOW1V49xXAZMAhCcQNwWdShFnoISGvo8m5XDBoIHlwNBBUMkS7Wi6CUIV7GCC2On/kKBMQUPmGQEkrTETRPf7gCRMRxVSuMIuQa7QLyWy3CSksG6vFBQUYDQID5hUwSwH3qF38z7aqHTa8grZgh6rBgwIjLJB0GuZoVvSE7sacwAlkbr8wAMZL69gIeLTLFqMAEYr0gBELeAYh+DILxBrGGQbJ1LlPmN+e4EnxUtKGBCfLJJUIAtnGuXGsUj/BcQpRWELfIviFdCLxyIhh4vuFOA7BRDu4juM/gA5gCzlV9QKAH4hAWXIPzFtCdZ7M6Eay7K1uCIADALwuvEoSt/wBB3CFORHCoai+WVF8RMKMUpUt8wAWrWP7mVCBvAwDsWGbZ0oCADYVkZ9YhYot0cTf8HEAAIitR1Tzr5ghtA2GoNlHOjjuGSb5PP4UPdDvPb3FFhUEK4UIRp2fueoVYIDFau/MxgDIZrI1WowIhAJGDO45DPQsDgCYACd8vMBhAzHcXoEPx6iIflZzQ4fUIAAEmBYBUFYD24WgDA3hcf5HjsL89Q6gCd/shq8EVYGgBNEoGsvl6hiQKd8d8xgAyms+BAQFKvZZcUXy6K47lR3QJCB/UOyTG8a6nW+e3iIhLsO0QldLwhO2Dr2qAASXkVuIRVBiBQD7lSCAVV+ZcWi0PHKIRQs4AarcU79Y7eoPxrjr1jLKzCCkv1Ad/9lm2D7wAkV+AIhL6fag3UEM9odtUR1ACQ6JBrtwJZQIC4ceZmou7H1FgQbmoUOV9DoCF4LeQlv8AyNAYCTwv24WRINs9YUYh4dDGMRYc6YhkhQWIsnj6RiQCDAvUBjSBVQR1LCIiEpaSP/UDHFaylgRCCoJGD7viGIAEcTrrv+8mOZCOQmJmkOxkdjAFQKA5iLhyLgFWq3Lp6BpmMUEkHnA24CoodDV6gReT5i4Fgh6SlKujncMVHKMCAJwQLHaHA5BGRl/qYAionY58xSAN+cahbBoGN058Qb7ASIde4GxSgid8LiGDGSRurzcEKIa6Q1EGITl8+IgkWDECjAiTGiYhNE5YDzDCKemYhCyRA+JgFwYcEpBarMAkq+QDf6Q5Gw1f85qV2WeImCJBLG9gviEN1cXDpN5uFuz9xqzr/IjU/nSEsAo4MZAJXVcx8L5lAEG6Yh7yhKhNI3vuUBBmEGwMJeYQiQRDFVBX2SrjHZCDbOL9IV0EjLUOMrG+TqFQOM08esAjJ/lzgxoOaBW774qPlfWuYY0Ca51xBI7WQMCwTBWdDQW3GT8Pz9QWYSR3jtymCUA0B8YhCXBWI5iRau3mZtcx/AoTIEDl1lwkLP8AKhqRRAyX3AUkk6ANkBBMV0R1AgiQhfIhkAUSFCJrUUE4IgBMAwRlwZUcoI3f7OEayVhe4sNhpQdtFaZA0OX+01eeL3uMgF2z2IezswVVRj9oRvATgoQJh3LqLxpBoF8uYWHDUAG6g3CuLgBES4EcniDZWl6mYlqJIHPSgJIRBBsuHc5QZLB78wizttfgS+JcxrzABCFcnZ1BAbCyhEPFxBRVO9AECBAtfugMoVuZ+SOYQRBWf+wVorY11Dsj1/riMI29PictwMZAefzCCLrwrqpYgTQ+ZdxRAXph/GJ+5WYz0SZikaDtCWSA8c/mUdAPcBCDye4cAobA9w0NskepaAsu+pT0sGH35V/HcCwSW8J+3UJGWWWPPrBKwXlfAgDtUUBkjZMDZPKYDXv/AHeBHg5bEaEXcgvYgffxCiQwTsyga8oBQK7DPCNJIkgdWPhAmWW2cSt74xmGDqIkMOgoS/b55fEFAEkNAcLjuBNnYGS/EsISdmcuOZJTGuFKIPARMM0GOtXGjBZ02NBRDGbQAFk+UDqVGUe+kdDgDkD6RVk0h5rCJGFC2NcVpQRzGH7e4YEFjt6JegAwS3y9Tjiz4W3mMLAMahGy9xCifFzAcOR8wAYZ8XCUTRjDEEOC8QmxaOy4lBXBtXowbcwQ27luXbccLcElAIk55vJhAKBuLQcvg3u8QcgA3rR7gwRk9h1DzlHAkaJa/Cc8EYXwIGEtXHqhhiO4Xp/uIAKKFzHZW1D8QDULF4vwYnwGOvMKVudHjW5aDrwqBmwz+ZjGISfaCSoc9NkT/KEbjli11AQOJhAWfSIBzPiAigiQvEFixPSxKDTTlBADMKbf2oRh9DfcJEuKNKveHYzpC/HpAFci7uAoDSh8DmULPFWf8lAasLXrDMUghg/gQQOVTq/MwCwO+IQze2Nz+AfmZBEo2Cd8uKBRAS4W3zGIaKI7pQ3OL6RlaAAKCpeOZegIC86mFPkzXL5hKcEsFHgO4w9hIBbtZNK4CRgFt81uJWeoEKLYuEHcAkCAwljKbhVAQRqECH2wZEkNGleIN7DtVMOMgXjhx+YMooYTfjxDUxFF3u4gzHgBIbHZhdcDkv6gxNAhzA6BPMIsPTEKoF++5pRZxEAyD0gcuXXvBnGi/lQs1ZDXz1Ei3QELBvzN3OSPZKcSRoG2DCDcUII71y4hgATw+moOY2ObDWXADICSUOREL7YAEFUwseTDlSsUSGgoHgKaebipMMX/ADcr82bWSNVpRENNSNeZhJ+OohKmd7E89SgjOl0P+w7Pz+p7fUaCnxAIA5GCy65OICNCcNHPgcy+I9YQOKiVRenceNsXPGGV5gDXknUAR5bm75PcEU0f91LlEk+Y6BgtZEYkkgAj2/yFSWeviFYwV19SiAcuN+dQ0SRTXD2dwOUYP+EIRHIyeDvo4RsaAwlrjv8AvUAYJ3ZvnqA+CJXAhQeSuOBAFwB09eTBUgorj3hWJoaENOBs6Bjig2cfUK0NR3S36xOIIwI29KYsh8HB24GOJK4XXcMhUn+eIpBrRtjuED4t+dStZss5cZOMtBH7hTd4ON1CDunZhxZ24epQHuDHpAkbBC2MmMDuiNa8wStIohuGVwxQodwuKcHfEPgCXl78wFB1K1DHvpZxIneXiMHjXcPAQcrhz+JM14Ii/EGIcnzCCpSOYrlAPPtNDBP3ABDNL0grJOltwlwGbkMSgIxIDAEYA2Jw9LiESUoVJokF8FAtKGzkwwDdod9+ZvwT8/7BUMkrQA7qX+kKSVejoweKg6IL8+YQu4pQE5fxuI4HFQBYFq/qEWARetOZUAEiiA2DvUAziQ6+4RCSmfqoUNuc7+phIgX6QCxYtnxUQaEFcm74nWHcoYCbCO+ozshuj2HCVBsyIE8pkvBA8wzhAtzuZCP9hOSCrOF2IdDA6HlXiPiyABTIeUSJgEbXHiMSdQDO3L1EEWKU3v5hYkvTPtPEfPzFoPnA4jtVu/8AmppBe+JlloDyeu5lRsb7hnm0IEiy/UaLgnTBrt+Idk571peYSdDuazBykKs15cONyq4HUYZP1z5goVF3AINkEd84gTbDupos5MwxHnJhgAKjX2tocugFt8QlMUn2lS0jmClyywHC4hmCDY6e/EGYYATP1CN7ZFtwJqsRcbmGPe4osJArCUPtlFUOnEGPCC1Dy/cwckyTI7OGhHTB9jAio4ICCRMsYZTLEhzIfuZ15QNiqhE6CyNgO3FYxANCKhfaumHoKG5EYi/jtO5r/dn5fUSUCL0K3HlsnDuUZMAN59YI0OEYiSDfMzdrfUBGA7V7RrBu8/Mwzy2hyRDECKMwi0ygedw1gk6GsGFXLAntAhSKtv1MMBlOi8CCgslfyQLfiKD8RAwcC8nIpUZIttLHUwmJV4EjI6gwwj04kGAZI1A48CCcEnSNqEjKgTnAf7GIDvIA88CJgzAIM8bgFklpOhx5MOrSbAPhzB7OKOBzCC12hreqjKbM035lrLLI41U56OTk/UAAQJYLZdrc1YPZXtUeQPC97uA8DHGIK9AinTuHQsU9fHmAjGDphd4MACZJbAHc70HfCxBeDYj/ALCwoAqGz1/5CSCiVyfucg6gixn9xgi589wyWUgezGofKIHmAAaVwojgeYqJwF7oOU0GKcATKw+7wfEIGgqNUe4ch5gwVj+zDt/KGk6MyUF0OXLRiLYP7lPkNBjsvGYEqrIbEKmeCFcBKmAE/uJmjEBvz8QpkHQZR7QboQUCB7MpfPc2uHAByCbX4PiCCCX8AbGOeRyOW11KDKgBVnZ4AjQphFAI+WzQ34i0gzicPjmEMYKgWX31ABQW0FAcxyFAJ9TBRfU5mwJ8HsO4XmEIhjiAzMrmLvnqKQuoBDEKxYtN2zKfkJ6HUNIbKxBnT5nAUJfBLBFv9RNRbXzKIMsMlFMzwByNHxCiLimRuGO4VhwOJh3MuxBT957xHMiPxAiHgTryYYOBwlPgRJEPIH+cXAFAAYJe7mDQYEKeiGKZLWFXJMXx3VQB3svfxPEAPa5PMOxzoKx4ES7JbPJiZSFMgUu+5mEug68TsHgZLhf37EWCaa3rwoBUEBHi2Xtw2hCLGg0FBkEsg2e+XFLWEQtPtwHA9Kv8gfBbYjncUAsAjfIcKNBWWy/qbAdixdwgFTAmxj2hEGFHpQygCWwfuZiNWDqAQhCZwIiElDmxwtwXpSAg70+JVI+A2F7f90UXIH2TiWQBFk4MYEGf2YWzSO2PgywBziFQFQB+pj1OYAR8ib8vcB7WLOq2JXCLMhK/wh5JIGsD7h3TVhvcpm0QDQfMb4CxEWuAIkNoHF5gzoYAOjuFbUDMmNImEj1NuWpBlkAZXLh2WQrSFCYLr35jSWxjmAFn6js8kND0e45W6eQFClBVLfcBvAaQHgdzq1AF/wA5miUd2IF4BJBfiJNLIMxKJIUCBRpg8HY6mKQASv5RuQQHCACGQwb8VCLghpAb8zJo8F6gjLg8fMywHhDuXy0IxcPiCx48wxhHhHxKsBbqJhOIOwB0KFr7gclwGt8yuiR8N3DoNj1rhQUG2RnZ5PEYhjH+u4YltCIZf5B8A+GN+YzoCIdvAmDTESr8mIRY9P5ZgHxaLLigmQBq+TBI6qedrmGCjx7nuCviGB7Kb2jWF7uFCdDSwXjmCRFybeukdCcg3878zOpDA8eICAQz8qWSLFLrXiC4AKeGHqWAIstsaP6gaohgeEMAGsInWa8QsEkI/Pnc0myMQKFQC7OF6lY1WnvPmGCb9x6AtSuzZ3RrLlIp4q8z1Y4W/qFRw9FZt8xQzWOQhHfqDC8msQ6UFkMk8BSuWh8ZcNzRBgor7UP2yuH4ghnC5As3uZZoAMOAIdWASZgpXAHzflx8EURSQceII/kwbLBoG4BDGc1sw55OYwtgMHDE2XWYC4gAEFNaMFk8qX1ehcKrUP8AGP0J88QTLK0YHW4J1Qt7/Ao/xII1ANi4ZRLaLaEIyoDbTR+goNXvFAeb2ZQPEVcjxF7fe7sfpPCVwOVvzKkAjcJQ7gFMs/8AH1BYCxBHprbgDJRR7a8Q0Kjg/rmB7p5uBBDA4By6goMInBlkXkQnQuwXWLuAKh6GlVTUAKN6P1GbiAKyxfO4AGxROhZ4qJcVvk7vUQgRAp/GgEqlrVs6rUxhUoz6wE7EZwGqjcAkm/4r+9QdoYFAvm0dkxNJEM76qHII2UfUXqEIBDGh11EJkQNtAbMEBgWT7KJtbQ+X1CCSxUizS5mMAtyyCo8kIAVocwA9oBwzSiHOTnn9QBANBwBAELNqs9QihPsJzDghi6h1ABZNl9OoEqoHxAa8EDO1qMArXcBQo7vHMKEixMjgRPuCALe73UcAWhDJl1GW7BC35hSFc9uXEdMPuoTAAWOdniGvT1o8zJT0LHFdZImyuUfBZfw5cJapJy8nG4QEhMdhvzAcB4LfUyOTeyBwhti1DCwvnIN14hiIkzYc3uWYZD9qjkS2s/bEcqzwcRFINoRrBBVmifMSAQQAPAD1D0MYJPdXiIKsNWIfSpMey7nV6Bfr1KRObFZzDAwEnvokRGaU+6HhwZ5D5mKwUPIBYCgmjkRfa/7MLUHTegxUDOYBsB4l5h2Ce40NMhwnQEcXqD5qLn5gjHRAq+FoQCmkTmkdwQbWTyAmAE0Rrz1CngAI1LlwKcxLuqlMHenEVsQJ4HMFwmP4ISBoWSb78x0ciB+qh0TLiHDqaOgI3RvJ5hcGh7e0AUOgy8nqEQcnT/cJFsifQFgLUEGNhj/pFxNAHrx5h1PKho/SJcvgd4oQhAgAGUfz4nAEDD86gsUOR5eJoUw6RAwsK0fELAz7edw5FoW7lbvMnqHueVQPsYUxoBsB2I2As+fHUoDAGdrMCiEoRtQRCbBfFKUBBAZgoSfAPDgRifyscifEMfoHLkB3C0klbYR+o0BZIh4tbh6logvgCWCsiCQfzDkWSMZrzApu0Cn4EACKMA3jzCfKOjxA90Ce/MFnSwUzz/f4iQMDqsLzBRibcP4RlgwssKKsKEfwwDoMnCkhAyl0BH1ANJwXlOZgBh9K8blgJzADP2drYcIwEtPwG48h95dCC5PKIjySY8u0ypuLpTDhi1CJe2EArmEwWwWxoIdSGUwfdw+cKPjVTYZCSv5QU30/MdLAm1viE4oihe4WOgwbAPK3cZiK2WLAAlunDkuCeojQT9CDAAUX/HUI5ZFuTfZ9IVJhCyGeKhYNDWYIlBeHcpxBxkAHIL+QinIWsajbAs8wAIOwO5myVsgw5FQLV0/9nkOmSU44kZfMxMUfR4EUEBZNrEC8SQOHr5hiNs3/AJ1BpxjRz2TKtAZPD27/ALu4BmmLP6iiAdYDjnuCJoyPKeZpdBnIHXmX4qia7lmGDqh3A0y8kHPiAlWC40/8g7BhxOAqQJmbhrzLuoo8TgcGERktY3nxKghGjX2hkpCAJYQjAIhfEJ0UsHI7CHGsYGb8TUxRinoyssX8r8oY01ry0ehLuHOlbPeYawYJDPgQMIec0cF0IxXFB0A/uJMXyUv2lyPJYryYYWKFJ6vAmJYjJyjAxoXwQrwKIBvLGhCKCZXPyGMsUgrsISng7rzCqgyBTYJ5hK4Mht8jgHmX3pcP+IgBWHqno5hgSwuDluWonh2MxDVtl7ocpBwVnw4OFcIrsoQJOz+vMdbYbvTlnCAwoeeTAIENIb6RS1jHns8wgSxQFY+oFcAgn/kShGCBSo2BywtQE8q4gyo/I+YngwS9h1AZhOYQLntxMxh2BL3BAw1UzIuGCh2PMCUFyGhwoIzIQ8o99TuY8A5UUjB3DuC0gPGLyZWQIKaAjftUwKGIAzvTgyW/R+sEIDlABIoBeOI/YbLAPrBRpkI4cj1gRlhx2eh4iJR06p9mCLgASpXjqXENmgr94bSYGKepHcIqQZSGj0OIBJLvinUIEKqPl9KIiXwOnJ7gZBID7acLUBCgeBxTLhIiAyrHvGVdMoZhMohyKn5jCRI60R1xTAGDyODCgQuaz1AVzDci4CFsQFRVo8mPYhQQQMiDVaFA9ENScgNDuETJHd+4YGIMABRnNXqAZDeqe49Lz1gaAgVAIQXLmB/Ij1FACGIsKzxCAEG1sd3CSAHF4uFEJANLW++IOQRhF1GqBkqohQ1CXDw5gaAMDuuvMRnAAa4i4RAVWmL7jE43DH0g74IHTe0RhGCKBHI7iaImYUgeoeAueYkAN52OvMAMJAAyBKCWizrzDBuAHtcOoQCRK8F6nxA0TboodywQ3ucN6f24azVgc9IG9vLFsRSyM+8sBgMQHgWtn+oACoJEI1xLEVbQz4gKr0AeTELIAMPbuAJJQqLGgdgczAoUvwCNZIUL6J1Ux8HYUIZtE2vwi1UivCCTFxGpQr3QzFATeE/mPlpsWoRseGswABBCcYk85QhsLPjUYDGmyNcSpJra+IRYadsUDsmVBqmBtdSvJmhfkwq2AF4U/wCwEDIq5PUHQwK/Jj3fZB9FzboN658xxhqLF7oLUOw8S9PVEwAf48RlMhQG+vEAksJXHnzBjMAG+vEKnJjbLUFxIIZ+Y+QkKVjQjiGjt3Y1s+IQRUgFY1utmBbzDR9JUhky8hCm2zy9o/dtjp/7BKCEYJ1+4ACgXqvGoZuHMDXkmnAW+A2O4ZvoP7ioBEr8vMISICCwvw8wgVkX5ww9QZACSH8T3MHmH/PEYCBZeRCmOWFadSjVCNlGiuGWO/cPh0eSHUcSmh4dQdWyb5c+bjDSdRbh6NjnxZP6h8aCBZI8QDfroNtBY03UDBCJIUV1zHKlkG4SpoDF66nS+y2eoSP8CFQP2fByYQsMu/4JoirDf3LFg7Q6jLapEnc341fGx7uJwLoe1QdDgDrlAH2SC7kSiQcAtw8Qx6YAWveHI9TjxCWBDFCGGYgYsIC78wDqDRqnFa/vQ8JCeQfJ3BCqnQH6l2PBuADwBm1d3ANgFKoK4gA3CCOiPtDBgl4xxUAbPWTxzMGScBSvzGi7L5+oRsINgtAbudwadeioWNpsrZ74g8GinTv1hEMYffqPhwdA7c1ZiANloLcB4hHYQt4Y8QIPaYS++YJ8orHHPmdM3yNVczsiFg12+YYIchl90oTKIo94MuYBZN13KK6FAsYpY5Lv2geZgBRfuDBiSSxAwHEEgPsQ0wQWRt6xrABRaz3PQE09YIUaRv6gOTB/4JhBgQLCa7UI0uSRiWi8CLitmufMYTQKpnSA6x2jyIxCBAkg6Ix5M49CL+IWQSBfA9wmUAEpLs9aO8pXCiO4u/MsHAbyPEMdsTmF35UsKTEwD6kZVkskCkREkk65qADdgDH7ZREAgeJ0iGHaXpAFhyDxiWhGMXmoIuAF8cy/ANgCidMSsE4BOHzFGQzggQALg3jhAbfzCtCIwq+MFSjYgMQB2hj6hyftsfsYaxXj2x6wyEUIj3HUHdEjOHtLiGhJNheMVqGAIsBQKxBYqKDp7l7nvbXiXIDYJJToc3FDEQNLjUAz5CBdwztASXQfzBS4mxHpqXmMQGVRFeEBf5hPeciOKRskch56iSTQSL/EEMWWBAquOWBvzCIKkr56ruIsbbY+DirUFvA5W4zq2cvVTHVHmnuAsIKggVrzA2pJO30hlk744TDlH1kF5rahQaVhp64hAoIihZ8kEEOJ4F+UQCCYLfXmFZFAFPwfEBAnQ2a8wiu71SxGMbMjZ7gyZAAsD9eYRZA5kUz2mEE4VLoFuOYQXtSWELb2gKLwWJ6B1C9eJu4JCg0iaB5EayGEEj0QGgKvQI7P7iCUwDI6uFcIor7vcMMgJOu6Sko7obSxMoJWT9mBB6Kuh48xYrORsHQMKTGqR5BRcWmsUPxKmnvCXQbraEZgXcNifpHNvDKApARyGBg212e5sTR9Q9wXNAGzN8wYClvJ/wCQASd36Q4NgrfiAmzDlzAT4HFJBKThRxBsg5AdeZyvFHi5T1BWYMcOdQjYsWKdwsoUrmTDPj+MwWGS8Yj5hYGkRzNIDM16DuJEIGWy36D+7ZyZ4MEDMtBfgDDZ7ew5MAJK3AwmK7/u7kX8o7vqACjGsS3QnAjh/GNJTazOTftDroAS9gzBnrJhLkz/AC40ljztwu5XYmFyYycDsoeYLR/hqBRFa2fXqEHQHIYHZiWyBCK58cf3o8bBeQBLzGZQ8le1cn+7PSychg8QBpnyquf7/lxAI2AOOYljbwrHjzDFIpZIWej4mKyLqqQf4GRDgTEAUfIe4K0ANgiaezMVgjIIwwKgVBsPpSJgqtajQAUGLQzdeJRARbC/JcNyHprxHKI5FAU9RwtSLK+B3DSwkT8ock7QojRgUSAo2H3BjaOAs+YUyC6I+pCJSxhYeP1hBAMRDTRiSxQOyJa5oRZnUAyUWB7UrEVdgG1zBzUhxeaB8SwiafkYq6Eb+xMPw0hRASmCiUNxV2UJAyRPVCk8uMFWE64zB7poVf7w63AFGB3AWkifkwEAhpDAqWmcTjmGgQAQ4HUSZGZB7RvQF2NOBWB9NQjlsqxXcBBGClphAaatWhuCYGcihAHsOVAAARDU1S3uuEFk5Hj2RAYJXSB5wOEGjgQwk2jwDo+IaudogZl4OKt8QcIIsUG9GZlsX04cIWgDnhfAmdWBkr5UFwUOjvrqUudAZJ+4VPOBUAb9YBpGs6DeTKK1pjUY3sckC+ouILwuFylASEKWtKVwi2fSKzWDhb9YSuQRVjfpBpACSMDfJjQMsBV4UV7A/ntCcDCB0fJG4YKToxkcOItIEMHBtW4SSblibfDl+mbwB6hga92V0lAHE8+4mFCtDAn3PcTIRTJF06rUMUbhMA78xhRPfHiEfKqft4mDQYfENSwAL9oeFUd8rmGNmjbfkRWyawEH+amMAJA0mYcIthWCMQxaw85uokj8iPJjAK9MS/K46EkUSYAAl0X57hM/7GKYtgnmJFKwY/jKgCAH1+poRA7pF3cPmA+kpUiplWMQAjbYEaw+ZRJ/lDz7IGrzW4dBBGP/ACAiJoWq3zHKaC9ENeAj74/24MY0YXiUEIxY9oQAZSJJf5gU5fhC6IA4rNwqgdmzrdxJJNOdpVUHLCjRo/SIAirPgOz3LFhyt9VCehl6NXcoU4HYESQK/b6l04IP+lx8/RalqQMlP0f3k1wLZxm73BkNgFAZjFgMDoD2dQlJNcF8A/v9fggTQI9ExTG58trz/dGACCwL28DxA9nPHJ5mR+QA0B+4ZsmsDMAJJ4e8OeMODYXt5gHgHK47imAfOXDhA5Kd+u4QLQpYWo4LkZQ9qjvsrkduBUFQC/wgNkKext6riCyAATlQWe/725nR5WlBwLkG+X9/0ixF/idXBI1DFe/mCqKiJyxqtQtwiWafscsBJJZHyUzpEqF+PECMAB0pF24KIGgCmryo9sOADbg1W4BA7lAisUz+DA8s6eJVg9p1DoySA+uoyQdmRPPUTEXVoeo5m+x4l8Q5yD1fzDZPwVVeIQqpSMfB4ESurm3uYS8ohNZx0IIGkStPaiiKI5IGo5PgSWOntCNwcH3JlGVRnzodyoNCSbPiESY0L1zA8Me8AEQdDnAgirqBAt1DuRG7BWhEGojzEKgLENQynAFgJqWTnj/sJoOheYSjV7iAEOWKlEHoonaxLosnsgOT3CIgmyWQ0WvbRzAECqwQBDlSkCsItX6lwXdrDvuHEsosk68Sk3PmieIfs6a8nubRIPXHiDMAzts5RiW5l8cw5ASEnglxsnpEKgPwejcsBPLYOUMNU2eLaiBlB5X1CIAD50hmFMN/uYY4GDRr0hsEgAacMDL7QhsD95gcddy2GnzMFv56hoe2UwIQvvcYVuyV+03UDfXEJWRJCgzPHUUBEIGa7vZhNN2dmxVVCYOfKw9xSIJ0BwbUBio5wI8RzgA/hPcNhfzgUQhZZooDGhy3wccZPkOTyo0AM4mqWiICaMUUdSnUNqeGT3LhJgBDwH7gAZF7rPUAos1kVQ7mzA6KDSxBCbLXrFdpV5hGyKCIBBzFwUChTJWjHwIIU4Hh6Q5BBoFtVnmKRKgIq0BwgfU2T4jDQRT+TgYJKsQQIjMljuM9AYja6EJywIhG7ADrjzAJ5JQ2WbCEtm/BVwqwNNn0hDMjgVnYRQA9B2eonhdOXrNxwMBhwSSBAbqYSwyfzARIwDKeJpAP1Ra0RV/HMDDlb5kf7E0RAJOLJgxAJtEVZgq9OiMCEpAk0X58RoOtLr/sucXAIyWj8wFXwDXzBptogeuICxcoj/YAqUAh8FcxRAQDG/Dr+9HtfAcR+6eBojx3/dqF3jMj8IgWOjggPK/v0p2DJZD4hBxA/cY/v7I6qGoZg1EHrQhYDs6JMdfkFD0l5ErzGgPgxRVni5s8MgQtil+I0Mupz4J7zmNSyCZ5CMjMHecYhGHAMiER9v70HVrC/QhGDsk7yfPX93c77cJ+Nlk/UEUmXp34hpAjf+wlgFwiKFHYVrgwnLp+04JHbw8wHeQLS8/X1B8AbXryIAlQnIsx0pUknCPn/IDghQQfmz3ARODfoQQNLfJQSI4AdHudcTWbpwTEpvGoWUFBJdS+Y9HBhrnRa7EFaQjyPZLIjrVM7cQnkMENbXmWADK7oo4fiCAWVc6ijRRzYtcQsjDBXMzwAN/dFkvIWlQUQRdhVmoYBDbGtf8AkCDGgXxH26AewHQE4QCApjj2hl+XqIYLMWH0IrE7CDAEQUdIZMIGWMCKHdRFYQYGh+CNwQVBd7migzQUOSI98DIRcIdzLA2TkYfUAmmRteY3YC/DTEJfPLgHnzAgllUtcCdnrvcwNaRPsT1gC0mlvgD7jQy0g9x6mUZHQOfeEedEdZbEcEckCBXmDJJrfgQ4Nk0LfZ5gSqBFeHiHIXEPXDgQEhoraVg8PFxItiwaqHAvtWhXcyZBoXCCygxlbmWm2KqFA7RwrgPyZqGwJNaG66hQAAjrk8OG5AIbFPZ8wNgZAJ+A4lpBAM8v7UNgoJRTY67jokLdnqBUG38YgJitdnmWsEg6We4HZLx/eIeLbunG8nkyXCgTAAIlFh6hGYRkgtAHfmHCVDKvyErqh04QYDDBD5qAZQBCvXHUHQUS9yzIo7i2IsZ5i1pu+Q4gJBABBH83Dwya3AxaMDo5gHC1QZDZ7KDmAH6h8biuOxi7x4hnfNh90boWeoCVcWpX2S3RWwJQMNPziDcy8HrEuik7vXiWjCKd4MECBIjzzDwRovU60sCaJXMpA+mvMJkr7+oAs2gXSAnkaynagFDTgjEpYWt+YQ947AlQirCAQx0J1DggBAe9nuAJgPkaQ4SG+cuYEQqC30bmJtDDwdeIQqJkBoPdw8eA7EaBcwxMUMDA6PojHPwTWpZYLE5Hitf3oQygTva5QED6+396thWKLJ0TAUoPJh3fP94sTEBW1MqB4coDscHx1Aw4YfcGXJVYJ6gzQVAQjEBmHEPoAMDguYV1OR0TahIh8jtQJmOZHUJMAmTs+0ALGdJrV3AARCF4K65hQH2EYAgEQQcByXA0al7KoYSyARklXl/f6KwjBCyW0eYBIXe0niC8IH3OTAcmDh5XUBp/Wt1ASYJJz3wobqyGPz5iARLnRHjmdog9c+Yo75PW/MAAEfjI1WoPujZDfD4l4DegHyYpB4C1vS/v8Y2M++/EXQNkwZBzW4SGBsW/mGtgxYctVh4M21E51AVl2I2oC0I0OvPUsAsfUZEQRixHrGUFtOQcvxLJeOQeFLBt8Pfmah2B/GAMgBN7RyIcRc+EHR3Z6mYPQWfkx3FXfmMJVAfhHYHL48TAEor1cdQl7E3LA8FO3BDDgDwbHMIaSUY9BMrwUOC3hxYsVIjIHJ5MBIIr6deIEAoM4Ltf1DeoBJrChmDJDB39TjSPa1nsiL7Fn1HFdwQbEOI2PEXLFmp35gJwEbJj0OoQpuX5XLAIvxK5h5oNjB8TCDEEX58wwPV/8VqJ7yzwu46EGAPS+5oB/wAATJC7kPHiEogggWm4YgDXcB7OZYScFu6lyG+HCknoBAfzG74hslmv9QQLaduvbmMAgBscvqFQlGFlAtZ7gegWbK9qjO3yKe71ACBLQBFWeQ5hIAgdNY4AEAghQNCndzCZATIvwhKJBTsPcItYa+fEJZUaK+4Oh8nXp5lieckAewxGRyAJ/KDQDQIC/HmAkVle56MKBPA6dwrCOoi/Ampj69Z1vRIp9R2w1dM+PEQAJFFU3y4ACzlBqY7vjuN+awKMIIpg58cQI6CheAZAPVCudoyL7ICoZakZEMxbJFySAiOjAIAzlgseYouxWDDRTHOI9m4HEohQ4PNbmcBBwa6gKRxsfEIArIYAEcLITIx3NYicEWepuQvBPzDuBvQyQQtQQAA7FqnAFQ4o6AlrG3vHiASMNlTjA4A0sngYLUFNwKPSIhURA2rIIN6ciVlAqtwCH6Dhw7iy7PT6hSk1IKivbu4BAXRB58dQwoSCAQZ/ahIpNzv+LihepsCy6fUJFgAeB7wP1gZ9OnDy2OT9yh7OJSIBJJoc8BDiFhXjLMg9wjkLuB0XAh4HWMQ9YN6sdw8i83pFCKl3daA4j0fdz2YIUimHg9O4VzDXAjAjpIIFAwz9v701jBoCvA4hMKZOB/v1/FhL4AV8rcSQFbFeBx/egRAMCcz3MJcQwXUJf07mwqGgwb5p8uEssk5rnuPGasnmA6DdsPmEBQ8OCuFDFRYCd54fEqQrJKBOtlAyr5Q/BGaLiuBJxY8Iu75eYYSGAGeTwFBiEENb1F7hL/whcSgB8EFzrxBjBFoy9/M3Bck8jxGQQAPltcwFAVLlIDEQDR8As/4TLAT48s6PtByLo/vcDgLeaaViDyWIAG60IaKJW3iZFAY+weoQJ4DXiGCSgff0hhAIKn+e45zlRviooA93TMB6FEddeYbYFWoLVBh6Fz3K8p2TMjXXiCJgARCcXcbFExQr9MdpESOXkYAQIMwzYHUZQRX9JwAbO81cJR4LkB9wtXRL8ExYSC+/4ZXEnrJSkhDydPuITARYwdrzAEeAXydIgg9+pzCCMgJBZXExuiV9+YiLA04EcGUAMRxOmza6DvuMkAB9riMAAfD2iHNHUFj4szlPxuUKVj4G5VwFXg+0bq1XJ5MNbIBoq0XOTonY4/v4XCDAPD2fMIVnwOuI3ug9fJhaVN4BgBtJzz0BxGUQGIz2eZjIB0DqEsGzvmE2RxR+Y+gu4SCwYC1oeJkpUP8AI2OdmCjc8+vEPYSd26OFZmKI+agnEAWQd0uJbEWxl8PY/vI/C1HBc+YWjcVnrAEF7gMgGzy/EzAU8F/sLJlsXbWPECg9Ax8mPcACqZ06UxnGxsmQ8kxjzFORw8whDwzfcA8RBBBeIWy4Enicw2YBPC5hPcUOSAUS2icnzAICGAMlseIxJQsZnG+IPC6mDb0AIMJgHQL7smKQCCFU99DzBQKqv+xDIrOCMOITlY3xAI0gMPS4xhno4UM7ANZmtQB00ofsYAYwh11DNrZyHw5imMgBW58NmZHKEAtnXiARRJ3k3CASD3zAQMBaBioBUKi24rDGhrxNhXKHMHmJA9eI4XeQOYOoNk8d3CcKHna8Sji6un5hPQ142oNtDWehEt3kjwswDawFxiKJDD5eIxBL2Zm2TZ7hIW3YxMm+flCAoGQBZHAUVIgTQJ32YxC4+CCgDGi514htsWrru9/8gIzoaeioS+XDnuGjvaBOOfMGBIPI7PFRiWr5ombBaGWv44p1Bs9xwQNA0jT3KIGm/TSgFgf+HuM8X2LgAZH6iCgYa/EImQrUvY4xWQcHh5ly6m1Y8eYbRDQUMvRmAAMBPfCKn42uAI/RolDJ5MFDYYdCMVjtgWPUbsOLHmFSFYI9MLzGWNyNn/kAgGwlDzK7FlGiLELcgGqJ/wAmkBs+v+yxYB356EApYrWGsmFBIEDW/oGAKZSFHsR5V3UNdbCr8CFSeAePkxKv5TXbruEuEhZYBS4IqcBk+IMJKCy5fUM0hQajgNMBzMEVWSCGpu3yXUARYn6cQExN0PYcQo9k4l0fWVmAYNIAcqAiYAIIBz4HAgki2EEyG7e21HEQSe8wygFnf3A5PHXAgyghz/FRiA21gLqC4ThEZwjQLVUAcAVJsQ61DsnEFfj0AeY+AAYtCFQIrKGJlBBvuW+FFskfeDuFmwrIjGL8iKh48R0xLKAI9JkEMAr5mxGFPhyuYXW9AyTx4hXIGXHfcJuy+Av3EoiOeTzcqY6Dxz3/AHogtnyPgLUrAAhkI/ucpcM6HjcI9MEjPpKB6U1DNo40viXg1e9maA0Otc9wpx9SjQXyhk0yUGHI05ig1Xly5doDXDYUIYtQm6PnxBwGWCT7kHuLqQNAfBCKhg7LBTLigxSR0G/LiV8DN1WoC+19Dy4yV6BY8IE2sUCsv0v7sIs2Ok3cQAyBbLQWo5wozVHvpCMEnEtD2uRHQ4vt0xqYkScPt9QZmRPNYC4iRPgToeHxMuFPqXC/AwBBiogbBAxr2gBctncSrULABAeQ8QQEKDHqjd4V6HKgBPm6UIeWV+blRWDyIRYMgFiFuaBSt7LirtelriYci9/qPhmVb2XKywH4ajMDEMi/JEToiuvEcCHrGWKeXmhJuW0rgUEFfG/qcBAOfmMcjsC+oBJ7kMJjt7QaGgwwJg44mE+YpYRAC6tuZaVQK4fcEsZEDFIAKHQHWo9HgmFpGazA514mgmaCmM3+pcZIagHQCKNtwQOia7I3CwGiyQ1x3FyP5R2YSErhI1wOzDgWLwr1eIEAwoBYCAIgQQtkcBNo2s78whgh04S8NqCswrCYz99w0aC+PAlNM1vcyzQO53RGvEImfvxwoOwNkevF6jO135N+Z2KZEMENlirA+UPD0r58wwSEtvjVaiIQxhKN+TjqXMfwjcJEWBg5Y68f3owQIrWDW+RLBpxkceJQ2KbHzxCBAnJoN7mMAEUAy66anbwgPzRAYsuHMZEscdgjYg3IhNj2YxMxbGYCSj1D3xFBw/6VCiAIoGXgcBLownm5jHhgGAhg+Ywqy6uBLC+ZkPy4iA47e/MNJg5ojUFwpWgTClgWFazPE1dwxRYaPDlS0YH28QVzQ4e/MRFwpxt8wNiABLH6hxdSg0+XBCqFyyBHnvYW9PiDGSAZDKCBRhGfYI4gwwZvk8yjHuVc+ZxoeeDxUADgyec8wCKjqpY2qIOn1xHgNqGCR6BISywD/OIGrfBywRWMHnxqEFeSfvcLZShMACI5WG5ktBSm0Lf/ACKONNty/CZCJU5QKMBYA11UKjmqDHkQLtVzkDjuGEpMke7qtSoFRdjfaMAQ8Zw0I7aR8c8mKKFkPtRnw9gb6hOuXo4fxpnXUZkAngSjdG5/ekAAkWH8w2DAbH+yyWBn/ZuAHl8KVUEuR354gfQ3VEcqIwGRTvpcQGEzswM9uAGVV1XogaQ3q1QEOhdDnXZ8RgLEXtnUIazO3iIQL+mPJlgIbQ2vgCOos0Pvb8QtCix7AHM4IgGMDHiDIDgFp5i8HqLpDuBBDGgPKAmB6115nKWhuX1QIEvO4IElEyxD/wBgkwaDw4hCoKQIxNxI/iU7ZJscky25jzRHpLnf6gggWCZ3KsFYPqDQQob/ADKntG+ocqQ1l/wQnpZEuvJhUBginriFF1jTo9wicKNhSio5rEYO4N4RvjZgywf1TzkBc+YAdhkF03EEQqh3oDiEoUK1n+E3LZ6EBTsmN+IKsSpEuZmaMfAI5dLgyYLsW9wk0CEqmyS3RxYmDd+0NAaNO4htsDJ4hbHl5h2vY7h4rXp3PrXXEDaao7lgkaIjA/ZhTFVEEcmEZRsh7W/M1Uuz+FQDQy2z6mZ5CO+OYSSxd8DJ+oDQQrQhyTgBF9Q1ttII4DQxHOG/MbTNAVKowQ/TzBXR4UYQGPl6+IGgpAQNPIn6AL8QI54hrHr4lh7IceR5gIEmLK3eogWJApqvMAoLAEI115/u2xC1gCz5HUZrBDA1eZSsIul+IQEStFAfnhS5ABg+2fWBEoA5rPSh0pEs4NZihAcAGkpUOj8cgTWCIMF3wgDQXWlQgQjuLW4CcOT5S56CzV9RWRBCP3HgwLWnBBgSEKiljqEAdg9wARX+ze4Ab3Gh16xw0ovJBFKajYCJF7XiVwXDjCqVYGxKrLZgLbgQItcCeqEOs9vENpkm4BjgbyeoaBo0fUS7eF/KPQyjjPqeoPSwEPpAFwOLGepfgQlr8vEbIMA0fcoAQZlk9SisEqhTlUnQC6HEVlwbLNTB1YDSAH/LUANX0NwnRFbqDQhhFm0h1rgcx5MwFUA/HUIMWefuNMAJrFNXABqhx7BBjsLQt9wWTKTYV3C7DUBZxiCIRgpT5MEEgUEA1wOHCBis4Hy8RbggG+EYEAhlgc9DiHgPX7MApQ4xXVQkCju6hOH957lrJ+JhMk8TyfUiAY50F8SwJ+wOJgVzHr+oaDHA8ftx2Sitgi1B0HRuvLjDpNf98wuz85hWSTjh8zJRAFlj6mFxO6PF6/7CWAuL1yjuEnd5QdchBk+JVCVlwAggL+Bvy4gAg692aC1GAKAgSANjsuBDUG8r0QumLIHJ1BSYGQo38wa4TgaYgAlkE55K54jQM0r2+4QNL871CGEvLHNxXMAN/pzFQRUT1G5UpQ/3AaQCNbHUsf4PMDgM5hAQSQbEPdABAg4IyfEH7AmvmUPAhwNwQEcIkuY0AUsgfSMGmD7pzqAQICIut+YZI0jTfFahMXqOqZcdYI/EcQ4A0n5cTGzdm8DxAPf1w4gOUiMZp8w4xgEuEzAAI/WAUtGr97lODXojIMXZzFTmssSg67lo8ml4qc+IIXncAGVYHqoC2GPFYPiPNBqqgWYQDRgGraCNCRsESj9QNMB9G4TGqeS1UqFhdcj9QBAhZo3QfyYAsWBat1DwzJIo09lwUBKk8gfcCDQESmNnVTgk0jXf9/BaYiBxhr2h9LO2+TBZC8IKO+JGC4MlEM+3mIIBJgJpbG4EBrO8QZ2hgbgJHnBUvb1N8uG7oV4PcHl4/wCeJmqsV3htWAx14gLsEtfiZCzXzvzHVB5O14hADP8ANwCWvgLQ35jxbW++IagOeOfMDK+h9I6AQEPtrxCEAYhz3cIyQXc6Uxq3fZX4gpBSm8ckwJAgOsOobOxZlwBvo6j5RACBy4q0LW+4IuwBYbqDGCRvLGJeWgH2QjgqKajBsgEkt/WIBQIRFETDbWty3zcEkjh+krjJ/QiPAgBlkpVRX8EbNgg3K3YKalCBEQbAPlqdmgaPzcJ5k9XohNwNeVCWYgo/PcE2DUVkahJyJ3jBMJQwRSHKgBca45m9jkJwofO6mGgGD+UG4GnJLnzAnP8Ag6mAITmxeWYqqEBZjKAVT3xGHBu8es5CQWIVNamG4m6zSo4vMBGlt37QINHf3DEDyAXTkxqAR120OoIcphNcswpHdtxiHzkR2cnjqF49xh2e4czucA9qg6GSUrM7iI3XIfAbMRYki/nuZf7U1YuGBYiNuM8qpQLtwEvH6cJYePiUgT/CDAs1+kQAhlrj3HcVFoyeORDSAi3r1ACmMLj+cC9m9wEWyTXcFjgDtUpTB9PodQTdyBZHPPmaSnYFQxO17HwDGyQC/wB4CiAOcqnUaAHhbg9T/NTzKhJ1vHChyTdb7PmDEDXMpSos8QiysQLee4SA1rj9QKQG3n2hBNoHgeYQgDUDpgYURfpf91CZavx5EQWFJ/aMGex1EIwZUXnBxnjlBKwSTbBjEiCUzjzCIEy6eZcENihT8CYFsMNnky4NhD9eYWVyHWfRxcbRBxAQFIIW/EyKCmlmPRpvpCgASMAHPUHNpsjCggsX49IwD6eIJMQqfDxN4X7nQhxgktg2YA4pZexFDjFHpxDjQ9s+fMEKtcyj4jA6BwMy4yCT4hQPxDMBQohwvA3wtvzGIIWw0b4HEuwJBu+bm0qaOEt8DUJMoBsC0Icu4+MqFEuAo8utWD79f3mi9ALhDldwybIZu2+Oodm7DhDv1fVQWwDc98RVmoS+HMc+0Z0LhYLyB9RBjADxXrKjR5HHp5hJCgaNL2QHzOmq8xnQxj/PMC7ZdXDi+gOoW47W/EFesqDNPf1CtERkKyOJcEHRIHuMCW6OP+xQzqXq8SkZIx6xfUrCEdBQIAUBnfyjODQYoBevMJAgbLoM9CING8YazCAZEgq1xMGKdDJ+oRFGAVtcxnkBNbJYUqAmUwt9wnSKcJ3fczC4gvIeAoKixLYonmDp0UG0BuY3AcDGDmCqjAoZPJgmCUWzq7llzZ9ehKpktkqnzBGgDTQ4i2ImxKz/AMigAyDDLlQrCCQAha4hYJI2xyPfiHQyo0qgo0/JCYAEkh1RgRMQAk+OBNiM+MwgEEx/sFlJRYX0EyReO+4EoM1ILGPEOBxoB+oUQb6xCEUo9IMgzdNCFE0FXmBJG+K3DyBQzCXsYWI6sPQshTaWaKd8wBJrRoeBLQZaL8o9Bpo1EiIqkdcCYQhRe3Z6hGNZIJCoEkgemz4fUZQIAWR+TB2tx2XlwgE5BHMbHP8AKLAr0h7wOo0D8CfyohR7TdRVY7uAh2sJ/wCQELW1o+XEJ6MHI6gBmihTI1CHVbTP4nh7Z8Q2LSObgLLEoe/aliLNe/rKAwdXT5cZD1oZXiED0NbOieIMZpouh4PcJg7KCxw4lRAKcHqMsOi0uR3BZYsfCtQcTLdA7uWAnB6v0RAloIxd6fELGyEj8l7gQCxnvQKZ/Egkclcy4BJC1r/sULKrrugtQyTeUyr3cShg7/BCTAKkBh8HqHsUCw48ShsWPiYMrGOXIeIQVHQB7eIgSBkD78xIcMatKAKcEkFHnT4EPMgHet3uF5WABZHERgbijw+YQtFqHPIEIhZZ6+IxgXlM+9wMswt0V4gWkSxff1MgHDt+8ACFRkhewUIDT3B/ggWMFk+JYasuJAgthAhyPuDJ1tf9hCWyO2E9EDxKuQAPuJcaaFqNMLtR6bv/AG4dNhK6EDkIphYuEgoJ06mAGy9nAjOiFcnyYAARnAcCFOQElfiHAX0fM6Ips64Ezybz6ywgIfiEJsba6jEMe73LAQfr2hv7MrUPKEFhxx+pyRQXqB4h5dPviOCCC1CJLGF8cKMRf53MO1WvMq8gfhGbYuhCQNn/ACMlVXn28QzyumoczZkcrPohaexlXqhCiCx3R78zjQ534rUAJCs0aPlCBRyCj+kOxBkPbOvEZAza8u/MBWOeDC8TKzZ0KuZ4GBtIbfM1cAGGboCP026OB3ctAkAAETU5oRnO9QBrDMM9oRkcg9LxBZmxtrEAFBABjrZgkhanMcOhBBJFhb7QPnW48trgCEGGz7xMS2ijNB55gggB4DeO43C4LBOq1ESERIfuDmUWA130gHZnkHep40u3J7hhtH8eIidiW22zKAc82q7gUG3n2jIdmrwsuZBmANVmCJJEHnnEOPtNsKEImCLAWqaFEHFbhigco3CTNe8MQBrgQXjSh2CBnD+44OFEW4usuwDnxDraEXq44/3B1BMqXzXqgdE0E7gYG6x6D4gNUcLebjRTjGTVVBNF3zv6lO9CnsdQ2ZHDG/aWNkC+afMAcm5yfEIiBb+fqDYA7N67hHnHqojoVs9wtkY6/wBln/kVAF4iRFMvGIGIZIHIGosEA5hAOv71lLJXO4CQIXj/AGcYwYXHpBzB5gC8hyteOYTKwLFG/wDkBOkz158wEm8IhrXiE7E9fhxCQL4K2+YTYbpnHVac1ZYkphvh8Ql5BfGswWCZH6AcTbGyAvY+JQUW6D/sETEFL84fxovnk+IPMgoNQvXmVCxFaz1xBT7EdPJ7iZhcbPQEcDkSN+fEAGwTbHDkeYGO6Mf5EzaqMlmkvmAgQvoy/wCQAlkJgEg/24SGXIIFewhgkYDSu99Re0/Hoj8DLxv6nSIVE8bgFsJlfEMg9xD5hOCNWNdzEhsWH+S5L6V9n+/7jQYH7QWchIimkD7hQIRgg4AReB5MJBCdDJdeYKsyJPRQKAJuMAAn7wxQro7gTJ9/uAWTGhpAwxDiK1zkcTEKSYP4gSJFOIJhjYMD0hBUkWN+fOoPwIB/PmClh2vbX9+0OVrzk7uBE6Uj/LhJbQY8W+OoAWsm973cpBIgc7XMtMVv1m9k5X5F7nZ5uvaoyfxyiFmtVX2YoPF5WvEYZGszrfiYoGvHzCKob/g54fEEUKVsQgYsHlrqJox3UDRFxZGPTEZdDMHwBgDwByonBuv2iGKAFfmKCM/CA/HmF5BYRQ+DypjRGBrhyuYgEsOL8DqHJcSAWBvk+JkgNCFf44zJjpWRxDhLE9DyRBKzr0dQsSCshX58R4Qxwf8ASZUZW2OJZGykMjfc1NARSvTzG1MhIIw1FkBYJAy/KBE0UyVfUIIIRYOO5TwC9Es+YVZ1Uh7S9AaGBk8mCCkikVWIYDheCLQC4VOCqayZVF5AGX6jkSF7gcBI9ONqWBWP8oNLSNG/WekB/iFAAwiclw5VfJQaROAPiGIILOjpxJAXJ1CwFYAOLXAhVoaAlb5npMNPSMTRN1zEHsJRQ+Y0ppQX4lmdLqHLEBYimMwiFTYNjPQg02eXMp2Iv3jqx8uhC6Scv9gGowjOjocOWUg/Pv1CDpwp8qBX2qP8UZ/IP7nIhmywXiMg0CaMHfUdANLrHfcAiqBDp8dOOCdkf6+ogKJDU1GT5aXxLwz+YNivT8w4Gam1X3nxKOUA7OvKgW/9lqAwP5xp4OVXmBuh5W4C0KRT4lgUloyyIejgAKZAdGvmCrQsb4+pm9WbvA7ggWMjRVPmVU4yNlwIR9khPz34gJxRdOv8cFDosja0IApw3oWcxCdgBA9aHmHJAIgFrP8ACGKkmHcKxIC9BwIIQECCKc8+IMeAA4EivTzNELlK4ErgVzY8mEK0Ci+QHLmEWDkrdQiF2Z5XIuMtQWha4gGsVYGD5hTht/D/AGLinmVJAtczXQ8wgPFihrqAclCj5QUOQ2LT3CMfrvpARYskoUN8mOzSRRGK+4MyppURsANhX+z3AT9xCcwB9uajoSNtjrgQcQPh3nxEmiALVV36wGi/JB/ECWbcb+pikDFPhxROXlY9IWCAEroQKATRrIHiF0QTpwKoGLa/7DgKFvVcQyA27I55MKUMVRPHUY5eGYSOdt4EQCu2jDszbLt8mATQGz+Y9RG9PTwEQAhBoD5hF6WP8gYz4aMTMEPoOStw2iggGjccDGR7efE7Lsoqbq2uRPT2/wAy8COzpxLnrxM4r+3ATv1BYcrdfmIB43xARSpYuYOO13AdIAaenA2Pwfqcnsz6wCkeT6oQZAWu+kIUyDydPTlB8gdcqWMA8oZPCbATGV0+5T2uhFbmQVM9NBQpgMFZpBIJw0LYcIYSEESEF3pwfTAUfzACME64ajVJD4OZih2jZ8+8LUeHm+vabCMglB+ouOO2BWglAdA3wXqAgAEglEaHPmYtYANcNBTOBADnDyOoJJpbFbI5iCwiI1nrxAI3UFlb3BtSO0NhAb0Agnw8QgASFBYYduMABpayRqoywNG+yw4QD4eNx1Ff+1AUbsqfcIO8IMa8bjxoFkIn6iIN9eu4wDLXWyFQEw0sYNeXEKAZjDvbzAMiUd89VKYyHJru4QJHBb143BcwSe/5S2gWGe9wgTwyS1qoYLYj9GzMDQhTAjYEYDKSBr2SwATNnTUJxcHic/tduA2As2NCEEQC8eqi4SQmsPuESaMZcQjyBH0RqIF+3rDsYKXBBEtT1E6cSZBHDHcoRtSfEYYPnzAVTDHAhFBJeuYiQVQeozFwnPYKcBuoQv0P9RsAdK9ZgOy3xUrUJk7US9ZTBC3R7gOfeEh6FCEwnBH4cHQIuH1ifYgY1HyfaO3p6WYYtJge7EImAQQua/cKJyYeEiYBkIAX7p/qPVr85EOQs1+P3KkiDmmjDAFROD8oMKi0MWIcAdnZiVv1ii2JPCMIASBz7J/qHKoQvo1F2WTbqpQM4uyAZpV08XDR4Qs4B/aChklnJA+LnQQZW++oHfgWb0T+pj+SM8P3DyPCCKFDuKwgQQLyjCAQAZZ947T4ha1+4vQEPZuv3CMMKG1gwTzgLbmHEaztQ1JxtRwoRZwAXfBlVx2bzm4I2K6rIlfF98qIoDiAGtwbIR+gkfUIgAyruHBn6tfmA2QB/n9QJ4UQ9zBCTzGsiFAhFtxpYao9B+kAEBL9CREguB5/1CDAGr2ER5h8/qEZGFB+YAAol4alsxQm+Bx6Z/ULpZZPdw0oxVeV+5UKtkfEMAIybMSgyEAdQElAMr2X7gMPgeIR+B1mErdiOlUv1AJtX4gS0P5z/9oADAMBAAIAAwAAABBuQJoJDCl4NwCEcRIilpcfFhfwVHF2+Jg3pxo5gMsxA2JOb36K4++aU1lw6bcSjdJaxR7HqTwMiYl8B9nJ9XvjdyTAzKjYJUTI6/dDApoy1J7r5uWI/YUwj3F/CIOoboF+5oYBXz9hKs50TNPErp0G7PT/ACUyVDhMj5vVSDC+LHmqHgOXRSJm4AreCJyPRgmSk6yLmhsBmfJjCUeP7sNanEDzl/g1J0PrSZfmC3Cdm+nPB11B6tTRmtTnd8lKd4ChSzihQURWOiExe4oq87NP2UcJBN6G5Z1dr3hqo096YtN4bhuw+N5rweKDSJrnpcHPVQQkm6wVyy4Tq38EniFk30XEsiYUD+MXwZaAfCAowp9EQRVmaH2R8LPDy5BP6C77gHyqbDZTEqrfXWFUg8Ze2Ll49ZNm47pIGi8Zk0G6XPQJBFKtzo/6LkkA20CjZINnIedX/wApgOxQ3wgHUQ7DTq1sG6Rj5zyF/GJNWV1hF2gpyYwA7x8XhcdaaAqP3y0Qy4R6UlnYHIOZ32tgB4Fk9aWeJ5lYS/CYXwjOSkkwcvUipCx5OhzMyJeGMsuYKkzCcWjvgISBpAiTsN3MAz6azb2byxNfR3a+8gsHb5wks420Vp/kPKNPK/8AOPDSvtm7MrIXgjsyJY85r2hZsHQageZyX6/GV3F91CMgVEqchjMP8A+g8YKUgdyRD1EPixII8+lxWHoefJMxR1MeCwZnzUJu6hcpyLLboRqm5tL8Ff8AaMUATJQpNLALag3VxfZNxNixsgSiOQ6T0pEM1PsxFpBTOypUGfC5hTIeB4UIp+DkkZfzVVqrZ0/JvvSIW3JnLj73G4ylQZTDCBY8tuMFbRm/e/Qx6DPVpBaYEnWwovkmcqdaHv2etDUpAjE21t2e5tZ4PNoMPU6z9ofpokVI6tSlpw1V6r3kWm+EAPCniWE+bcyzukTuh+X0Pdykj3A24SpB2tJsFHpTRkB2Q4wOuUXObjpbb1JfQhcaIitjeVJtXeJSyuXgRqaB4BsYR6TYgFtagsQ194EDScA8y/iHmMbhJiXCXmE3w60iOWk8wLNlZzodNd7+QxbUcJzbUHYWobTgseU88iABc9+ieDj9/gghdjjiBcBj9A8jf9jcB99/AB//AP/EACgRAQACAQMCBgMBAQEAAAAAAAEAESExQfAQUWFxobHB0YGR8eEgMP/aAAgBAwEBPxB6azHSzWGo3B7wFczBjnMFFzToRC4z6ErPeYgu8M0RoLY45ohI1XLgsNtpKtRTXfOd5k3ePjNEJchrodopVo9ZVj8ksuec5mAfiAoUowYtjh6Vh61GWIjE/wAjqDBSiklIb5z70YNaRZrFlYlqjViYMNIwpUXenSWsZiTO74R7QEs7R7waDzn32lEfqCBvuxmT259zQGAvHO00Tdh88/M01V8pVxAXHnNoGtcyp6J0GXm4RWOIg3Rp35zvLUQr43leCfDT9RoXh5IiRqVszAFiNoR3iSqOgsojYbRMUlwEog0IOLXaUne5+kxBoxCLsP3v9RcjeGXdrztAVbc5mUllu4gbajtmVhz+pznrNTDG6r5l7F92348eYmJtbusTDG4hKCpe/RfGJmWISAtCCLDLFzK1mRKv/OMNIBSi+8vLrvpLLviOtGj7zXdI1Y1kclu859xKGiwIbmTuoy38hmeacEHY5fQ+32gOxy8+xELky9Pwc5rL/Iymf0Sjot3YRgiTGRU40/yMWK3f9iPzzaBeXPCEuD/hhgZd44GsN5btiyDYioO2P9/cFrESsx7HOc3l5vwihYDJHa2sDRlJWCnxqXX7P1BC6FRU7uCDtGS4ohZVBljjQGku2tG7z2il+S8PP5N5MBnABesQEHBJdnibCe78d5YJEpmf+BqDPNiIVQFXbTxOMuPde8KkTEqpaztiYkI4Z5z1lu+qKpRmHO05z0gQPf7ll3rMfs+o3/ZLmAg3LaqAQICOEtaux5RW5D9Q70zPoRGrP0fMF7ecYWI54A9ZcNJE0IytoF9TEEXImY1NksWokjO87jWxYjrFRGH9LpNoLiINRmlqDlnAVgxEDXeD4JhriXNo5gog9ClMz4J6QS1D0VHY+WFUC5hHMRq6QimznPWMZhtT0uOImhqUNxUUjLTMR4OsbBzntKgbnPieMo1joVqpaG7Hk/7FtQwyok6RwDCKeH9mURxLqG3RziBuzXWAaYjW9B6zCV6Rai78Fi3a5/IJqOWkvWQ7Q0sqLR/xQ1YL7IFK2lNbKfyMWno+3P3CAm8rtSNExUAxzMr0wfzF5qbjrEYxAZI8JeQwZqRzGViGNISs9LiBzMR/uYYBAGsezLoiGEPeKlrsRrSIrprCmN5gXEHehotJYtT9ktN64pnt8S6OmFheksC52fh8ZrCUjKVSzzxmGkXMtid5rM9bixIyjUXaNVutO31iLLZIK4lROzLFs7EuEMxF3iMzO0gizzn8iEeec5mFqGUfx+oaXKhr0S8SwKY0zpL40NYM57855RHcA++JWJVyu01nlLDEN0C3SwIL4RCqHOojr2Bz0j1S07xqmNZvHUREdEC3oCVKKzHF6Qvt/jnN4n4c5+4lBzn8gN3SIbGzv3lS7ntEqK3DDDxGYdO/RafMNaD7xkd+HRxArEqIOhmIjnF6xAWzLWNkoHvDVovGFYzCAS2NWSidyotyTJKCorZgGBrLTOJcQI9te778ya76zCIbxS2ogJ7+kAaS+c9pZqrnO0zjJ3hZk5y4G4sqiDiKqJcF6za4mZUqJWCaQG8Uu7bWXr+9znaL3xiU1IBTCWMkzNJglpEFBCHJCZYAxEvE3Dzn3ATqOUxryK6c9PfKJeWKTyFjGunOesycc+INzX5jtwVEWmhDQxAVBTUqVKPxEVBLhbHhB9zszTkpcIGOtTCXg2gA6OYrdAsMcSdiHv0B1yt3CvHOczAnTHOMBIVlU+cfAHt5bkVOB2548dZSEeHz9xYzFFSvF5tMznOdoRVmdHf4zGVNfl/k0mhcYu6Gsqpg2dxN1/qNtuZhZhPWloBkzLbQel1hIdyDXziFMxTDmsu11gwVKziZgGFi4Oc5id56RXBtDBs2QoMaiGCa64ZdjXOf2Fd2TRGOfPMJ8N7aQMlwURAszcqPduYMxBswxu+c+94WYq0mOdmXeYcUxt0e7ugFd5V90RlSU1SmBmKijdqJmDEwmV5zlwuoiIA2GCFX6HOd5ebHMMaxczyjC9JRx09/CBcobAmVXHce5u3ASr0wRerDvQUxKyyBcQ3Fai3PGXNjaBuSYUQLYiRruMaMowjuX1i5njHb3iBu+fMbf22iualKsXFeRiadqZ/G8wjr01ff3gqrmGUuQdZV97EEEJlpH1YIgi40jLOk3OWbjoxF5znhGOgGsIHaeSLizgl2WMIHDfpXOsEMkYwuWKg+jEOqIFyrQ2gAu3zFR/iONZ2REJqQGtH35pLNStYgqmV7EdZlpdCZ48piDCA3cZZPCGZhX6QqzCC9iv3HEKF7wJrCtUc5YQ6DLYEB2guagh2jrWKmkMytHnP1BNOPj/PbyiDRCyXBTelARW/J6Yt5c9ISw9qUY7/MAKJm9DN5cYtqBctGtsc4RjiIlICsw9YDEnZikKlVFOYMq4Q+EFswMsKgaiZSZk6QBbtAFQ7DU5XPaOqFMIxJtBV3Mw3VEpqPzSMS2Ck94qnswAe8oCYh7tFEIOGZTV4uVy+kMZYgBmVFIldA85/kF+/tz2gEYS5r1MmYFzHzhUuGXOcrEZg6y+mqVA88Z4+hZGecYOnjU7xExCEW6Qconn5EL+L8QrCACtYtuZSZjnKgEyudwRTnOZnfFgNmZRqQ2ECZY0pFs1S6YI62xb/4odPCCylhfMbwgHrSXsae5ozZ8xBjdzvMFZ3OcYkIie/vPFX4hr+D6yxJm+EajMQhFLNZviKhVmUMYpWyEasEyl8X4iHR6lTXqMIt1gMVBFjC0Yqgs5zE2mRYStgxXnc6YHZiNuMwMHYiAGWgYAuLQ6xIMveIb/JKoavOfiZQuOhczQV9fyAqZYyhuA3zmYgLCG4Y/wDFHS/+AlBiV3EsaSmKZIsjCs7Oc9Zauod51JcB5nySog8p8u8dnaOQkov3lPhs0l9xLc1zn1GkK5Uaab/UJHT4JnYU1NoZpESotWohxcVAZsespzcXP/FG50vt/wAEutJcE3jaEbw5z+S+vK02mMSkTnP5DFGq1PqIcWeyAXHjCGGALGyJGpoEE3aBLdh9YZbiiV63zB0upQtpK8tnixfDWUY0nj0uV/4mpBVQo4lIwoOec/MuHhNHh/sKHeIaNec/sS6c9vkmL9X1FQtZqJXukaymGhUVu7/EVRvsi3UVpDAI5RTLRhUzFjpcZajYzGbzO8INdK6V/wABmV3l0TVJcww1Al3QOAqJuKxznLh9h5xii35Od4qyFQJmo/U1jm4/qCdjl+PKmoaTDkijDGQjKrF20VWxJmWGZiVnpUodejaVmbdMYa9MGwC38wwfuCxvmYafh+IlTWHifMww8JQwzG+83nj02l6B8ICNFUa2ZqqIV+PeN9XtHf8APtMyCnXh0BlmRHSEqE//xAAnEQEAAgEDAgYDAQEAAAAAAAABABEhMUHwUWFxgaGxwdEQkeHxIP/aAAgBAgEBPxD84MxMwtpoEVowqTtEuaIpWIRMPb6l6OczL286fUvOefuFtCXGLT6iLorEdqojRrLkq3c1jK2dpu894lTQesCG6/so5ySgRFVLY2rAJUrEC0l3+Dp+BCsWpLV0T4gtZZ/kzI4jKDKVhm+YNMalsBbJwDpMdyw1WvPP8WswuUT8iZBllP3RVYjrR1jNdto2LyotUxWrTEqFnVPaAHERRcc+JrYXVVEZzMVBubQBrA2mCCoFiJvcwJdzfCd9f3B2GnN4276zcpXhLOKhH66XA3CWBD9y7zz5lAu/8ma3mC2+IxNhg+4GTViPocqaBgIldY251+4+W/PiIq0cc+YYlR30A6s0pH/OrAGmW0HhMt0f7EmgVKw1US7WH4ztFxLAPeNFoTC8ENSnT4i3s5/k1ZOfvvLmqoC401IWemeevGa6ZOXzwjpJfmADGOnAFHSZJr2wxKXrtMN149pQx/SXDWfTrNFPOcuUetMwKj/3EWs42IXLRxLMoP5Y/ksDNIRAzC6qDBgtEVuOIlh5rLqoMIYJvn2r0iBgFTr/ALt6RbpT7HMRVGqoBLJuKAYEZDsyuhEM3uCdvL7TXMAaTGPhLYK11zn+wtJaypVBR2CDdIDFWkZUGYpTr0PmFx4Q56zBDH4Wog4idIPES0Voz1sfWGnjSMHOawQv27RXDH7/AHJruPrcShTRCrPPOVWIFq6Sk6AjK6vv+w15EDaE6+bSi7ZcQWSY4dG/nDqcx1r5yrUHGdldvqFTMBKWv9il2rDyWXLxztCoS90SMsCxuDeuZVrzlQaWmPeWY0o+IM286+0JXR53zAN61z7fbBfHneb2VDSbk1o4iKotvrHfhM0eog3Y6TJDmk2uIaSqg7sE6xQMIWo7SJaG+78RqxMGOLIFTJigd0KCVLlYqFk1/BUqF1TIEKFddHnjibXNorrZ56zLfjz3lhF8xAtc6+035jGmry56Q2MapOOfEHUc9JeTGl3vAuGaSbwNZh2gtlRZdYZgCtcu3y5cLZf3AiZvCXp0gsGahKxZdpuAIZhO8qLBAXLYnRr+ekMfGOXHsbc6zA9fiHP98/UcYGHnzCK3mneNOdntMU1MnPBlGNgaS73hWkUYjCd9fmYKTJ50lEaYhgollRg/kKZVM16lGVYpUTIwW6Q1Epa553hGxz/YNZitIaRL1IxzBiAQ258TOUgbK9Tv0dfKaZtz1igC4efMIh3maHNz4jsIKwhNj1s+jpKFgyTWyuGuHr/YtTiiCEsXZBOmkCskZvztGW1EYMCttQCGr168WYYy3IELljKsMJVDcy3BWsq2dosDJXnO0bBrmkN7isGFbl7Nj2jp93N+8vB6w0IxlcCIszC6mnPWCsdviE0aca97faJf1mozzDHq0EHYnZHszROY/kHVOvfxhl3REGbrnuTOsTYxl31kCDgcNe/nNBeJoGaq4RtiCCkGBH3lgNZRlc9oIYgpWKVKu4qoUyxdvmXudoA59Mb+NQyDFnjSBY1imDtLntXLii3Y6doJnYgdW03DrBAIBMo6v5ChUfLZjJjVfp6TQ88frmIOw5Rp3uGtofyMVCXFuS51Th6zQTAHR/kDNc5xnjU4PhLsLAmsREVw1pz1jXK6SlpXn/kwCDmh0968/SLX1eHnjHrEcZSpeCN5Xz/SCrvMYLhbXnHCnmJQ85UwVUqMEIFE3gLxHWB5+8y81NSoV8oiCW5fCAOn9gF6JVkQR8/8hX6XJwghhNAjDOIOrmSAISDQsKMRtETKAwXaqNjQ6nyeUL0cMtV/kqueYgm0cYHc/wA++VMian1MAHmYbeOkoLh0gC8hhZ1fMYHNP5LHdr4wXPNIs1lYgGTKTt9ozR5kAbRCVExTzlTeOZlwYTKvPwja8MeUpm5wnQhaxLMxwRiqI6RbzzWBref8ivBzSUlLh5AXrvW4w6ZvWZj4x2xzf1mm5p/IWI7jfPPeahIlkvZ15U19xb0/vtAi5Qh5/r69JdI0JTiyX6xWhXrCjR+5cyyjRCt5I4Ww2QBhnn687hL157SrEYU2YljGfj7gtlCxzhBeebfUEa5cIOpAUgbxAJcuosYiMnM+MS63QwhE2gtZdMdowy7fgWiamfiFGWmIthu5/YuzJjsbR3rH3q4Yhz17RS87Q4LirTznc4V7/EDaIi9IHpKjY3CJdfmFdQbs5ymBsc1Is5hh0RdCfcuB0/2Cqhi1gnRhXMSGIhpAx+RXU1iBupmBpIuBQ9T7iddh7MOfH6/ko46sFyx1vjhO5s+Xf1mOEwLY3Fzl7R6L0+oWqVRzzja5zeBq6wQARfQvzI2qLg85cBl3lA3zlQNfM+EAOdn7gqd2MfoMquYXUsrhaXA4qUtZjqoGIhbBWjKcKlKWIuribhYIxro489vWdVwXDm3t+HoDT2mQnPOPvrEvD2mdDnEgJ0kTlvZKACVda+aTz4QxV54wUjXnP7+CRS0sMcec2pPwHoEd3q89IPf18/gMxFG2Z+pNDUWKIDlzaXbEuELjJGYhvaKhUFu4yTdX2fMAh5+UBSa45tCCJiCzX1EbCWoeXPCWl7/5MD1ft+PxoPctc84QCePpBCZXaYNHOVKDzmsFwIBUN8MEbjPHSNjFtG9MQO8KgimOTBxFbiPhKs/KkoaXlwBRlhV15+ojViIKOs7u3Op9h+4ASrM1ihrFy5Tb/fmGgvU946sKh4vx8yo8kGE0G0WWzBaiXZolXnaaoUSo6e7zaIazJmIogT6kXXzlSrXWHEtrhgItfhaaJk1jZqNlMw6ecuOOd+8xDeIswSvn+xF2eX9wkDhmkJlkYMOrHP1BYvU58XBHMNB6PufUuU5zEZTt9x0L1PiAUdrhpUXoqBYE3jEcqZr9fuUy/bxlFPZ8Ra1Bzc8pia3tmW5NS3WEEqZqVe0ub3zaMiVuOUWsQsBJTGQaPa96r3jIv9/vNImTTnP7Ndj9IILId4ruD23jZPMeGzL76S7wDnrLVaWho0i5oLcTLC0phZmWVnmP7OhBBKXEvwblvnSoB0g1PPiAg4gK2wwo5pDHPGECB+NolxgOGYFMLZjBgoL7c8ZUvM3HabjDFfEdnOZ/sNNU2lm/Ht/OaTvEGMF7e0VHZ95VJ1+pQTm8u7jELN46pg1/sFmYFZgsh11PPuPlAXQlYplHfKjPOYjsQhjEalx8Px2/CdeaRyzAiGVlzJMpmIXVPL19o3edY1dc3lgccY9dLZ6fz8aPqQzWmH1+5Zb6q++ZROsraEZ3lQQWQ2iHFc6RFMXlacSy1jx5m5URz919/iFaBMSyuVBPLG6YQlRXaVf4qbxI5/DdcDCKg1B94IgFWZuN94AKnQ0j2Hg/H1+DPWs8ekNFNH+TVHp9zAdHnvGe5UXy56yxGJWxrBuu5iLZxmYOa9Hclo9oRuMYMslC4FqX97pF4VUNQfm4UymVE/CNyrm9ESm7EZMpNPOkTZ3fLmZgXnnNtpzn1MJbNn4YacXKsb87xlHaW5DlS0h1mA1jBUyp1SYkdYZptzvLFihCmSeKTRWUaMvzNITfEvpAsOn/ACxM3HSI2gEzOBzaHA2lF7wXbwImrhhbpKwXz+5s/P7gRpp88qJg68+7gGtUAqGcmYttXCBQ6QybHPuOlKv8j0kTAmTdzTEs9p3Q3kLJk0m/4y/LHM1jHOIsZl6hBY5y4BpGmszSRart/JYL551g57yl1/yaRs9YSnke3SXheMzb5r4zGIWZI20RT3/xgGIqiqEhgBRAAQwwQEqXMQ7zaBTAqLW8FsisibhHSdIOI6QcxOsa02x8xoJzWdPH4mcIuekTDwlwGjvj4mf6QCr7/MwLgL/UFFOZhlPZgMecz880ShP3NUTia0aiC5itTeDDWDhiZ//EACUQAQACAgIBAwUBAQAAAAAAAAERITFBAFFhcYGRobHB0fDx4f/aAAgBAQABPxCIFgmmwwkO3kiiyFLMmC9cFIYMmVsXHZxUQS5QyeH54pIKB3V0mkcFaKhSju/WeQkAlGU7Ma9fTi5jZmVLZ7dcvJRgig2jd/2eMiCotXkeBn/eIqiT0GSXMut/HAFYTFlUV5d9fkAxlKEtj4prx68FwAlgS5XaavN8GxafIJqgufb2iSOTME53OjCgx+cwxKDQhmHZO+p88UxQosTX0xfvwZBEEFJIlGMtD48crJIMQTjCn3nriBEQiWKWOjx68iJBlJTOtuX14IHacWQ4l6b/AOERlmFC1b3tYPPI5mgZghNyZZv698mlGJKc4cCCwzFI8DZY9+ONGZBJ0Bgd8J5kRNy1k4gyevHEAXAZmUO5uDllkBIkk0Ne3ErigrBgYImuALigJHFvtan17ZBCWKAZNRrWuWOgZyRXMm3itcxZOZKCNRq+eNQmFJZmRYKK88EMTAIlJmRue+W65ENW4T0csFsokCLeXJvQBHFH1Sf08ODKgYSSUHTHpxwQql/J8eH5pL6qeuRWtUwpOM642QxJoQWI3wddEFZAV92PuQSVoNZRb8DgU1qhWMRkw7zzMRgk2V6DvgsIF2gOxfcf8jNE1h1oDHtZ64rFhOYjd/r5kDME0JE7ns64aDDAhMhm9Hf6IFJUlpzaQH9rlZs3Als2IefrPCwi6bvak6HBwWkRCGO04PioqOMMqZAUHMMelcAREERndcuN4/bLjVqSZgbubV1Nz78bRkAgJr0Tv1xXCQSFJknN70cCkowbMdO+778sgIpCC8xag766zxDSpR6EuuzpBGaqWSYLcwUNnc/5wYjE6ZOzwV8e/EiICMkRkUtXnzPfD2WwrlQiBPFFdfE9VOEzC78OLsKWVBt9ziFAFckK0p/Y4hBGFLJ2+9H9VaqgAml0FNcLBkZCNrltR+/dgHKgESIQQ9RyAAgNoz5HBsIFkkOjryvfyFnG4CJlqdnAJJQOk89uLYWioVFYwExwENwiDCM2Ls4TIxPuDaj1/u1ltElm+kPX67wQCUCIAJ/l/B70SFktAwTKdefSZXGISQF3hhu/ykNWsCrMr5yMemuB/I4CVgg6vDH4HTDphYGGe3Pln5vTDl8hY1e/94oUyjGxw0K148Uxi0KXB208P7pC6oCBY3Aypz67m8k2ARVmV60PL6qIGCEQPJsyt+HgoJTpjLEnCrn/AIHSct90KFvz8rqRIaMwwjNz+1u5YIAhFKUR+vISMl29giK3f9oSEJBcibQNHnc+bYpyLQiNr0h74BTCJYEGHa8Pj4KyiCMiBe/w3HAQVcFAfZr48z6l2MJSoK9U0qsT8kDGAkxwB4DT+KAqEAZPqDZwFlwZOKcHN4nz8pEjky2VbHR1x6AA3B0fXg0CxdKrQOANAaeV9eF4+oK3QeWL9uJIR2E5DT15rv0wYm2ZSye11/HI2pUmATA6nbxARClBMpF1s47CMjWBcT1jjkJhVltAZjFcsXyxOMroSfJ74BsSi9D6vf8AvMugbasY6m7/AAwqTCOkE5Dvrx7cSotCvgUOMa4yJCUiiSw/vgmAUikyBvN15+YztGEuFZB1WTlZsZC52Own+nhE3ZtUGZjvgPlCGYMg1rXh6pHFpMqhmR5dcuTaqk2cPTP+SB1IyByC0CT9OQ7rYSmVQ+hPh8xGSoSFJNI1rjQ3Fvgy38evy4UImQdAfNPB7JFeJ9uge3140YZBoSVZyjQcngmJAQPaqCTv0kWUUAXCVNK88ESIEOXg9s5/wMLMTK4rEOCYIYdgSh/s+nFROFil9G+T6hSQRswpr98nAQGCuJv15JWmClOCOuY2FAAlsnRGuQokIJQxiDvxwnEUiqHPaZqP5mWiJaQkYD14oakUSHok6M8YM1wLB2b9+NIGF1lo9OCgIDUFDufTkwEzhMVGk9fPCtwp8XEK5N8LJJCFM5CVMyfrxIBChFtI+w0P94dQOpsCwQy+L8wmjimSEYe8mTy/ShxqBjAaERH+JiBxi2DW0jr+TJyJYDkg92fPmEGSwKVj4JrxyEowIkxyuxFr28ciBEslIbcQ/XiEQ2TAsfZl1kvp4oIyEwGCA7t/dKETQICgQBwCQ/HjlKYRShNHunjUajkLzAkCVO0t/Xy8IkqwnAw26i8f8AVjwgge24MY8BrkFlihKdBaPKuAxRU3k5E6E0cjNO5CGmNL3xiUQuEYgPURXBAgYSASt2Y1HAupwkgTmyLZfnzxQ7RBSEyYgCY8evFyUFYlsZs4ivTxzQpA2iaB9b47BFCkssSmk65AAStGlrOVeAdmhqQ6uuEcQSBXF5f+chQQwFD0e+eF05WaJVh7dcjkqhECaN/QZzgK5CtlWdMnD7cSSxN8W4Q0NH9IlkKOmCo2XyWJe+HcEUAxbkM0hCgSa9OVeOFAzhQFlpZn+TcogBrESSYdUuN8Di0QCbe/AP1EN4EpykYB09eNaSEBObJaNxMfeNnGZCAquVivLxRg2Qi9dMKTf04HW2AIrZHisdcGiXSFy58vLz5lpYIhYkp1XHEKFRKLFvxWPsxnyXNmhFlXdX7cChIUTJ0cG3u+6NIolzBZDM6/p5MAyNgBsYuhh8eyCobCYKbPtXXtwUFwGSn37PvcxAkHBYmDo+PzxizcW6jMj0R7aijIAtJotAk/g1xWi0wkpgZDrz68TcwIkyDMraoXP74rUViChpgjX760vAWWouzHB6lKimNUYXf8qyPLDQbBoRnneAiohv1f7XCKmFTMMHIvIREsTsnx/eSWSASqApNMb9eUoUJvYMXrjKmKBnD6C7v7zORCCMlRnHpxRkMR2hSSjtSeF2qJEBmPDV8kSRpzd30j781V0p4NG54YhkMG1WYeoj+14EckB0tag4ZklbjAWjp99+78LgIyqoThG/8AeAgURLxMj068GqZQmlCh6d7+NVwpZq5CZ8Pmu/d6tstLeuVv54EBQShlJEGIpmfeooNHSLK5GrxqvTjsYrylPYf33a4ORMWVV9j88DIKJAIbEtx9tVBLlVkygdU2417DOSyGmexqNxvffCptCUYNgaTR3PqqTISDLqGvLwYjgpfBosIT+P1+k54RRJMkDiz7zM3NhAHGZYa+Ar188mBUBSIIo7nzXwQMWiTFUmsGY4VGhTlWTTivPm2aYARImWEd69eNHTMjvQLo7/guaCALCIR0dR4jUDEEQIaSmFZfPn5sCsHMdEdQd4eMzJD3AElO5/HHvwoDQ13nM98N5KShIxtnBWv3cGBNIIYWyJ7vgmpBJsdv04c6naCRRZNTf245HS0CIZlQ0qzNOMsXhwyJyNY/mRtxqRju9qX/AFJFVGUHodbeMcIA0k4o0T9OQbABRQ2Hu+3349tGtKjCtrGsfEUaIFpmUYU/g4LCPAaEewDI2XXiWLoPO16vODhjrQAWsPre/aoxseItF4mcZ+OQUWkZR3NjJ/yYqipIJCXBkxJwHalEmxOvSL+3CYAAlA3G3b/ziAkXABDp8DaX+YxuqQ+S5GyAzx68xnCcw2uJvPmEXWnIgQE3eX/OBBQtSGXsU+IPPJhh1KJfL14ldEkSHYppP7wOJKszKq1lPjiKqnxQ+o5l8eJm8lNQnJ0UcGw2sACwZB+JnzFzYaxcQAyGca+F1xhUF9OV19NSiY1yE0fQ1PECIMgku/i/rxZEmJVyUu0jklJQdAcUww/HjiWkDMGGWXxwhtAxEYarMvEgiCmx6InliQYAfC7e74AkyQqU0qNiNevDUsgIqHcm/HJQhCXmGQDXMt0nCM8skfM8JoGZV2Ed/wB6QCKhMZGj9R4+MJIwhSUyrt1Xn5h4iG6tcAtWXP8AvIMEgh9agBnp+QatssZrS8Yrr4SrFggFbSO/7PIwhn1jSvhwfPc1NIqr2mLsP9hG9GRCvBODCtX6VCtFZY5S7qPn5QiKfB4hhn+7ZBRLKNB1r+0lM5GRlf6Hkq3iripGPNf2WrFMKQkiSdA65qgLMoGYbZ+3wRomzUpzfz3wqLWoxsy+j19ONYgSQIQUuwueLILgReGxgEeTruCKgJEIox3H69eALE0gKKx0NX6eOTKrEuQbp7V1xiKshoeHZM31Pni6QEitWfMr+nis0S6bW7Jo4/c3QcepeMBg7TAUg9RrmGSbhO1qb5EiSTaoJgBs/wBrlKAwqoqGV617eOTY7gkEkqjarvqeDHVkgZYHqNcSJQsaUu/9+OQalYYEUdzl64uBbyD5HE4jPfIlM8wQBHKz8Bwlg2VBcAcPPxx1GjWYE5/H+crYsApZg9W/XhN8IrPTHRvhayUXr4dmP1wSITlFMBDkIz/zhUlLLLNwnp7HIOgqJE7Y3XPfnjGKqkhZZIA+QP8AQ8kUDqy8xFcmLhIUQGdOUd/t4VzCgsVY6IF/vJ0KkhUpQz5/fIlDcsoqtXvlSa8GcZJx3yzSXW1DvP4d8rXsMRKZqXjqscDmuksNSZeDX/OBTKFlLVJ2RxnJSlooR0cpgGrSaejk/sFeaJiBQ2e3hxSQRQuAFgD0/N4rEid0fL15C7ABukQBYTBPg1EQYyp2g90GvH04ABCDRFnu2vPz29JcHRaRNAqeHQxmVARIGaxifsAyxMkOADC9z44mJAgUgv8A0yV82SQgMjQ3Hl5mAUYYbaxwIbLxIrbK75DaWUJuuuO7CwkwNsbeCxcQNwMR4eAgCCQCfKe+JQGGaz0NjM/08jrFEEOYBqIh+OHyZ0CIS3o7/wCctSgc5TdHEs/L5nKt9CoQ3iAv5c8dJLUIANpLIa7+nMRiEBNQmxzfAZreWlt6Rwg/WQDZ9enXBxkRKIEVkoi+saFvoEMMynIEFPHADBwoNjYO/TkoMAjCpnBFZ4USAgkMUwS+5PTkagA1GdBbnNzXJL6wIK7aLTH8zEhPBg0HbavPClMguIBRClEf2LMzeSaOQ+iz/FVZFkgNBc+SidzaUjKoCuXY7UzxhK2wIhlodz9tVFShWkkzOrU1nx44ZbDBJC91IeM37ggGxQFQQ2Kzf+8WcRcsJAGCIDPWeow6oBqyyftH6OHDAqJALp7Sd5+6gthTRGjom05LIM4Skqyc64mSDGJOYAqx5kiEkJzbpX8doLCSobO+WXK/vhlKAMeAiBgv24kSRWA57iV0nvySmWVYDGIjI9d/HGxQsIl7UzGYwPniCzjwR2jUo2a9kxIAMUUBtnD9OHBKkyJU2FQ8UaGbiMg43h7p2/XlDgiCclI97cR8BVKEAXZeHZnqOAAlAE5YqeVT2HUDTHCk2KeolzHDRBhmEBae2yf4AWnADD9DvhxSJJy7LOKXXfyEYgTlEiRyszPfvyDexImVFBwG72PsdLBKKRBg80P+cbAFw60KuNnCUmlVGBtW44SqFYTQkYxsjgjVkAlmEmBkqNcO+KSLZhOvse8olBSloxVed8IAkwgLgzc8UliT5EL9F+OJuyAoEYu5CfO3IU1QiUqjAA3/ALw2Fhq6gbSK0X7IzTKo7k1B9/jiggGchFTjH39JTNhjElMCZva03xISCGgFJgGZ19nE6KWBJZMft41ycyCwTMgH+Jz8oJ6yiTyp8YDhBlwMIE47v+6TRxCaJMzUmq5J8oFmU3/P+oTCAukmlbvrkSiQsIQwp8f85G1LLaBiHUzM+fkYBUr2L6jg9jFocMKm5vP4qfNeaVLd0Df9HBBFpNpboxRF39WVyYooi4Npudz8r03UiyhHj9TjTFyURA7e3XsewChHEOuw95Hz8rWoyqfXoMX9eGZfQgi2ejHfEwKkwghD1KKOU+CogqwnCpR7T78gkeUCOpfVwneXE+gQs0s8Z9viS7hAmuVUeyZ4dHAMxCbUzDPp4mQkBDCmA6D+8myOUnhZdqUeCPQsjENpCVDiSIsVUpjpGL8e7XVQABSQuJRPv8j1MkohkAcIaxD6hzpAMgr5MntHpHwJgsFefbTuveWbcIhNqeh8+6YQiqmhqVujlP0UH2CBwYhn+o5eqpOSbZn972gouDEBODuf+eeBsgZACRcPD+8KZQ0ACT6mI4ZSwJCGWSN8CTOWgeVun55HIBQAUN35zybAEFm9FIfbXGL5BciZl35rkZKAiWkw6Z+X68gaKXC49ZIL8/Z4i2eL34c53w4wGpRMJ2q5r9yS9iQbSMETXAXhBZdJ6q+D5edbzWGV6N+3JDKIhSqXFk/0RINl9LYoOhd9moljU8pcJNpo1Hb5ivGcQC0vyvP34gWIMEaI8Z/rVjAdBs9RRyRYonoGW7p93PJZeCly5Oo8eOFJZINmWtcAYMABiEHfJBJWZoiYyu3hqCEXCaojEcOUBCEh8/2uQELMme+TxiRIAU3o8Y4YEDEiPQuVYIYSWpzKO45oSkhE0H63rkukyqBYmmALnx3PEMerSlrZE+3EEQHhHQp8hN8AsZigNzDZhiumuBkpgwgUpkk+/ryWTY5MjZSh+uRNxgZMue7qswdHAZSQthSEI7fnkEOyBgU2y7hn+zEkVoVJm3GWeMDoBEtBarvCeOBWkxMWrMuHmQQskmcwx575cE5WQOYO/bkAloaNfnhBuKZZMQPiGv8AvBmYik0Dkrr+gY+gAEpNHmf2pwssJgiPcP08S9CWpJBgpZlL88iHNSnKSWOSOv8AsZLHMEgORyYaz8cLqArXODUn1x7jqmuLBE+Ea5UpYSkhlY9zXGlEiPXEXrH44RKjAlrVJ5WNGL4WDlu0d1h79+VZw85Fz3vgtIjflhvMlSFYxjkwKQnMXW7X04P14EgAx8S4xm88VahuBW96jh8EDEBWHUew+OAdIYTDKGV2Qn9HCjaQsYYHebw/PD1aCTIlhOpfrxmR5QgwzsTs68claQpOEAZz5/5yNpGCy2DnAGnzxpEZ5FRkeZfr68AYkilCSETYz/EU2JKIKHuyR/nE04oLgB5Tfav14hjAyhgvI6qI5EEIDIPY/XHfBBAMpXU2COGXP44/IwkCwlgjDHCTBYqMC3JlfTvkE6wEUEIM/wCH6UFMlPCiRqbPS+YESaMZTs5/7haShx1SYInGJvk5i4EI1u048fRHmglw6CPSX39uE5BIMDCWDFUx37LGXBK6lp7d8mxg7UMH0qv1SBjizGJnaFRrPCrSA1C6OZ0QznFcR0EjO/sJfvbyINNgWWeS6p84PF9NyKkRQGp7xXGUlMnZMKTE6Nz81G2GoWgGyuYlv1ihMlYRZwPg8dcd/bICYI6p0cI6QImgDAnh3xcQl6LXHWuJPKAwQwgeeO1xkJiIRJxJFwpER6tc36AkLXuae55DAJBGgO55ndSE5VaJngbGAhBPpxtSWVFmk6R3yCROLdyMM1Ef45DCB7YSurN/HC1pAULLNUm2Y+eT9e2l2llHJuuB0Aw+PAyMvjxxKRAwJSYiXdpjwVoEoEmTifeu7/PDwCJDiTGiC+CeGLcgx51MeN+0AMqACScDVN+nKMzCIlq6Mln+giiQSQqDIi5W+QyHUFPZ4O/4ZQmkEVD5fPpngvANq4I04YQGUUNKJDczh/iqTQoKjt2Ij6dVqKMk9s8Q++9lNlg6DYbST+vgaosqAkQ0iRfp7GkFjKEi5oRFfHTBMRcQFp8lf1LOQLTD7DABPv8APBMNKWIVmeEElHkBNDBWJvmZoMmANEYTx5PU8EUEELezRfXCgRLFPEaL4EVDlSFrqCL4fiqAwxEtuqv/AF0gISaGq6ORozdOMruZV/IGgEEc6JuzE/wJCHlUHmOh9J9zxJ1H6hzLxXMYca6DHbgIeUAXEbTpivTHAbBwDJfISf3aOzKCExamgJnhwiQSTg5O5r+EkWAkEpLETvp/QQAlFEJLlqpwcZ8oYEHVjt/fcruZnSNRYiDevOG6Ejm0yP8AHGD8juoWWfzEPIwgKcRmo9C389ySQDMAYfWePRIJgqWag21MxnldQQkksdG6dzvZBgzZAPCMzxDTFFiLPB539mg74whlR3o652gBklgd7X/kyJ0hRU9gR5y72kIRLXz9j+NTrtThmuyBZX4IT1SiKp/PnjJiMiB0ZViJPsnA3QWkg0A5ARTvzhKmqQDb/rmJCRNuIq1n+3OLWTQWJqI1+7KyxUO0WblX+KJoIADYig9DioUjEDE9fsNT6cRhbRRgXudTwQNIERLgd1fKNZZsCT/HKTQYIq6HkheYSaL+lcjoUXthqDScSXILCuCUcNQAyIWUfvyF90aWK8ciFZBM+8vXDUGQBbJ5FtSFTE6Hr0cMoKAXBrsznkUgyZIG2Nrnj4QAmtkgTcT9eKGRGtMl7Kx/krwEmFWGG0E30/KqsggfU+zWCHzxBYk7ZQxHk3i+AoqJYlPXoH2eOFIC0YWixGoh4AFIRGQaQMqf7PF5gO0F9g0BwpUAioVd/jycXMooTGGiOuMBtRont64UBJ0CEKcETf1sFoMwKqfJdW8jPzCGCkFBmUVLef8AJ2FaQmgyOncnXilAtAhqUHEYj09F7MpI0jBBXn3XvPjBZAtAaW/ipBAoLSblzN/1cPBLkEUYjPtyatliwRdjoG9cYdhIETcm/CtsbGwbAlgcAVZ83yUkhLIUx+HnkwlSsEyQO3rzfAIJJ4+Z9uNNGglolk0Rj+QkwFACGmJc19PdwpKq5CRNjXn5FG3JEApRnROkj0TRgWgwY8BmTfJCLFwhCsI75eBEBJYcR0t8libm8S3o0Y64P6hEF7a04No4qmQgIYk7Mzi7942wBEETWjSGP6UoC8oFNRtkX36xaQVAlwwqA1T+HpAMEOKbmdea8TJNZgdgcRsfHFAECMCqgPghc8ej2yiYTJLmDPn2GOkIUge5fLTFKwQuZaA159OQACT5SYO3y8+eBzF4IqREdHEaQaVrFP0T46jimb4Esglhwy0T4jgQnIiblPdjF+eaZIkMZpm2T/s8quADyghNGF9huONRpK2AzKPf64oI2Ca6vM/mXh4iRU7j1AXfngDCNMQHk6vR+uWtcx8++C9EeOaREQhmwMQft9WsggBBNJklJmp7l5FCDATGgchQ9uaz01E9XHCT66RI2LX1178b1solBk5IwkcZBIQlIGnkmFjFQWcPAmHkClAtkdYAiV6HriPIqiGnyftzVJGlt8ZIJZEkuQ59+JJKyRBHx44wmQVJ3Ai2euLBsKGEETa8TxcFCSEuEa3xwjJI4idx2ciaKzRGMRGJcKPABAz3AFPd3+GOohdUkwKCB6cSGKEYLGBmX8+s1ksIwFCUQ6an54SUQPY2RfgK2HtDABlKRwh++CIQCmIbE9Zg8/JskSAJBy2lyQlpHGfxPjHwUZNhIKcrw/uuKTKH+CfL88poFUYJXcOgMHBOI6wV52t8YA5CORMftavgEYBJQ7A4aP8A2EySyk4Vaeip9uuBgqDscEgyBrdcNgiBWEXt28X68u+JBM5Uehr/ALwpIKBBGLaWTREfPEqUii+Jh9z04HthM4bZlUfidcHWolKQFTdufThpgDWEIYCYv6VzOJIYoDaU+DrjboIletseODCfFIqQDbc8B6wgrNpwoj8a4NGIBZgjsmL11rnnjjLFL0M+/nk5RkliWETe3188FRiLEgoA2xfPpiACeSjARUJtzPfB64ArSV7/ABxRmgXQm54QlkqrU2RvzrhLkhJIkAGErgC1DDQqZlgIn6+8QXbKShVE3JP9LxGA4GlMIh03/kXVBW5BaNRoPTxAjQkpRAytrtfM+oxwEAAhWkTBHClzSgSBCSNzrixOQk60PEePxQdGFJkUTPQtI/kgipiTBsdj/dvjIVJwq0QYSsR+kUJQshTJon7P4CeHRlQL7F6v32aI4SV20OgX2Pvi+EZYXMO1j7RqEiwgMSKHU+3WCMUChJ7z2YrHvcYcGHV5Nz6cUpXXXtgZTXmyeGlTCZGphtB6K9gFkhAS+SnWf9GW8EpQ6L43390BIgxNmDKYb1P+YyXhBjEVB6vHZ651O2do/o5IynDnxTNrDnvhq5Qoh2DVRqPWqX1BiIQJTREcShQJWSYhgJtfTj3apFWW81ZJrigEgLjkTsYn59o9uaSjExmM45GGYxW3pZ3wopElLALEpWcCYRpkQHHwXwMCIlEEBH74UpZUjLeE8O+EtYsmsyXOuHAAgmQ3JJv1eWj2t0eORmWIrkeZKiGTL2Qer8xSqwk8N4Evf8r1AkRWgp6IXix4VDZlB9Scy4T9QRCxAEwqcezHunuLlGnRcun13y5gIXDftj6PsAAFAER6AsjfIvSUQe8n4PMniQMCpAg8B6/3fHyhdmXn2SPbiRQZSw+ynbx0GUSzb3fHJiPjMoOR3J/aASCYo9L1HT+IGBrMCYldNERr1fcEApJV7gZJf121AvChkKAqnbkvwMsTJQHi7kqPHoGGAnQ1D3VqHv5IWmDk6sCwAv8ANqSzQUYZdz4H4ih+xpf7jGYchIMLtZCxZIr6aTFGXKRInLKbn754A0Z4gg7e7xskEi0tt9OTys4CoGWHzif5v6tYThhdA7791Zli8DSx16HXVh9EjgIiUfTvr6AhgA7Um1MkZ9fNkIoUVRAyN+OAkrMCL1KQ5OMwNAltDiFwBRSAeEyjn7cy4ADh5+DP9bio1mA8xoZs/obSexIHA/uu8VJxrhoiZh6Jm29sLuAtHUluzlr8slYFEkLhmP70qJMk0AyfM1wAmBbypoG335OSpOojZV/k/MRxBZARHqRJm8nFhkpC1sdeZ/4Q3MrRkMleyGD2ialihqJXSI2Z35z2WQSVck2HEE4j7wosLAdLnBcNBa+IoLxZAysIMMP73sRXQhZZJmoYgv8AOuSHCu6drP74hoAs0NxdvL+4aoj04hq5hrxRZJRyCIoRNSWTn6cvkAlckUy+NcHHiViKGD5TX8wBGIrCCXojrhxE4FntTHjhuAsknnmJm59u+V4hygrhP2cpqGoTQ7nRn6cY0pB3nAG7+Z4mSsuejoYyeI1QqKSCoGVdfnjsRsnmESjogn/TiZp7OlXfUeOuUKEaVNBqZ2fvklWhKTIoH3NZ4EMIIItheoXjU+OQIsCEsqfR5WkuAy1nikjYXDaMrySnIAzSMFy7X9cTZV2EkpMHvzybGYFS78wS/PnglNckoGIBjB9OFL5Vs5Aib12Hk8cmIJksiHgsP34oMmBUdhYxr/vCAA4hCCaeT5vhhAMEonbV7HjxwNcmJYkX5H44Qma1jOsO2X+uYeYlsywSKYAINY74EMYqN4Wy5Vx/nEhTYQjWuCDFVyAWMrg4ixIgCJAIoRD8eOMcizM4iYD0nx+aiqChCQk+bz54rgwAhGMzWH+wATfIN2WsiUV/zgElUJJcHcoy37WzznIoKqwaj98cVCCuM3Faqv8ATyLSHAiyFcQnEw60Qq1nwUY5OVdo1SURYk9nN8nyIRaetUH1fPBaMJJAy9Jr14gytIAh66vk3zldCEW155OWlw0KJ2KJv5eD+lAohR7lR7eOAVHbYNFaIddnjiSAGYEJHaNT6+eBiiTSlJgsQacXEJEEI0Z4I7kjRlhryODDyYsXZK9cGYBhbIGFAEv1+eTsOGCQNAMQn48QXBBA9t24TX/HIzEkzhAOe2ReL8yLCGiASTKOr9uOEZAMCjJ+nAtAkJIxOPPvwTChoEleunfLcqmhhRu3v5zxvVKeDVNIzMcZHPRUn0AdY+0VZogChA2v5fMxyCjGMyLiIjlOt4nCZUZw/tMqgQ2EC+yZ66g462JyC196nHG05AE80FisYjGeGxICjoWFQcDG0mknupcR/wA5NRSQBjsVMz15ZCgRUICPacY75GkKztyjMycMHSQHpeg/0cPBsMCmWzAHW5rzIAQLBEYYLssv+8ohFDldA9vb78aSEYeD3E36PERE0XAPDVffhRiiYi8BqD+ZkuKklERlyFfxjUjqSACyQm7hv7cygjCAsyuSZiM+13RHbRsBMyuHF8kcwAmsRbry/TXnuCkXLOOpPxyoxqCd9E9mZ4EoGhkxYhRW880gC1B/p9eT6EWBbXkSpccAqVNEf3kTKyYGEiS9T1698QVjFidPANT4xqzwolrBHfX2Kjj2Q3kEAS5lc4ng+kWiRFNYFnv7lEecAwb7LOvThE7CRadEGkVP04pxJKCBhbZf92qpufHYQyrlOYVAkA9nVfbWmQwsLOlsgvr29uAlSMksRHQH3enkg0qAV7L6j68GKB0IzY2/r4lOFoahLnmpj33ttEoYr2Mf9L4ndBQpa1JgTnrrImOEtYcPQwR2eA6QlVgwDa3iL83JPCCBQ3MwA9bfkSwVAABlXb0dZ6TApI2loZkeeuMoRdCBMziPXvguDRINiFE9Sa+vImEmuThNkNs4j3BbqjGVXgvQdfBsNWELVp3NcnIWIFEuvpwhDOMTLOfHIEWFUZiSIVL9sBWIAEGkjOBckPtse5gAVwsbL7fmCAKpAU34Bn+pwU89SaxdR9NDSlAxOER43X05SiIUAq8Hgo2hcQZe5DXj3Iky7XiJYkip1xzDqAZy1OA1+8LmgEEjFuTt+/mW9iLHFJwCNPY/E46WJIpcsMshxxspLoYQfvyIBITLvs69+QwlJjNsRiPvwZgH7OUWVHp1PoEAE5mpq3v0/NyigFcIwg+p493oKoCIcEqAu2Av2JOezeQDyGA9jSEhXdWh5/OMTIUAqjlmiwDrvzKRhowQoULm1hfb4R0Pth37xPU945GZnMGUukd+lWcJ7pJX2DQ9u8s8OuibyHXmP7xDiEwAZ7M3D68IMNIBlg6CHtrGFnEoAnaXQd/8mUpMbiMpZUfGraPLrBn5/ojhlIQmjlG/HW+jk3wMAZp2Jmvnk/AuAvhGZg37+YDkwJpMMnbNe/gvh+tCKI73CSqe4pXSCHVjde2+GyBUzbIbUN/vhnGHQBkgIYCdfTjVhLQnacl1e4OEF6hBVwGzgclybZTS5SEoSgk4wHnzwmU5IBQYA3fXJBKYk++gK4ZWEiEgMJOSZ9JHzBwKWEZ0cWMr4+ARSaWNN1sfL6cUA6KhWBDvb54kSBNC4jMNBPUX5iJSaWwYhTUtVo+DUq7KNJsub/XM4mgSDKcQY+2eDI0CqTh+b+vAKpLcCzkPB55QOgkoOxvzHEK6DJCT7Hvk9AD8gsqCGv8AvBhogUKGpe1vgVGUQJZ0H91xyAGAIIWOTMP9PGNYwswsR0G568VAQYxIgZlc4J1r2lxFASlNNB2t3oPcRwsh9GZwASR/2A7UYRZjLH5v7dwwikBmBOCMGMfriiEGhcBJhT8eJUbUEOC60nfnipNltEel8NMJoWHuTwGskYmAVlSY+jh4FISQsZarwrklyqPRfvxFEUQZCa8LrhJK8SDtlQaxquAayibjVvaa+L44wEUnRD2LjgBLgKLIRL2DEfrkmubAiUjffJ1CAUZjLQoNZvhJC0EXhZhP7HDEEMQZVYIdeXi+9xwjF+7E8SUGBHAYTud8JQVgBVoOgBP88FpezQJvovjglDKEsNGaWuKwq0icoXfXLQIcUkmpPDwJCnY7jh1dcB8MrKERWdwQGuYvWKAo07TM+XvjZBJFSVT4j78PitRlTC9cUenpyUaMT0htqne4xxSqJ3SQpJh48Pdx1K8HfFJzce/JwjIaKRDwRrxPhikQk5zJ8JWtQcoX9YjxIZn39ZQ0ASTKnEtR0ckYuAJbV9fb7EbAkjFSXC06FLj0ONI5GiF7a4D3z81qiqqsodk3frxv5wRL6+IN6jkT3kUp2B2So92o5FCWhEMC7vG1r5ijDkY+jEKPdzyJ0SJKMdpiv6FGphuIowlaOJF1MKLKe1Vr7oAWIGlQO0TWuS74iey10R3qPhDAIgHwMbxYZ5cgQJKuq+Uv/ZjVGSi5iE+j9540ZtAJe0t8YosK4JaR6OLHgrAxCKeuvTgAGJMqFlKLucvDwhCZMnWWK/ioNDqqiQhZ6cRwJYIAl2mO339ZGjHCNisCJoD/AHPFEiUmoFJR92PX2EBGQEQKDy9uuQaNBdndYa3nzaEYyhMUcO3L98jGUCxJbKo6jP8ACAohBTSdvnkqsubmQeB33yU1ZwwKjtunzxSIDSr2Z8x8nwKAHA7KiMf1cCBJkEwlPKaGfl82EkiECs/AYkma7hIs5UQm002dH/KeAFbAOD23r6iWpEXPQ9Adb95FgTJAojO5mL8HsKomZMMVDYkKfaoWYITIzMiIhP5uVZhhUsiZLufrnK/oAij7JEJ7n6QFAEldi16eLMqhcJKHLJnuca4ZlA3QBliLT657h2RJy2WfP91UlohovixgAiU9PbPAsovRyrNkjex6thI6gzA6eDBL49r3CNLfb0Kg/wCAEMrSMhJtqu/rfEDIKUkipKiLt83ngpmkm20yW1Ov1F1FhyLiO/JriUpAIKIlh9OYmCWSUFQ1fEwQCwoSIhqI88jYqCrJg1dTeqMcSEThohIO4+e/Wa0tO0lSEjGP7fCQKiSy0yJhnihMIUWtETs45Iogttbk/wB43uEhKxKZVc/07vYeUWx1Cc/FUpxuBYGcu3j/AANx4BEN6xa+NvzQSKjStO2UevzM1LwQVnRU3fnzEj4CaQ08Ht+AwNcYIJmynfr5mWWEooxQBHtufXjxMqkIa9QInxWFDChJFiLt/wB4t97vMqDTNT/i5KGCvQFiu/vww/p1DiTb53vxAgYZNnE9ctkACScQ3sbrfBCCs4yuj1n8e9RrIaoZUwMR39J2gTK6bPB4G5EApK4Rry8gtcmQIQVDBm/lUQKEaT7vn7ayfgimXXg4zd7Jp2v+/wCjEwjEMlSComV/fGXZRkk8dtY74CL0IoGvflJ5uVDozriFCWZZM0b4SyJQEbqDXnkwmTkWMs6154wMGCCMjTkGJEcpMVGjHIAazdLWHZHjgSBLBGeUz++TABEJMtAef7zQEkua6F01yXGQRpGxRtvPp6w2dNdjBRKPPGAGQBRI5fVX8nArKQhhjTHrwY4IlEz7p6PPjkCBrMEpHPrviUaVEcUIGFdn65NJK6OEtp9OCWaxxid+T/ekgbKQaNqzMlEdR44aQ1AgwaMh8/MDOGRwysI8Hs4oGZMzN+Zx8+wtjTQpMAm8zPLh/MpHTPce2uOjgJUKURi0VHvwxUOoSkBAomMvZ68lZQnLo0aajz6cJAOB6RjpG/TkwbgBCmU+PHXIXjkpYCeZnvF8WdAzF0PNP8cFV1GQ0evEZJhYScY8eeKlQH4A2ghnvhLPGjrIRdcyIRPcorR3xEcUoAibXQHRHJ6aigKqTK2aeYBjAQSoFPq8cVRJnStgz2KlcBBoAEUnXjkzBYBANbdPJiBIEg1t9PfhCKiiK2IA7zfGigBmRATvyNcjjAHoUn2eSWQzaaVjgbmsySszP69+IwpS0SHg3XtyFPEQ8EfAzXngBgIqIMQ3l1Hp45cJiAmUxTXWeNeRUCEsVKDxWe+TljMcllrEyT43fHNGNVTcKUFdzjFQWwskLVhUmqK+vGKoLCr1Nyvfvy+ShE0W3sDXAbaEtJZZyzRFfSGkJp3kyRg8ZZg4/wCAAhmpe24nHyt3RiaQJpjPC2XqqCeTx/eguOJgEMTb29PY5KlCgAXiF3Fz/p7qoBJMdBcT28hnSaQkPpleMqdACVrwBrkqFIiomIuu9lcHFgRWEwi2Sz/b4oZTBA5XHR0cIgiYDBDlTeZnWOUkBM4zQExLP9JUgJTrgFgIq89ctybBIACbfWscAwnQlMuGpj14IyBExrMjueKDEJM0WPm+AkqxIic36XwW7KmBHb/vAqjESx0Hyd8c4yQXu0mCD14jTJhIzcj4nkZiDQYwrQfy5ODqAiQi1VbX+7kqVlfBU27cQ1KHFW0dRN/FVBIKo3buw1nwcg0czNpUZnt9OHhcTDK0ocBsZ4JiSiISWXTZE+Pg2IC4EWgdeeTArMmRTYa/vnZSgCFp59+Mn1WEE0DR++qg5AAXoHuyIz99iI1BIUikZgCv61dAgISkFWXc/j4MUxDCF4F+b6+I4EKCrp9BUeeR7mmKDKls/wA3YhsETupeBn2zVNHxxRQCY8BH6kVISoycwWspbmZ3YUSxCC1JA6jpviGio6LsHvhunB+2faptxBnTM07AkmJGiGI8/IC0kAI6+l1wFMAqWI+qy8tXWHEDBetf1NafUjPIssszvxucAIbDKhaIme/NsvVoEQzazlPtEek2A3JsJltQD49iUDFDQKZwJiLz8keREwyZGIf8eKsDbBGc/bk45soQSCfHCxBNxBRmI4MUYBkJnB7zwFmwliAIuHOeTJhEhtibdw3wPGYlEoMnGSC0wgCnpDv04DKSUDKfAHbHI2pAirEwYMTx4VwIkbCcrPnOGbDnBpBjZ6Y48kRRiStlbx7zqOCAwCKR1q9fj25RDiLAk3cJisz7M7ZTtIGj1dv/AHgEwsoq3w+n4j0xIqSgSSWbQRH1KRYY65zrVG/66oqHM6MejxnVZPIKo6akj1iDXw8KlcJIXEorXn19DphbYwuFfn+2zOLOx6bX78dJjaSD+CH+ngpGEYaPkfTgEAsJTL4B+vAYRAyfqPcczjbX3gcSHFK1xRS8DgOKIEMpoj0ni4ZnAFono88VCiOVz8+OMOCYUI7YW2RyxbwsGMDD3xFZC0pZwxUPp3xSgRARQmPHp54IgpRjNZd1wylQpUjm58+vBQQJaWC0Gnvik2EoaioRdzPJliREwp/vJ4dBggYm/KHrlQSEJALy8d1yuGAQCbjyj2t7h4qdHBsREcg6zwawoCYkO2hK/iWCwREJTUpyp/rS56soIYusRb+mEEvIRfg2meZzRtpn0jVenjjMDIJhNuaQwE8VAYUZCzDrv/vtJZWBPgR9uNwILJsg2u+KTog7aGNZBq/3iApYZWkOz+eWgiKtTQJrTxkoRqi7CrsjrfJSCBWlKXPkueKzEZuOpyRt1fnj8WjDKVMTO+jwXjh8sSUuvpWXxqOM4rUiwE6GEefvC9eMjC5bJkniEghFAmL10dnBSxuTNN7ET6xw8nNQFjuJufL7hCQNqHMPXD2BlSl+vHmOnWZumJaj04xDGrDqG8T/AGeCBjYUIpb23vjjEamZ0D0TfXpBIkC7AsvTBjHpwB2AhYeaHJ71PuSYOaqzlhnEqC65NVDpj2Yrji5uGU5VXpwRgahRFRk8gSiSK8xNSOXkhAWAdmk6vfMyZ2QY4DAWMjgExtMzfCVGFCKFn5I44vy8SwxenRHvxxT0wVEDK4jiJMI4rJFwZ1XnZEqUyESx5V/08E8g7no6QU9jWgikCMSIPoUB9q5EcMpHgjb8x73KKBLRV29BPvxQ5bB7A/WfTIzI4IkNegg/zmN9KcJZV9/Q5UrFDAgbCHI433HE12SB8A4Cl1jwQ45mkixKntoOuSi5gASI6mvvPFhgZVtTLoHXBnNtG1tHb0/hU2psRFYgdHJBRM82YZd8DKpd0HgDIvJqhUIVgpro/HFkiHAoemfpxChrGiU4PCH+uAAmQ0lQ+TgyQkKWlEmSVyAJJCSSCImfLjvluTzAL6BUr+W9uqZimZyZctHCKFAkkXv9uQgDpFxF/OuMYCCUuUZGDKRx7hG4M5PRxC5CVaMRk775QEVHqpU9PPIwhC/8iCY4+REklRwRsx9eOgkhLIumWcS69qhIVEpCF3QKDX05CRDIsUx5XXjueEeAydptQ6UVwgAbApXd9sf2mcsogYVEQYY9OTkB9Ic+Cuv9PSlUMqWI2Rbj/eSrLIlj0e3jr4ScM6QuBa9ScY+wAR9Hc1/NukVQVisz3H2+gQJiqJoPW7/yhRRbLAz6HX9MHiBJRSmRmTy+xIbkjIOiMz+4DcwgpUZLkadVftackZu1QU5n7vCYMoZF5HQcjLKCmhm7JbzxXyrUfEswmTihIkpFqbYO3HB0IA0rJrNXyT0KyMxhOEe34xz5iA5memuBBSgbbZ4cMaQUh3kK328uDIYZ5lMVH9FDiukwZJZ8D3+qeFYAlq7K+qCPh2BwAGkpGMefrfLVgJdB3r7/ABxhxgHaLK+XmIJM01dwma2EnZWeIiiEpCioBxyPIoyXFNvHGLNITMpKvWY5B5orKIGzvk56ZmEjW3664gvhFFRrfrU/HGQhcmaG2OMSFFZQlB+nnjCSIAV0ENJOOBJujQ7MBMxM/wDOCdRZZGBLA35ONg7QkqKzuD/kzcTRPoixg0N72cBiCYlFZeuujLyLMR7S5zy8sYuOBYMkqUyvctuvgbOo41lJb9PmuDCUQFNkR2hxN/XjcphoGaXQxE/oDhKACZAmS7a9vHIjcFOEOo9d8RAXJILM/Z6cAJAJQzWwdvAFAU59HRx5ITMpgC2euBkOKmTBfW88z1kM71OiI+nLXymshJSc3HvwRAiSCwYU13xXshCQBnmXCPi+CAUEDZuSd8MgIocEs+EGOQtNlmu4wEa/HGiMSxUM4a8y8ZkgizA0igq+uQ/I5q1/B3wxOCWlEgh3D1yaUCEmRNJPXHLiTMDQd9vBTYJ5Cx4lRhWRJlUt9HH5NkzQLTsZqtPry1hS2M4AaeXjHN9Yq5O3j/OS5dqKQUuzteTMLI9F7DftfsJwlzCgP1PxwmSRXZLR0ic8KAMk6C7LqTgyeEIBD9569clSTURknS6A4EBmkgFVtnc9eTihQD4wOAdHeuKAAxEWYlGcFfnidElSIIGgbTV/TD4kD1HkQa5H5CEJiGUNwnP5tFIxYGWhMEF54k5CtGESvKf7VMxQMYHgPVHHcqFuclvwjkAKHI+7mXjLNMEewnXJ6IgDm7vM+nGNALgVNEb3njwmBKYKsjFcSWUKhOSRmvGrmwqEXIFP6QrwIVFKCE/1F8n7BN2AuUv98eicC4I1exFvrqp1MxXKVtFiv1ytaHsXTvMznv5kmyJQLF4Yd/PCRAmMJyHf7+ODCssRvDqOvfkzwwwGQt2/jhRaQQmqBKFfbXDxHAsT7HlszqmxUAbpbGcRwphQHIpaBqZ74PcYBU2MjquVzaC+L1BYiv8AFuKyYITAGPSeYEqqMuYIp2Z46alQIuAZU6nfB7ZASwQOCa+NRIHtJSD5Cuj+OJnDAyKOACZXvv2dhUREKOsJbvbd0Hjqjs9sx8VESHAxCumZF5ZusZ4mXoKEN1iDg+JWxJFAMUogXK/T3WQoFgZRpwEemuqg5m4CQJuVS49ceihKRKKkMR1cz/so1BgCLfVxuOR7UoLE/XhHZEgRNwOtTPXHH0QovSdx15+YtQUAAYhWSQG5+dUR4ZaBxPmMdUFZTWe9pYqceNHDqsqwOApOI9a9xZE1IUKJwATnee+LgiMbIcGa7N+IJLyz6zQaIyzxUaEMEwujBke/lQRYBMih2Hn+74RCCjEBeM1FNcEMahKWJk0+3G+j0GYAbh+LO7JvCAY5x1DU/vkCWWnKl2rdf1TaY0wEzSek54GIh+QMeOGdMDUUZ8KOAkud7yo6w3/js9ngZWXsarx7ATKkqRhLaGc6zswBaPJlNqgJpc+s86BQBYM+98PT7MqCJD4VKr/OCz5AQk9T+fpdzKwJLVfcV+/JIoQwesnQ/HiqHGRAJWmLJIM8USESSRI/N3+7E2kDDbyMG/6eIIVM30Fvd6z+IjnSGkIueZGoP9kcijEJjANyjOZ83RFlEWZeEC8fSKYDFIMPc/Wo4xkVCDCQQTc5np5XEhIq/J8ciDSFoGZ+vKBGNCPkOzgIEgaCK4aAJBDVBg8z4OTDYxOBf04WHEsQIYU+rwB1GQrAO/TacYsCizKZlnAf3fLyJSO/HVb5MLRJE+CeNxURGDGXKDHLFl2SL1CrieIxDGDC6sNQnH7hbSYklPDuo5BT1Jbnrl4KgiYoNvlxUigsElaCf95KAbJzDGJ4BsZRldii41HrvgawCEQSYcyb9OZZmEY0gZkSHXBpTSwCl+7j24VrLDBKsD4f44mBcSEpN/Oo8cmGmKhK4GwtfvwjYpAu4hgQM/GOLOJAiSd3Yeng4zLkk9RD/D1tIgFCRrqLY4sIKwwRgzKsReeVpAhHQXhHl4RsBAe400tdt5uyLS5HJuWGVT7vFDSLIIU268cKEkU5Uzt6NescIAZCGE6Ohzx6EyCKVauwLYxyJnxSNlmc8qFy4FXhA8wKx+kdb4s1hwCQSs0lIl5RGTiADWI9jiFQFFAsJ78WEyliFE4TjTtQQDjNQQL1wsH2og2ORo8pyAlRcbcHq7fXHGj5iAz5etRwCDVQkFE9ylR564hQAYV4vpDxYA7jQNoysxyNqAbJ1uzXBsq6JmhJwCvb14bkFOXoxNzHJ0IURKaPU3wiIAcDWS9BBxZJEX3WPM8OHnOamMCMUPJtBELDKJ7+schE0JC6oLJ8/HHaIIBbUYj3PPFMI7BqRs4T/vJQUFCAYo3MJ6agh9mYAQZGwo9+EiBIRBQDUed+vzRSgSVI2HFWw/fgm5mMwGPI1Xj2VK0yOQMBkUt1+WyJTMSisOELg/7y5IwQUGEZU/Mcje0IimYpqc3j44JQMiywgxOR/LmeJTjEERTdpBlz9byFmhELmX+GtSQOxXk8oZuX/E3iBokeUi4j92SgskRjf71d/NNxR6QtBOlZ/wAQKVSAR2S09HJhGgDkhfRx39eSAkMShTEOAHFgzSagMitMnX+CoRCVujyp/wC8AnKsGC09T3ji9zZUy0Gy4j65WgJ1AwmpPUjgE4BAIYu8H/ORCAwR7JyTMb9LhTdoUAwAOu3y92R4hhkJ+CEfSOKVGEIfQcQZ/qmCEBhXqxniJgVTJFwjtcYvgNUJDt36HFkAyMg8+eFW0n0EV3Of6E438WSZprrM/E8aaoSoEz6wmqiPhn7EJfzrDITJrhWEzBWRTgWX6eqYBtEWSw8m/fPCKZRFgxU0mNHDDByDUNlB19faKp3Ecr2WxitZ2aeDBAcnn0nEeUWEG/CUcsuPTcVmebaWCssvXXUEliRZEVckEPr9JYjQfRaSzbU+7fA1QBJABBBiO9xegJxVYGH/AFevPMwAKSnRyQFosunElUdEDKVKDxVrp/wizrheBv8Ao5FULDUk9keLv25SeNjSKuU5PpuAE63kESOIb6R6ohYc0LDEtzfWuEYCQMsTQ7mINzya1SRMlEkMP63xtG0M5CIkoZK4gqQPaMAERlYa9k9F2EsCjUtp/FrJ0AaTPfa8MM2pjWLkqKmaa2EkVF08wmFVUV1waNlMkLFsPfvveeCXElIy79uMUZmC2YH1r7cmELomjxFzH41xkKUq1qGavr/cmcXKFo1IScggckjLGGPXhWzYkFCL+eRalUQOkGU+v1sUhOhFgNI0kl64CgmAJgNvlmP6Cr0hhIV2Pn/OT7YakNppb8/OQ7DqArWxpW+98HD3wbUj3X/ETCBbBlkU4WI74jkUTaGY72zJ/wBTcYskrNkhH93wLUi1KuXpoeseKCJbMK+oHcX6DyGYFQOGc9lsCdfL+ABEu3SHgDJ4j1DzpAySFUbS7+vBkAETRExFrF8IgK0QrYZbBZ08q6SbhTMOyd/yRUlplTAYA39d8GFEgMIEs+kdcisAgCCceC73xHa4go90+muMMCHRlLTU8PKV6RUS41P44tMLbI5ZdMNcZSIlX4Hc75CCrJCi5cwbnxxQI47UxMrB1xEVOMEPT1ueZ24hBENdENX95SIRYlZbCc2jkfA7QMiDpbXNfA5PECPW7EEcvbQyUZtW7/nkJFxcWor4Z9eTzTiA2En9CccWlAY6GNGPniEROxZAV3wMPaUxA2+s8OYslGqDV8+nItgSLqNniBiDmnzPHqIbKKaTgqiEgZCpuqQvzyZlCzKJkL9Xjg2W3knQxeeDgRAX0IuM+lPvA/LLCpMnkr/eddF7E7Rhe+EyDJcFF0JEdnpxXbCqWgD0LlhvLMRycvmaUKIxXCW5ACRO3vkinEJKoFA+OT9ESDL556KhdGB2XXfA4jqmnK4KfjrotQaZkljqOvtpsxUjbXHkj2nuWSxJbxoI0Ml1Tw4IV0Mw+VrBjHw4TQYPyCrDPXFNCpKLZOtg7XOzIWxIBbGTd5utvBJSWmDR1iN/4kCFArDygcGGPThYhAEB65JiDKsWqoVQsp8MYrXGTwOoANWMk6cTQBCxBTyLXHFeJLKm1Oh39HCuskhZJ7V2rvvkOFjDgnFYenik2JBT+ip5N1EEYDDi0fb8miOpbYak9Hh3yLgAin4cFGFAXJGTZ+/G520GiZl0SfT72DGEgBJ9Ti9AQgRIjxuJfB1TTKDZGUDPU4jrkZKBJicQMyPx6sxiFDNNhdJPzw1MMIDBE36jfWKNCt4UYb+vnii1ZdNXL0iD5zPGulSUGD2IdfPDOssoZ4ENH94uSqHIBL/sBd8Ko5LY8E59+/kTElD0JlV+Ps2JtRmcwWL84jmBByFGRmngmuJpmVX0Hld8BB4myhYF+nE9gkLGyG+WkRnJBgdtHv6S4EFbJYhYnQ5KlZgYgTLN5+OBSHEnqqO+LEWEmV9UI6vfG8dEQWxdsX1yQlA5IqPoeHSjxI6AOXh1hJOcmMbcf1k+BWMwwofH04uL+zRCLSW378ujtE35MgaDOeGVJi6hRXwe3qqMXAMmR97j84DAMpCyBioqio74SkRZUDKFKFE45CiaJEJ6IYnxyvpAMqBKcwBPscaeMWKaMgmln45dsjV5SkbK+OTjdGDa82a4mhJsEQx/K+Biqip0dCJ6EM+LfWgSR2y11XJAwwqhqBctUcKkeIAkKRMAFHJfasvNSxtmfXkvYggYBCsU8d/BcWAZFgiq7R6eOb+emgoAWy3PJDBQJOka6o6+G3FZmAH5njgIiVcOPozxIr8igzEsSba4ynkFmsvb+ir4nyVzIGE1IufHG2tJAATfWw2vJH0Ky5TNSsTmfm6QS4TdnQLemfMBgyFHwPN4Xo4xrAXZCUKWvifU8yqVognsVEd8N4GA7a2mpfPFGtcBwsAIsNsscBCgIwLE8xA/DhI4hBQEEHWA64vLY3ojQRPxriaqaKzmF2k6ftyEEVQpR99R3xoQQSorR2npRy8QokyF02D36clxCZYyg7wti5KrhNjZWVBbfXKJ+Q3cMGpj24yZGYS1gYOHj8MOHWSF9DKWcNdcHq8GgQgkbIvgFKtCTBWfPCxJHhH7pUJ/5UATCcruAeIvvgzILtKbYBPrfCeIS4oIlHad8GqVtSrInQv+oyIrUlSVW0rFcCxGSxUIUdl+nBMOjJWZZBR09OVgWI2AMCbZL40kYgOaq7At5MkYC2XZ9X49zNgQjImJgaH05MJhJthmemf4eLIzsZG4DiN39ynfCMBFiFbdK/yCQyCJoiPqKrnv5BjTMCUwIxXBBUOUII7nM64CJAENToRSeueFsBSSPpDo988RELFjgDp88IT0Juho66+J5ODgAXLVHBpP1C2BrFMSg7XsrztOfRWMwkXvxycROnwkhjBam/1yJ1K1Uwh679MdKAqFHLbipfn2QTGAwhGWbV75XKkxh4Hbt64iOkSzWToEEf8AB5cVKQBPXWt7czduogQSyQtBHE/eWd9DgwkKWHZ18IyWg5Vsh8vf4oSFGIC3eGvH+tBMASR+6V5OqscsUrRFTPz4c40EM7ZdRFcO1hAS4agZHOKeXOURUCzSE9c98n1iMBKHupp6+eAejpZCoFKAXO/pIZcAlEu9j5Z+YfpARKtxmVc/flIE/LYMAMFYmfwOAQqsXQzGn/ARrU7hie03W/lDJ0l2FIwQ4/ctFxCaE7KO1SaPgcXCI4v7cFFVwhhGKUVDGa7m1CZDY0o5fVjL7sIuMmDwdRBu61FRELTKklFCAx9jpMSIACyRgFxnM3tWSBamBJaFLnz1lE54AkWDMOiBhnwXkwG6RRqalfbkPzlC8Lixo+7knyIREqIHdr8vmTSMAIEwfzWKISa2SQyDl5xxs5Sg/oadT5+ag4FiSbZY1754uqxANn3SsxGNBP4BlCNKpBBPmMcq8Fc0ATADJ7+Jh3EJ1UCZBbPXE1XlJZ9krQYw+ocU07coR24AcfrGAMavleZxfzhItZo33PXjjSoOKM2dnUb7iT4ChKA7OynkjAKWU2G81NfzEkIDUoqvSeTKESme5YYu9cMnEAYQq4788j1CGPpbOEyUCiQnIyGoOBMYaEDiXc7/AKEgCk22mDZfIaqTDd24rxn7pARCEGLRmdOV+gCKU6HSIzGPFE8pCGBMo2jRE8CKfgYIwMspmfO54jwjSSRRAuAXE/vkxJAqjeLbZPbxW9FGEL1SJgz9uSzDIUBA60mnf3aQxjBEphK4i56+eFUKZRQON93oOROwahUIipXneeSUBRgChS74kmCCkomG48PnPCu4EsJLNRP440qUERnGHk74ZgmDCSTgDweZJ5JW6Va1DhHWTM8bgs21WQmQxX04hQATRod4l3xIgYCWXfc48cFzUAsSdK3M9vniPmd25JFAAvEPIoECu3eOuYWOgJBBNBTypUaCkqJejrEueRlZcMASpycM8ZEBYiC0Ns/R7MandiVis4BjxxsEePIMgLMvr7m5kYEjERpRM8na6U42JWLmgPXxwHEBRCk+oe/1yqiTEBXaxiN8hdqPBRUWRXWOJlLeUKHJ3GOMQCGFk4dwEQdchVOQIGgNLOWJ+uMjpoO5dRxBGkI1RMqHKeMccFawgAOWF7sHFliaSDKq9lRlPXjB5GYIRhlJb4UTiziwYOiIX29kLGS0Qr73HHieHCBBQML9fngkFeMXi9RGYu+DutFcJeso9RZ8BmCGMk4Aay8eOFgtACkqKyC15Z1YkiggKi1JZjz3wcpo6QFRijX06qaKA6Kc+BrhYCpZK6jSe8cFKQYxXI9LZ28bSTsxkyzb6+nBMIggrSJ4xTBMlIfXfN50JgkwjL155cgVAFdDgePTrgWKQSKUWgRBOnXIx2bvVcnDlKawMATA6eS2C4jpUlJCaHPnBM5h4mgEMsMzwc0I1YLD5Y1PyTsBCpQV5F28haDhCjuB/RyUkfQV8h1ww7DkAtNXbMciCGGYnsnxxEoclSpMMenIwQKhF3gi/SeMEhVKIUY9njkxNCDALDN5l5CXIMLqEx55hKgMyF29NY5BoRLE+ELXyq/LwGEhCIFMxjaP94Y8SUkkmFt4iv8AIwYZDRGIZT3eb5JhIQgtSy8QXX/ZNxGgATGYyrhAouhMPVp+Ph2lyUJgEoDI/k9xAkFlQa3mVk/yjSgSJIHL2NePgodSrskTeq88HtsAP8BXx7pkwNNdAz68RxQIp3KjZG+XYCBHAZXY9TXxe8ZtUsDffue8J4mMUwmgj05CEAYKcwbgo3ftL6SJg4wDMzn8RwzKpymwdJ5+UCeIQZMefbkNiRQ7SuED3eSAhJJECopnBF+mhvZBMoi0N8JkIjA6GQ3ffDxEgSZpRTtjD48VIiXAQj3iyz4fbNQjLs99VjxmbE0AZEqihtyfmbGuIEBVqFwB/dScDNsMn5/bgMMkEFHDda9vaSTEpg4ViUxA16e8ETYEHNw7niCAfdWCbb4hUQkRBSM0MY5AjsIyMvlD+7mIBMJZWS2EJHePCFnCSVpaLSoup8OrcDEYu3qwffbKEuBCZLaDjLNscvZ0pN3UwtJ5JXiZrAmabliP+BEkqU3btCPx4l0BgEkkz06ckQEl1gd/5rkYMmwwrTTqjjYyIhhjIYgzH8mGSgHCf0Md8oyMJB2DSu/4XPDIlUevprXJWIMgokGZmM/9T44bBCgIGUrhdTB9OGIEIHQynEdcikpcra0JfE41xZ1yXRaA2zXFLKGMk4C+ElbnPCHTKUVEDa/2OEitOcg9XDABtPXvq/8AeCUyhAd2mSZS5PGZkhbDJr35n8LUZH2jJxewiWBmbE8/j3ZTvARL4DCu+KnMcrQLrt779GHsZFsYYp0a4oIUJGN49vT3x+QlITSC329uXPK0hYMmcXydgArIYp7vJRESEAZHB3HK0xbV4pz+eSsFKjE5jjWykVQON+njkiowwAJs2vFmMGAkt22/rgZhKFyxZ/tcPQduiZT5YDHEjCTAZ4gfNf8AalWLHKIXgNMGM/vhuYtCxXWZh/XDuFYUiS4PRO+Csk0WM7bZqvGZsREVg6S23KqsXmbKSwGSjKdMFKL3c8sFkhMC0DLE/XUAlBQMkiZ2AriqjiJsoMzks78vAEJKbrTw8eeQRGSV2mUp7o4kEJkGHUNFb4SJoWkxE9Rr/vGwGlZTAs42+nIYiELDG2H7cVCWoGhAGJNN45ZBxORF+qX99nBJAQy1nTH147QhhKpONtVvgRTFpJDXw5JZHkShQOoXBxqb9dBbk9wTya0KEKamkoDg12fes2A+uuGybg0kyJgM76vcvhK62K2IcRLPXAvJuzsua9dHsQxiJRSvF7eL1zSZwMy+EB/d1O4gUC/cyx7/ADGULDIs3r4chaFFKMFymSDmf9DkEmOxo4AyTTJWWEnfWeE0thSQS+iZdQwVBcwo+vJdpLNerwWTuChYhsL5KMOopihoSbi/PLkEKXIRgxAa+nHAJY+6YBWBxtaxAYkGCw5cHvI4xSErMyT4Mzg4PUBkZHkxBOc+kirznERLCta5AIjCMDFRipPWeUIqBSE2dJ4yJhIqJPLqI4hMlt6PYcHH5SnkHsQkes2ep5Klm1OwF/V4tBxJWLvzvHt7AgdYsW4ScpkRYkIfSp9L5JPgzYmbNlV+74i2BWmcS0ky+D2PGW1Qa9OK9OEUGCzWVnTiBmd+VdqZRQw0WxuPPrxMVySSF2y9Hq+gOUQkpaQJ2Wp4ThARFl14zMeTM8iM4SAJGd3P8vEcKCRh9jQE8TGoOEAIYdCsyWjqtFcM3aKtJgAb3d/PAwZor8XOI4qJBEJCC3odfqiySSISQh75eIQ0RKB3LcST78roYUpCynmUVMmzS3q4pBMzmCMk08RjmQotJIMh2xh4bCbEhYbQhjG541EkBWNl3jWPpU0pAsSmkA3nfAClxBJvj2v5myUISQoug5Vf9fF1FVmD1Iqvb6UUJKSYrWlmGfn45BrRpoNog7Z0/wCgoZy0xWu7Kx/xSQU6FptU8orX0JMqSBZCZpAj+xKQiBmQvgZk+Wnk1ANAIaug3JOvFRQqQgBS3QRrr2GIKFpAyDFwXH/VhpsJzgRikhn+sjmSkYiLdzPr+lSQWKZToPXzr6KiHLtTJOQJR36CbmOE4NgYXfXragudcQ6UCBdx8KaOFTVzPTNTyeiXMiEtej68l1XCDtlJGIevk0pgRtMcgy9MY+lkTQlLOjy4pxOT15wGOv5kwOhgXDJZz/SAEuEIrAKMzMXM+Cn2NkVX1IYvxyDctYRYJHck18dvZHK0krNADMP12DQ4ooRYbf18MwpRRk25gHQ58R8PEBQyZLNGP7zAcwVbO5e/j14KPuUpCAuT4uPWJRCUNi63aYn74E2dqAKAnTRufO9E+whBbMDKT8cjmdgIivQV6HIlh1igok1f05df8soLIwkNTxb507UFaIaqHrLhHMJHuP1jkAQIypCyJIOonrjkAQLRIlOBUJz4uy2LfMyJ8W3ybkQiSWCSrMT/AByFLefsMJ75IkgIg92Y9eCaZQsMuwuPQcccATLIBC3BvX3iEhwSpbaN740oknCQpgDBNcxNhVClLvUe/HqKBtFRlPNnF4dGdLPbEeOK2g5Inl2x16ccSYxpKGjbDPpxWCADHqsC78T3wxqMwDElHLy8a5FACQqsnEs/aVmtJQRT6I1XBHkmMBSw3BOfT0NDIZlYTFTwljjnY2B2EH8D0rBxHiWGLTgGGfjgBAZhQm72eh++EUQZLEKa8uu+MHBAZgg6SxLrmsUJ52lbN+PXijEzlNqMI3wgSVaGUZJjrhEkBFNzKzCK9DiSqUjqHDz9eGG4JFEy0Or1+uQ1TodllL1eHWGalhwDt2/5y6CcEmWL6IOQIpgfN7M1f74UlW9vB0PSuayygmCQTEtao9PEwuESkyGDXu08myAWCDifc48vcG3kaBJKBqJcf8hJZFNRCWdFMeMVx5zFDDGjDJxL+5byAngWJKYL9ngwVNUAFRlEf2inAsTEHQMSiZ42eACnOTEdDp9wyRQoZ2guWzP35aSbNGI6EV5vxjg6TpBIR3bUNcFghIUAfqlv7NuIUwPsSrZzwHIABMgZ9I3xs8CCGAe+PniIpECiWYfVK4TEs9AzMF5D2niHhGFDRsNx/wAgBAx0EtGLeQzGiURmDItnXzDKNmxAjfARLy0sLSXwOegZ8VBIGIg4HCkDyBotCSyUVgGv5Y1BggBTyViB9fPCCSAIxdCGvtwMBgBgl7Lg8dfCsARlIwOR4d9+blj3gSzQogvbx4REFjqFsO617EqXoNILUsEZaOExoDupvMY4Y9ACTVuJqdcespJUuYJUbJt+0BWhQTE0HCslGhhFyGJKv/nAgVBkojWgBr6zw5CgUhmDan1j4MEFSSUloXgjRGgPlz/rTCTxC1jJC6Lh74ojpISKJhGL7/zKOwgqmlNxiv8AnALlFAiPJ4W2+UGwgENp6OCCAuImce5dV/jLZbGCAH/OScDWgS7ZpDxfCNGNWkUDWRXgb0YKRHWK4UWMSEhuJf8AnKZQrJUT4Nz0frwEWqkKuDU9dcOWYV1A0g1PxiqSSkSEYDVCPx1y/DQM+AVyl/XgWoCEEmLffE6nkkDBJTfQGe+vWG4ZgkJIWLICUbrkhSE2QokMSTvM3PFwsmAU6LpD38ueETKmEEzJH568U56RxGGiBaoT04SAjtbE23t9p2wUrggmWl7NcGBYYhHcuDv34JAkIoFnt1nXXDEpWjdb7P8AjcsyvQtYsJA6AnjHnQIlZns6rz7Y8Q2LKeuH/nFplTQD1OCWr+UNgAAqMTarUnFJQmFDLHR4evHDTwIUArLEMV6FeOLfDAKFYOXyeZ3wGXgWUKMpaAIeQreMIYG/dszTTw4SAEJJZdpMGftKIwOA1D6qiXv9VojAbm8+CQ1/F4pUIVgUdLEdEfFxUMkMEg0EvuyeiYM8qCN1QxBFn+2YdBICodyfa0uIIJDsKcB0kl/oGMaGS7FrqoInr3FhxEJEhn1nxyeIDGV9Dgf3hgg6IAi1J9ByCMoJKRCw2v7/ADLKxXIHYx3xSrWqKbgr0aj1gGDBJKUBPlxwMYRFzCVMqDGOXCI4DaDOWk188OAhaahYDwMvj55PMSIQQl7frxySsJ4nQbkMM0+kpV9J7EJhjHMqRNgIZkNevJs60pYnxZ9qNHYkA7Miuiq/rIYimZP5H5+VCFzjFRgJiP29mcxWlNPpkk65A0AmQ+objzymfmaihDqPaeISkJIGCbPF8kXhLoIqexwfzMYNQnUOdxPiYSKANIhPsvC8iZUNYt+5HuON9FKyytO9chUKU0aHEXviiSGIgzl9uGBmAen0KTX64BiLDsLCu3jXq7gLCxqfPHQwHsMmg4kSkk7tL3x1KoFogTCMYfjgwiJR8E+fXiFIQkkTan075MAIR0DbPniJMtBYpFVs5BRAKSLmXo/XFlkwToUDrl1E0iBWbJ4n+vk+KQ4UgpO86145Qj1a2mTbIh54xDAclhNEje3xwQ6FBnZjxYPCs4ABHDAtmL5Y4o0dx3BOPHjgWMUgoXg7St6470tuGaUPJJmry8gFCCSgUfqd54OKZuYYB9Xx44aElg4QJepDllO0tdcBCEyBKExl9B9+Roz1wA+Y844mQLIGg4Ol64aCMB5nUF64jUptENk5l+s8YCVIGGjtf9jiz7YQAqXLquQkAUVEnR3aeFloKhDqvQZe+GpO7e3eeDftw5xGySJOGRIVPAUKlzuUThyk9u+bH2fIx2DBxQmglM0/c/Hji5mJmAw0lft3LJjIEKB/Qi3588JQDFCRJle0wB7eOIgQleFwSw1M9e3H1wATSkGQQMR3PudVK8ULKM63r3VyvinLqLOeox4IQB1JAYwsskHy+kIR6UIEYV3fPn14CKdr6C5RH9PCiASYSElY998DeMBCXwg0t45DNOEskavCNR+uSkQCpBlAyOJ88UlUamJDKhGJyrleR7zAJj144ukC/wAgKdj53yF0hY2oZwF479+QlXmFlWotionktBlgZwDW4Jjz45DIFKlIeAJWMV7k6WdTOFY7ZJSem+FMsJExbUSeK+OCS1KMBw9n96cFZIBIxiyMLbPr4SbIAQ2Wh+FeZ7eBgjnXUthv/wA+CtgUkW314CXx7cUmjQSIweE5MWdBGUnrgkACQRMHUuCer4SwiWLsnnxPArQcoKRDLIPn1kExBcITS6vjxbMkiExK9QVjOxhlSThIga7H6a5LFkboWZfZxIIlahMrPc8U0jIleRgkz7caTAElqKD3wxQAIDLfW0eK1AQiRJqeq5MdIPEH3E69PbEEVEPpGpkz/nHBM2AjB23g/XzYlg2FdI83jI5XK+pp/wA+AW4SMslIDvGuOUwQKdkg3M5dPyEYhJCWViTTkpzwZIXbZ9K/S2YVClEAjG3k7Cd4kXLoMz5c8OaoCDTKZBRifW88XxRFOgA6f94tksG5Jj9DkHBCCiRKNyssT3U8FwBzE34ALMevniWKAlAwweWD9cKC0ihmm/1ygayGCb4Rtye/rIbVJKryker14eUQVARKHQR1ifRhiBbSmZMfeOUAwIAPpW74LuSxRc4PAcYMdKuVWmNdb4NoyVgwoGn14VJASZZwk6rXnkVAhQ1N9dvBCqJJUYiA13f/AApQCYlWDCWvTx7ch4wrGZfJXfp7oIJAFG8lV5Pu98G6Oa9Z+S49PHCpGWoNgcB/fjgnUidqUd6IxvueDAZhiRp9mpkr9GQIxoCfF+D9OCHAAYIOOVs/nb5EAIjT1CLj7zK4yFMRsWtma8fa1WmgDgndqcYiDAnSi2AWbjQf6jiQWkNBcsv07lMQlRyEVLAOb6+Ezy5CGEs9pisRHoMSwapDWy/P6mKhCYCCkv4PieXEUQpBFrczR/RLwcnsUoPln1+AkeShQe3kn5O+KqLK/hwGFiYv68aOI4aZYWrJzXJiWBCgBbBt48CSWtjMrZI/o4oSOmJMM4Ba9/Ula2YiyjbG/Hw9ULElhP1P7QRIghraC2Gv85aITM4h1H54iwEQFJKHypjPxQycIRgCdjMeOk8ciITVZGKdFvr85nYMxSbdBr35XriZDCrVe3jVCmFJSM97nirKRYyGq7I+vIAk6JSwakHrj2I9gCTawqdD7RujFLo2m4OS2CXgoiN2TX0jUqgNCQgacR474woXHTIjHUm3/I8bWJlaH55JSFIErA21i+LZqBanhhfHL9u0mBs0b/x5QYBCkM2ugxWWOQF/n7DkME7zV9Cqy7gsy2owenjgJ8BDBWdDu80+XhC+CCCMEJI/I9cf2ZWjiUpQuI/Uqe9VcIXsoX59OEpiJITWMz1GY45tgKxqT+RXj15Gi5JKzQPLaePHEJBPmQepGeieSJML0zfcjMevryAQwYJ/5yRwomWJJAT4kxwQVBJmA35Gb/dlTzDeCoOwh+/nhzl8mHV2RoH/AAhKeYWRiYDBJf04PxlicoCGWOivWuPCjyCho9TCOAqHIlijhaIzwriSygi31Ink5ggskyET6vADiaCFQps4eBAUG4To368QiQTa8K8d1xAEFCahJl9njZcmWm5KdxxVjJsScqPHfBexZGNJntFsePTkbINSgBgef6eQwpAvFfoM88+jELqtH24hJOVgQwhowS+njm+IJmlXAucY0cdkCpaCdmZqbvzwAzNBQZl2kcOCDiokQKvGJaGmOD3AEkZlyPhbwJEoDISmBkVKdclTsHQNUlF5j7VEbGjGTUjpTGOEXEQKWHyhbz1vckRtBUouEyp/15ISgoUrQsor+xvNkSRok9QW+nHAkgiJS5VEEz4OKFCovWDfpyRRyYPBJ1U98S8aYuXb6AekcAQhMEgbYP8AvIUWApl17XfBeoCAKFzGuGcKcDeehkj04rWYXRIk1lNeZzagYBEwoPVm/e+JahoY+wNZj7RfvmgXJjYXqfauRQBMBSchH8T82JYJ1D15eQ6bCghlbXXp7QpCkGEW6O3v8cjojEy5i/ATjmNhALDsblJvhOFUWqEmORU0STi898KVIRiRIyHVcaVACF1orv25HpkklOTG1hJOvgUVGUyjjFE+euOyJRI96wx7/WzzXpQZfv8ATlULMCmR0xnisqAIAYJ0/XCFQwBSxQ6np5BjG0CSY7KkzfCllJso+41/IU0QCkNIFqHLwGOLIklBEEJ2FV+2WZtsMCUHcv15GyhAqpTMYWN6PFFZSUYWz3PD46B3KgLLDEde4vzcY1kAGQI1E03fqsEQMlwIz7df1QMxSBUEIGprOYx0mOeWBBbHYMQTl7sEILAlRrYUsH88jw8xkhhl5RM1J44O2UxFzyuw8cDNpoAs/jPXDidjdoegS/F74xKqBkj8gw+mo4Gc1Jj0QyTSz17BJBUOsgKZjN8BTSEITVMBld54KGLAkvJrzHpyGKxIxBeU/PCSBbZIMoj19+NK9QYS4nEmY5AoogExFvzHBHYalSBwPBgBohJIRlMcqEASCTAwOTXBiwke4fPHTIWQcISu/bhHkrLJkDNz/TdqtgZJaBKI/PIpDYXiod7iuvHDBkFEBnFI1J7eOKNJBWj58oa/fFgwoRkmkG55GkYCMoMR6f40QZQoORIuXT15+QF+IIlevkeMcsiMIURq5OBhoksKlG9VXJVUM1ValLdTGyfhmYtmKATNG9/f3ZZDNJdEmQgr9mTsIBVrH6j/AJBiGDSREQBCPn/i42VCUzmBTH7T6qGCaDE2J8sH8W+TAhZOjTOfTg4SwyU5ldEfX6sEneIAZhH99ODIkkiNgaGPWuTlSxjI9p9TgJFRyzOA+lcOAGW/VPkfv78NSARVpb6PzwIKTToEoeBL+1QKYqoYSal1uIJ/DImCWsEqImVfj3FHtAJcDX6d40DIpSAzdoPufrkpWQAHwH68smVk2bImJM1XqcACTAhANp2p6fpbBkUWqx8pf4QLuCUixP75EUkCwYa/zhmIZmYKmakz78pMKJotMaMb4QKLwFQVJbafO9tPbaFk5PULfXGJhIgcSKiZQbJ4PadncxATUS+vIIyMiRP+cOmRS2WP+caSVtFkZpTR5+3GVlRTpCsrorudccVWFHq1p5frAEYba0fQW91xi+nGmn1EVPXrFiosSEVXY27rxUYFbCnRNmPf7DqZAMDTeV3/AN4c5xQrEToTF14uLiXHmRxYgrkV1PmijmljQkYkmYY6d1MsO0kCqxDmDOiu7RrqMhLB9WPpDx9VQPASU6DsEY9Eq/hBSydXomfckiFydGYCZwhnqKbUWItCJDl0E1mnzEMa0sYzO2MnIsDGtQYX1NNm91IwMXTJt6EEA64R1AIiJaVi99/SfIaeobD/AHgGJcUQuo8nEkVvkQWjo41aQxMEYX247yU0wkMps645KDoSn6g4nyAIKllOojgwjRIGwMn65KQgjsOK3w9EY5CSZz8VxgpBINJ/Jf1xmOFFDujAhK/7xBNqSQepKzhKcAZl/wCJPt45JfAVDiZ6AP3vlhSAKkXTNge588YIQhVSZy1Bp4CuqEpMeXeTH64H9AMxCnpHXdd8CoEqSAbxv1eWRBFblRantj+jhAZ6DScu917cICBBEmuxhbv/ALyvFA1iZuo8eeHUBUJmQO7o7jxyZikbpPYn+vjcEwndMjyEL9eBQqWUCGCs4ieBIhjJXoDZrHHRl1ZQVKTsPpyDgcJkpKY65eADIyDpD6XyEqoIDOR6+/GokARqq1ljkhFQQKUYsHeuGiESERJL1lp+eC1PatgNL5T78E5kk2jM5eRWKAkiAz9yf+8IHJpyCd8MsfvgDxKMYNI4fH/KQFWBNkFAHEEp7Eim325k7EWGx645AaGlMwiGaWQdVxfWSbLylliMcx+AEhD9V74EgTUJo+l1PLL3ZkbYG4g4o4CYmpIDXtxHemyw0eBYJjPupsBLISJ3tmY/3ilAIpQpNHikpJUy8B5fpzcSmB01JjltoCZS+gmY1w9ZoEsLv0SCfHJrvYsJgxNMHv1xG+NSioZhG/5WWyqitg79fPMo7zM0wTFRM+nsM0iTYHRFlV1yAaKGVlZgZS70vdotDBMGSr52sYn3TDsWUEVzqKNwXiFT8TSg1CpO069sfrE5si5ZTBtudsAYQTIEptrn390AQREnyfgFOuDGREggleIOA8Rg5B0QLiTPk4s/PDZAABSmo0EF+fnlyCCyOe0IgKwdHEsgyyhujxXn44qoiAjAxJ7gdbXO8kMZWCG4dr3/AN4lVIntPLAAX6fBgk2cQbnyUwRoLAtSb6muGq+ICpnPjiUFJJTJ8p8+5yC+BAqOzwDk4gBUWRGVy/aeEozCUMwfr+uRvtx2OOhW/HrDCSXBh6DUA138cUhAJoOxvKZ+tyJkklsSWTdaxX34SSEAj7lI8YiopO5vtFMIe9yn654OyY9m4Idd7nglBeYAtiSYfnfBoBhZYUF9MfjNVdIUkNIy5LiDx9OLMqRLsmNrWY8+bkIGJbD63kO+ABEQMwdmhqTx8GI2lBMI3Bel/wA2X3gYBAseEu/+sWKhQrGh07/qJ9DQAYSnTUfqAggKZkgxDa4fb3f02nqbNhhcan5mTZLFVFkZRqfHw8XiUCINOsxv9HFMspoXkMzC6/NshVFAJMyblZz/AKoAk0MYKsjEb4lpkF6XP/XIpWIKCJnA9vJiLPoFYh6vHIkZEmVmK/XI8HEFlJsn68uCWbRN4yOsVPrEIaKIlymXq+QcoApAa0Eib+NErMzOdMm0VUdagSJl3hgb7C3M/He0FDIXGzy3H+8bAjI2sX58vDiCMGClrdHC7jQPLnINnrxcGDWgQnmXz+ngKmgoBDTz368SMbKATeDcd8SbAQzkOKuz+eKleGTWWmL/AO44jBgHYKV3h8/GgrEFpKMKcXL6R4AhFSoTQ79THJ0EHJCVomN9+eM1jCIRJjzwFOGmDN5fBFd8rsWioWPmv+7Z2RhYPxAZmfnKqBwVQrIMQNf1RyDxUjXuTn01peBwQ4bMxW2s7T9jEICYDU/2pJKDCBCSLdEe8/JK2BJ8g6EfjRgNAWaM+oMpOSsTanCnDbdAWGPUZVAXBVJ1wi/W/a50ApJ07Jn+i2PKmSvzYPG4EoxnuD2JV318qAKCZ23LRF/OLiK4WTExo6EQej7E8wjAhSDRol/dy5QAyZYaF3I1PKz9UU9gdp/sQU0DKrZ0enEdFMlCkdCZnfxyJ6g8gg6zDz39S70P15PyoUUwJz6zxCFRISSGPfPMoJAPaJfWp4qXKiBGxhzWn15EhZlVsV4TjiSnVUQZbfTJB6VZIeHogCgpNkxfTwUlI82cseH/AHzDRVYyQ9QpgjfBuJHmK1VVDt+9cqTmYOwqcNf7y8SCBJfkSX588Xu0XCKRxNSnXngJUCNKSYR115M1KiFFAghBD2iXXCbGAHBjzjXjPRRiQmVYZPn3nglVqRIW5PR44sAyBFsRvz6f6dQOYIqvU+3n2XFIgfqseMf1yAGVBJPdr+eYZJWSdmzIGMYvxAWpmCJFDctnr9BKnkdAR4n8/PkTAwMpuRuPH5smIjCZiH1bj1/FIjMCHAzWWbI8VCDRTrTR4r+suwNmqF188U6k0hKoieu5OD6kQGiYe+Ms0FwJKe67mN8MTFZWrua8cNmTgFNqwM40/PJ2RbRfdNd8wlLTUHrHfACjKYDIBqenP3RKUxnOPFa8TG+RoTAUBLG5zeD6Cm5LJI+3Wnmhtk7Z9eKNsDF2hDqR4VAdhLKEFlz6cAAAiJCSyGb50EAyxhHcunhtc0AJ0PGNoKKBB59/njOviRH3MdwdenIKWBkStqeyEH8cjEJiakz+ffiNhMahcGcoz7ceDgWCEq7h5I3WEBKiw0r+uR3bjoKcvR/Pnh1Fa2mGUXeJxPTPFVVazEdEw+/g4iISYM+2YmK9uCOGN2RuAwvmfvwNCJikFEnVscUSIA47YMn2eKrBYyCGtcmf84SwiIFALtyCa17swKrCxJcuS5D/ALxg7ISXcFNC7+4QyGGApOV9iTHwcAYwIGt0ZKb+0zFouD0M5KjKHt8vELQcTc6MsEE+DxA8FDa9qpX4PEcdEjVcyjI4IXX/AGWLRT1HceXfAR3gLmx0GP6OE3oLYkW9rwMskoX0wfrli4IKDj7HJ1EkA0Cngs48GTsQKTR68l6RBJYNqjv29OCKE0aziWY75iVKAI9gVT6HxLog6opuqIAwa+ON6BSMW07oveXM2/QLAyiCbUZjOeIKTHqaR8JrHg4cUwgJMjAaefprjyFQslTK4MT8vXgQRAIGAhsmz3/vDNGFCaUQ9xzr2jghLJoXZOEACdHrHIESTEMgy9F35n1BSjSUX5E6AxyRIAViwxPn+9iUGRPwB2DkJCbGIbR11x0IyLKNHiPrxREuANxWHdVHjgnCiB2Kbd/zxQLcCqZkumzXzwAfDBBlRyJieh9ItnsDkSwihm/RPEJACRJKFkYYn65M7uOKbFAF4ZvfnkEOyKoh4mr+uIlhCGSAoNAxRrrjGKBZdbW1s8WESrMGYRDpvq+M0OAxMyZcOvJxYBL0dARosnI0vMTJCm2ePDiQAlFr2wxe88FypEBSrXpWeJmoUztL1gVqOITBoHw+7wvLobJhRyHACNGxyOTsjHp4hMsyC0KAROmcxHjizKFFMoNwzrOPX3YBgJYJrDDx4AgHjpPj045SWymrY6RnmI4kQa0rfNRyrZGvRET6+/FrQzMpm/JyRghHWSfVwBgpChUMzmvj13lO1QwYQbZTfr5QKC2ILWXkyliCqxo6cUfPFE0xkWyYr89cSUqDEVM0NQ+vrxJQSiIVHawntkqBArAgnQMG/fHoGgAxWzdkAY3nzZpO8rAbldzf9ZkALDVljVb/AISpDYgcC0Zycj2xpYUYQ38t58iPywGbHA69O/lA6Ww2GUnHsr7IZAwbiqAFrP0PFMoiAukt+xz65mwpgbhB9SU/1obsAuRpTs8fTUeByVo2g7Svb24KQCXOPT4b1vzc2PvXPT4GCP8AvJwWpI8SFTcf2jStFmBQiYO+uSRFABMMSPj7MHCJGZyhNevpxRA5mJYJT1/zgAQoCFhFo/ThCAlCBbdTxBeJGil71xAIG0oSbYsmBzHiQ0mrJ2kUSzFseOJVxGR0LWE/kmpF0INBGV0fjJkykogpxMLV7rXEdB2ks+Xyj+wPY0HoRZHjH33cZUlygyZ7NY/p45A6aIYGWNL39apgV5G5v0D+64I9JEJRG1P98kmo1GQgAo3b28thyNZA4FxXtiPQpYAo0eUbXgIhWJ3rx1viCA5YSdss74xQcgW1rCcnBgSZ5plS9cmLjcSRnWUjO/f1lASzWoUIUJUfbIKSAAIo1do78YqgBC0qEhMdsej8xSsxpJ56AZifvxeiCMBGV9S3P/JhRKS6i8W6z+KYAAxyiwPrET9bmJCBhgdvX+ZuImZoOp0wm/8AFKCSO2hPqFnqPsZqqJyiRLvpN/KdBPYEmLKgJSP+oJHXBVQkG/HJ5wUPJQHTxSmFghm0zXVnGqAVTHs8r/drbKCOlBCi5j8WG7mCdw30nY8HJEKppvTHGbBQyQh9ANGL+Wry4iRy7M0R16wJAIoVfUOjxyWRBBTw8/ngB71i1QMGnc8Mg3lYqyqiL5fIGDp9B/54g2MutJA5y+vpx9Tmt5Tb104DELXFiZ9b3+qahJFuQYC/2PbjCyG4En7d8Pq8KQIH3n7cVAAbS6LREqf9ioggMgHvQ8kNI5IciMx+/kotZIMULOMQyZio8whRIYLmeypdT5hHkhM2oF7D7P0NRiAh17ncceo9FMVT3xatRexg9OQSAQhSfK/3sqUk0VYxER1wlEyg0HZv1wcAGGjKTOPo/p4FIxDEwamq788BLskqQryL45eACU4VqflHfzKqDABZFiViv7fEgZCmeX8TwgZQNAWFHrxMzyRvZlaXRmv948CIrLQSKeu98ZJJSmMlhuOSGWXiT6+uuKBsIAyJj4Dj3mFbYze++uZzJIkFTfRfGXgoFmB8g4mvp45ODdkBgD0Gfjirxao3NX3nOPN8hK8tm1BMKLcd9wFCyWtpFxcM36Nc9ooJI1MJlz6ckItKaHvZxPy+eAgQZxEdBcnjQHeCJn2or1+nDIBGKKq2rquuBEaTB1PUek5Zl88kBaBK6Sa/zjgQS5LQPc79OASKtYlxHeL5pCC2ogqmNz/vABOSij0TxKzDFYgmXaj7cBDwkpYjEvPxwPbzcxPBDMB+YzIWBh5wzTX8cnWjCKA0HGmftk21JAGa9LF2fvkwkcyRHzHJ88GhqqkIkrclv+OWDDGAkMDajx+uRICB0k2na+eCzmQEGo9ZfnzwgoiZSoWt+M/jhJmYmUMHqR6zxniBMW7COk+N8GdKshlC3Li+GoZCFCREq3VmPjgZgehVcvojw/HGAwlaAFlHKCvD3yJYxBJFUsNRfGSz0ZbjZ8H+cG3OTwxi8j7eOSrh0E2YTHniBAGlYR/PDA2lBngbBNVxJlqpK8PYkxxCnjsJ9nXnlZJESZbDE9cmTcwAUm2V0RnV8LSBKgKsRiLXvNZ5M0EAW06yivPni5K1IwSXhHMZGCwxB0Uf0ciAyepYHb5jlkBsNMv0OQIIMKkRSMVl4oLAGIEslOZIjNx4qQmoMFnUz0R1ycYxgWcU2WV58yh9sqbLO6378OE0IMbG2Fx6FQQWJBIxDlnbHdRyT2bVBowIYfXmRUsg4U9V1wR4iGlTinkp5Ii6kAkD9ZDvXKcS1Ah2xklDyZOrLUXbv88u6tqSMEkxXvR7TotLDAsD6EVP/OOA2EkuXi7+H3biJwpRifTV98GWkQqpqqc6vr6QYsNsLABFLmivjjURVAwmfQ10TteSMdcrABiUdi8SRFDBs38VrgATFNSgbenXHIhImbMh1wtFkoOmAxXIucIce/ueFWpgILAGFwX/AMP6gw2qmUp8Z9yRUCFENgLkwW493hBFCxN0jAImd9aWLGgSJrL6GIv9BDGZIHiBpD9cOygnVImuAagLvltEIAkAHL8/Hpw3xQyyB0BhHAoXIljtQORnE/ugVzap7gZLvhFSIIBkmE5CD+1VAQaR5ibYwfxxgBmEzMGvKnkIIEyAVsJ1HEZ1DZAbYeqf7BCrSDPbfrxCiyicFZDt/fyYAhSMzQLk8XXwCNBMlCkjZo+PSMagXSmhVc9fmUoHeKcw3k7H7Z77kpxUQGtD67DzYWHaCRiL316UU0ZSTMgJdFRH3sC4NTCDYb/rcsavIAKwsTAH49wjFDZrDKGoqPB7Z1EZkO47qz9a0szh8WbMP1I8+Z4kmVYYUFsyEHv6iB6pYanVF7r2Jc9AyIWlgDZ607HMiKsMyLLON/nCqlLMzE9Hfxqo9QABjZ7EV0+ITpjlV9w3uOEyATxRc0Zho79ZasBAMEAttr3+y/kgWY8GxzxoqwAbhe/XhGR6yJRUw7fPfmVoVlkGIMROmIijgIJDAbzGb4ozhlgGiVBuPXkPCwX0XiMvcvmSUgBYFlLtf7ERIB7ERT++DKLGwIIJ4uK/NxAQQJkLoLqeYFybJBT7McZgdABFLtOo8eKCmAhBmeaGyfv8iZwErN59aB/dkEiVEkGQ7eJ+NG6CEBcfL7MRr4mbaoEoHopH82YUmQZSEs+7vzyF+sNjIGcVfmtcQoBqbBLPKCSGWBFVlZjHHFBEy3sT4HFRAOwaOwm0+eSTECsNFIMeeo4tHAZJLLfQ/h7zUKENr4g7Z/HrzL0wj7DBH+zoiCwpYPMT7/h8gmZMaEfl6x6wt+LmYomoPvfJNEGo6Sdo8J5BENkvVPtxngrnQejqeArJJE6Tjg1xNBCXv6cQBxo4Ie3fNjxgoBOPPKakNSdLGIIvHvw8hEjZROp03H1EWMLPZgGVIv1eiXARcErkWzBic+kiGBKhDK0MZJ+/B8Di9DU95fDMaUlQyFDKmVYScemjJMQsBbBMBMsn/Zk2QDlBx0rhTMsshg6DN9/wQBpK0TQ+OuNkDQiZGe3bVcOTAVJlNYNT5/7yQLyFlM9SzrXJKKkmwe0898kQdrLINHRfGYqKmyD5J5FDywBiX/RPUfClJGoO7Fj+ffA1hWS6YcX14fKACPcqlPjGpzyQChCBCQzR8GnZ8SRERMyyk9kxjK8joDGKBaHPfDvUlS+pcEogjbNz14GJZF3TGGM5ws4KJzCXIgNGDP5EtYw0gXMPLE3+2uROQJCwdYO8fPEmILSAuYy4j59kqtwAyt6gFbjxyUOLNFGUwQxXcepqiaCS5jvYmc+YBtMX1EhMqac35BDhkSTRmtvikwuSI0nTivXkeQPnrthPXjykpLGZ+Wo1rHIf8kqZKZpd9/HKGFbYll2L8T7cfclSMbiMzPF1RHAcup65HVRKeSLTsx78YpkWCUioPzxwGe8Cpl9nhFQEjiwDylYbrxwGGskJFDxHATyM2zJK3mOOOk3ignHuQ/8AeVghGCSv+dcFF5ExIXB3jq+ERrkZglRLa7/5xgRDZLtUsHM5mkpBlb1Kn/vHBsQUgaDT/OFSJglIJ2DEVrj6nCfQKDSzt7e3hkmCMhM3Np1wFklAJbDmevMR4PIaFMIUWnyyfHGeRDLRklgy81CmSyE2e3Tf35QkSJMqTQ0mp4/A1QLum3jBxSBiIkACq3bL/wBeIQziakT/AOnrxITqciYCYWc53yQIgWoAgg654MQ3nQ+axxScIAyybI8scFsZmxAMnqdnHIhkVXFWfDg6ZmCqSaTvjAoScqyZwcQOEqUhuO+CzGeQs4wO3vhsjChsYJePHfC3UmMrZ7eu+YKUNs0dBxNY+CTZKbCxEhgKPPWuEUVRlNmBWT/ZkDKIVo3NZXf54oKEhTlZdGt3ERqCMcSUw8Rjpl0RwMqQKphOegiv54hjURzJ2Zz3ysUAYFFUMRjHIhAI77Il64cplcdtogHrPfzbUkAK0C6n04qCZIFQN8JYmZ7bQdcVbLmaKWnUT5/PYhCFmKjpDyiAwKMjlDmKj0+LRS0wmCbdJ88aYKrQo8zt4f8AXgTtEHMT5GdnXwhhNkZJd3Z/qoJFJqFM5IhhnH+oqwEC2ZchcfL3KfaBVwUYjHn0iqmFITRvS0gjZWoASRBSmUE+ZufzeLEEgi3lhIl7PlYSISrOBJbZUSCKr4TjTuoSmBW4Jn/G46pWBJoW8oDv5gHNQFlPeK1n7qyBkICFStUv2vxP/RLV8zCGHUeKhNOcAICu5u5njtsEIw+ii3+kCSNMXjxpccQECReKJwdjlnji6SCkUmRguOuArUExjc5lfM75nyVVAthQ1TwqxMSWZnuGvPEMBASpKaR16/5wiZTZG098tsjFXHpyZUkVZlScZ0DQiD3LIT/Y4ykQFpjXIRM5QGiFPX09M8KM0yKRP3cGRkIHNy+rGuNMaWrpBKxkfz3FAgoRpe6KivnqAksBAjIHWsx+OR/FUiBcu4K+nhZcEoQeoFd+vu5FEkiJYJ0Rrx8TxqoiGbHkSg34ggYZhnKmsanv/kqEqkRuMJDFY1fIcMQRk9RWvpo5KgIOXqDA3+ICCEIVE1blw4TE5+WWQEKZGPuvjhwUAIJJiw4Ib9vgcwEETNqNntwWblGBZD6konFgpVlJCYLgiXgYwAQDSiTR244izZAenz08JJBJbcVCn543GG4dljsngIxMGRh2Hpk/5xBeMBbvnz7cDcc5GD1Jj04oRNmwlUzO4/PCNaJtLFcp9/6wbNoQ2FlADJOeC6lKAjFbl8T/ALhCIEYEQUpv5Pu6LCEnrHB6ePWMzgmyiU32PMMniABSqYEl173d53sE5CmKGGR0P9lSUAxYijIDbP2+GEhNxeAenEUkg9EbvmQJQBJhisP1zyZBUpCZG3UGv4OgSEhc9+ueKF30Jk1J3woouEQQvcrwISEBJCFx63v+H3NGrl9iPfiFYrY0IRg9R8/uBEIUAKpJD9HGA0oDP6w19/ZjURklFCzOl/u2IchBCmpGcv7ZZkBmxQyeyP6wugilaMnPV14fZoQA10vrEs6xnYyhCKQ3H+/vPBWEa5w4wH5fRGpqmB+xYiamHzDy6EpNQj33eesCYcaKZXavRj82upxlIEWDvL+sVHhIIjR1u/b2JT0TFzFfaP5K5CwWDMOVcbx2TN4ECWXdKHZMm+apkbAyiZFiJ7j2cbBQGGhucueRMKBaCmVLo4WYJiEQBgdyvGZqRQsY19M8qLgIS1tj1nkCuR4DrQKOnfDc9KkIZXpwQj4rNBmHvvzxffuxg4CcRwkEWIlPz3xKY4qVntZKI5FUOhJ4qNzwozNyJAav/OQ5GgkEPwGngiJJgylDyx21fKpRXSSLHMMJ7eGCCYAhTUH5Yb/U5wSkYQ2HphZ9dzQVWSWYvtumvq8E1QAYKIiYQt7+KIZHArnfbrkuAJKtSMxB5GeTQwAQba2QcH7462rAgpva/wBvABb2IPnrHDn6K7kWJl0+nKgbgRVZNuyyednsE2EgayF8cASFUnurkrhYoRilyQB9XiMVqoEtB9NxygCqkAoLZNuuETQgBjNMKUw8q7orAyzHDRsBTYRyHEIfhphCRqBbOGSXS3bDNtVSvEz3KYAhOKb3yRVEtAbcLvkvb1h3E8kNgikjYeoc8NYFSlb4BF/840IAjLcVCLswefXkSBWALaAmAJZ3HCRAi07dz1G/jkCZhQMrAyhv9SqFdgUjMLq3188W3OUYRMpteBBFCmXZ8v44xkMAmq+TccmROUDKTfoTvhYlwNh8S9choiAiAK2tr9enGQiFzM7MAa9eFAAZDmfP45AV7gBO43PBZQgbJLZTr/nJFkW01PhfLTEIubUK9PffnkwFZAoFUo7dvTm/LQHWCG5vkVSkiRSbPB6cDsRIMogYR2/svHLlMajlIOiDkVDm2nn+n8cUp0UhYBqVLLPvvaAlabtkjp3+zwShCySSm2i+f8MoZ2kcHtM9HpCJWCUC0jxTHi/PBtQQgSDCNobz78sDJgCz4JCsffDDliBKZc0KiujriQDpEMBge2bjHrb0yVPUR6D6S8jz0kAZC9oPxxzUJAoSkMWstseDkjImSrORY8OIBFRIIu2R5cnziCyQzQ6evHg4BAs1ZUtGvTgSGAwnSTylvgHMkm11OcXGuaJv4Bw+kp3xEarZEVSPbkhBM2lyY+HXCzKEDIEcRAkTIJh4zgkARiVzS4/5xsaLLZUPEF8lzFYAFEQRmE8Z90jaLKaYm9u+3lmiWJgIK2n0/EqqTWNh0Rgx83NRDEQCzRcv7zGLItMVurT9OcNYbSnOCQL8AHXoVukAZGHAwq3vfdnAKYGF4bBG7+7KoQwJkc+pr+sRiuCsuMDECDH8EYjsjlPKez2/KNAF5EJZ5nhHA9yUSJ6avggYyGW0nwbjkNEZoWRRE2+nLCVRZGFv4OAk9OALK5tROde4eDKCp6Q9uXX2RTEAcWlevHGC7gijl63ycMhaJUSDoRvjtHKbzC6WptrgThlZCzMy5sjbe1h1wmxHOdPU3yYIakQ1snb0VxnRjDaCn1r+uYzhQWRsq6QsHf1soIZo7Q7n+yrQk5eaupg8+PiqFkHxyntg/gAi4zCiVRmr9d7NLRSl+WAB7fMoBlQUoIaTmV16dcG5qgwkoBFSh7+wmbDAy7Gp+/1pGCGEbog9eK67guF+PxrTKH1YMZH644JEKGw1nzHAASFgT8vjgkCCUHyfPfFiyDJboHo74AlDJWp6+3ZxneMBWEKGh/ejIKAlKUTkb3H/ADjDJFVSGRcD6p5LQ1xAJG1dnifvcc1pmo6dkZ4NwACJlZoriPn8C0JCgGC1p8MTypEQrhRCFwL30+6kFakyzK+iif6ooYBJh2O1fT4EkFAXkE65PPt7uw0xFDMthqNe27CUqUhY29r4zAgNlCaV6Kqz4mAUo2llJSwwf9ucSEZEgiGO2b9fmIsvA3oDg8PGejgUhYwTM+MfigjA2QLgHriK17o2lZDhXOoifSOEWRmzMys1YmdciRYCNlE+nCRJIpJybPpPryjXUFI+m7nikjOYW0aALfT4KxEE1jMp1Jj29Tg2EiZBbV7n78OObwIAltxbw8QNOWE9NdnnhaqBiqXb1zLBDRZ+OUvgM1mSbJp9eIgSGVOS/R0cfR3RFsJhZPXhR6zbOKpOJxwYoJYKmUxOwFr093AgjAtisptmb8fEeMDKFnTx7/5MMgskwNy2bo7j3aeWbQEgwvaYuvy0MhoPKzfSH6zyOVMkRAtqrFfrQbGJxvsOVSLUq1ec4jjnQAnwfXHFACfbEqnzxtAlCvm2dxPEFo1HBFSds8m7hEHC/Ajf+8iLGBCGbH8zw+IAoNkQAakL/wA4gCVAgosmiKOvrMZVGBhv1XI/4SJqFAU14cRWamlLjfQ88nb0vtoKBZveeMcAW4SEp6hjhCcYAwBy7MlcZcAktiagHnFcAoE7vClvQDg7Fo1RmCcr49fSOaSBKs7LFF/94w69ACpZGFYivpyXrWMFDJ3fefvwIEFYkPKcAl8XxpCiqsgbDlaHkJykChiImEvf/OIlABUgtOcRH+TMokiMmkYJO/LxKlKhmeo0d8FAsJx7kLx9EtJRhx7cDIvApP41xmiqTLiHOLeQCQLbT6McsO8SNtlfxwUQc2n7f+8VMSTBiJZYLmd8CoorEErR19ObyBwGZZJ08ccg1VUSoMysl/7NIRrdGKS8fl5YhBNqdH7fEVpG02BLEes75WKSQb6L0XXnj3IQqlJtMqO+JAto9lGh0a4djhABbyFaB11PooqOS5EO4yOpn/tRAgRONSIOz0+B9BSAwNsLY7PHsmxiIKkIPNnf7np9bAHo3tB57ZggqmJQgFoYckHp6RZMGYaMCNE03+oSEilhWYT0ZriDlSVOzOZWv64hSTkrMRh1WeTxZKpa117dcNAAhE4sk7Tm55JEIooSbvoGeR5HUSYLe/HEkABQihKBrP64JJYJbK+xbMcJGEkjAgnss1/KI6hhwCOgN7xXJCJSYR/mOMVIlyzNVHXG0MyNkmfXgOMSQAIgDLMRT68IsMiKcFVE98gkJQCRIZdRj68bGhgz2iLlx/WKBiZbZIA0V618MoaQA6JXMYr/AIAhAkAgJqGZtn18LRBWkDBKsEBmn/qISbAqtMfJ6x7LYGMSS6HU5v8AwgQ6lET3NMeONropCwCSBuV/u2RQJJbo4rlh8pCS8nR3n4pi5AiEycQyvn/Uky3Eq8VUxxqUggmUWyy1k9/DGAcCM1ryY9I4zEpQAbZ3Bo/4hIwYgHAnni2dJDFXanr+eHMoxvm4Onz9uHIiKjElHq6+eAygSDBEZloTrjqNFFlOkG2+uSwSEkbMXo69eL7GZCYbFMPGBVjIAMZgyq354OCgK6Q/yv8AFKASrEky6Oiuo0HDELsAyU0BK/v3EIgqPFgkBFsL/wBb90lrc1TIiox8R2TLckwWnbNXPggiqsixccQuy8VwrDIFpoW0t7+q8pCAhFdjGL+PZgzJkJIhue46L4SkmagWv0J4sgBIOFi5fHXAyMYpOU788nbJo70cZIWKyu2JvfKUwKIHVwhxqoTL1LgeMiYyJgKDUPAWWAQUnC+jkAmUAKdK8Kn/AHl48u0iFz1K41rSVAu/Evt68Z4MAMoB20fzygFDCDAevcfnl8ABVKjsNOp4zB8QFt6PW8cqyoAnVpabjx/pgAkjBQZkfN+PwpUMjYlK1G+6fMRDzQsgpmGmwg/1AUbA2DAMQ/8AHiSBmIHTikxa/wDHh1PJImEXOl6/FMMpoSCxmymn388aC0WJu1evDPvd9RhUMlZ/D68KYSgr9huMz/2GcIEKC2S3Ma8/EioAZ2JUDctnj2lnDIIkUak6f0cnAKMR5pGWcH+wCAhFofcX74rgzMTPtoCP5OJJVs0wUO3qjglIcShsy/vigIW4ghTrR8cg0xMiah9J+ueBCIdMETWY5rIIqjXnjJmR30SX6cbjeucWY6KqZCeEMSwBGoeXHKjNTMmGTxyaMLGsZC9zFfxMrkmpgCWeTJuce5WSgAKmhnEJvxx0JQRaAPklK6z7SkkyAlF8TEseeMnEMbJHpCv62UqoUgDYTmdcBIzaQkRQmKh+vs+mMlzhljgRC6QYtHqL3/oAQQkWMqcPUcPoIiEE7R68LcLEGyH3L8keOTVHBLkMrQTw+6JJDlV8nc/uIwEMyii/CJ4wbNLRE2/nh5Imk0MaT/eKNkrIVMvXjhCJRuwgGmJa88CIIgZQxA4IYeFkUySIiZyz45NQLQQyIlB4sBNQ8Gegf3gxYKEEsI6wSfqSCUpfSfanvk/JgVsWXoh/YeLUDJOIwvcuJ4xj1hTNgZuxweOJGCWRqZNwYi/iJHIGEDFwE5e2hnzyKQ5hNdaIhjgqWgMxO6ssV8cXW5Qks4iNLywDBSEye/jkBPBKU3G54GQvAIlfdj04tIbVWH15NCzBiJBNh574AQw05J0k9HGEEyVlX++QQuJPAzPFBsQgNGNh3PIQpNGZh7wI78cayUEFIdZPkcMghSiTVgdK55IhmSKWSXUb4sFOQOhZt9WuZCpkbViMjV3P/OJF2EKDcMnA0DZsdHrrgw7WNRwjsgFMcmtI5kmMe7DXp4hkoUI47Tt2T3u5izhbJEmQ6bDfqyIEIZmWEuxhQ/cqHDydzhjUTeOsVEWuhKFZWfFRi/NkYeBWiWAGG+fyyeMLDMpeHQwv9ApCFcbYD3SMGmvS/IJSGFDIPKsW6+qzKhlWdyam/v3NsyyMDIJZXH9B/XMMgWYl5f1RkPckJKaHj+UP8u6QuXzWie/nMk4FLMiWB3/AdIhKUFVwyBgI/QQiMw9gj3TvzxJlAEIUxqITn/vJhJjU5si+w8DAhkEhU4R4KWC+6xwgUAT1LJjtnB68CAM0JvCfl1wgyUJKUvzNR9tTyZsWp0Nv79ZDgoUiJUHSL9eAuUZKyQe2ER8RFDwU0R+IOQv44ufEMq11LIGKH62aihdWE+oWv7NbqAzWJcgxHeo+BJWkCiTEr6jkKgwiwQqFn/s7uEFQUUo2jvb+3M7YsjXZ21X40HYkvTJAB67nx8AxUCZCrMrQnRmfkLfK2s7PNn1+W8k2ds0PgrrHwj5HIYHR71wCMreSp4b5OGlIczO3WPn34fSMRRM5CKnw5z54w0gRQyYoTx3wbIocabHU6OTQFrZl5zfEsghWKapjTwQwJQzEO2RU0f4IY0iGygjL6v8At5hAhrfXb/qoJSLRHd+deTxSwWEMNqFehn28QJgrQer7x1P7NAAT6Lcs/n1WgdkJlsh2d+DEVQSViBUgteXxWOBVEqVCsqTvLGfzQpAEjbhKd8RWFVtmJ+/bkufUErYajgQBMy1x28n74rlwo2I6XbxancoGGAfT8ccFir0T2nAvnCRqQGl3yRt3JIoXHk74gN1wTODlqOuXBFWMuQ7PXhCCwXb2aMmeNGkm1kMO+ov25CYsiCWR4GGf7xIOgZJDoIY5KCCpJEOvpxCKgpoTpHczxQlFJpC7T9XpxmgSVQIaOzxwySSqtBArC99fV7nG4wmzMr7ch05IAQHXs4n9wXBIUqwGKsjo4JUlCzsPYjWOvOSYEqSKZHCZ31wKSwvCWM/lj6UlSVAWcFytI9uGgZxJIxkyVW3+RgxgzLwjUgn+eCICBKJMG31+sYFHq8j0RafjPHJFi0pFNjPz8zQ1y0Bdbubz3wUGLkEMDrvv00IknITkJNxRHGNbuZAK91XxcMiauzwIuOHVvfBDIbujqOCdDBQH3LvdcYZgQCi09DHMEQCQ8ead2TEfHOh5oJSS+OnHHOxW9KCKe98TlzCJAskQPy+3BgInSxtG/wC9myId40dC59flhI6oVPgGOGeWRIdBv34oakpJTuNEZiyOEBISChfMYQY3rXBJC5iaNGd25Y/HFIUc1qyjozGOQFYFLJK3tHzxDQTmww0DTr3J1yRAksCSo7MB7cmCwFTY5Rt+vIMNiJTJBOvMXxTCUQhLeyf6eFDGyoarGM8LLecoxcTXd6+vDqIEFNNC75I8QbfFSarfBcgiiLNfjrjwM4ZGuvWeGAQOxi17/XHVBYuHy+jgkSSowITZ1PvxSDO2y5wtH64xihsMGydn65ODVEGCEmOIa/o4naK8lcLelfVPfWwsQZL8vr++FgFpXroDhH8PErDgyBmwbzj1jrmMEUEoCHgn0fvxqEtJhDK5P5XrzAwzXW3ss8WUgSBl0HTiJQIQZPZPXg5YTFoVExPlI0/vkQxz2usmgceAUgm09v7PpyAiEAy20rxyGnhQxaLl9JxxULKJDUxQ9Nxx0Lfe2/XihiEIIlDJ6TwqwClFnqeq5IJUtiO0Ob3wUBEFEN6vU7OSxAlQhTu/y4gEnLShOUnz9eM8SkykHUdN8FmIAgQ+V7jlUI0SgQCz04JYiLBiFxC7rXnhYTENfu8m+AwYgaU0EPhHv7Q/cgVEhwXw+/yQgJlXiUw2u/V9QSqEAhMkR0G4evhQVCFqxt4NR16RI2AkQVcNnZzO5sICyRCj0IFxm33sUVJJNnZTE+M9HIgIrMh7gw349nElSChlYdKfL7KbQoVLbYiWXtn3jGRAksKDQeNPWupJACAZTqGT9RMcTJRYbDtxRHx2ZMOgCa/kD4AdAqGJtlX9ThpAhswjvP8AEFl6DCLwk69kvAFWEYkZIuVXvPqbSQjCrdRpdeOsYRD9XEVIwHGnzj35JAFQrjE4pD367kjICQIQq/hyAQDLUQLEGJ89fALSiUSlbpAn0+RBrhRXoNeRZ/soZLLbJqTCOvxSCZMipZt5hiP+U6gGRESMICp/PyxGjBkUsnmD+7qKQwRSlsKP7AJCFDCNFbM5+OkoHQLIzY4Y0XnF8FyHFYgkZeVmXz8xmx0iOcxFBERvvoo8Q8BRCu3zwpAZJUGJNS8YeAQVkMdMHJhxxoRaO/ifGoqSbawIVoTx3yswuZRwriqx38hsnCTEhiu3iOgAEUbg/PHIxDUIif5JnkixxEUjR5eKhjSRVjWqP7ungQQkz2feo/VBIg5uKTECvpwoICEBMJv0vjIwBBZDSrKv39+R0HKZGODRu+vcIZRskxBsJ8Pb0BWIaWEyB8nfl4gqSqQaZowGQfPqqkC4IMrrs9OvFSICElIWoad/xxgHrkDslmOvvughBdWkHMvEgIMUmRbYRhr+0sCpARKrT4A1HtzemwLIadPX+RKlwhQHa/S+BDwJGQ7/AMUeKYFUZWhBlcpOIGCYBk106k4MMBpMGU3bvkWHf+DXLy8mIWsfBuOTWIMZbx3Jvi5JliygGI6nt74wCT0gltg7q+BMIC0pUbYzJxSYWKS816TxR2UT9zzxtJCHvDvw/vgpgUEA2eJ89cGZQoF7lv1TPLs3gWHiDS8NLLZY4slVBMcHZgGZhbybg81xAqChkz46tM8DY8XCXCinRNn7m4Dsy9D1BIk+/fACuIcBHhCbd+nIH4aF7M22iuSgpYUkR0ZT71yVCohrG+ILe59+BxYxIAudbvETyMSVKYlgal0+OYiZIBO31cFUtWSMvcNlOeHLIoCFBQ6nPfEYZgBI3bwEUfXk42aYd3XKPjgCYwRMFIxAXHAMyUZQlRn2enIGZQSSukyT1jhICB6DI+nNcOiyuiXIqt8BFHJQMRADAkT3yRRICgW36BGOCguFiWuDz54mpFosUZiIl9uEnqgluQsvr6cYZiRS+j5cpwCwWWOlwhygq0pIp6kv54iskUhIj0TXE3y4MzubbnXAYdFb4B60nLPnvlyPAZPob9eISWWFEja9uuKTjoEjs4/zhEAkFPyZgr+sBECoNUn5cfOeV5CxInCD0GORHGwCAytHgjH65SsqzRIqXxfP75NJzSHSg1JnlSC0ZdyXfIBCE1lU44qkRJbB2xvvhu2KArkC5XjxlyJSGPQ9Pxw1wcmh7HjEcRTiQOpfvj3CbKoiBMQWs8y6JOKk33HFePEQOaQyFMBaB/fXBSRSi135Ap9+R0LGBQEOW01xwFmQnWbwjDD8cWSFkmLhclynjUcEBbTkDR2Fv6+eDOZMrZDqM8JEBLiDeZ/zXs3V70GhPk5JXcQTBX2M+eEARbtDIpte+TBEqCaUvDruPTkhKhoGfEnpzw0K4LVXlTmOOYhAoWAOzkIlAXEqYtwhhQGWHl4Y4BA0OkWHR1M8CBswQMobhsOToSkSUE6ZH/vE2SoLPgPTzF14IRvbuvHGAQSwLSOjU6XXIJcIdiC4nfvw0SSlAd9nrjEgRwCVDYPbiUVGiWqVmoVMcsCI5BFmOTqd/MMykKDAilvXBEv3tOxwWUyQ+qM+90pVgmmdn8ZvZIFImwETlxBE+2OkYdkCNzMQxXAVrrYFSrokPvvYnAQEWwPeXpHEGRyISIXBu4+niiQAqIywqrcxngJB4FmUTLoJRP7XuZ3YcwZt3j7QApBUgamwCT/VCRqpBFlLrUm9cismEjY9wkZ0/JCQSjIRcjUf3iZoK9p2Npwf0RCwShOIQAx/fIJKWJldzxBHz8ukkkRChv5THhwDCkGxTE54rIQVJDHluHiciEFBg5Xf34HJSwrSJOs/HJDIiiwlSYm4/oBSIJgxjgbt/tpJf2VWAcAcLBIJ0suPK/GfaIgpCtKJevl5IRkttJc44WadA3B9t0cJzYAFpuuuQS3WJiloTD679+VnZMEYAnm2Z4IIMSWxWngCPH5QB2LVQZwytap4ygcgyxqHJXFshKhDPkSf1gosQIMvR3fzwYxo0NiPDhyDopEi2fmu+TTEwgVOjtOvPypU0gRLmXfWOJ1eWQ3nIridHuAlMDKQ0A3Gj7aBwMJCRtmziv8AU6glOZX6ujPrXLZCkVmH2rfifY8S80wBlM3RXKERDaA0Pv5z8wJcLqqxGkMe/wAiQcHCTGxZT19ekSiQCRhiCTREz48RzT/BgkV7DHu+02AKQKqJM+hW+KBJMEMyRAvg9sfCAApFt7TY45QdQNaWAre7/wBdaCkR4J6HFmUZzRMOvP8AeIZMgJk+gDuOAmDFhBZdrx7cjQ1CWujd4m+Mh2IaowzHU8LYVGLFurVUcIAnkJD2mOq4ZKobcYiOk4ElBIQadeZO+BZoFi0kzCdzwhlSSAQB+eMgGEhThTwh7CGHuJs8v71opgcmjRxAWIgGaIyR3EeeIU8AJ1MjTwsBIAlgq8kHW35G2AZCKbPLMb/FTpIHamCYzc9fQlIhyJGO2i4i8/MiCYIQA4XfZ6+smshBWWUsKATVyfDqBEkVhLOUqoqfoMCHQIpPq+MPm5MCJYJZDJFzHfm5JHRNT6LJ/HxCCgfApEQJH9qc0HM4/MCoK/IYYKk3bE7bJP7kEYrpZMqDGvDr4SrCzK8ego+nwcpDCMcwGHvtPW8osgplzKLWSTU5u0BrwUzce1x6ekBVGBFrqavv+JGAZJpsgpGv5fRAFGX5BRPXy9/AFVDNHba/5ImcbGJbUY1eNCbCqoZUxt1vPngCHQiqBouDGu334Yo8shm+x0enEoKpJAbgsLGd/aagQYNHJkghx39SbhgFSiFtG37/AHEcoCyL7hr/AD2BhDYsmIVeCg/hUTKIszJaV+kPzJFAgSFCS/hwcdRBKBuc19/GpQV0aIGLTPDJJZqVYLl4LUbfdKgK5wMwdpcPn3C8IlAsp3YqqjHwWIWZl7Jloxg9vHJWZQVF6wO0Z+uw5GhgnDMZ/wAcWywJLgnTJ9/8YIVpk4oBte/p0QkYhKhJ6BHXeO5Smuy2YyMqvfn14ZQStkUUxXyx8BJDNFusznFYPTHEFDW+SHR27jz8yMKgGhgwo4P71TABK7TdmFiCv+UP0sJI0B3f24uqSCc+UeJiv9aJZUFTK4fMycz0UUEDBYiD+wRKaSFBgw2tTj24ol/JBQe+n/VIRJQpshusx68iMWLQOk5J/vEiBBYrvQd+n+cuIyVfPZ3j+7MIIKiaNxNy64aYoFsejxVfHGQoLCoYt4JpMtOe488UZCMNkRWfjgIxQ7SoH2cUAkNu1In78lTUWhVKH14yAzEQggte3EKEzApvMcYLSTY0EiePDgkkPmDhCU5IwRNcfKgxLTRHxyCAAgTtT98TDfpnQB8vIgAshlgQxF1jgAoJWlog49Pq8tLt40AN+eGQpKRDMLxhHg4CYnUojGQbszwP5kA2RN1jjzyFQLGVIFzbfCwICfSQse7g1BygIZQScHDl0jCFDO2DiaEFvIqlYy8hK9PIScyxbEeZuYWh8WtQm774tkBmmyjusccitmImzlcy5344QYJ/0E/fiOJNI4FN4or14duSgywaInxnPIBQDwKAJrL6capZ9MpNFnsg8HJ0ySWgLRtS/XggzMjICLopRypmOc2Ubu8/pxksKSEowYTN8u0JpDSBmiscjsiMWRbS21yfia4o6g7l9OFKRt4JLmYMDxyB0fFlspNrBfJ2MIpELAXRXG36NJMpSzeeCkNigpcT3wWuLK1QEziiuJHjgWd7bGuGnNVTBFgnpeH0glyUW2cE0cWxRABQWSba+/BPJYxyMF0QPl4lE+amYAt9PIGLZFEBr1cUsZtufDOKcnRiCSTVLdtcMSJdOjATAXrhCWxWQobmYt5LikNmIgbtrfrwwfZklRF0QcGcrbObnObfTmzRIRACHHRICUtsT3X7PHz44qoSO/HECOATQqBNZ+3IwiABhUD8vLFkkrSH34fXkuKWnsQJ+OIwUWaDKvraOJUQIyiAEw+ea1hm5br04hIXQsFZuZ1yVjpaTiE35fTlfcChyWJnhlyMnNP05hIro9T7cZhDTDebX78tQg4rGnGrS4hwxL8c/9k='"
     },
     "execution_count": 94,
     "metadata": {},
     "output_type": "execute_result"
    }
   ],
   "source": [
    "# Try the function out on the first row of data\n",
    "get_image_base64(data.iloc[0])"
   ],
   "metadata": {
    "collapsed": false
   }
  },
  {
   "cell_type": "code",
   "execution_count": 72,
   "outputs": [],
   "source": [
    "# Test the image classifier api\n",
    "\n",
    "import requests\n",
    "\n",
    "response = requests.post(\"https://persing-clip-interrogator.hf.space/run/clipit\", json={\n",
    "  \"data\": [\n",
    "    \"data:image/png;base64,iVBORw0KGgoAAAANSUhEUgAAAAEAAAABCAYAAAAfFcSJAAAACklEQVR4nGMAAQAABQABDQottAAAAABJRU5ErkJggg==\",\n",
    "    \"ViT-L (best for Stable Diffusion 1.*)\",\n",
    "    \"best\",\n",
    "]}).json()\n",
    "\n",
    "description = response[\"data\"]\n"
   ],
   "metadata": {
    "collapsed": false
   }
  },
  {
   "cell_type": "code",
   "execution_count": 73,
   "outputs": [
    {
     "data": {
      "text/plain": "['a couple of giraffe standing on top of a lush green field, libra symbol, darkmode, drawn with a single line, glagolitic glyph, 100, in a dark room, by Sōami, nba logo, necromorph, full width, anamorpic lens, vertical, horizon centered, oled, gigapixel, top',\n {'visible': True, '__type__': 'update'},\n {'visible': True, '__type__': 'update'},\n {'visible': True, '__type__': 'update'}]"
     },
     "execution_count": 73,
     "metadata": {},
     "output_type": "execute_result"
    }
   ],
   "source": [
    "description"
   ],
   "metadata": {
    "collapsed": false
   }
  },
  {
   "cell_type": "code",
   "execution_count": 109,
   "outputs": [],
   "source": [
    "# create a function to get the description from the image\n",
    "\n",
    "def get_description(image_base64):\n",
    "    response = requests.post(\"https://persing-clip-interrogator.hf.space/run/clipit\", json={\n",
    "        \"data\": [\n",
    "            \"data:image/png;base64,\" + image_base64 ,\n",
    "            \"ViT-L (best for Stable Diffusion 1.*)\",\n",
    "            \"fast\",\n",
    "        ]}).json()\n",
    "    return response[\"data\"]\n"
   ],
   "metadata": {
    "collapsed": false
   }
  },
  {
   "cell_type": "code",
   "execution_count": 96,
   "outputs": [
    {
     "data": {
      "text/plain": "['a close up of a painting of a dragon, style of yoshitaka amano, yoshitaka amano character design, from magic the gathering, magic the gathering art style, the jabberwock, mtg art, from software game, by Yoshitaka Amano, stu_dts, ophanim has bird wings, eldrazi',\n {'visible': True, '__type__': 'update'},\n {'visible': True, '__type__': 'update'},\n {'visible': True, '__type__': 'update'}]"
     },
     "execution_count": 96,
     "metadata": {},
     "output_type": "execute_result"
    }
   ],
   "source": [
    "# Test the function\n",
    "get_description(get_image_base64(data.iloc[0]))"
   ],
   "metadata": {
    "collapsed": false
   }
  },
  {
   "cell_type": "code",
   "execution_count": 77,
   "outputs": [],
   "source": [
    "# add a column to the dataset with the art_description for the first 10 rows\n",
    "data['art_description'] = data.iloc[:1].apply(lambda row: get_description(get_image_base64(row)), axis=1)\n"
   ],
   "metadata": {
    "collapsed": false
   }
  },
  {
   "cell_type": "code",
   "execution_count": 143,
   "outputs": [
    {
     "name": "stdout",
     "output_type": "stream",
     "text": [
      "45.215770959854126\n"
     ]
    }
   ],
   "source": [
    "# time how long it takes to get the descriptions for the first 5 rows\n",
    "import time\n",
    "start = time.time()\n",
    "data['art_description'] = data.iloc[:5].apply(lambda row: get_description(get_image_base64(row)), axis=1)\n",
    "end = time.time()\n",
    "print(end - start)\n",
    "\n"
   ],
   "metadata": {
    "collapsed": false
   }
  },
  {
   "cell_type": "code",
   "execution_count": 120,
   "outputs": [
    {
     "data": {
      "text/plain": "(25438, 13)"
     },
     "execution_count": 120,
     "metadata": {},
     "output_type": "execute_result"
    }
   ],
   "source": [
    "# get the size of the dataset\n",
    "data.shape\n"
   ],
   "metadata": {
    "collapsed": false
   }
  },
  {
   "cell_type": "code",
   "execution_count": 82,
   "outputs": [
    {
     "data": {
      "text/plain": "953.925"
     },
     "execution_count": 82,
     "metadata": {},
     "output_type": "execute_result"
    }
   ],
   "source": [
    "# 135 seconds time the data size, then divide by 60*60 to get the hours\n",
    "135*25438/(60*60)"
   ],
   "metadata": {
    "collapsed": false
   }
  },
  {
   "cell_type": "code",
   "execution_count": 98,
   "outputs": [
    {
     "data": {
      "text/plain": "88.32638888888889"
     },
     "execution_count": 98,
     "metadata": {},
     "output_type": "execute_result"
    }
   ],
   "source": [
    "# that was the time before I changed the api call to fast from best\n",
    "12.5*25438/(60*60)"
   ],
   "metadata": {
    "collapsed": false
   }
  },
  {
   "cell_type": "code",
   "execution_count": 99,
   "outputs": [
    {
     "data": {
      "text/plain": "(616, 452)"
     },
     "execution_count": 99,
     "metadata": {},
     "output_type": "execute_result"
    }
   ],
   "source": [
    "# thats still way too long, maybe reduce the resolution of the images\n",
    "\n",
    "\n",
    "# Check the current size of the images\n",
    "import requests\n",
    "from io import BytesIO\n",
    "from PIL import Image\n",
    "\n",
    "url = get_image_url(data.iloc[0])\n",
    "response = requests.get(url)\n",
    "img = Image.open(BytesIO(response.content))\n",
    "img.size\n"
   ],
   "metadata": {
    "collapsed": false
   }
  },
  {
   "cell_type": "code",
   "execution_count": 100,
   "outputs": [
    {
     "data": {
      "text/plain": "(256, 256)"
     },
     "execution_count": 100,
     "metadata": {},
     "output_type": "execute_result"
    }
   ],
   "source": [
    "# I wonder how acurate the image classifier is with the lower resolution images\n",
    "# Let's try it with 256x256 images\n",
    "\n",
    "# resize the image\n",
    "img = img.resize((256, 256))\n",
    "img.size"
   ],
   "metadata": {
    "collapsed": false
   }
  },
  {
   "cell_type": "code",
   "execution_count": 101,
   "outputs": [
    {
     "ename": "TypeError",
     "evalue": "a bytes-like object is required, not 'Image'",
     "output_type": "error",
     "traceback": [
      "\u001B[0;31m---------------------------------------------------------------------------\u001B[0m",
      "\u001B[0;31mTypeError\u001B[0m                                 Traceback (most recent call last)",
      "Cell \u001B[0;32mIn[101], line 2\u001B[0m\n\u001B[1;32m      1\u001B[0m \u001B[38;5;66;03m# convert the image to base64\u001B[39;00m\n\u001B[0;32m----> 2\u001B[0m base64_image \u001B[38;5;241m=\u001B[39m base64\u001B[38;5;241m.\u001B[39mb64encode(\u001B[43mBytesIO\u001B[49m\u001B[43m(\u001B[49m\u001B[43mimg\u001B[49m\u001B[43m)\u001B[49m\u001B[38;5;241m.\u001B[39mgetvalue())\u001B[38;5;241m.\u001B[39mdecode(\u001B[38;5;124m'\u001B[39m\u001B[38;5;124mutf-8\u001B[39m\u001B[38;5;124m'\u001B[39m)\n\u001B[1;32m      4\u001B[0m \u001B[38;5;66;03m# get the description\u001B[39;00m\n\u001B[1;32m      5\u001B[0m description \u001B[38;5;241m=\u001B[39m get_description(base64_image)\n",
      "\u001B[0;31mTypeError\u001B[0m: a bytes-like object is required, not 'Image'"
     ]
    }
   ],
   "source": [
    "# convert the image to base64\n",
    "base64_image = base64.b64encode(BytesIO(response.content).getvalue()).decode('utf-8')\n",
    "\n",
    "# get the description\n",
    "description = get_description(base64_image)"
   ],
   "metadata": {
    "collapsed": false
   }
  },
  {
   "cell_type": "code",
   "execution_count": 88,
   "outputs": [
    {
     "data": {
      "text/plain": "[\"a close up of a painting of a dragon, konami concept art, necromorph, looking like a bird, from 2001, card game illustration, long boi, punpun onodera, by Kanō Tan'yū, darkpowerful elegant, angelic and unsettling, barren, bisley, persian, tabletop miniature\",\n {'visible': True, '__type__': 'update'},\n {'visible': True, '__type__': 'update'},\n {'visible': True, '__type__': 'update'}]"
     },
     "execution_count": 88,
     "metadata": {},
     "output_type": "execute_result"
    }
   ],
   "source": [
    "description"
   ],
   "metadata": {
    "collapsed": false
   }
  },
  {
   "cell_type": "code",
   "execution_count": 102,
   "outputs": [],
   "source": [
    "# let's redefine the get_image_base64 function to resize the image to 256x256\n",
    "\n",
    "\n",
    "# def get_image_base64(card):\n",
    "#     url = get_image_url(card)\n",
    "#     response = requests.get(url)\n",
    "#     img = Image.open(BytesIO(response.content))\n",
    "#     img = img.resize((256, 256))\n",
    "#     img_byte_arr = BytesIO()\n",
    "#     img.save(img_byte_arr, format='PNG')\n",
    "#     img_byte_arr = img_byte_arr.getvalue()\n",
    "#     return base64.b64encode(BytesIO(img_byte_arr).getvalue()).decode('utf-8')"
   ],
   "metadata": {
    "collapsed": false
   }
  },
  {
   "cell_type": "code",
   "execution_count": 103,
   "outputs": [
    {
     "name": "stdout",
     "output_type": "stream",
     "text": [
      "13.386348724365234\n"
     ]
    }
   ],
   "source": [
    "# It looks like that still works, so let's try timing the first 5 rows again but this time resize the images to 256x256\n",
    "start = time.time()\n",
    "data['art_description'] = data.iloc[:5].apply(lambda row: get_description(get_image_base64(row)), axis=1)\n",
    "end = time.time()\n",
    "print(end - start)\n"
   ],
   "metadata": {
    "collapsed": false
   }
  },
  {
   "cell_type": "code",
   "execution_count": 108,
   "outputs": [
    {
     "name": "stdout",
     "output_type": "stream",
     "text": [
      "12.40333104133606\n"
     ]
    }
   ],
   "source": [
    "# that actually took longer. I wonder if it's because the images are being resized. Let's try it again but this time resize the images before the api call\n",
    "\n",
    "# here we will resize the images before the api call and store the base64 encoded image in the art_description column\n",
    "data['art_description'] = data.iloc[:5].apply(lambda row: get_image_base64(row), axis=1)\n",
    "\n",
    "# now we will get the description from the base64 encoded image and time it\n",
    "start = time.time()\n",
    "data['art_description'] = data.iloc[:5].apply(lambda row: get_description(row['art_description']), axis=1)\n",
    "end = time.time()\n",
    "print(end - start)"
   ],
   "metadata": {
    "collapsed": false
   }
  },
  {
   "cell_type": "code",
   "execution_count": 107,
   "outputs": [
    {
     "data": {
      "text/plain": "1678926153.998484"
     },
     "execution_count": 107,
     "metadata": {},
     "output_type": "execute_result"
    }
   ],
   "source": [
    "# That still took longer, I guess the model is already downsizing the images. So there is no point in downsizing the images before the api call"
   ],
   "metadata": {
    "collapsed": false
   }
  },
  {
   "cell_type": "code",
   "execution_count": 137,
   "outputs": [
    {
     "data": {
      "text/plain": "0"
     },
     "execution_count": 137,
     "metadata": {},
     "output_type": "execute_result"
    }
   ],
   "source": [
    "# let's see if all rows have a value for art_crop\n",
    "data['image_uris'].isnull().sum()\n",
    "# 0 rows have a null value for image_uris so now lets see if all of the image uris have an art_crop\n",
    "data['image_uris'].apply(lambda x: x['art_crop'] if x is not None else None).isnull().sum()\n",
    "\n",
    "# data['image_uris'][0]['art_crop']"
   ],
   "metadata": {
    "collapsed": false
   }
  },
  {
   "cell_type": "code",
   "execution_count": 145,
   "outputs": [],
   "source": [
    "# looks like we cant cut down on the number of descriptions we need to get maybe we can run this locally to avoid some costs\n"
   ],
   "metadata": {
    "collapsed": false
   }
  },
  {
   "cell_type": "code",
   "execution_count": 146,
   "outputs": [
    {
     "data": {
      "text/plain": "Downloading (…)lve/main/config.json:   0%|          | 0.00/4.61k [00:00<?, ?B/s]",
      "application/vnd.jupyter.widget-view+json": {
       "version_major": 2,
       "version_minor": 0,
       "model_id": "e80bb54cb9384b849b97a4aaec9be21e"
      }
     },
     "metadata": {},
     "output_type": "display_data"
    },
    {
     "data": {
      "text/plain": "Downloading pytorch_model.bin:   0%|          | 0.00/982M [00:00<?, ?B/s]",
      "application/vnd.jupyter.widget-view+json": {
       "version_major": 2,
       "version_minor": 0,
       "model_id": "7834794598bf43adacaaccecb8618bec"
      }
     },
     "metadata": {},
     "output_type": "display_data"
    },
    {
     "data": {
      "text/plain": "Downloading (…)okenizer_config.json:   0%|          | 0.00/241 [00:00<?, ?B/s]",
      "application/vnd.jupyter.widget-view+json": {
       "version_major": 2,
       "version_minor": 0,
       "model_id": "da35957db0ae430cb89db6147adf4dd4"
      }
     },
     "metadata": {},
     "output_type": "display_data"
    },
    {
     "data": {
      "text/plain": "Downloading (…)olve/main/vocab.json:   0%|          | 0.00/798k [00:00<?, ?B/s]",
      "application/vnd.jupyter.widget-view+json": {
       "version_major": 2,
       "version_minor": 0,
       "model_id": "fac52a0c92a14e5289884a8fe22c0fbf"
      }
     },
     "metadata": {},
     "output_type": "display_data"
    },
    {
     "data": {
      "text/plain": "Downloading (…)olve/main/merges.txt:   0%|          | 0.00/456k [00:00<?, ?B/s]",
      "application/vnd.jupyter.widget-view+json": {
       "version_major": 2,
       "version_minor": 0,
       "model_id": "89b220f07276429ebc4678b3579d1002"
      }
     },
     "metadata": {},
     "output_type": "display_data"
    },
    {
     "data": {
      "text/plain": "Downloading (…)/main/tokenizer.json:   0%|          | 0.00/1.36M [00:00<?, ?B/s]",
      "application/vnd.jupyter.widget-view+json": {
       "version_major": 2,
       "version_minor": 0,
       "model_id": "ec479fae964342738df33ab82adde522"
      }
     },
     "metadata": {},
     "output_type": "display_data"
    },
    {
     "data": {
      "text/plain": "Downloading (…)cial_tokens_map.json:   0%|          | 0.00/120 [00:00<?, ?B/s]",
      "application/vnd.jupyter.widget-view+json": {
       "version_major": 2,
       "version_minor": 0,
       "model_id": "d0c7a8c05db443d094dd42f91c592642"
      }
     },
     "metadata": {},
     "output_type": "display_data"
    },
    {
     "data": {
      "text/plain": "Downloading (…)rocessor_config.json:   0%|          | 0.00/228 [00:00<?, ?B/s]",
      "application/vnd.jupyter.widget-view+json": {
       "version_major": 2,
       "version_minor": 0,
       "model_id": "2c93d4440e7241af91b1cec1fabb41aa"
      }
     },
     "metadata": {},
     "output_type": "display_data"
    },
    {
     "name": "stderr",
     "output_type": "stream",
     "text": [
      "/Users/nickpersing/PycharmProjects/nanoGPT/nanoGPT/venv/lib/python3.9/site-packages/transformers/models/vit/feature_extraction_vit.py:28: FutureWarning: The class ViTFeatureExtractor is deprecated and will be removed in version 5 of Transformers. Please use ViTImageProcessor instead.\n",
      "  warnings.warn(\n",
      "/Users/nickpersing/PycharmProjects/nanoGPT/nanoGPT/venv/lib/python3.9/site-packages/transformers/generation/utils.py:1273: UserWarning: Neither `max_length` nor `max_new_tokens` has been set, `max_length` will default to 20 (`generation_config.max_length`). Controlling `max_length` via the config is deprecated and `max_length` will be removed from the config in v5 of Transformers -- we recommend using `max_new_tokens` to control the maximum length of the generation.\n",
      "  warnings.warn(\n"
     ]
    },
    {
     "data": {
      "text/plain": "[{'generated_text': 'a soccer game with a player jumping to catch the ball '}]"
     },
     "execution_count": 146,
     "metadata": {},
     "output_type": "execute_result"
    }
   ],
   "source": [
    "from transformers import pipeline\n",
    "\n",
    "image_to_text = pipeline(\"image-to-text\", model=\"nlpconnect/vit-gpt2-image-captioning\")\n",
    "\n",
    "image_to_text(\"https://ankur3107.github.io/assets/images/image-captioning-example.png\")\n"
   ],
   "metadata": {
    "collapsed": false
   }
  },
  {
   "cell_type": "code",
   "execution_count": 147,
   "outputs": [
    {
     "data": {
      "text/plain": "[{'generated_text': 'a painting of a bird with a fish in its mouth '}]"
     },
     "execution_count": 147,
     "metadata": {},
     "output_type": "execute_result"
    }
   ],
   "source": [
    "# let's try it on the first row of the dataset\n",
    "image_to_text(get_image_url(data.iloc[0]))"
   ],
   "metadata": {
    "collapsed": false
   }
  },
  {
   "cell_type": "code",
   "execution_count": 148,
   "outputs": [
    {
     "name": "stdout",
     "output_type": "stream",
     "text": [
      "3.133573055267334\n"
     ]
    }
   ],
   "source": [
    "# let's try it on the first 5 rows of the dataset and time it\n",
    "\n",
    "start = time.time()\n",
    "data['art_description'] = data.iloc[:5].apply(lambda row: image_to_text(get_image_url(row)), axis=1)\n",
    "end = time.time()\n",
    "print(end - start)\n"
   ],
   "metadata": {
    "collapsed": false
   }
  },
  {
   "cell_type": "code",
   "execution_count": null,
   "outputs": [],
   "source": [],
   "metadata": {
    "collapsed": false
   }
  }
 ],
 "metadata": {
  "kernelspec": {
   "display_name": "Python 3",
   "language": "python",
   "name": "python3"
  },
  "language_info": {
   "codemirror_mode": {
    "name": "ipython",
    "version": 2
   },
   "file_extension": ".py",
   "mimetype": "text/x-python",
   "name": "python",
   "nbconvert_exporter": "python",
   "pygments_lexer": "ipython2",
   "version": "2.7.6"
  }
 },
 "nbformat": 4,
 "nbformat_minor": 0
}
