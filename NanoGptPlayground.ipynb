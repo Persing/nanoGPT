{
 "cells": [
  {
   "cell_type": "code",
   "execution_count": null,
   "metadata": {
    "collapsed": true
   },
   "outputs": [],
   "source": []
  },
  {
   "cell_type": "code",
   "execution_count": 1,
   "outputs": [
    {
     "name": "stdout",
     "output_type": "stream",
     "text": [
      "Collecting transformers\r\n",
      "  Using cached transformers-4.26.1-py3-none-any.whl (6.3 MB)\r\n",
      "Requirement already satisfied: filelock in ./venv/lib/python3.9/site-packages (from transformers) (3.9.0)\r\n",
      "Requirement already satisfied: huggingface-hub<1.0,>=0.11.0 in ./venv/lib/python3.9/site-packages (from transformers) (0.12.1)\r\n",
      "Requirement already satisfied: requests in ./venv/lib/python3.9/site-packages (from transformers) (2.28.2)\r\n",
      "Collecting tokenizers!=0.11.3,<0.14,>=0.11.1\r\n",
      "  Using cached tokenizers-0.13.2-cp39-cp39-macosx_12_0_arm64.whl (3.7 MB)\r\n",
      "Requirement already satisfied: pyyaml>=5.1 in ./venv/lib/python3.9/site-packages (from transformers) (6.0)\r\n",
      "Requirement already satisfied: tqdm>=4.27 in ./venv/lib/python3.9/site-packages (from transformers) (4.65.0)\r\n",
      "Requirement already satisfied: numpy>=1.17 in ./venv/lib/python3.9/site-packages (from transformers) (1.24.2)\r\n",
      "Requirement already satisfied: packaging>=20.0 in ./venv/lib/python3.9/site-packages (from transformers) (23.0)\r\n",
      "Requirement already satisfied: regex!=2019.12.17 in ./venv/lib/python3.9/site-packages (from transformers) (2022.10.31)\r\n",
      "Requirement already satisfied: typing-extensions>=3.7.4.3 in ./venv/lib/python3.9/site-packages (from huggingface-hub<1.0,>=0.11.0->transformers) (4.5.0)\r\n",
      "Requirement already satisfied: charset-normalizer<4,>=2 in ./venv/lib/python3.9/site-packages (from requests->transformers) (3.0.1)\r\n",
      "Requirement already satisfied: idna<4,>=2.5 in ./venv/lib/python3.9/site-packages (from requests->transformers) (3.4)\r\n",
      "Requirement already satisfied: urllib3<1.27,>=1.21.1 in ./venv/lib/python3.9/site-packages (from requests->transformers) (1.26.14)\r\n",
      "Requirement already satisfied: certifi>=2017.4.17 in ./venv/lib/python3.9/site-packages (from requests->transformers) (2022.12.7)\r\n",
      "Installing collected packages: tokenizers, transformers\r\n",
      "Successfully installed tokenizers-0.13.2 transformers-4.26.1\r\n",
      "Requirement already satisfied: datasets in ./venv/lib/python3.9/site-packages (2.10.1)\r\n",
      "Requirement already satisfied: xxhash in ./venv/lib/python3.9/site-packages (from datasets) (3.2.0)\r\n",
      "Requirement already satisfied: tqdm>=4.62.1 in ./venv/lib/python3.9/site-packages (from datasets) (4.65.0)\r\n",
      "Requirement already satisfied: pyyaml>=5.1 in ./venv/lib/python3.9/site-packages (from datasets) (6.0)\r\n",
      "Requirement already satisfied: packaging in ./venv/lib/python3.9/site-packages (from datasets) (23.0)\r\n",
      "Requirement already satisfied: pandas in ./venv/lib/python3.9/site-packages (from datasets) (1.5.3)\r\n",
      "Requirement already satisfied: huggingface-hub<1.0.0,>=0.2.0 in ./venv/lib/python3.9/site-packages (from datasets) (0.12.1)\r\n",
      "Requirement already satisfied: pyarrow>=6.0.0 in ./venv/lib/python3.9/site-packages (from datasets) (11.0.0)\r\n",
      "Requirement already satisfied: aiohttp in ./venv/lib/python3.9/site-packages (from datasets) (3.8.4)\r\n",
      "Requirement already satisfied: multiprocess in ./venv/lib/python3.9/site-packages (from datasets) (0.70.14)\r\n",
      "Requirement already satisfied: requests>=2.19.0 in ./venv/lib/python3.9/site-packages (from datasets) (2.28.2)\r\n",
      "Requirement already satisfied: fsspec[http]>=2021.11.1 in ./venv/lib/python3.9/site-packages (from datasets) (2023.3.0)\r\n",
      "Requirement already satisfied: responses<0.19 in ./venv/lib/python3.9/site-packages (from datasets) (0.18.0)\r\n",
      "Requirement already satisfied: dill<0.3.7,>=0.3.0 in ./venv/lib/python3.9/site-packages (from datasets) (0.3.6)\r\n",
      "Requirement already satisfied: numpy>=1.17 in ./venv/lib/python3.9/site-packages (from datasets) (1.24.2)\r\n",
      "Requirement already satisfied: frozenlist>=1.1.1 in ./venv/lib/python3.9/site-packages (from aiohttp->datasets) (1.3.3)\r\n",
      "Requirement already satisfied: multidict<7.0,>=4.5 in ./venv/lib/python3.9/site-packages (from aiohttp->datasets) (6.0.4)\r\n",
      "Requirement already satisfied: yarl<2.0,>=1.0 in ./venv/lib/python3.9/site-packages (from aiohttp->datasets) (1.8.2)\r\n",
      "Requirement already satisfied: attrs>=17.3.0 in ./venv/lib/python3.9/site-packages (from aiohttp->datasets) (22.2.0)\r\n",
      "Requirement already satisfied: charset-normalizer<4.0,>=2.0 in ./venv/lib/python3.9/site-packages (from aiohttp->datasets) (3.0.1)\r\n",
      "Requirement already satisfied: async-timeout<5.0,>=4.0.0a3 in ./venv/lib/python3.9/site-packages (from aiohttp->datasets) (4.0.2)\r\n",
      "Requirement already satisfied: aiosignal>=1.1.2 in ./venv/lib/python3.9/site-packages (from aiohttp->datasets) (1.3.1)\r\n",
      "Requirement already satisfied: typing-extensions>=3.7.4.3 in ./venv/lib/python3.9/site-packages (from huggingface-hub<1.0.0,>=0.2.0->datasets) (4.5.0)\r\n",
      "Requirement already satisfied: filelock in ./venv/lib/python3.9/site-packages (from huggingface-hub<1.0.0,>=0.2.0->datasets) (3.9.0)\r\n",
      "Requirement already satisfied: certifi>=2017.4.17 in ./venv/lib/python3.9/site-packages (from requests>=2.19.0->datasets) (2022.12.7)\r\n",
      "Requirement already satisfied: idna<4,>=2.5 in ./venv/lib/python3.9/site-packages (from requests>=2.19.0->datasets) (3.4)\r\n",
      "Requirement already satisfied: urllib3<1.27,>=1.21.1 in ./venv/lib/python3.9/site-packages (from requests>=2.19.0->datasets) (1.26.14)\r\n",
      "Requirement already satisfied: python-dateutil>=2.8.1 in ./venv/lib/python3.9/site-packages (from pandas->datasets) (2.8.2)\r\n",
      "Requirement already satisfied: pytz>=2020.1 in ./venv/lib/python3.9/site-packages (from pandas->datasets) (2022.7.1)\r\n",
      "Requirement already satisfied: six>=1.5 in ./venv/lib/python3.9/site-packages (from python-dateutil>=2.8.1->pandas->datasets) (1.16.0)\r\n",
      "Requirement already satisfied: tiktoken in ./venv/lib/python3.9/site-packages (0.3.0)\r\n",
      "Requirement already satisfied: blobfile>=2 in ./venv/lib/python3.9/site-packages (from tiktoken) (2.0.1)\r\n",
      "Requirement already satisfied: requests>=2.26.0 in ./venv/lib/python3.9/site-packages (from tiktoken) (2.28.2)\r\n",
      "Requirement already satisfied: regex>=2022.1.18 in ./venv/lib/python3.9/site-packages (from tiktoken) (2022.10.31)\r\n",
      "Requirement already satisfied: pycryptodomex~=3.8 in ./venv/lib/python3.9/site-packages (from blobfile>=2->tiktoken) (3.17)\r\n",
      "Requirement already satisfied: lxml~=4.9 in ./venv/lib/python3.9/site-packages (from blobfile>=2->tiktoken) (4.9.2)\r\n",
      "Requirement already satisfied: filelock~=3.0 in ./venv/lib/python3.9/site-packages (from blobfile>=2->tiktoken) (3.9.0)\r\n",
      "Requirement already satisfied: urllib3<3,>=1.25.3 in ./venv/lib/python3.9/site-packages (from blobfile>=2->tiktoken) (1.26.14)\r\n",
      "Requirement already satisfied: certifi>=2017.4.17 in ./venv/lib/python3.9/site-packages (from requests>=2.26.0->tiktoken) (2022.12.7)\r\n",
      "Requirement already satisfied: idna<4,>=2.5 in ./venv/lib/python3.9/site-packages (from requests>=2.26.0->tiktoken) (3.4)\r\n",
      "Requirement already satisfied: charset-normalizer<4,>=2 in ./venv/lib/python3.9/site-packages (from requests>=2.26.0->tiktoken) (3.0.1)\r\n",
      "Collecting wandb\r\n",
      "  Using cached wandb-0.13.10-py3-none-any.whl (2.0 MB)\r\n",
      "Requirement already satisfied: typing-extensions in ./venv/lib/python3.9/site-packages (from wandb) (4.5.0)\r\n",
      "Requirement already satisfied: psutil>=5.0.0 in ./venv/lib/python3.9/site-packages (from wandb) (5.9.4)\r\n",
      "Collecting GitPython>=1.0.0\r\n",
      "  Using cached GitPython-3.1.31-py3-none-any.whl (184 kB)\r\n",
      "Collecting setproctitle\r\n",
      "  Using cached setproctitle-1.3.2-cp39-cp39-macosx_10_9_universal2.whl (16 kB)\r\n",
      "Collecting docker-pycreds>=0.4.0\r\n",
      "  Using cached docker_pycreds-0.4.0-py2.py3-none-any.whl (9.0 kB)\r\n",
      "Collecting protobuf!=4.21.0,<5,>=3.19.0\r\n",
      "  Using cached protobuf-4.22.0-cp37-abi3-macosx_10_9_universal2.whl (397 kB)\r\n",
      "Requirement already satisfied: requests<3,>=2.0.0 in ./venv/lib/python3.9/site-packages (from wandb) (2.28.2)\r\n",
      "Collecting pathtools\r\n",
      "  Using cached pathtools-0.1.2.tar.gz (11 kB)\r\n",
      "  Preparing metadata (setup.py) ... \u001B[?25ldone\r\n",
      "\u001B[?25hCollecting appdirs>=1.4.3\r\n",
      "  Using cached appdirs-1.4.4-py2.py3-none-any.whl (9.6 kB)\r\n",
      "Requirement already satisfied: PyYAML in ./venv/lib/python3.9/site-packages (from wandb) (6.0)\r\n",
      "Collecting Click!=8.0.0,>=7.0\r\n",
      "  Using cached click-8.1.3-py3-none-any.whl (96 kB)\r\n",
      "Requirement already satisfied: setuptools in ./venv/lib/python3.9/site-packages (from wandb) (65.5.1)\r\n",
      "Collecting sentry-sdk>=1.0.0\r\n",
      "  Using cached sentry_sdk-1.16.0-py2.py3-none-any.whl (184 kB)\r\n",
      "Requirement already satisfied: six>=1.4.0 in ./venv/lib/python3.9/site-packages (from docker-pycreds>=0.4.0->wandb) (1.16.0)\r\n",
      "Collecting gitdb<5,>=4.0.1\r\n",
      "  Using cached gitdb-4.0.10-py3-none-any.whl (62 kB)\r\n",
      "Requirement already satisfied: urllib3<1.27,>=1.21.1 in ./venv/lib/python3.9/site-packages (from requests<3,>=2.0.0->wandb) (1.26.14)\r\n",
      "Requirement already satisfied: idna<4,>=2.5 in ./venv/lib/python3.9/site-packages (from requests<3,>=2.0.0->wandb) (3.4)\r\n",
      "Requirement already satisfied: charset-normalizer<4,>=2 in ./venv/lib/python3.9/site-packages (from requests<3,>=2.0.0->wandb) (3.0.1)\r\n",
      "Requirement already satisfied: certifi>=2017.4.17 in ./venv/lib/python3.9/site-packages (from requests<3,>=2.0.0->wandb) (2022.12.7)\r\n",
      "Collecting smmap<6,>=3.0.1\r\n",
      "  Using cached smmap-5.0.0-py3-none-any.whl (24 kB)\r\n",
      "Building wheels for collected packages: pathtools\r\n",
      "  Building wheel for pathtools (setup.py) ... \u001B[?25ldone\r\n",
      "\u001B[?25h  Created wheel for pathtools: filename=pathtools-0.1.2-py3-none-any.whl size=8791 sha256=bd4e28b16e1a5edef3b318e33e9364516f700a9a87288172de2d7d1e2288b98d\r\n",
      "  Stored in directory: /Users/nickpersing/Library/Caches/pip/wheels/b7/0a/67/ada2a22079218c75a88361c0782855cc72aebc4d18d0289d05\r\n",
      "Successfully built pathtools\r\n",
      "Installing collected packages: pathtools, appdirs, smmap, setproctitle, sentry-sdk, protobuf, docker-pycreds, Click, gitdb, GitPython, wandb\r\n",
      "Successfully installed Click-8.1.3 GitPython-3.1.31 appdirs-1.4.4 docker-pycreds-0.4.0 gitdb-4.0.10 pathtools-0.1.2 protobuf-4.22.0 sentry-sdk-1.16.0 setproctitle-1.3.2 smmap-5.0.0 wandb-0.13.10\r\n",
      "Requirement already satisfied: tqdm in ./venv/lib/python3.9/site-packages (4.65.0)\r\n"
     ]
    }
   ],
   "source": [
    "!pip install transformers\n",
    "!pip install datasets\n",
    "!pip install tiktoken\n",
    "!pip install wandb\n",
    "!pip install tqdm"
   ],
   "metadata": {
    "collapsed": false
   }
  },
  {
   "cell_type": "code",
   "execution_count": 1,
   "outputs": [],
   "source": [
    "import pandas as pd\n",
    "data = pd.read_json('data/mtg_char/default-cards-20230313210730.json')"
   ],
   "metadata": {
    "collapsed": false
   }
  },
  {
   "cell_type": "code",
   "execution_count": 5,
   "outputs": [
    {
     "name": "stdout",
     "output_type": "stream",
     "text": [
      "(80731, 84)\n"
     ]
    },
    {
     "data": {
      "text/plain": "  object                                    id  \\\n0   card  0000579f-7b35-4ed3-b44c-db2a538066fe   \n1   card  00006596-1166-4a79-8443-ca9f82e6db4e   \n2   card  0000a54c-a511-4925-92dc-01b937f9afad   \n3   card  0000cd57-91fe-411f-b798-646e965eec37   \n4   card  00012bd8-ed68-4978-a22d-f450c8a6e048   \n\n                              oracle_id multiverse_ids  mtgo_id  mtgo_foil_id  \\\n0  44623693-51d6-49ad-8cd7-140505caf02f       [109722]  25527.0       25528.0   \n1  8ae3562f-28b7-4462-96ed-be0cf7052ccc       [189637]  34586.0       34587.0   \n2  dc4e2134-f0c2-49aa-9ea3-ebf83af1445c             []      NaN           NaN   \n3  9f0d82ae-38bf-45d8-8cda-982b6ead1d72       [435231]  65170.0       65171.0   \n4  5aa12aff-db3c-4be5-822b-3afdf536b33e         [1278]      NaN           NaN   \n\n   tcgplayer_id  cardmarket_id           name lang  ... tcgplayer_etched_id  \\\n0       14240.0        13850.0    Fury Sliver   en  ...                 NaN   \n1       33347.0        21851.0  Kor Outfitter   en  ...                 NaN   \n2       98659.0            NaN         Spirit   en  ...                 NaN   \n3      145764.0       301766.0  Siren Lookout   en  ...                 NaN   \n4        1623.0         5664.0            Web   en  ...                 NaN   \n\n  attraction_lights color_indicator variation_of  life_modifier hand_modifier  \\\n0               NaN             NaN          NaN            NaN           NaN   \n1               NaN             NaN          NaN            NaN           NaN   \n2               NaN             NaN          NaN            NaN           NaN   \n3               NaN             NaN          NaN            NaN           NaN   \n4               NaN             NaN          NaN            NaN           NaN   \n\n  printed_type_line printed_text  content_warning flavor_name  \n0               NaN          NaN              NaN         NaN  \n1               NaN          NaN              NaN         NaN  \n2               NaN          NaN              NaN         NaN  \n3               NaN          NaN              NaN         NaN  \n4               NaN          NaN              NaN         NaN  \n\n[5 rows x 84 columns]",
      "text/html": "<div>\n<style scoped>\n    .dataframe tbody tr th:only-of-type {\n        vertical-align: middle;\n    }\n\n    .dataframe tbody tr th {\n        vertical-align: top;\n    }\n\n    .dataframe thead th {\n        text-align: right;\n    }\n</style>\n<table border=\"1\" class=\"dataframe\">\n  <thead>\n    <tr style=\"text-align: right;\">\n      <th></th>\n      <th>object</th>\n      <th>id</th>\n      <th>oracle_id</th>\n      <th>multiverse_ids</th>\n      <th>mtgo_id</th>\n      <th>mtgo_foil_id</th>\n      <th>tcgplayer_id</th>\n      <th>cardmarket_id</th>\n      <th>name</th>\n      <th>lang</th>\n      <th>...</th>\n      <th>tcgplayer_etched_id</th>\n      <th>attraction_lights</th>\n      <th>color_indicator</th>\n      <th>variation_of</th>\n      <th>life_modifier</th>\n      <th>hand_modifier</th>\n      <th>printed_type_line</th>\n      <th>printed_text</th>\n      <th>content_warning</th>\n      <th>flavor_name</th>\n    </tr>\n  </thead>\n  <tbody>\n    <tr>\n      <th>0</th>\n      <td>card</td>\n      <td>0000579f-7b35-4ed3-b44c-db2a538066fe</td>\n      <td>44623693-51d6-49ad-8cd7-140505caf02f</td>\n      <td>[109722]</td>\n      <td>25527.0</td>\n      <td>25528.0</td>\n      <td>14240.0</td>\n      <td>13850.0</td>\n      <td>Fury Sliver</td>\n      <td>en</td>\n      <td>...</td>\n      <td>NaN</td>\n      <td>NaN</td>\n      <td>NaN</td>\n      <td>NaN</td>\n      <td>NaN</td>\n      <td>NaN</td>\n      <td>NaN</td>\n      <td>NaN</td>\n      <td>NaN</td>\n      <td>NaN</td>\n    </tr>\n    <tr>\n      <th>1</th>\n      <td>card</td>\n      <td>00006596-1166-4a79-8443-ca9f82e6db4e</td>\n      <td>8ae3562f-28b7-4462-96ed-be0cf7052ccc</td>\n      <td>[189637]</td>\n      <td>34586.0</td>\n      <td>34587.0</td>\n      <td>33347.0</td>\n      <td>21851.0</td>\n      <td>Kor Outfitter</td>\n      <td>en</td>\n      <td>...</td>\n      <td>NaN</td>\n      <td>NaN</td>\n      <td>NaN</td>\n      <td>NaN</td>\n      <td>NaN</td>\n      <td>NaN</td>\n      <td>NaN</td>\n      <td>NaN</td>\n      <td>NaN</td>\n      <td>NaN</td>\n    </tr>\n    <tr>\n      <th>2</th>\n      <td>card</td>\n      <td>0000a54c-a511-4925-92dc-01b937f9afad</td>\n      <td>dc4e2134-f0c2-49aa-9ea3-ebf83af1445c</td>\n      <td>[]</td>\n      <td>NaN</td>\n      <td>NaN</td>\n      <td>98659.0</td>\n      <td>NaN</td>\n      <td>Spirit</td>\n      <td>en</td>\n      <td>...</td>\n      <td>NaN</td>\n      <td>NaN</td>\n      <td>NaN</td>\n      <td>NaN</td>\n      <td>NaN</td>\n      <td>NaN</td>\n      <td>NaN</td>\n      <td>NaN</td>\n      <td>NaN</td>\n      <td>NaN</td>\n    </tr>\n    <tr>\n      <th>3</th>\n      <td>card</td>\n      <td>0000cd57-91fe-411f-b798-646e965eec37</td>\n      <td>9f0d82ae-38bf-45d8-8cda-982b6ead1d72</td>\n      <td>[435231]</td>\n      <td>65170.0</td>\n      <td>65171.0</td>\n      <td>145764.0</td>\n      <td>301766.0</td>\n      <td>Siren Lookout</td>\n      <td>en</td>\n      <td>...</td>\n      <td>NaN</td>\n      <td>NaN</td>\n      <td>NaN</td>\n      <td>NaN</td>\n      <td>NaN</td>\n      <td>NaN</td>\n      <td>NaN</td>\n      <td>NaN</td>\n      <td>NaN</td>\n      <td>NaN</td>\n    </tr>\n    <tr>\n      <th>4</th>\n      <td>card</td>\n      <td>00012bd8-ed68-4978-a22d-f450c8a6e048</td>\n      <td>5aa12aff-db3c-4be5-822b-3afdf536b33e</td>\n      <td>[1278]</td>\n      <td>NaN</td>\n      <td>NaN</td>\n      <td>1623.0</td>\n      <td>5664.0</td>\n      <td>Web</td>\n      <td>en</td>\n      <td>...</td>\n      <td>NaN</td>\n      <td>NaN</td>\n      <td>NaN</td>\n      <td>NaN</td>\n      <td>NaN</td>\n      <td>NaN</td>\n      <td>NaN</td>\n      <td>NaN</td>\n      <td>NaN</td>\n      <td>NaN</td>\n    </tr>\n  </tbody>\n</table>\n<p>5 rows × 84 columns</p>\n</div>"
     },
     "execution_count": 5,
     "metadata": {},
     "output_type": "execute_result"
    }
   ],
   "source": [
    "# peek at the data\n",
    "print(data.shape)\n",
    "data.head()"
   ],
   "metadata": {
    "collapsed": false
   }
  },
  {
   "cell_type": "code",
   "execution_count": 6,
   "outputs": [
    {
     "data": {
      "text/plain": "      object                                    id  \\\n0       card  0000579f-7b35-4ed3-b44c-db2a538066fe   \n1       card  00006596-1166-4a79-8443-ca9f82e6db4e   \n2       card  0000a54c-a511-4925-92dc-01b937f9afad   \n3       card  0000cd57-91fe-411f-b798-646e965eec37   \n4       card  00012bd8-ed68-4978-a22d-f450c8a6e048   \n...      ...                                   ...   \n80726   card  fffc0bfd-8e64-44bf-ae0a-5d2ee54c58df   \n80727   card  fffcbc4e-c6dc-4808-b262-f7c453e74dd8   \n80728   card  fffce2f7-b619-4483-a75e-916343194641   \n80729   card  fffe7b2b-22c3-4e6a-9b1b-c6d7b29b9f86   \n80730   card  ffff0825-9996-4ae5-90c8-cb976ccf4ae0   \n\n                                  oracle_id multiverse_ids  \\\n0      44623693-51d6-49ad-8cd7-140505caf02f       [109722]   \n1      8ae3562f-28b7-4462-96ed-be0cf7052ccc       [189637]   \n2      dc4e2134-f0c2-49aa-9ea3-ebf83af1445c             []   \n3      9f0d82ae-38bf-45d8-8cda-982b6ead1d72       [435231]   \n4      5aa12aff-db3c-4be5-822b-3afdf536b33e         [1278]   \n...                                     ...            ...   \n80726  dc4a4996-108a-4aac-850f-2d9f76403446             []   \n80727  2979597d-c3cc-4585-a9b7-7fa15641b030             []   \n80728  6ecc61ff-719a-405d-b02a-01607729d05c        [45404]   \n80729  d7ebd4a7-c542-469f-8a1c-d48b92fa540a       [439664]   \n80730  92d6af2f-728e-4e41-87cb-5c90878a2f2f             []   \n\n                      name lang released_at  \\\n0              Fury Sliver   en  2006-10-06   \n1            Kor Outfitter   en  2009-10-02   \n2                   Spirit   en  2015-05-22   \n3            Siren Lookout   en  2017-09-29   \n4                      Web   en  1994-04-01   \n...                    ...  ...         ...   \n80726            Boomerang  zhs  1997-03-24   \n80727       Celestine Reef   en  2009-09-30   \n80728         Horned Troll   en  2003-07-28   \n80729  Exultant Skymarcher   en  2018-01-19   \n80730         Disintegrate   en  2022-11-28   \n\n                                                     uri  \\\n0      https://api.scryfall.com/cards/0000579f-7b35-4...   \n1      https://api.scryfall.com/cards/00006596-1166-4...   \n2      https://api.scryfall.com/cards/0000a54c-a511-4...   \n3      https://api.scryfall.com/cards/0000cd57-91fe-4...   \n4      https://api.scryfall.com/cards/00012bd8-ed68-4...   \n...                                                  ...   \n80726  https://api.scryfall.com/cards/fffc0bfd-8e64-4...   \n80727  https://api.scryfall.com/cards/fffcbc4e-c6dc-4...   \n80728  https://api.scryfall.com/cards/fffce2f7-b619-4...   \n80729  https://api.scryfall.com/cards/fffe7b2b-22c3-4...   \n80730  https://api.scryfall.com/cards/ffff0825-9996-4...   \n\n                                            scryfall_uri  layout  ...  \\\n0      https://scryfall.com/card/tsp/157/fury-sliver?...  normal  ...   \n1      https://scryfall.com/card/zen/21/kor-outfitter...  normal  ...   \n2      https://scryfall.com/card/tmm2/5/spirit?utm_so...   token  ...   \n3      https://scryfall.com/card/xln/78/siren-lookout...  normal  ...   \n4      https://scryfall.com/card/3ed/229/web?utm_sour...  normal  ...   \n...                                                  ...     ...  ...   \n80726  https://scryfall.com/card/5ed/75s/zhs/boomeran...  normal  ...   \n80727  https://scryfall.com/card/pdci/42/celestine-re...  planar  ...   \n80728  https://scryfall.com/card/8ed/257/horned-troll...  normal  ...   \n80729  https://scryfall.com/card/rix/7/exultant-skyma...  normal  ...   \n80730  https://scryfall.com/card/30a/137/disintegrate...  normal  ...   \n\n       printed_name card_faces attraction_lights color_indicator  \\\n0               NaN        NaN               NaN             NaN   \n1               NaN        NaN               NaN             NaN   \n2               NaN        NaN               NaN             NaN   \n3               NaN        NaN               NaN             NaN   \n4               NaN        NaN               NaN             NaN   \n...             ...        ...               ...             ...   \n80726           NaN        NaN               NaN             NaN   \n80727           NaN        NaN               NaN             NaN   \n80728           NaN        NaN               NaN             NaN   \n80729           NaN        NaN               NaN             NaN   \n80730           NaN        NaN               NaN             NaN   \n\n       life_modifier hand_modifier printed_type_line printed_text  \\\n0                NaN           NaN               NaN          NaN   \n1                NaN           NaN               NaN          NaN   \n2                NaN           NaN               NaN          NaN   \n3                NaN           NaN               NaN          NaN   \n4                NaN           NaN               NaN          NaN   \n...              ...           ...               ...          ...   \n80726            NaN           NaN               NaN          NaN   \n80727            NaN           NaN               NaN          NaN   \n80728            NaN           NaN               NaN          NaN   \n80729            NaN           NaN               NaN          NaN   \n80730            NaN           NaN               NaN          NaN   \n\n      content_warning flavor_name  \n0                 NaN         NaN  \n1                 NaN         NaN  \n2                 NaN         NaN  \n3                 NaN         NaN  \n4                 NaN         NaN  \n...               ...         ...  \n80726             NaN         NaN  \n80727             NaN         NaN  \n80728             NaN         NaN  \n80729             NaN         NaN  \n80730             NaN         NaN  \n\n[80731 rows x 55 columns]",
      "text/html": "<div>\n<style scoped>\n    .dataframe tbody tr th:only-of-type {\n        vertical-align: middle;\n    }\n\n    .dataframe tbody tr th {\n        vertical-align: top;\n    }\n\n    .dataframe thead th {\n        text-align: right;\n    }\n</style>\n<table border=\"1\" class=\"dataframe\">\n  <thead>\n    <tr style=\"text-align: right;\">\n      <th></th>\n      <th>object</th>\n      <th>id</th>\n      <th>oracle_id</th>\n      <th>multiverse_ids</th>\n      <th>name</th>\n      <th>lang</th>\n      <th>released_at</th>\n      <th>uri</th>\n      <th>scryfall_uri</th>\n      <th>layout</th>\n      <th>...</th>\n      <th>printed_name</th>\n      <th>card_faces</th>\n      <th>attraction_lights</th>\n      <th>color_indicator</th>\n      <th>life_modifier</th>\n      <th>hand_modifier</th>\n      <th>printed_type_line</th>\n      <th>printed_text</th>\n      <th>content_warning</th>\n      <th>flavor_name</th>\n    </tr>\n  </thead>\n  <tbody>\n    <tr>\n      <th>0</th>\n      <td>card</td>\n      <td>0000579f-7b35-4ed3-b44c-db2a538066fe</td>\n      <td>44623693-51d6-49ad-8cd7-140505caf02f</td>\n      <td>[109722]</td>\n      <td>Fury Sliver</td>\n      <td>en</td>\n      <td>2006-10-06</td>\n      <td>https://api.scryfall.com/cards/0000579f-7b35-4...</td>\n      <td>https://scryfall.com/card/tsp/157/fury-sliver?...</td>\n      <td>normal</td>\n      <td>...</td>\n      <td>NaN</td>\n      <td>NaN</td>\n      <td>NaN</td>\n      <td>NaN</td>\n      <td>NaN</td>\n      <td>NaN</td>\n      <td>NaN</td>\n      <td>NaN</td>\n      <td>NaN</td>\n      <td>NaN</td>\n    </tr>\n    <tr>\n      <th>1</th>\n      <td>card</td>\n      <td>00006596-1166-4a79-8443-ca9f82e6db4e</td>\n      <td>8ae3562f-28b7-4462-96ed-be0cf7052ccc</td>\n      <td>[189637]</td>\n      <td>Kor Outfitter</td>\n      <td>en</td>\n      <td>2009-10-02</td>\n      <td>https://api.scryfall.com/cards/00006596-1166-4...</td>\n      <td>https://scryfall.com/card/zen/21/kor-outfitter...</td>\n      <td>normal</td>\n      <td>...</td>\n      <td>NaN</td>\n      <td>NaN</td>\n      <td>NaN</td>\n      <td>NaN</td>\n      <td>NaN</td>\n      <td>NaN</td>\n      <td>NaN</td>\n      <td>NaN</td>\n      <td>NaN</td>\n      <td>NaN</td>\n    </tr>\n    <tr>\n      <th>2</th>\n      <td>card</td>\n      <td>0000a54c-a511-4925-92dc-01b937f9afad</td>\n      <td>dc4e2134-f0c2-49aa-9ea3-ebf83af1445c</td>\n      <td>[]</td>\n      <td>Spirit</td>\n      <td>en</td>\n      <td>2015-05-22</td>\n      <td>https://api.scryfall.com/cards/0000a54c-a511-4...</td>\n      <td>https://scryfall.com/card/tmm2/5/spirit?utm_so...</td>\n      <td>token</td>\n      <td>...</td>\n      <td>NaN</td>\n      <td>NaN</td>\n      <td>NaN</td>\n      <td>NaN</td>\n      <td>NaN</td>\n      <td>NaN</td>\n      <td>NaN</td>\n      <td>NaN</td>\n      <td>NaN</td>\n      <td>NaN</td>\n    </tr>\n    <tr>\n      <th>3</th>\n      <td>card</td>\n      <td>0000cd57-91fe-411f-b798-646e965eec37</td>\n      <td>9f0d82ae-38bf-45d8-8cda-982b6ead1d72</td>\n      <td>[435231]</td>\n      <td>Siren Lookout</td>\n      <td>en</td>\n      <td>2017-09-29</td>\n      <td>https://api.scryfall.com/cards/0000cd57-91fe-4...</td>\n      <td>https://scryfall.com/card/xln/78/siren-lookout...</td>\n      <td>normal</td>\n      <td>...</td>\n      <td>NaN</td>\n      <td>NaN</td>\n      <td>NaN</td>\n      <td>NaN</td>\n      <td>NaN</td>\n      <td>NaN</td>\n      <td>NaN</td>\n      <td>NaN</td>\n      <td>NaN</td>\n      <td>NaN</td>\n    </tr>\n    <tr>\n      <th>4</th>\n      <td>card</td>\n      <td>00012bd8-ed68-4978-a22d-f450c8a6e048</td>\n      <td>5aa12aff-db3c-4be5-822b-3afdf536b33e</td>\n      <td>[1278]</td>\n      <td>Web</td>\n      <td>en</td>\n      <td>1994-04-01</td>\n      <td>https://api.scryfall.com/cards/00012bd8-ed68-4...</td>\n      <td>https://scryfall.com/card/3ed/229/web?utm_sour...</td>\n      <td>normal</td>\n      <td>...</td>\n      <td>NaN</td>\n      <td>NaN</td>\n      <td>NaN</td>\n      <td>NaN</td>\n      <td>NaN</td>\n      <td>NaN</td>\n      <td>NaN</td>\n      <td>NaN</td>\n      <td>NaN</td>\n      <td>NaN</td>\n    </tr>\n    <tr>\n      <th>...</th>\n      <td>...</td>\n      <td>...</td>\n      <td>...</td>\n      <td>...</td>\n      <td>...</td>\n      <td>...</td>\n      <td>...</td>\n      <td>...</td>\n      <td>...</td>\n      <td>...</td>\n      <td>...</td>\n      <td>...</td>\n      <td>...</td>\n      <td>...</td>\n      <td>...</td>\n      <td>...</td>\n      <td>...</td>\n      <td>...</td>\n      <td>...</td>\n      <td>...</td>\n      <td>...</td>\n    </tr>\n    <tr>\n      <th>80726</th>\n      <td>card</td>\n      <td>fffc0bfd-8e64-44bf-ae0a-5d2ee54c58df</td>\n      <td>dc4a4996-108a-4aac-850f-2d9f76403446</td>\n      <td>[]</td>\n      <td>Boomerang</td>\n      <td>zhs</td>\n      <td>1997-03-24</td>\n      <td>https://api.scryfall.com/cards/fffc0bfd-8e64-4...</td>\n      <td>https://scryfall.com/card/5ed/75s/zhs/boomeran...</td>\n      <td>normal</td>\n      <td>...</td>\n      <td>NaN</td>\n      <td>NaN</td>\n      <td>NaN</td>\n      <td>NaN</td>\n      <td>NaN</td>\n      <td>NaN</td>\n      <td>NaN</td>\n      <td>NaN</td>\n      <td>NaN</td>\n      <td>NaN</td>\n    </tr>\n    <tr>\n      <th>80727</th>\n      <td>card</td>\n      <td>fffcbc4e-c6dc-4808-b262-f7c453e74dd8</td>\n      <td>2979597d-c3cc-4585-a9b7-7fa15641b030</td>\n      <td>[]</td>\n      <td>Celestine Reef</td>\n      <td>en</td>\n      <td>2009-09-30</td>\n      <td>https://api.scryfall.com/cards/fffcbc4e-c6dc-4...</td>\n      <td>https://scryfall.com/card/pdci/42/celestine-re...</td>\n      <td>planar</td>\n      <td>...</td>\n      <td>NaN</td>\n      <td>NaN</td>\n      <td>NaN</td>\n      <td>NaN</td>\n      <td>NaN</td>\n      <td>NaN</td>\n      <td>NaN</td>\n      <td>NaN</td>\n      <td>NaN</td>\n      <td>NaN</td>\n    </tr>\n    <tr>\n      <th>80728</th>\n      <td>card</td>\n      <td>fffce2f7-b619-4483-a75e-916343194641</td>\n      <td>6ecc61ff-719a-405d-b02a-01607729d05c</td>\n      <td>[45404]</td>\n      <td>Horned Troll</td>\n      <td>en</td>\n      <td>2003-07-28</td>\n      <td>https://api.scryfall.com/cards/fffce2f7-b619-4...</td>\n      <td>https://scryfall.com/card/8ed/257/horned-troll...</td>\n      <td>normal</td>\n      <td>...</td>\n      <td>NaN</td>\n      <td>NaN</td>\n      <td>NaN</td>\n      <td>NaN</td>\n      <td>NaN</td>\n      <td>NaN</td>\n      <td>NaN</td>\n      <td>NaN</td>\n      <td>NaN</td>\n      <td>NaN</td>\n    </tr>\n    <tr>\n      <th>80729</th>\n      <td>card</td>\n      <td>fffe7b2b-22c3-4e6a-9b1b-c6d7b29b9f86</td>\n      <td>d7ebd4a7-c542-469f-8a1c-d48b92fa540a</td>\n      <td>[439664]</td>\n      <td>Exultant Skymarcher</td>\n      <td>en</td>\n      <td>2018-01-19</td>\n      <td>https://api.scryfall.com/cards/fffe7b2b-22c3-4...</td>\n      <td>https://scryfall.com/card/rix/7/exultant-skyma...</td>\n      <td>normal</td>\n      <td>...</td>\n      <td>NaN</td>\n      <td>NaN</td>\n      <td>NaN</td>\n      <td>NaN</td>\n      <td>NaN</td>\n      <td>NaN</td>\n      <td>NaN</td>\n      <td>NaN</td>\n      <td>NaN</td>\n      <td>NaN</td>\n    </tr>\n    <tr>\n      <th>80730</th>\n      <td>card</td>\n      <td>ffff0825-9996-4ae5-90c8-cb976ccf4ae0</td>\n      <td>92d6af2f-728e-4e41-87cb-5c90878a2f2f</td>\n      <td>[]</td>\n      <td>Disintegrate</td>\n      <td>en</td>\n      <td>2022-11-28</td>\n      <td>https://api.scryfall.com/cards/ffff0825-9996-4...</td>\n      <td>https://scryfall.com/card/30a/137/disintegrate...</td>\n      <td>normal</td>\n      <td>...</td>\n      <td>NaN</td>\n      <td>NaN</td>\n      <td>NaN</td>\n      <td>NaN</td>\n      <td>NaN</td>\n      <td>NaN</td>\n      <td>NaN</td>\n      <td>NaN</td>\n      <td>NaN</td>\n      <td>NaN</td>\n    </tr>\n  </tbody>\n</table>\n<p>80731 rows × 55 columns</p>\n</div>"
     },
     "execution_count": 6,
     "metadata": {},
     "output_type": "execute_result"
    }
   ],
   "source": [
    "# drop some unnecessary columns\n",
    "data.drop(columns=['mtgo_id', 'mtgo_foil_id', 'arena_id', 'tcgplayer_id', 'cardmarket_id', 'legalities', 'games', 'reserved', 'foil', 'nonfoil', 'finishes', 'oversized', 'promo', 'reprint', 'variation', 'artist', 'artist_ids', 'illustration_id', 'border_color', 'booster', 'story_spotlight', 'edhrec_rank', 'penny_rank','prices', 'promo_types', 'arena_id', 'preview', 'security_stamp', 'tcgplayer_etched_id', 'variation_of'])"
   ],
   "metadata": {
    "collapsed": false
   }
  },
  {
   "cell_type": "code",
   "execution_count": 14,
   "outputs": [
    {
     "data": {
      "text/plain": "      object                                    id  \\\n0       card  0000579f-7b35-4ed3-b44c-db2a538066fe   \n1       card  00006596-1166-4a79-8443-ca9f82e6db4e   \n3       card  0000cd57-91fe-411f-b798-646e965eec37   \n4       card  00012bd8-ed68-4978-a22d-f450c8a6e048   \n5       card  0001f1ef-b957-4a55-b47f-14839cdbab6f   \n...      ...                                   ...   \n80690   card  ffdfad1f-d316-4023-9c79-8c24f1cd31d0   \n80700   card  ffe4d34f-68f0-4d79-9aab-58c5304224d9   \n80703   card  ffe93b27-f8ae-4abf-8ade-90f503f132c2   \n80704   card  ffe9ee1c-5eb3-4d63-a641-0ec5adf7b058   \n80707   card  ffeb407d-6a42-488a-9869-83da3047e45d   \n\n                                  oracle_id multiverse_ids   mtgo_id  \\\n0      44623693-51d6-49ad-8cd7-140505caf02f       [109722]   25527.0   \n1      8ae3562f-28b7-4462-96ed-be0cf7052ccc       [189637]   34586.0   \n3      9f0d82ae-38bf-45d8-8cda-982b6ead1d72       [435231]   65170.0   \n4      5aa12aff-db3c-4be5-822b-3afdf536b33e         [1278]       NaN   \n5      ef027846-be81-4959-a6b5-56bd01b1e68a       [472997]   78170.0   \n...                                     ...            ...       ...   \n80690  7ddd84d2-1a6d-43f5-a42d-3c66eee5f7e5       [548297]   96918.0   \n80700  6dab0e1a-f39a-4113-9d13-b067cfefbdb3       [240069]   43977.0   \n80703  6d37ba4b-ff56-4eec-9dc2-2d7f357dc9c9       [506924]   87287.0   \n80704  e60b23ba-2258-4da1-b873-452ee215846b       [583793]  105040.0   \n80707  a57b84e4-951c-4475-bb34-b68815858f87       [378390]   51751.0   \n\n       mtgo_foil_id  tcgplayer_id  cardmarket_id               name lang  ...  \\\n0           25528.0       14240.0        13850.0        Fury Sliver   en  ...   \n1           34587.0       33347.0        21851.0      Kor Outfitter   en  ...   \n3           65171.0      145764.0       301766.0      Siren Lookout   en  ...   \n4               NaN        1623.0         5664.0                Web   en  ...   \n5               NaN      198861.0       400134.0   Venerable Knight   en  ...   \n...             ...           ...            ...                ...  ...  ...   \n80690           NaN      262429.0       607507.0      Born to Drive   en  ...   \n80700       43978.0       58898.0       254643.0       Stern Mentor   en  ...   \n80703           NaN      229263.0       527575.0  Youthful Valkyrie   en  ...   \n80704           NaN      452220.0       682620.0   Fallaji Vanguard   en  ...   \n80707       51752.0       79134.0       266014.0        Hold at Bay   en  ...   \n\n      tcgplayer_etched_id attraction_lights color_indicator  variation_of  \\\n0                     NaN               NaN             NaN           NaN   \n1                     NaN               NaN             NaN           NaN   \n3                     NaN               NaN             NaN           NaN   \n4                     NaN               NaN             NaN           NaN   \n5                     NaN               NaN             NaN           NaN   \n...                   ...               ...             ...           ...   \n80690                 NaN               NaN             NaN           NaN   \n80700                 NaN               NaN             NaN           NaN   \n80703                 NaN               NaN             NaN           NaN   \n80704                 NaN               NaN             NaN           NaN   \n80707                 NaN               NaN             NaN           NaN   \n\n      life_modifier hand_modifier printed_type_line  printed_text  \\\n0               NaN           NaN               NaN           NaN   \n1               NaN           NaN               NaN           NaN   \n3               NaN           NaN               NaN           NaN   \n4               NaN           NaN               NaN           NaN   \n5               NaN           NaN               NaN           NaN   \n...             ...           ...               ...           ...   \n80690           NaN           NaN               NaN           NaN   \n80700           NaN           NaN               NaN           NaN   \n80703           NaN           NaN               NaN           NaN   \n80704           NaN           NaN               NaN           NaN   \n80707           NaN           NaN               NaN           NaN   \n\n      content_warning flavor_name  \n0                 NaN         NaN  \n1                 NaN         NaN  \n3                 NaN         NaN  \n4                 NaN         NaN  \n5                 NaN         NaN  \n...               ...         ...  \n80690             NaN         NaN  \n80700             NaN         NaN  \n80703             NaN         NaN  \n80704             NaN         NaN  \n80707             NaN         NaN  \n\n[25438 rows x 73 columns]",
      "text/html": "<div>\n<style scoped>\n    .dataframe tbody tr th:only-of-type {\n        vertical-align: middle;\n    }\n\n    .dataframe tbody tr th {\n        vertical-align: top;\n    }\n\n    .dataframe thead th {\n        text-align: right;\n    }\n</style>\n<table border=\"1\" class=\"dataframe\">\n  <thead>\n    <tr style=\"text-align: right;\">\n      <th></th>\n      <th>object</th>\n      <th>id</th>\n      <th>oracle_id</th>\n      <th>multiverse_ids</th>\n      <th>mtgo_id</th>\n      <th>mtgo_foil_id</th>\n      <th>tcgplayer_id</th>\n      <th>cardmarket_id</th>\n      <th>name</th>\n      <th>lang</th>\n      <th>...</th>\n      <th>tcgplayer_etched_id</th>\n      <th>attraction_lights</th>\n      <th>color_indicator</th>\n      <th>variation_of</th>\n      <th>life_modifier</th>\n      <th>hand_modifier</th>\n      <th>printed_type_line</th>\n      <th>printed_text</th>\n      <th>content_warning</th>\n      <th>flavor_name</th>\n    </tr>\n  </thead>\n  <tbody>\n    <tr>\n      <th>0</th>\n      <td>card</td>\n      <td>0000579f-7b35-4ed3-b44c-db2a538066fe</td>\n      <td>44623693-51d6-49ad-8cd7-140505caf02f</td>\n      <td>[109722]</td>\n      <td>25527.0</td>\n      <td>25528.0</td>\n      <td>14240.0</td>\n      <td>13850.0</td>\n      <td>Fury Sliver</td>\n      <td>en</td>\n      <td>...</td>\n      <td>NaN</td>\n      <td>NaN</td>\n      <td>NaN</td>\n      <td>NaN</td>\n      <td>NaN</td>\n      <td>NaN</td>\n      <td>NaN</td>\n      <td>NaN</td>\n      <td>NaN</td>\n      <td>NaN</td>\n    </tr>\n    <tr>\n      <th>1</th>\n      <td>card</td>\n      <td>00006596-1166-4a79-8443-ca9f82e6db4e</td>\n      <td>8ae3562f-28b7-4462-96ed-be0cf7052ccc</td>\n      <td>[189637]</td>\n      <td>34586.0</td>\n      <td>34587.0</td>\n      <td>33347.0</td>\n      <td>21851.0</td>\n      <td>Kor Outfitter</td>\n      <td>en</td>\n      <td>...</td>\n      <td>NaN</td>\n      <td>NaN</td>\n      <td>NaN</td>\n      <td>NaN</td>\n      <td>NaN</td>\n      <td>NaN</td>\n      <td>NaN</td>\n      <td>NaN</td>\n      <td>NaN</td>\n      <td>NaN</td>\n    </tr>\n    <tr>\n      <th>3</th>\n      <td>card</td>\n      <td>0000cd57-91fe-411f-b798-646e965eec37</td>\n      <td>9f0d82ae-38bf-45d8-8cda-982b6ead1d72</td>\n      <td>[435231]</td>\n      <td>65170.0</td>\n      <td>65171.0</td>\n      <td>145764.0</td>\n      <td>301766.0</td>\n      <td>Siren Lookout</td>\n      <td>en</td>\n      <td>...</td>\n      <td>NaN</td>\n      <td>NaN</td>\n      <td>NaN</td>\n      <td>NaN</td>\n      <td>NaN</td>\n      <td>NaN</td>\n      <td>NaN</td>\n      <td>NaN</td>\n      <td>NaN</td>\n      <td>NaN</td>\n    </tr>\n    <tr>\n      <th>4</th>\n      <td>card</td>\n      <td>00012bd8-ed68-4978-a22d-f450c8a6e048</td>\n      <td>5aa12aff-db3c-4be5-822b-3afdf536b33e</td>\n      <td>[1278]</td>\n      <td>NaN</td>\n      <td>NaN</td>\n      <td>1623.0</td>\n      <td>5664.0</td>\n      <td>Web</td>\n      <td>en</td>\n      <td>...</td>\n      <td>NaN</td>\n      <td>NaN</td>\n      <td>NaN</td>\n      <td>NaN</td>\n      <td>NaN</td>\n      <td>NaN</td>\n      <td>NaN</td>\n      <td>NaN</td>\n      <td>NaN</td>\n      <td>NaN</td>\n    </tr>\n    <tr>\n      <th>5</th>\n      <td>card</td>\n      <td>0001f1ef-b957-4a55-b47f-14839cdbab6f</td>\n      <td>ef027846-be81-4959-a6b5-56bd01b1e68a</td>\n      <td>[472997]</td>\n      <td>78170.0</td>\n      <td>NaN</td>\n      <td>198861.0</td>\n      <td>400134.0</td>\n      <td>Venerable Knight</td>\n      <td>en</td>\n      <td>...</td>\n      <td>NaN</td>\n      <td>NaN</td>\n      <td>NaN</td>\n      <td>NaN</td>\n      <td>NaN</td>\n      <td>NaN</td>\n      <td>NaN</td>\n      <td>NaN</td>\n      <td>NaN</td>\n      <td>NaN</td>\n    </tr>\n    <tr>\n      <th>...</th>\n      <td>...</td>\n      <td>...</td>\n      <td>...</td>\n      <td>...</td>\n      <td>...</td>\n      <td>...</td>\n      <td>...</td>\n      <td>...</td>\n      <td>...</td>\n      <td>...</td>\n      <td>...</td>\n      <td>...</td>\n      <td>...</td>\n      <td>...</td>\n      <td>...</td>\n      <td>...</td>\n      <td>...</td>\n      <td>...</td>\n      <td>...</td>\n      <td>...</td>\n      <td>...</td>\n    </tr>\n    <tr>\n      <th>80690</th>\n      <td>card</td>\n      <td>ffdfad1f-d316-4023-9c79-8c24f1cd31d0</td>\n      <td>7ddd84d2-1a6d-43f5-a42d-3c66eee5f7e5</td>\n      <td>[548297]</td>\n      <td>96918.0</td>\n      <td>NaN</td>\n      <td>262429.0</td>\n      <td>607507.0</td>\n      <td>Born to Drive</td>\n      <td>en</td>\n      <td>...</td>\n      <td>NaN</td>\n      <td>NaN</td>\n      <td>NaN</td>\n      <td>NaN</td>\n      <td>NaN</td>\n      <td>NaN</td>\n      <td>NaN</td>\n      <td>NaN</td>\n      <td>NaN</td>\n      <td>NaN</td>\n    </tr>\n    <tr>\n      <th>80700</th>\n      <td>card</td>\n      <td>ffe4d34f-68f0-4d79-9aab-58c5304224d9</td>\n      <td>6dab0e1a-f39a-4113-9d13-b067cfefbdb3</td>\n      <td>[240069]</td>\n      <td>43977.0</td>\n      <td>43978.0</td>\n      <td>58898.0</td>\n      <td>254643.0</td>\n      <td>Stern Mentor</td>\n      <td>en</td>\n      <td>...</td>\n      <td>NaN</td>\n      <td>NaN</td>\n      <td>NaN</td>\n      <td>NaN</td>\n      <td>NaN</td>\n      <td>NaN</td>\n      <td>NaN</td>\n      <td>NaN</td>\n      <td>NaN</td>\n      <td>NaN</td>\n    </tr>\n    <tr>\n      <th>80703</th>\n      <td>card</td>\n      <td>ffe93b27-f8ae-4abf-8ade-90f503f132c2</td>\n      <td>6d37ba4b-ff56-4eec-9dc2-2d7f357dc9c9</td>\n      <td>[506924]</td>\n      <td>87287.0</td>\n      <td>NaN</td>\n      <td>229263.0</td>\n      <td>527575.0</td>\n      <td>Youthful Valkyrie</td>\n      <td>en</td>\n      <td>...</td>\n      <td>NaN</td>\n      <td>NaN</td>\n      <td>NaN</td>\n      <td>NaN</td>\n      <td>NaN</td>\n      <td>NaN</td>\n      <td>NaN</td>\n      <td>NaN</td>\n      <td>NaN</td>\n      <td>NaN</td>\n    </tr>\n    <tr>\n      <th>80704</th>\n      <td>card</td>\n      <td>ffe9ee1c-5eb3-4d63-a641-0ec5adf7b058</td>\n      <td>e60b23ba-2258-4da1-b873-452ee215846b</td>\n      <td>[583793]</td>\n      <td>105040.0</td>\n      <td>NaN</td>\n      <td>452220.0</td>\n      <td>682620.0</td>\n      <td>Fallaji Vanguard</td>\n      <td>en</td>\n      <td>...</td>\n      <td>NaN</td>\n      <td>NaN</td>\n      <td>NaN</td>\n      <td>NaN</td>\n      <td>NaN</td>\n      <td>NaN</td>\n      <td>NaN</td>\n      <td>NaN</td>\n      <td>NaN</td>\n      <td>NaN</td>\n    </tr>\n    <tr>\n      <th>80707</th>\n      <td>card</td>\n      <td>ffeb407d-6a42-488a-9869-83da3047e45d</td>\n      <td>a57b84e4-951c-4475-bb34-b68815858f87</td>\n      <td>[378390]</td>\n      <td>51751.0</td>\n      <td>51752.0</td>\n      <td>79134.0</td>\n      <td>266014.0</td>\n      <td>Hold at Bay</td>\n      <td>en</td>\n      <td>...</td>\n      <td>NaN</td>\n      <td>NaN</td>\n      <td>NaN</td>\n      <td>NaN</td>\n      <td>NaN</td>\n      <td>NaN</td>\n      <td>NaN</td>\n      <td>NaN</td>\n      <td>NaN</td>\n      <td>NaN</td>\n    </tr>\n  </tbody>\n</table>\n<p>25438 rows × 73 columns</p>\n</div>"
     },
     "execution_count": 14,
     "metadata": {},
     "output_type": "execute_result"
    }
   ],
   "source": [
    "# remove some more columns\n",
    "data.drop(columns=['released_at', 'set_id','set', 'set_uri', 'set_search_uri', 'scryfall_set_uri', 'rulings_uri', 'prints_search_uri', 'card_back_id', 'frame', 'related_uris'])"
   ],
   "metadata": {
    "collapsed": false
   }
  },
  {
   "cell_type": "code",
   "execution_count": 8,
   "outputs": [
    {
     "name": "stdout",
     "output_type": "stream",
     "text": [
      "(78312, 84)\n"
     ]
    },
    {
     "data": {
      "text/plain": "  object                                    id  \\\n0   card  0000579f-7b35-4ed3-b44c-db2a538066fe   \n1   card  00006596-1166-4a79-8443-ca9f82e6db4e   \n2   card  0000a54c-a511-4925-92dc-01b937f9afad   \n3   card  0000cd57-91fe-411f-b798-646e965eec37   \n4   card  00012bd8-ed68-4978-a22d-f450c8a6e048   \n\n                              oracle_id multiverse_ids  mtgo_id  mtgo_foil_id  \\\n0  44623693-51d6-49ad-8cd7-140505caf02f       [109722]  25527.0       25528.0   \n1  8ae3562f-28b7-4462-96ed-be0cf7052ccc       [189637]  34586.0       34587.0   \n2  dc4e2134-f0c2-49aa-9ea3-ebf83af1445c             []      NaN           NaN   \n3  9f0d82ae-38bf-45d8-8cda-982b6ead1d72       [435231]  65170.0       65171.0   \n4  5aa12aff-db3c-4be5-822b-3afdf536b33e         [1278]      NaN           NaN   \n\n   tcgplayer_id  cardmarket_id           name lang  ... tcgplayer_etched_id  \\\n0       14240.0        13850.0    Fury Sliver   en  ...                 NaN   \n1       33347.0        21851.0  Kor Outfitter   en  ...                 NaN   \n2       98659.0            NaN         Spirit   en  ...                 NaN   \n3      145764.0       301766.0  Siren Lookout   en  ...                 NaN   \n4        1623.0         5664.0            Web   en  ...                 NaN   \n\n  attraction_lights color_indicator variation_of  life_modifier hand_modifier  \\\n0               NaN             NaN          NaN            NaN           NaN   \n1               NaN             NaN          NaN            NaN           NaN   \n2               NaN             NaN          NaN            NaN           NaN   \n3               NaN             NaN          NaN            NaN           NaN   \n4               NaN             NaN          NaN            NaN           NaN   \n\n  printed_type_line printed_text  content_warning flavor_name  \n0               NaN          NaN              NaN         NaN  \n1               NaN          NaN              NaN         NaN  \n2               NaN          NaN              NaN         NaN  \n3               NaN          NaN              NaN         NaN  \n4               NaN          NaN              NaN         NaN  \n\n[5 rows x 84 columns]",
      "text/html": "<div>\n<style scoped>\n    .dataframe tbody tr th:only-of-type {\n        vertical-align: middle;\n    }\n\n    .dataframe tbody tr th {\n        vertical-align: top;\n    }\n\n    .dataframe thead th {\n        text-align: right;\n    }\n</style>\n<table border=\"1\" class=\"dataframe\">\n  <thead>\n    <tr style=\"text-align: right;\">\n      <th></th>\n      <th>object</th>\n      <th>id</th>\n      <th>oracle_id</th>\n      <th>multiverse_ids</th>\n      <th>mtgo_id</th>\n      <th>mtgo_foil_id</th>\n      <th>tcgplayer_id</th>\n      <th>cardmarket_id</th>\n      <th>name</th>\n      <th>lang</th>\n      <th>...</th>\n      <th>tcgplayer_etched_id</th>\n      <th>attraction_lights</th>\n      <th>color_indicator</th>\n      <th>variation_of</th>\n      <th>life_modifier</th>\n      <th>hand_modifier</th>\n      <th>printed_type_line</th>\n      <th>printed_text</th>\n      <th>content_warning</th>\n      <th>flavor_name</th>\n    </tr>\n  </thead>\n  <tbody>\n    <tr>\n      <th>0</th>\n      <td>card</td>\n      <td>0000579f-7b35-4ed3-b44c-db2a538066fe</td>\n      <td>44623693-51d6-49ad-8cd7-140505caf02f</td>\n      <td>[109722]</td>\n      <td>25527.0</td>\n      <td>25528.0</td>\n      <td>14240.0</td>\n      <td>13850.0</td>\n      <td>Fury Sliver</td>\n      <td>en</td>\n      <td>...</td>\n      <td>NaN</td>\n      <td>NaN</td>\n      <td>NaN</td>\n      <td>NaN</td>\n      <td>NaN</td>\n      <td>NaN</td>\n      <td>NaN</td>\n      <td>NaN</td>\n      <td>NaN</td>\n      <td>NaN</td>\n    </tr>\n    <tr>\n      <th>1</th>\n      <td>card</td>\n      <td>00006596-1166-4a79-8443-ca9f82e6db4e</td>\n      <td>8ae3562f-28b7-4462-96ed-be0cf7052ccc</td>\n      <td>[189637]</td>\n      <td>34586.0</td>\n      <td>34587.0</td>\n      <td>33347.0</td>\n      <td>21851.0</td>\n      <td>Kor Outfitter</td>\n      <td>en</td>\n      <td>...</td>\n      <td>NaN</td>\n      <td>NaN</td>\n      <td>NaN</td>\n      <td>NaN</td>\n      <td>NaN</td>\n      <td>NaN</td>\n      <td>NaN</td>\n      <td>NaN</td>\n      <td>NaN</td>\n      <td>NaN</td>\n    </tr>\n    <tr>\n      <th>2</th>\n      <td>card</td>\n      <td>0000a54c-a511-4925-92dc-01b937f9afad</td>\n      <td>dc4e2134-f0c2-49aa-9ea3-ebf83af1445c</td>\n      <td>[]</td>\n      <td>NaN</td>\n      <td>NaN</td>\n      <td>98659.0</td>\n      <td>NaN</td>\n      <td>Spirit</td>\n      <td>en</td>\n      <td>...</td>\n      <td>NaN</td>\n      <td>NaN</td>\n      <td>NaN</td>\n      <td>NaN</td>\n      <td>NaN</td>\n      <td>NaN</td>\n      <td>NaN</td>\n      <td>NaN</td>\n      <td>NaN</td>\n      <td>NaN</td>\n    </tr>\n    <tr>\n      <th>3</th>\n      <td>card</td>\n      <td>0000cd57-91fe-411f-b798-646e965eec37</td>\n      <td>9f0d82ae-38bf-45d8-8cda-982b6ead1d72</td>\n      <td>[435231]</td>\n      <td>65170.0</td>\n      <td>65171.0</td>\n      <td>145764.0</td>\n      <td>301766.0</td>\n      <td>Siren Lookout</td>\n      <td>en</td>\n      <td>...</td>\n      <td>NaN</td>\n      <td>NaN</td>\n      <td>NaN</td>\n      <td>NaN</td>\n      <td>NaN</td>\n      <td>NaN</td>\n      <td>NaN</td>\n      <td>NaN</td>\n      <td>NaN</td>\n      <td>NaN</td>\n    </tr>\n    <tr>\n      <th>4</th>\n      <td>card</td>\n      <td>00012bd8-ed68-4978-a22d-f450c8a6e048</td>\n      <td>5aa12aff-db3c-4be5-822b-3afdf536b33e</td>\n      <td>[1278]</td>\n      <td>NaN</td>\n      <td>NaN</td>\n      <td>1623.0</td>\n      <td>5664.0</td>\n      <td>Web</td>\n      <td>en</td>\n      <td>...</td>\n      <td>NaN</td>\n      <td>NaN</td>\n      <td>NaN</td>\n      <td>NaN</td>\n      <td>NaN</td>\n      <td>NaN</td>\n      <td>NaN</td>\n      <td>NaN</td>\n      <td>NaN</td>\n      <td>NaN</td>\n    </tr>\n  </tbody>\n</table>\n<p>5 rows × 84 columns</p>\n</div>"
     },
     "execution_count": 8,
     "metadata": {},
     "output_type": "execute_result"
    }
   ],
   "source": [
    "# filter out cards that are not in english\n",
    "data = data[data['lang'] == 'en']\n",
    "print(data.shape)\n",
    "data.head()"
   ],
   "metadata": {
    "collapsed": false
   }
  },
  {
   "cell_type": "code",
   "execution_count": 9,
   "outputs": [],
   "source": [
    "# a function to print out the shape and head of a dataframe\n",
    "def print_df(df):\n",
    "    print(df.shape)\n",
    "    df.head()"
   ],
   "metadata": {
    "collapsed": false
   }
  },
  {
   "cell_type": "code",
   "execution_count": 10,
   "outputs": [
    {
     "name": "stdout",
     "output_type": "stream",
     "text": [
      "(73145, 84)\n",
      "  object                                    id  \\\n",
      "0   card  0000579f-7b35-4ed3-b44c-db2a538066fe   \n",
      "1   card  00006596-1166-4a79-8443-ca9f82e6db4e   \n",
      "3   card  0000cd57-91fe-411f-b798-646e965eec37   \n",
      "4   card  00012bd8-ed68-4978-a22d-f450c8a6e048   \n",
      "5   card  0001f1ef-b957-4a55-b47f-14839cdbab6f   \n",
      "\n",
      "                              oracle_id multiverse_ids  mtgo_id  mtgo_foil_id  \\\n",
      "0  44623693-51d6-49ad-8cd7-140505caf02f       [109722]  25527.0       25528.0   \n",
      "1  8ae3562f-28b7-4462-96ed-be0cf7052ccc       [189637]  34586.0       34587.0   \n",
      "3  9f0d82ae-38bf-45d8-8cda-982b6ead1d72       [435231]  65170.0       65171.0   \n",
      "4  5aa12aff-db3c-4be5-822b-3afdf536b33e         [1278]      NaN           NaN   \n",
      "5  ef027846-be81-4959-a6b5-56bd01b1e68a       [472997]  78170.0           NaN   \n",
      "\n",
      "   tcgplayer_id  cardmarket_id              name lang  ...  \\\n",
      "0       14240.0        13850.0       Fury Sliver   en  ...   \n",
      "1       33347.0        21851.0     Kor Outfitter   en  ...   \n",
      "3      145764.0       301766.0     Siren Lookout   en  ...   \n",
      "4        1623.0         5664.0               Web   en  ...   \n",
      "5      198861.0       400134.0  Venerable Knight   en  ...   \n",
      "\n",
      "  tcgplayer_etched_id attraction_lights color_indicator variation_of  \\\n",
      "0                 NaN               NaN             NaN          NaN   \n",
      "1                 NaN               NaN             NaN          NaN   \n",
      "3                 NaN               NaN             NaN          NaN   \n",
      "4                 NaN               NaN             NaN          NaN   \n",
      "5                 NaN               NaN             NaN          NaN   \n",
      "\n",
      "   life_modifier hand_modifier printed_type_line printed_text  \\\n",
      "0            NaN           NaN               NaN          NaN   \n",
      "1            NaN           NaN               NaN          NaN   \n",
      "3            NaN           NaN               NaN          NaN   \n",
      "4            NaN           NaN               NaN          NaN   \n",
      "5            NaN           NaN               NaN          NaN   \n",
      "\n",
      "   content_warning flavor_name  \n",
      "0              NaN         NaN  \n",
      "1              NaN         NaN  \n",
      "3              NaN         NaN  \n",
      "4              NaN         NaN  \n",
      "5              NaN         NaN  \n",
      "\n",
      "[5 rows x 84 columns]\n"
     ]
    }
   ],
   "source": [
    "# Keep only normal cards\n",
    "data = data[data['layout'] == 'normal']\n",
    "print_df(data)"
   ],
   "metadata": {
    "collapsed": false
   }
  },
  {
   "cell_type": "code",
   "execution_count": 11,
   "outputs": [
    {
     "name": "stdout",
     "output_type": "stream",
     "text": [
      "(73145, 84)\n",
      "  object                                    id  \\\n",
      "0   card  0000579f-7b35-4ed3-b44c-db2a538066fe   \n",
      "1   card  00006596-1166-4a79-8443-ca9f82e6db4e   \n",
      "3   card  0000cd57-91fe-411f-b798-646e965eec37   \n",
      "4   card  00012bd8-ed68-4978-a22d-f450c8a6e048   \n",
      "5   card  0001f1ef-b957-4a55-b47f-14839cdbab6f   \n",
      "\n",
      "                              oracle_id multiverse_ids  mtgo_id  mtgo_foil_id  \\\n",
      "0  44623693-51d6-49ad-8cd7-140505caf02f       [109722]  25527.0       25528.0   \n",
      "1  8ae3562f-28b7-4462-96ed-be0cf7052ccc       [189637]  34586.0       34587.0   \n",
      "3  9f0d82ae-38bf-45d8-8cda-982b6ead1d72       [435231]  65170.0       65171.0   \n",
      "4  5aa12aff-db3c-4be5-822b-3afdf536b33e         [1278]      NaN           NaN   \n",
      "5  ef027846-be81-4959-a6b5-56bd01b1e68a       [472997]  78170.0           NaN   \n",
      "\n",
      "   tcgplayer_id  cardmarket_id              name lang  ...  \\\n",
      "0       14240.0        13850.0       Fury Sliver   en  ...   \n",
      "1       33347.0        21851.0     Kor Outfitter   en  ...   \n",
      "3      145764.0       301766.0     Siren Lookout   en  ...   \n",
      "4        1623.0         5664.0               Web   en  ...   \n",
      "5      198861.0       400134.0  Venerable Knight   en  ...   \n",
      "\n",
      "  tcgplayer_etched_id attraction_lights color_indicator variation_of  \\\n",
      "0                 NaN               NaN             NaN          NaN   \n",
      "1                 NaN               NaN             NaN          NaN   \n",
      "3                 NaN               NaN             NaN          NaN   \n",
      "4                 NaN               NaN             NaN          NaN   \n",
      "5                 NaN               NaN             NaN          NaN   \n",
      "\n",
      "   life_modifier hand_modifier printed_type_line printed_text  \\\n",
      "0            NaN           NaN               NaN          NaN   \n",
      "1            NaN           NaN               NaN          NaN   \n",
      "3            NaN           NaN               NaN          NaN   \n",
      "4            NaN           NaN               NaN          NaN   \n",
      "5            NaN           NaN               NaN          NaN   \n",
      "\n",
      "   content_warning flavor_name  \n",
      "0              NaN         NaN  \n",
      "1              NaN         NaN  \n",
      "3              NaN         NaN  \n",
      "4              NaN         NaN  \n",
      "5              NaN         NaN  \n",
      "\n",
      "[5 rows x 84 columns]\n"
     ]
    }
   ],
   "source": [
    "print_df(data)"
   ],
   "metadata": {
    "collapsed": false
   }
  },
  {
   "cell_type": "code",
   "execution_count": 12,
   "outputs": [
    {
     "data": {
      "text/plain": "  object                                    id  \\\n0   card  0000579f-7b35-4ed3-b44c-db2a538066fe   \n1   card  00006596-1166-4a79-8443-ca9f82e6db4e   \n3   card  0000cd57-91fe-411f-b798-646e965eec37   \n4   card  00012bd8-ed68-4978-a22d-f450c8a6e048   \n5   card  0001f1ef-b957-4a55-b47f-14839cdbab6f   \n\n                              oracle_id multiverse_ids  mtgo_id  mtgo_foil_id  \\\n0  44623693-51d6-49ad-8cd7-140505caf02f       [109722]  25527.0       25528.0   \n1  8ae3562f-28b7-4462-96ed-be0cf7052ccc       [189637]  34586.0       34587.0   \n3  9f0d82ae-38bf-45d8-8cda-982b6ead1d72       [435231]  65170.0       65171.0   \n4  5aa12aff-db3c-4be5-822b-3afdf536b33e         [1278]      NaN           NaN   \n5  ef027846-be81-4959-a6b5-56bd01b1e68a       [472997]  78170.0           NaN   \n\n   tcgplayer_id  cardmarket_id              name lang  ...  \\\n0       14240.0        13850.0       Fury Sliver   en  ...   \n1       33347.0        21851.0     Kor Outfitter   en  ...   \n3      145764.0       301766.0     Siren Lookout   en  ...   \n4        1623.0         5664.0               Web   en  ...   \n5      198861.0       400134.0  Venerable Knight   en  ...   \n\n  tcgplayer_etched_id attraction_lights color_indicator variation_of  \\\n0                 NaN               NaN             NaN          NaN   \n1                 NaN               NaN             NaN          NaN   \n3                 NaN               NaN             NaN          NaN   \n4                 NaN               NaN             NaN          NaN   \n5                 NaN               NaN             NaN          NaN   \n\n   life_modifier hand_modifier printed_type_line printed_text  \\\n0            NaN           NaN               NaN          NaN   \n1            NaN           NaN               NaN          NaN   \n3            NaN           NaN               NaN          NaN   \n4            NaN           NaN               NaN          NaN   \n5            NaN           NaN               NaN          NaN   \n\n   content_warning flavor_name  \n0              NaN         NaN  \n1              NaN         NaN  \n3              NaN         NaN  \n4              NaN         NaN  \n5              NaN         NaN  \n\n[5 rows x 84 columns]",
      "text/html": "<div>\n<style scoped>\n    .dataframe tbody tr th:only-of-type {\n        vertical-align: middle;\n    }\n\n    .dataframe tbody tr th {\n        vertical-align: top;\n    }\n\n    .dataframe thead th {\n        text-align: right;\n    }\n</style>\n<table border=\"1\" class=\"dataframe\">\n  <thead>\n    <tr style=\"text-align: right;\">\n      <th></th>\n      <th>object</th>\n      <th>id</th>\n      <th>oracle_id</th>\n      <th>multiverse_ids</th>\n      <th>mtgo_id</th>\n      <th>mtgo_foil_id</th>\n      <th>tcgplayer_id</th>\n      <th>cardmarket_id</th>\n      <th>name</th>\n      <th>lang</th>\n      <th>...</th>\n      <th>tcgplayer_etched_id</th>\n      <th>attraction_lights</th>\n      <th>color_indicator</th>\n      <th>variation_of</th>\n      <th>life_modifier</th>\n      <th>hand_modifier</th>\n      <th>printed_type_line</th>\n      <th>printed_text</th>\n      <th>content_warning</th>\n      <th>flavor_name</th>\n    </tr>\n  </thead>\n  <tbody>\n    <tr>\n      <th>0</th>\n      <td>card</td>\n      <td>0000579f-7b35-4ed3-b44c-db2a538066fe</td>\n      <td>44623693-51d6-49ad-8cd7-140505caf02f</td>\n      <td>[109722]</td>\n      <td>25527.0</td>\n      <td>25528.0</td>\n      <td>14240.0</td>\n      <td>13850.0</td>\n      <td>Fury Sliver</td>\n      <td>en</td>\n      <td>...</td>\n      <td>NaN</td>\n      <td>NaN</td>\n      <td>NaN</td>\n      <td>NaN</td>\n      <td>NaN</td>\n      <td>NaN</td>\n      <td>NaN</td>\n      <td>NaN</td>\n      <td>NaN</td>\n      <td>NaN</td>\n    </tr>\n    <tr>\n      <th>1</th>\n      <td>card</td>\n      <td>00006596-1166-4a79-8443-ca9f82e6db4e</td>\n      <td>8ae3562f-28b7-4462-96ed-be0cf7052ccc</td>\n      <td>[189637]</td>\n      <td>34586.0</td>\n      <td>34587.0</td>\n      <td>33347.0</td>\n      <td>21851.0</td>\n      <td>Kor Outfitter</td>\n      <td>en</td>\n      <td>...</td>\n      <td>NaN</td>\n      <td>NaN</td>\n      <td>NaN</td>\n      <td>NaN</td>\n      <td>NaN</td>\n      <td>NaN</td>\n      <td>NaN</td>\n      <td>NaN</td>\n      <td>NaN</td>\n      <td>NaN</td>\n    </tr>\n    <tr>\n      <th>3</th>\n      <td>card</td>\n      <td>0000cd57-91fe-411f-b798-646e965eec37</td>\n      <td>9f0d82ae-38bf-45d8-8cda-982b6ead1d72</td>\n      <td>[435231]</td>\n      <td>65170.0</td>\n      <td>65171.0</td>\n      <td>145764.0</td>\n      <td>301766.0</td>\n      <td>Siren Lookout</td>\n      <td>en</td>\n      <td>...</td>\n      <td>NaN</td>\n      <td>NaN</td>\n      <td>NaN</td>\n      <td>NaN</td>\n      <td>NaN</td>\n      <td>NaN</td>\n      <td>NaN</td>\n      <td>NaN</td>\n      <td>NaN</td>\n      <td>NaN</td>\n    </tr>\n    <tr>\n      <th>4</th>\n      <td>card</td>\n      <td>00012bd8-ed68-4978-a22d-f450c8a6e048</td>\n      <td>5aa12aff-db3c-4be5-822b-3afdf536b33e</td>\n      <td>[1278]</td>\n      <td>NaN</td>\n      <td>NaN</td>\n      <td>1623.0</td>\n      <td>5664.0</td>\n      <td>Web</td>\n      <td>en</td>\n      <td>...</td>\n      <td>NaN</td>\n      <td>NaN</td>\n      <td>NaN</td>\n      <td>NaN</td>\n      <td>NaN</td>\n      <td>NaN</td>\n      <td>NaN</td>\n      <td>NaN</td>\n      <td>NaN</td>\n      <td>NaN</td>\n    </tr>\n    <tr>\n      <th>5</th>\n      <td>card</td>\n      <td>0001f1ef-b957-4a55-b47f-14839cdbab6f</td>\n      <td>ef027846-be81-4959-a6b5-56bd01b1e68a</td>\n      <td>[472997]</td>\n      <td>78170.0</td>\n      <td>NaN</td>\n      <td>198861.0</td>\n      <td>400134.0</td>\n      <td>Venerable Knight</td>\n      <td>en</td>\n      <td>...</td>\n      <td>NaN</td>\n      <td>NaN</td>\n      <td>NaN</td>\n      <td>NaN</td>\n      <td>NaN</td>\n      <td>NaN</td>\n      <td>NaN</td>\n      <td>NaN</td>\n      <td>NaN</td>\n      <td>NaN</td>\n    </tr>\n  </tbody>\n</table>\n<p>5 rows × 84 columns</p>\n</div>"
     },
     "execution_count": 12,
     "metadata": {},
     "output_type": "execute_result"
    }
   ],
   "source": [
    "data.head()"
   ],
   "metadata": {
    "collapsed": false
   }
  },
  {
   "cell_type": "code",
   "execution_count": 13,
   "outputs": [
    {
     "name": "stdout",
     "output_type": "stream",
     "text": [
      "(25438, 84)\n"
     ]
    },
    {
     "data": {
      "text/plain": "  object                                    id  \\\n0   card  0000579f-7b35-4ed3-b44c-db2a538066fe   \n1   card  00006596-1166-4a79-8443-ca9f82e6db4e   \n3   card  0000cd57-91fe-411f-b798-646e965eec37   \n4   card  00012bd8-ed68-4978-a22d-f450c8a6e048   \n5   card  0001f1ef-b957-4a55-b47f-14839cdbab6f   \n\n                              oracle_id multiverse_ids  mtgo_id  mtgo_foil_id  \\\n0  44623693-51d6-49ad-8cd7-140505caf02f       [109722]  25527.0       25528.0   \n1  8ae3562f-28b7-4462-96ed-be0cf7052ccc       [189637]  34586.0       34587.0   \n3  9f0d82ae-38bf-45d8-8cda-982b6ead1d72       [435231]  65170.0       65171.0   \n4  5aa12aff-db3c-4be5-822b-3afdf536b33e         [1278]      NaN           NaN   \n5  ef027846-be81-4959-a6b5-56bd01b1e68a       [472997]  78170.0           NaN   \n\n   tcgplayer_id  cardmarket_id              name lang  ...  \\\n0       14240.0        13850.0       Fury Sliver   en  ...   \n1       33347.0        21851.0     Kor Outfitter   en  ...   \n3      145764.0       301766.0     Siren Lookout   en  ...   \n4        1623.0         5664.0               Web   en  ...   \n5      198861.0       400134.0  Venerable Knight   en  ...   \n\n  tcgplayer_etched_id attraction_lights color_indicator variation_of  \\\n0                 NaN               NaN             NaN          NaN   \n1                 NaN               NaN             NaN          NaN   \n3                 NaN               NaN             NaN          NaN   \n4                 NaN               NaN             NaN          NaN   \n5                 NaN               NaN             NaN          NaN   \n\n   life_modifier hand_modifier printed_type_line printed_text  \\\n0            NaN           NaN               NaN          NaN   \n1            NaN           NaN               NaN          NaN   \n3            NaN           NaN               NaN          NaN   \n4            NaN           NaN               NaN          NaN   \n5            NaN           NaN               NaN          NaN   \n\n   content_warning flavor_name  \n0              NaN         NaN  \n1              NaN         NaN  \n3              NaN         NaN  \n4              NaN         NaN  \n5              NaN         NaN  \n\n[5 rows x 84 columns]",
      "text/html": "<div>\n<style scoped>\n    .dataframe tbody tr th:only-of-type {\n        vertical-align: middle;\n    }\n\n    .dataframe tbody tr th {\n        vertical-align: top;\n    }\n\n    .dataframe thead th {\n        text-align: right;\n    }\n</style>\n<table border=\"1\" class=\"dataframe\">\n  <thead>\n    <tr style=\"text-align: right;\">\n      <th></th>\n      <th>object</th>\n      <th>id</th>\n      <th>oracle_id</th>\n      <th>multiverse_ids</th>\n      <th>mtgo_id</th>\n      <th>mtgo_foil_id</th>\n      <th>tcgplayer_id</th>\n      <th>cardmarket_id</th>\n      <th>name</th>\n      <th>lang</th>\n      <th>...</th>\n      <th>tcgplayer_etched_id</th>\n      <th>attraction_lights</th>\n      <th>color_indicator</th>\n      <th>variation_of</th>\n      <th>life_modifier</th>\n      <th>hand_modifier</th>\n      <th>printed_type_line</th>\n      <th>printed_text</th>\n      <th>content_warning</th>\n      <th>flavor_name</th>\n    </tr>\n  </thead>\n  <tbody>\n    <tr>\n      <th>0</th>\n      <td>card</td>\n      <td>0000579f-7b35-4ed3-b44c-db2a538066fe</td>\n      <td>44623693-51d6-49ad-8cd7-140505caf02f</td>\n      <td>[109722]</td>\n      <td>25527.0</td>\n      <td>25528.0</td>\n      <td>14240.0</td>\n      <td>13850.0</td>\n      <td>Fury Sliver</td>\n      <td>en</td>\n      <td>...</td>\n      <td>NaN</td>\n      <td>NaN</td>\n      <td>NaN</td>\n      <td>NaN</td>\n      <td>NaN</td>\n      <td>NaN</td>\n      <td>NaN</td>\n      <td>NaN</td>\n      <td>NaN</td>\n      <td>NaN</td>\n    </tr>\n    <tr>\n      <th>1</th>\n      <td>card</td>\n      <td>00006596-1166-4a79-8443-ca9f82e6db4e</td>\n      <td>8ae3562f-28b7-4462-96ed-be0cf7052ccc</td>\n      <td>[189637]</td>\n      <td>34586.0</td>\n      <td>34587.0</td>\n      <td>33347.0</td>\n      <td>21851.0</td>\n      <td>Kor Outfitter</td>\n      <td>en</td>\n      <td>...</td>\n      <td>NaN</td>\n      <td>NaN</td>\n      <td>NaN</td>\n      <td>NaN</td>\n      <td>NaN</td>\n      <td>NaN</td>\n      <td>NaN</td>\n      <td>NaN</td>\n      <td>NaN</td>\n      <td>NaN</td>\n    </tr>\n    <tr>\n      <th>3</th>\n      <td>card</td>\n      <td>0000cd57-91fe-411f-b798-646e965eec37</td>\n      <td>9f0d82ae-38bf-45d8-8cda-982b6ead1d72</td>\n      <td>[435231]</td>\n      <td>65170.0</td>\n      <td>65171.0</td>\n      <td>145764.0</td>\n      <td>301766.0</td>\n      <td>Siren Lookout</td>\n      <td>en</td>\n      <td>...</td>\n      <td>NaN</td>\n      <td>NaN</td>\n      <td>NaN</td>\n      <td>NaN</td>\n      <td>NaN</td>\n      <td>NaN</td>\n      <td>NaN</td>\n      <td>NaN</td>\n      <td>NaN</td>\n      <td>NaN</td>\n    </tr>\n    <tr>\n      <th>4</th>\n      <td>card</td>\n      <td>00012bd8-ed68-4978-a22d-f450c8a6e048</td>\n      <td>5aa12aff-db3c-4be5-822b-3afdf536b33e</td>\n      <td>[1278]</td>\n      <td>NaN</td>\n      <td>NaN</td>\n      <td>1623.0</td>\n      <td>5664.0</td>\n      <td>Web</td>\n      <td>en</td>\n      <td>...</td>\n      <td>NaN</td>\n      <td>NaN</td>\n      <td>NaN</td>\n      <td>NaN</td>\n      <td>NaN</td>\n      <td>NaN</td>\n      <td>NaN</td>\n      <td>NaN</td>\n      <td>NaN</td>\n      <td>NaN</td>\n    </tr>\n    <tr>\n      <th>5</th>\n      <td>card</td>\n      <td>0001f1ef-b957-4a55-b47f-14839cdbab6f</td>\n      <td>ef027846-be81-4959-a6b5-56bd01b1e68a</td>\n      <td>[472997]</td>\n      <td>78170.0</td>\n      <td>NaN</td>\n      <td>198861.0</td>\n      <td>400134.0</td>\n      <td>Venerable Knight</td>\n      <td>en</td>\n      <td>...</td>\n      <td>NaN</td>\n      <td>NaN</td>\n      <td>NaN</td>\n      <td>NaN</td>\n      <td>NaN</td>\n      <td>NaN</td>\n      <td>NaN</td>\n      <td>NaN</td>\n      <td>NaN</td>\n      <td>NaN</td>\n    </tr>\n  </tbody>\n</table>\n<p>5 rows × 84 columns</p>\n</div>"
     },
     "execution_count": 13,
     "metadata": {},
     "output_type": "execute_result"
    }
   ],
   "source": [
    "# remove cards with duplicate names\n",
    "data = data.drop_duplicates(subset=['name'])\n",
    "print(data.shape)\n",
    "data.head()"
   ],
   "metadata": {
    "collapsed": false
   }
  },
  {
   "cell_type": "code",
   "execution_count": 15,
   "outputs": [
    {
     "name": "stdout",
     "output_type": "stream",
     "text": [
      "(25438, 84)\n"
     ]
    },
    {
     "data": {
      "text/plain": "  object                                    id  \\\n0   card  0000579f-7b35-4ed3-b44c-db2a538066fe   \n1   card  00006596-1166-4a79-8443-ca9f82e6db4e   \n3   card  0000cd57-91fe-411f-b798-646e965eec37   \n4   card  00012bd8-ed68-4978-a22d-f450c8a6e048   \n5   card  0001f1ef-b957-4a55-b47f-14839cdbab6f   \n\n                              oracle_id multiverse_ids  mtgo_id  mtgo_foil_id  \\\n0  44623693-51d6-49ad-8cd7-140505caf02f       [109722]  25527.0       25528.0   \n1  8ae3562f-28b7-4462-96ed-be0cf7052ccc       [189637]  34586.0       34587.0   \n3  9f0d82ae-38bf-45d8-8cda-982b6ead1d72       [435231]  65170.0       65171.0   \n4  5aa12aff-db3c-4be5-822b-3afdf536b33e         [1278]      NaN           NaN   \n5  ef027846-be81-4959-a6b5-56bd01b1e68a       [472997]  78170.0           NaN   \n\n   tcgplayer_id  cardmarket_id              name lang  ...  \\\n0       14240.0        13850.0       Fury Sliver   en  ...   \n1       33347.0        21851.0     Kor Outfitter   en  ...   \n3      145764.0       301766.0     Siren Lookout   en  ...   \n4        1623.0         5664.0               Web   en  ...   \n5      198861.0       400134.0  Venerable Knight   en  ...   \n\n  tcgplayer_etched_id attraction_lights color_indicator variation_of  \\\n0                 NaN               NaN             NaN          NaN   \n1                 NaN               NaN             NaN          NaN   \n3                 NaN               NaN             NaN          NaN   \n4                 NaN               NaN             NaN          NaN   \n5                 NaN               NaN             NaN          NaN   \n\n   life_modifier hand_modifier printed_type_line printed_text  \\\n0            NaN           NaN               NaN          NaN   \n1            NaN           NaN               NaN          NaN   \n3            NaN           NaN               NaN          NaN   \n4            NaN           NaN               NaN          NaN   \n5            NaN           NaN               NaN          NaN   \n\n   content_warning flavor_name  \n0              NaN         NaN  \n1              NaN         NaN  \n3              NaN         NaN  \n4              NaN         NaN  \n5              NaN         NaN  \n\n[5 rows x 84 columns]",
      "text/html": "<div>\n<style scoped>\n    .dataframe tbody tr th:only-of-type {\n        vertical-align: middle;\n    }\n\n    .dataframe tbody tr th {\n        vertical-align: top;\n    }\n\n    .dataframe thead th {\n        text-align: right;\n    }\n</style>\n<table border=\"1\" class=\"dataframe\">\n  <thead>\n    <tr style=\"text-align: right;\">\n      <th></th>\n      <th>object</th>\n      <th>id</th>\n      <th>oracle_id</th>\n      <th>multiverse_ids</th>\n      <th>mtgo_id</th>\n      <th>mtgo_foil_id</th>\n      <th>tcgplayer_id</th>\n      <th>cardmarket_id</th>\n      <th>name</th>\n      <th>lang</th>\n      <th>...</th>\n      <th>tcgplayer_etched_id</th>\n      <th>attraction_lights</th>\n      <th>color_indicator</th>\n      <th>variation_of</th>\n      <th>life_modifier</th>\n      <th>hand_modifier</th>\n      <th>printed_type_line</th>\n      <th>printed_text</th>\n      <th>content_warning</th>\n      <th>flavor_name</th>\n    </tr>\n  </thead>\n  <tbody>\n    <tr>\n      <th>0</th>\n      <td>card</td>\n      <td>0000579f-7b35-4ed3-b44c-db2a538066fe</td>\n      <td>44623693-51d6-49ad-8cd7-140505caf02f</td>\n      <td>[109722]</td>\n      <td>25527.0</td>\n      <td>25528.0</td>\n      <td>14240.0</td>\n      <td>13850.0</td>\n      <td>Fury Sliver</td>\n      <td>en</td>\n      <td>...</td>\n      <td>NaN</td>\n      <td>NaN</td>\n      <td>NaN</td>\n      <td>NaN</td>\n      <td>NaN</td>\n      <td>NaN</td>\n      <td>NaN</td>\n      <td>NaN</td>\n      <td>NaN</td>\n      <td>NaN</td>\n    </tr>\n    <tr>\n      <th>1</th>\n      <td>card</td>\n      <td>00006596-1166-4a79-8443-ca9f82e6db4e</td>\n      <td>8ae3562f-28b7-4462-96ed-be0cf7052ccc</td>\n      <td>[189637]</td>\n      <td>34586.0</td>\n      <td>34587.0</td>\n      <td>33347.0</td>\n      <td>21851.0</td>\n      <td>Kor Outfitter</td>\n      <td>en</td>\n      <td>...</td>\n      <td>NaN</td>\n      <td>NaN</td>\n      <td>NaN</td>\n      <td>NaN</td>\n      <td>NaN</td>\n      <td>NaN</td>\n      <td>NaN</td>\n      <td>NaN</td>\n      <td>NaN</td>\n      <td>NaN</td>\n    </tr>\n    <tr>\n      <th>3</th>\n      <td>card</td>\n      <td>0000cd57-91fe-411f-b798-646e965eec37</td>\n      <td>9f0d82ae-38bf-45d8-8cda-982b6ead1d72</td>\n      <td>[435231]</td>\n      <td>65170.0</td>\n      <td>65171.0</td>\n      <td>145764.0</td>\n      <td>301766.0</td>\n      <td>Siren Lookout</td>\n      <td>en</td>\n      <td>...</td>\n      <td>NaN</td>\n      <td>NaN</td>\n      <td>NaN</td>\n      <td>NaN</td>\n      <td>NaN</td>\n      <td>NaN</td>\n      <td>NaN</td>\n      <td>NaN</td>\n      <td>NaN</td>\n      <td>NaN</td>\n    </tr>\n    <tr>\n      <th>4</th>\n      <td>card</td>\n      <td>00012bd8-ed68-4978-a22d-f450c8a6e048</td>\n      <td>5aa12aff-db3c-4be5-822b-3afdf536b33e</td>\n      <td>[1278]</td>\n      <td>NaN</td>\n      <td>NaN</td>\n      <td>1623.0</td>\n      <td>5664.0</td>\n      <td>Web</td>\n      <td>en</td>\n      <td>...</td>\n      <td>NaN</td>\n      <td>NaN</td>\n      <td>NaN</td>\n      <td>NaN</td>\n      <td>NaN</td>\n      <td>NaN</td>\n      <td>NaN</td>\n      <td>NaN</td>\n      <td>NaN</td>\n      <td>NaN</td>\n    </tr>\n    <tr>\n      <th>5</th>\n      <td>card</td>\n      <td>0001f1ef-b957-4a55-b47f-14839cdbab6f</td>\n      <td>ef027846-be81-4959-a6b5-56bd01b1e68a</td>\n      <td>[472997]</td>\n      <td>78170.0</td>\n      <td>NaN</td>\n      <td>198861.0</td>\n      <td>400134.0</td>\n      <td>Venerable Knight</td>\n      <td>en</td>\n      <td>...</td>\n      <td>NaN</td>\n      <td>NaN</td>\n      <td>NaN</td>\n      <td>NaN</td>\n      <td>NaN</td>\n      <td>NaN</td>\n      <td>NaN</td>\n      <td>NaN</td>\n      <td>NaN</td>\n      <td>NaN</td>\n    </tr>\n  </tbody>\n</table>\n<p>5 rows × 84 columns</p>\n</div>"
     },
     "execution_count": 15,
     "metadata": {},
     "output_type": "execute_result"
    }
   ],
   "source": [
    "print(data.shape)\n",
    "data.head()"
   ],
   "metadata": {
    "collapsed": false
   }
  },
  {
   "cell_type": "code",
   "execution_count": 16,
   "outputs": [
    {
     "data": {
      "text/plain": "      object                                    id  \\\n0       card  0000579f-7b35-4ed3-b44c-db2a538066fe   \n1       card  00006596-1166-4a79-8443-ca9f82e6db4e   \n3       card  0000cd57-91fe-411f-b798-646e965eec37   \n4       card  00012bd8-ed68-4978-a22d-f450c8a6e048   \n5       card  0001f1ef-b957-4a55-b47f-14839cdbab6f   \n...      ...                                   ...   \n80690   card  ffdfad1f-d316-4023-9c79-8c24f1cd31d0   \n80700   card  ffe4d34f-68f0-4d79-9aab-58c5304224d9   \n80703   card  ffe93b27-f8ae-4abf-8ade-90f503f132c2   \n80704   card  ffe9ee1c-5eb3-4d63-a641-0ec5adf7b058   \n80707   card  ffeb407d-6a42-488a-9869-83da3047e45d   \n\n                                  oracle_id multiverse_ids               name  \\\n0      44623693-51d6-49ad-8cd7-140505caf02f       [109722]        Fury Sliver   \n1      8ae3562f-28b7-4462-96ed-be0cf7052ccc       [189637]      Kor Outfitter   \n3      9f0d82ae-38bf-45d8-8cda-982b6ead1d72       [435231]      Siren Lookout   \n4      5aa12aff-db3c-4be5-822b-3afdf536b33e         [1278]                Web   \n5      ef027846-be81-4959-a6b5-56bd01b1e68a       [472997]   Venerable Knight   \n...                                     ...            ...                ...   \n80690  7ddd84d2-1a6d-43f5-a42d-3c66eee5f7e5       [548297]      Born to Drive   \n80700  6dab0e1a-f39a-4113-9d13-b067cfefbdb3       [240069]       Stern Mentor   \n80703  6d37ba4b-ff56-4eec-9dc2-2d7f357dc9c9       [506924]  Youthful Valkyrie   \n80704  e60b23ba-2258-4da1-b873-452ee215846b       [583793]   Fallaji Vanguard   \n80707  a57b84e4-951c-4475-bb34-b68815858f87       [378390]        Hold at Bay   \n\n      lang                                                uri  \\\n0       en  https://api.scryfall.com/cards/0000579f-7b35-4...   \n1       en  https://api.scryfall.com/cards/00006596-1166-4...   \n3       en  https://api.scryfall.com/cards/0000cd57-91fe-4...   \n4       en  https://api.scryfall.com/cards/00012bd8-ed68-4...   \n5       en  https://api.scryfall.com/cards/0001f1ef-b957-4...   \n...    ...                                                ...   \n80690   en  https://api.scryfall.com/cards/ffdfad1f-d316-4...   \n80700   en  https://api.scryfall.com/cards/ffe4d34f-68f0-4...   \n80703   en  https://api.scryfall.com/cards/ffe93b27-f8ae-4...   \n80704   en  https://api.scryfall.com/cards/ffe9ee1c-5eb3-4...   \n80707   en  https://api.scryfall.com/cards/ffeb407d-6a42-4...   \n\n                                            scryfall_uri  layout  \\\n0      https://scryfall.com/card/tsp/157/fury-sliver?...  normal   \n1      https://scryfall.com/card/zen/21/kor-outfitter...  normal   \n3      https://scryfall.com/card/xln/78/siren-lookout...  normal   \n4      https://scryfall.com/card/3ed/229/web?utm_sour...  normal   \n5      https://scryfall.com/card/eld/35/venerable-kni...  normal   \n...                                                  ...     ...   \n80690  https://scryfall.com/card/neo/6/born-to-drive?...  normal   \n80700  https://scryfall.com/card/avr/77/stern-mentor?...  normal   \n80703  https://scryfall.com/card/khm/382/youthful-val...  normal   \n80704  https://scryfall.com/card/bro/210/fallaji-vang...  normal   \n80707  https://scryfall.com/card/bng/18/hold-at-bay?u...  normal   \n\n       highres_image  ... printed_name card_faces attraction_lights  \\\n0               True  ...          NaN        NaN               NaN   \n1               True  ...          NaN        NaN               NaN   \n3               True  ...          NaN        NaN               NaN   \n4               True  ...          NaN        NaN               NaN   \n5               True  ...          NaN        NaN               NaN   \n...              ...  ...          ...        ...               ...   \n80690           True  ...          NaN        NaN               NaN   \n80700           True  ...          NaN        NaN               NaN   \n80703           True  ...          NaN        NaN               NaN   \n80704           True  ...          NaN        NaN               NaN   \n80707           True  ...          NaN        NaN               NaN   \n\n       color_indicator life_modifier hand_modifier printed_type_line  \\\n0                  NaN           NaN           NaN               NaN   \n1                  NaN           NaN           NaN               NaN   \n3                  NaN           NaN           NaN               NaN   \n4                  NaN           NaN           NaN               NaN   \n5                  NaN           NaN           NaN               NaN   \n...                ...           ...           ...               ...   \n80690              NaN           NaN           NaN               NaN   \n80700              NaN           NaN           NaN               NaN   \n80703              NaN           NaN           NaN               NaN   \n80704              NaN           NaN           NaN               NaN   \n80707              NaN           NaN           NaN               NaN   \n\n      printed_text content_warning flavor_name  \n0              NaN             NaN         NaN  \n1              NaN             NaN         NaN  \n3              NaN             NaN         NaN  \n4              NaN             NaN         NaN  \n5              NaN             NaN         NaN  \n...            ...             ...         ...  \n80690          NaN             NaN         NaN  \n80700          NaN             NaN         NaN  \n80703          NaN             NaN         NaN  \n80704          NaN             NaN         NaN  \n80707          NaN             NaN         NaN  \n\n[25438 rows x 44 columns]",
      "text/html": "<div>\n<style scoped>\n    .dataframe tbody tr th:only-of-type {\n        vertical-align: middle;\n    }\n\n    .dataframe tbody tr th {\n        vertical-align: top;\n    }\n\n    .dataframe thead th {\n        text-align: right;\n    }\n</style>\n<table border=\"1\" class=\"dataframe\">\n  <thead>\n    <tr style=\"text-align: right;\">\n      <th></th>\n      <th>object</th>\n      <th>id</th>\n      <th>oracle_id</th>\n      <th>multiverse_ids</th>\n      <th>name</th>\n      <th>lang</th>\n      <th>uri</th>\n      <th>scryfall_uri</th>\n      <th>layout</th>\n      <th>highres_image</th>\n      <th>...</th>\n      <th>printed_name</th>\n      <th>card_faces</th>\n      <th>attraction_lights</th>\n      <th>color_indicator</th>\n      <th>life_modifier</th>\n      <th>hand_modifier</th>\n      <th>printed_type_line</th>\n      <th>printed_text</th>\n      <th>content_warning</th>\n      <th>flavor_name</th>\n    </tr>\n  </thead>\n  <tbody>\n    <tr>\n      <th>0</th>\n      <td>card</td>\n      <td>0000579f-7b35-4ed3-b44c-db2a538066fe</td>\n      <td>44623693-51d6-49ad-8cd7-140505caf02f</td>\n      <td>[109722]</td>\n      <td>Fury Sliver</td>\n      <td>en</td>\n      <td>https://api.scryfall.com/cards/0000579f-7b35-4...</td>\n      <td>https://scryfall.com/card/tsp/157/fury-sliver?...</td>\n      <td>normal</td>\n      <td>True</td>\n      <td>...</td>\n      <td>NaN</td>\n      <td>NaN</td>\n      <td>NaN</td>\n      <td>NaN</td>\n      <td>NaN</td>\n      <td>NaN</td>\n      <td>NaN</td>\n      <td>NaN</td>\n      <td>NaN</td>\n      <td>NaN</td>\n    </tr>\n    <tr>\n      <th>1</th>\n      <td>card</td>\n      <td>00006596-1166-4a79-8443-ca9f82e6db4e</td>\n      <td>8ae3562f-28b7-4462-96ed-be0cf7052ccc</td>\n      <td>[189637]</td>\n      <td>Kor Outfitter</td>\n      <td>en</td>\n      <td>https://api.scryfall.com/cards/00006596-1166-4...</td>\n      <td>https://scryfall.com/card/zen/21/kor-outfitter...</td>\n      <td>normal</td>\n      <td>True</td>\n      <td>...</td>\n      <td>NaN</td>\n      <td>NaN</td>\n      <td>NaN</td>\n      <td>NaN</td>\n      <td>NaN</td>\n      <td>NaN</td>\n      <td>NaN</td>\n      <td>NaN</td>\n      <td>NaN</td>\n      <td>NaN</td>\n    </tr>\n    <tr>\n      <th>3</th>\n      <td>card</td>\n      <td>0000cd57-91fe-411f-b798-646e965eec37</td>\n      <td>9f0d82ae-38bf-45d8-8cda-982b6ead1d72</td>\n      <td>[435231]</td>\n      <td>Siren Lookout</td>\n      <td>en</td>\n      <td>https://api.scryfall.com/cards/0000cd57-91fe-4...</td>\n      <td>https://scryfall.com/card/xln/78/siren-lookout...</td>\n      <td>normal</td>\n      <td>True</td>\n      <td>...</td>\n      <td>NaN</td>\n      <td>NaN</td>\n      <td>NaN</td>\n      <td>NaN</td>\n      <td>NaN</td>\n      <td>NaN</td>\n      <td>NaN</td>\n      <td>NaN</td>\n      <td>NaN</td>\n      <td>NaN</td>\n    </tr>\n    <tr>\n      <th>4</th>\n      <td>card</td>\n      <td>00012bd8-ed68-4978-a22d-f450c8a6e048</td>\n      <td>5aa12aff-db3c-4be5-822b-3afdf536b33e</td>\n      <td>[1278]</td>\n      <td>Web</td>\n      <td>en</td>\n      <td>https://api.scryfall.com/cards/00012bd8-ed68-4...</td>\n      <td>https://scryfall.com/card/3ed/229/web?utm_sour...</td>\n      <td>normal</td>\n      <td>True</td>\n      <td>...</td>\n      <td>NaN</td>\n      <td>NaN</td>\n      <td>NaN</td>\n      <td>NaN</td>\n      <td>NaN</td>\n      <td>NaN</td>\n      <td>NaN</td>\n      <td>NaN</td>\n      <td>NaN</td>\n      <td>NaN</td>\n    </tr>\n    <tr>\n      <th>5</th>\n      <td>card</td>\n      <td>0001f1ef-b957-4a55-b47f-14839cdbab6f</td>\n      <td>ef027846-be81-4959-a6b5-56bd01b1e68a</td>\n      <td>[472997]</td>\n      <td>Venerable Knight</td>\n      <td>en</td>\n      <td>https://api.scryfall.com/cards/0001f1ef-b957-4...</td>\n      <td>https://scryfall.com/card/eld/35/venerable-kni...</td>\n      <td>normal</td>\n      <td>True</td>\n      <td>...</td>\n      <td>NaN</td>\n      <td>NaN</td>\n      <td>NaN</td>\n      <td>NaN</td>\n      <td>NaN</td>\n      <td>NaN</td>\n      <td>NaN</td>\n      <td>NaN</td>\n      <td>NaN</td>\n      <td>NaN</td>\n    </tr>\n    <tr>\n      <th>...</th>\n      <td>...</td>\n      <td>...</td>\n      <td>...</td>\n      <td>...</td>\n      <td>...</td>\n      <td>...</td>\n      <td>...</td>\n      <td>...</td>\n      <td>...</td>\n      <td>...</td>\n      <td>...</td>\n      <td>...</td>\n      <td>...</td>\n      <td>...</td>\n      <td>...</td>\n      <td>...</td>\n      <td>...</td>\n      <td>...</td>\n      <td>...</td>\n      <td>...</td>\n      <td>...</td>\n    </tr>\n    <tr>\n      <th>80690</th>\n      <td>card</td>\n      <td>ffdfad1f-d316-4023-9c79-8c24f1cd31d0</td>\n      <td>7ddd84d2-1a6d-43f5-a42d-3c66eee5f7e5</td>\n      <td>[548297]</td>\n      <td>Born to Drive</td>\n      <td>en</td>\n      <td>https://api.scryfall.com/cards/ffdfad1f-d316-4...</td>\n      <td>https://scryfall.com/card/neo/6/born-to-drive?...</td>\n      <td>normal</td>\n      <td>True</td>\n      <td>...</td>\n      <td>NaN</td>\n      <td>NaN</td>\n      <td>NaN</td>\n      <td>NaN</td>\n      <td>NaN</td>\n      <td>NaN</td>\n      <td>NaN</td>\n      <td>NaN</td>\n      <td>NaN</td>\n      <td>NaN</td>\n    </tr>\n    <tr>\n      <th>80700</th>\n      <td>card</td>\n      <td>ffe4d34f-68f0-4d79-9aab-58c5304224d9</td>\n      <td>6dab0e1a-f39a-4113-9d13-b067cfefbdb3</td>\n      <td>[240069]</td>\n      <td>Stern Mentor</td>\n      <td>en</td>\n      <td>https://api.scryfall.com/cards/ffe4d34f-68f0-4...</td>\n      <td>https://scryfall.com/card/avr/77/stern-mentor?...</td>\n      <td>normal</td>\n      <td>True</td>\n      <td>...</td>\n      <td>NaN</td>\n      <td>NaN</td>\n      <td>NaN</td>\n      <td>NaN</td>\n      <td>NaN</td>\n      <td>NaN</td>\n      <td>NaN</td>\n      <td>NaN</td>\n      <td>NaN</td>\n      <td>NaN</td>\n    </tr>\n    <tr>\n      <th>80703</th>\n      <td>card</td>\n      <td>ffe93b27-f8ae-4abf-8ade-90f503f132c2</td>\n      <td>6d37ba4b-ff56-4eec-9dc2-2d7f357dc9c9</td>\n      <td>[506924]</td>\n      <td>Youthful Valkyrie</td>\n      <td>en</td>\n      <td>https://api.scryfall.com/cards/ffe93b27-f8ae-4...</td>\n      <td>https://scryfall.com/card/khm/382/youthful-val...</td>\n      <td>normal</td>\n      <td>True</td>\n      <td>...</td>\n      <td>NaN</td>\n      <td>NaN</td>\n      <td>NaN</td>\n      <td>NaN</td>\n      <td>NaN</td>\n      <td>NaN</td>\n      <td>NaN</td>\n      <td>NaN</td>\n      <td>NaN</td>\n      <td>NaN</td>\n    </tr>\n    <tr>\n      <th>80704</th>\n      <td>card</td>\n      <td>ffe9ee1c-5eb3-4d63-a641-0ec5adf7b058</td>\n      <td>e60b23ba-2258-4da1-b873-452ee215846b</td>\n      <td>[583793]</td>\n      <td>Fallaji Vanguard</td>\n      <td>en</td>\n      <td>https://api.scryfall.com/cards/ffe9ee1c-5eb3-4...</td>\n      <td>https://scryfall.com/card/bro/210/fallaji-vang...</td>\n      <td>normal</td>\n      <td>True</td>\n      <td>...</td>\n      <td>NaN</td>\n      <td>NaN</td>\n      <td>NaN</td>\n      <td>NaN</td>\n      <td>NaN</td>\n      <td>NaN</td>\n      <td>NaN</td>\n      <td>NaN</td>\n      <td>NaN</td>\n      <td>NaN</td>\n    </tr>\n    <tr>\n      <th>80707</th>\n      <td>card</td>\n      <td>ffeb407d-6a42-488a-9869-83da3047e45d</td>\n      <td>a57b84e4-951c-4475-bb34-b68815858f87</td>\n      <td>[378390]</td>\n      <td>Hold at Bay</td>\n      <td>en</td>\n      <td>https://api.scryfall.com/cards/ffeb407d-6a42-4...</td>\n      <td>https://scryfall.com/card/bng/18/hold-at-bay?u...</td>\n      <td>normal</td>\n      <td>True</td>\n      <td>...</td>\n      <td>NaN</td>\n      <td>NaN</td>\n      <td>NaN</td>\n      <td>NaN</td>\n      <td>NaN</td>\n      <td>NaN</td>\n      <td>NaN</td>\n      <td>NaN</td>\n      <td>NaN</td>\n      <td>NaN</td>\n    </tr>\n  </tbody>\n</table>\n<p>25438 rows × 44 columns</p>\n</div>"
     },
     "execution_count": 16,
     "metadata": {},
     "output_type": "execute_result"
    }
   ],
   "source": [
    "data.drop(columns=['mtgo_id', 'mtgo_foil_id', 'arena_id', 'tcgplayer_id', 'cardmarket_id', 'legalities', 'games', 'reserved', 'foil', 'nonfoil', 'finishes', 'oversized', 'promo', 'reprint', 'variation', 'artist', 'artist_ids', 'illustration_id', 'border_color', 'booster', 'story_spotlight', 'edhrec_rank', 'penny_rank','prices', 'promo_types', 'arena_id', 'preview', 'security_stamp', 'tcgplayer_etched_id', 'variation_of','released_at', 'set_id','set', 'set_uri', 'set_search_uri', 'scryfall_set_uri', 'rulings_uri', 'prints_search_uri', 'card_back_id', 'frame', 'related_uris'])\n"
   ],
   "metadata": {
    "collapsed": false
   }
  },
  {
   "cell_type": "code",
   "execution_count": 17,
   "outputs": [
    {
     "name": "stdout",
     "output_type": "stream",
     "text": [
      "(25438, 83)\n"
     ]
    },
    {
     "data": {
      "text/plain": "  object                                    id  \\\n0   card  0000579f-7b35-4ed3-b44c-db2a538066fe   \n1   card  00006596-1166-4a79-8443-ca9f82e6db4e   \n3   card  0000cd57-91fe-411f-b798-646e965eec37   \n4   card  00012bd8-ed68-4978-a22d-f450c8a6e048   \n5   card  0001f1ef-b957-4a55-b47f-14839cdbab6f   \n\n                              oracle_id multiverse_ids  mtgo_id  mtgo_foil_id  \\\n0  44623693-51d6-49ad-8cd7-140505caf02f       [109722]  25527.0       25528.0   \n1  8ae3562f-28b7-4462-96ed-be0cf7052ccc       [189637]  34586.0       34587.0   \n3  9f0d82ae-38bf-45d8-8cda-982b6ead1d72       [435231]  65170.0       65171.0   \n4  5aa12aff-db3c-4be5-822b-3afdf536b33e         [1278]      NaN           NaN   \n5  ef027846-be81-4959-a6b5-56bd01b1e68a       [472997]  78170.0           NaN   \n\n   tcgplayer_id  cardmarket_id              name released_at  ...  \\\n0       14240.0        13850.0       Fury Sliver  2006-10-06  ...   \n1       33347.0        21851.0     Kor Outfitter  2009-10-02  ...   \n3      145764.0       301766.0     Siren Lookout  2017-09-29  ...   \n4        1623.0         5664.0               Web  1994-04-01  ...   \n5      198861.0       400134.0  Venerable Knight  2019-10-04  ...   \n\n  tcgplayer_etched_id attraction_lights color_indicator  variation_of  \\\n0                 NaN               NaN             NaN           NaN   \n1                 NaN               NaN             NaN           NaN   \n3                 NaN               NaN             NaN           NaN   \n4                 NaN               NaN             NaN           NaN   \n5                 NaN               NaN             NaN           NaN   \n\n  life_modifier hand_modifier printed_type_line  printed_text content_warning  \\\n0           NaN           NaN               NaN           NaN             NaN   \n1           NaN           NaN               NaN           NaN             NaN   \n3           NaN           NaN               NaN           NaN             NaN   \n4           NaN           NaN               NaN           NaN             NaN   \n5           NaN           NaN               NaN           NaN             NaN   \n\n  flavor_name  \n0         NaN  \n1         NaN  \n3         NaN  \n4         NaN  \n5         NaN  \n\n[5 rows x 83 columns]",
      "text/html": "<div>\n<style scoped>\n    .dataframe tbody tr th:only-of-type {\n        vertical-align: middle;\n    }\n\n    .dataframe tbody tr th {\n        vertical-align: top;\n    }\n\n    .dataframe thead th {\n        text-align: right;\n    }\n</style>\n<table border=\"1\" class=\"dataframe\">\n  <thead>\n    <tr style=\"text-align: right;\">\n      <th></th>\n      <th>object</th>\n      <th>id</th>\n      <th>oracle_id</th>\n      <th>multiverse_ids</th>\n      <th>mtgo_id</th>\n      <th>mtgo_foil_id</th>\n      <th>tcgplayer_id</th>\n      <th>cardmarket_id</th>\n      <th>name</th>\n      <th>released_at</th>\n      <th>...</th>\n      <th>tcgplayer_etched_id</th>\n      <th>attraction_lights</th>\n      <th>color_indicator</th>\n      <th>variation_of</th>\n      <th>life_modifier</th>\n      <th>hand_modifier</th>\n      <th>printed_type_line</th>\n      <th>printed_text</th>\n      <th>content_warning</th>\n      <th>flavor_name</th>\n    </tr>\n  </thead>\n  <tbody>\n    <tr>\n      <th>0</th>\n      <td>card</td>\n      <td>0000579f-7b35-4ed3-b44c-db2a538066fe</td>\n      <td>44623693-51d6-49ad-8cd7-140505caf02f</td>\n      <td>[109722]</td>\n      <td>25527.0</td>\n      <td>25528.0</td>\n      <td>14240.0</td>\n      <td>13850.0</td>\n      <td>Fury Sliver</td>\n      <td>2006-10-06</td>\n      <td>...</td>\n      <td>NaN</td>\n      <td>NaN</td>\n      <td>NaN</td>\n      <td>NaN</td>\n      <td>NaN</td>\n      <td>NaN</td>\n      <td>NaN</td>\n      <td>NaN</td>\n      <td>NaN</td>\n      <td>NaN</td>\n    </tr>\n    <tr>\n      <th>1</th>\n      <td>card</td>\n      <td>00006596-1166-4a79-8443-ca9f82e6db4e</td>\n      <td>8ae3562f-28b7-4462-96ed-be0cf7052ccc</td>\n      <td>[189637]</td>\n      <td>34586.0</td>\n      <td>34587.0</td>\n      <td>33347.0</td>\n      <td>21851.0</td>\n      <td>Kor Outfitter</td>\n      <td>2009-10-02</td>\n      <td>...</td>\n      <td>NaN</td>\n      <td>NaN</td>\n      <td>NaN</td>\n      <td>NaN</td>\n      <td>NaN</td>\n      <td>NaN</td>\n      <td>NaN</td>\n      <td>NaN</td>\n      <td>NaN</td>\n      <td>NaN</td>\n    </tr>\n    <tr>\n      <th>3</th>\n      <td>card</td>\n      <td>0000cd57-91fe-411f-b798-646e965eec37</td>\n      <td>9f0d82ae-38bf-45d8-8cda-982b6ead1d72</td>\n      <td>[435231]</td>\n      <td>65170.0</td>\n      <td>65171.0</td>\n      <td>145764.0</td>\n      <td>301766.0</td>\n      <td>Siren Lookout</td>\n      <td>2017-09-29</td>\n      <td>...</td>\n      <td>NaN</td>\n      <td>NaN</td>\n      <td>NaN</td>\n      <td>NaN</td>\n      <td>NaN</td>\n      <td>NaN</td>\n      <td>NaN</td>\n      <td>NaN</td>\n      <td>NaN</td>\n      <td>NaN</td>\n    </tr>\n    <tr>\n      <th>4</th>\n      <td>card</td>\n      <td>00012bd8-ed68-4978-a22d-f450c8a6e048</td>\n      <td>5aa12aff-db3c-4be5-822b-3afdf536b33e</td>\n      <td>[1278]</td>\n      <td>NaN</td>\n      <td>NaN</td>\n      <td>1623.0</td>\n      <td>5664.0</td>\n      <td>Web</td>\n      <td>1994-04-01</td>\n      <td>...</td>\n      <td>NaN</td>\n      <td>NaN</td>\n      <td>NaN</td>\n      <td>NaN</td>\n      <td>NaN</td>\n      <td>NaN</td>\n      <td>NaN</td>\n      <td>NaN</td>\n      <td>NaN</td>\n      <td>NaN</td>\n    </tr>\n    <tr>\n      <th>5</th>\n      <td>card</td>\n      <td>0001f1ef-b957-4a55-b47f-14839cdbab6f</td>\n      <td>ef027846-be81-4959-a6b5-56bd01b1e68a</td>\n      <td>[472997]</td>\n      <td>78170.0</td>\n      <td>NaN</td>\n      <td>198861.0</td>\n      <td>400134.0</td>\n      <td>Venerable Knight</td>\n      <td>2019-10-04</td>\n      <td>...</td>\n      <td>NaN</td>\n      <td>NaN</td>\n      <td>NaN</td>\n      <td>NaN</td>\n      <td>NaN</td>\n      <td>NaN</td>\n      <td>NaN</td>\n      <td>NaN</td>\n      <td>NaN</td>\n      <td>NaN</td>\n    </tr>\n  </tbody>\n</table>\n<p>5 rows × 83 columns</p>\n</div>"
     },
     "execution_count": 17,
     "metadata": {},
     "output_type": "execute_result"
    }
   ],
   "source": [
    "# now that we dont have any other languages, we can drop the lang column\n",
    "data = data.drop(columns=['lang'])\n",
    "print(data.shape)\n",
    "data.head()"
   ],
   "metadata": {
    "collapsed": false
   }
  },
  {
   "cell_type": "code",
   "execution_count": 18,
   "outputs": [],
   "source": [
    "data = data.drop(columns=['mtgo_id', 'mtgo_foil_id', 'arena_id', 'tcgplayer_id', 'cardmarket_id', 'legalities', 'games', 'reserved', 'foil', 'nonfoil', 'finishes', 'oversized', 'promo', 'reprint', 'variation', 'artist', 'artist_ids', 'illustration_id', 'border_color', 'booster', 'story_spotlight', 'edhrec_rank', 'penny_rank','prices', 'promo_types', 'arena_id', 'preview', 'security_stamp', 'tcgplayer_etched_id', 'variation_of','released_at', 'set_id','set', 'set_uri', 'set_search_uri', 'scryfall_set_uri', 'rulings_uri', 'prints_search_uri', 'card_back_id', 'frame', 'related_uris'])"
   ],
   "metadata": {
    "collapsed": false
   }
  },
  {
   "cell_type": "code",
   "execution_count": 19,
   "outputs": [
    {
     "name": "stdout",
     "output_type": "stream",
     "text": [
      "(25438, 43)\n"
     ]
    },
    {
     "data": {
      "text/plain": "  object                                    id  \\\n0   card  0000579f-7b35-4ed3-b44c-db2a538066fe   \n1   card  00006596-1166-4a79-8443-ca9f82e6db4e   \n3   card  0000cd57-91fe-411f-b798-646e965eec37   \n4   card  00012bd8-ed68-4978-a22d-f450c8a6e048   \n5   card  0001f1ef-b957-4a55-b47f-14839cdbab6f   \n\n                              oracle_id multiverse_ids              name  \\\n0  44623693-51d6-49ad-8cd7-140505caf02f       [109722]       Fury Sliver   \n1  8ae3562f-28b7-4462-96ed-be0cf7052ccc       [189637]     Kor Outfitter   \n3  9f0d82ae-38bf-45d8-8cda-982b6ead1d72       [435231]     Siren Lookout   \n4  5aa12aff-db3c-4be5-822b-3afdf536b33e         [1278]               Web   \n5  ef027846-be81-4959-a6b5-56bd01b1e68a       [472997]  Venerable Knight   \n\n                                                 uri  \\\n0  https://api.scryfall.com/cards/0000579f-7b35-4...   \n1  https://api.scryfall.com/cards/00006596-1166-4...   \n3  https://api.scryfall.com/cards/0000cd57-91fe-4...   \n4  https://api.scryfall.com/cards/00012bd8-ed68-4...   \n5  https://api.scryfall.com/cards/0001f1ef-b957-4...   \n\n                                        scryfall_uri  layout  highres_image  \\\n0  https://scryfall.com/card/tsp/157/fury-sliver?...  normal           True   \n1  https://scryfall.com/card/zen/21/kor-outfitter...  normal           True   \n3  https://scryfall.com/card/xln/78/siren-lookout...  normal           True   \n4  https://scryfall.com/card/3ed/229/web?utm_sour...  normal           True   \n5  https://scryfall.com/card/eld/35/venerable-kni...  normal           True   \n\n   image_status  ... printed_name card_faces  attraction_lights  \\\n0  highres_scan  ...          NaN        NaN                NaN   \n1  highres_scan  ...          NaN        NaN                NaN   \n3  highres_scan  ...          NaN        NaN                NaN   \n4  highres_scan  ...          NaN        NaN                NaN   \n5  highres_scan  ...          NaN        NaN                NaN   \n\n  color_indicator life_modifier hand_modifier printed_type_line printed_text  \\\n0             NaN           NaN           NaN               NaN          NaN   \n1             NaN           NaN           NaN               NaN          NaN   \n3             NaN           NaN           NaN               NaN          NaN   \n4             NaN           NaN           NaN               NaN          NaN   \n5             NaN           NaN           NaN               NaN          NaN   \n\n  content_warning flavor_name  \n0             NaN         NaN  \n1             NaN         NaN  \n3             NaN         NaN  \n4             NaN         NaN  \n5             NaN         NaN  \n\n[5 rows x 43 columns]",
      "text/html": "<div>\n<style scoped>\n    .dataframe tbody tr th:only-of-type {\n        vertical-align: middle;\n    }\n\n    .dataframe tbody tr th {\n        vertical-align: top;\n    }\n\n    .dataframe thead th {\n        text-align: right;\n    }\n</style>\n<table border=\"1\" class=\"dataframe\">\n  <thead>\n    <tr style=\"text-align: right;\">\n      <th></th>\n      <th>object</th>\n      <th>id</th>\n      <th>oracle_id</th>\n      <th>multiverse_ids</th>\n      <th>name</th>\n      <th>uri</th>\n      <th>scryfall_uri</th>\n      <th>layout</th>\n      <th>highres_image</th>\n      <th>image_status</th>\n      <th>...</th>\n      <th>printed_name</th>\n      <th>card_faces</th>\n      <th>attraction_lights</th>\n      <th>color_indicator</th>\n      <th>life_modifier</th>\n      <th>hand_modifier</th>\n      <th>printed_type_line</th>\n      <th>printed_text</th>\n      <th>content_warning</th>\n      <th>flavor_name</th>\n    </tr>\n  </thead>\n  <tbody>\n    <tr>\n      <th>0</th>\n      <td>card</td>\n      <td>0000579f-7b35-4ed3-b44c-db2a538066fe</td>\n      <td>44623693-51d6-49ad-8cd7-140505caf02f</td>\n      <td>[109722]</td>\n      <td>Fury Sliver</td>\n      <td>https://api.scryfall.com/cards/0000579f-7b35-4...</td>\n      <td>https://scryfall.com/card/tsp/157/fury-sliver?...</td>\n      <td>normal</td>\n      <td>True</td>\n      <td>highres_scan</td>\n      <td>...</td>\n      <td>NaN</td>\n      <td>NaN</td>\n      <td>NaN</td>\n      <td>NaN</td>\n      <td>NaN</td>\n      <td>NaN</td>\n      <td>NaN</td>\n      <td>NaN</td>\n      <td>NaN</td>\n      <td>NaN</td>\n    </tr>\n    <tr>\n      <th>1</th>\n      <td>card</td>\n      <td>00006596-1166-4a79-8443-ca9f82e6db4e</td>\n      <td>8ae3562f-28b7-4462-96ed-be0cf7052ccc</td>\n      <td>[189637]</td>\n      <td>Kor Outfitter</td>\n      <td>https://api.scryfall.com/cards/00006596-1166-4...</td>\n      <td>https://scryfall.com/card/zen/21/kor-outfitter...</td>\n      <td>normal</td>\n      <td>True</td>\n      <td>highres_scan</td>\n      <td>...</td>\n      <td>NaN</td>\n      <td>NaN</td>\n      <td>NaN</td>\n      <td>NaN</td>\n      <td>NaN</td>\n      <td>NaN</td>\n      <td>NaN</td>\n      <td>NaN</td>\n      <td>NaN</td>\n      <td>NaN</td>\n    </tr>\n    <tr>\n      <th>3</th>\n      <td>card</td>\n      <td>0000cd57-91fe-411f-b798-646e965eec37</td>\n      <td>9f0d82ae-38bf-45d8-8cda-982b6ead1d72</td>\n      <td>[435231]</td>\n      <td>Siren Lookout</td>\n      <td>https://api.scryfall.com/cards/0000cd57-91fe-4...</td>\n      <td>https://scryfall.com/card/xln/78/siren-lookout...</td>\n      <td>normal</td>\n      <td>True</td>\n      <td>highres_scan</td>\n      <td>...</td>\n      <td>NaN</td>\n      <td>NaN</td>\n      <td>NaN</td>\n      <td>NaN</td>\n      <td>NaN</td>\n      <td>NaN</td>\n      <td>NaN</td>\n      <td>NaN</td>\n      <td>NaN</td>\n      <td>NaN</td>\n    </tr>\n    <tr>\n      <th>4</th>\n      <td>card</td>\n      <td>00012bd8-ed68-4978-a22d-f450c8a6e048</td>\n      <td>5aa12aff-db3c-4be5-822b-3afdf536b33e</td>\n      <td>[1278]</td>\n      <td>Web</td>\n      <td>https://api.scryfall.com/cards/00012bd8-ed68-4...</td>\n      <td>https://scryfall.com/card/3ed/229/web?utm_sour...</td>\n      <td>normal</td>\n      <td>True</td>\n      <td>highres_scan</td>\n      <td>...</td>\n      <td>NaN</td>\n      <td>NaN</td>\n      <td>NaN</td>\n      <td>NaN</td>\n      <td>NaN</td>\n      <td>NaN</td>\n      <td>NaN</td>\n      <td>NaN</td>\n      <td>NaN</td>\n      <td>NaN</td>\n    </tr>\n    <tr>\n      <th>5</th>\n      <td>card</td>\n      <td>0001f1ef-b957-4a55-b47f-14839cdbab6f</td>\n      <td>ef027846-be81-4959-a6b5-56bd01b1e68a</td>\n      <td>[472997]</td>\n      <td>Venerable Knight</td>\n      <td>https://api.scryfall.com/cards/0001f1ef-b957-4...</td>\n      <td>https://scryfall.com/card/eld/35/venerable-kni...</td>\n      <td>normal</td>\n      <td>True</td>\n      <td>highres_scan</td>\n      <td>...</td>\n      <td>NaN</td>\n      <td>NaN</td>\n      <td>NaN</td>\n      <td>NaN</td>\n      <td>NaN</td>\n      <td>NaN</td>\n      <td>NaN</td>\n      <td>NaN</td>\n      <td>NaN</td>\n      <td>NaN</td>\n    </tr>\n  </tbody>\n</table>\n<p>5 rows × 43 columns</p>\n</div>"
     },
     "execution_count": 19,
     "metadata": {},
     "output_type": "execute_result"
    }
   ],
   "source": [
    "print(data.shape)\n",
    "data.head()"
   ],
   "metadata": {
    "collapsed": false
   }
  },
  {
   "cell_type": "code",
   "execution_count": 20,
   "outputs": [
    {
     "ename": "TypeError",
     "evalue": "unhashable type: 'Series'",
     "output_type": "error",
     "traceback": [
      "\u001B[0;31m---------------------------------------------------------------------------\u001B[0m",
      "\u001B[0;31mTypeError\u001B[0m                                 Traceback (most recent call last)",
      "Cell \u001B[0;32mIn[20], line 2\u001B[0m\n\u001B[1;32m      1\u001B[0m \u001B[38;5;66;03m# rplace the card name in the oracle_text with the token <card_name>\u001B[39;00m\n\u001B[0;32m----> 2\u001B[0m data[\u001B[38;5;124m'\u001B[39m\u001B[38;5;124moracle_text\u001B[39m\u001B[38;5;124m'\u001B[39m] \u001B[38;5;241m=\u001B[39m \u001B[43mdata\u001B[49m\u001B[43m[\u001B[49m\u001B[38;5;124;43m'\u001B[39;49m\u001B[38;5;124;43moracle_text\u001B[39;49m\u001B[38;5;124;43m'\u001B[39;49m\u001B[43m]\u001B[49m\u001B[38;5;241;43m.\u001B[39;49m\u001B[43mstr\u001B[49m\u001B[38;5;241;43m.\u001B[39;49m\u001B[43mreplace\u001B[49m\u001B[43m(\u001B[49m\u001B[43mdata\u001B[49m\u001B[43m[\u001B[49m\u001B[38;5;124;43m'\u001B[39;49m\u001B[38;5;124;43mname\u001B[39;49m\u001B[38;5;124;43m'\u001B[39;49m\u001B[43m]\u001B[49m\u001B[43m,\u001B[49m\u001B[43m \u001B[49m\u001B[38;5;124;43m'\u001B[39;49m\u001B[38;5;124;43m<card_name>\u001B[39;49m\u001B[38;5;124;43m'\u001B[39;49m\u001B[43m)\u001B[49m\n",
      "File \u001B[0;32m~/PycharmProjects/nanoGPT/nanoGPT/venv/lib/python3.9/site-packages/pandas/core/strings/accessor.py:129\u001B[0m, in \u001B[0;36mforbid_nonstring_types.<locals>._forbid_nonstring_types.<locals>.wrapper\u001B[0;34m(self, *args, **kwargs)\u001B[0m\n\u001B[1;32m    124\u001B[0m     msg \u001B[38;5;241m=\u001B[39m (\n\u001B[1;32m    125\u001B[0m         \u001B[38;5;124mf\u001B[39m\u001B[38;5;124m\"\u001B[39m\u001B[38;5;124mCannot use .str.\u001B[39m\u001B[38;5;132;01m{\u001B[39;00mfunc_name\u001B[38;5;132;01m}\u001B[39;00m\u001B[38;5;124m with values of \u001B[39m\u001B[38;5;124m\"\u001B[39m\n\u001B[1;32m    126\u001B[0m         \u001B[38;5;124mf\u001B[39m\u001B[38;5;124m\"\u001B[39m\u001B[38;5;124minferred dtype \u001B[39m\u001B[38;5;124m'\u001B[39m\u001B[38;5;132;01m{\u001B[39;00m\u001B[38;5;28mself\u001B[39m\u001B[38;5;241m.\u001B[39m_inferred_dtype\u001B[38;5;132;01m}\u001B[39;00m\u001B[38;5;124m'\u001B[39m\u001B[38;5;124m.\u001B[39m\u001B[38;5;124m\"\u001B[39m\n\u001B[1;32m    127\u001B[0m     )\n\u001B[1;32m    128\u001B[0m     \u001B[38;5;28;01mraise\u001B[39;00m \u001B[38;5;167;01mTypeError\u001B[39;00m(msg)\n\u001B[0;32m--> 129\u001B[0m \u001B[38;5;28;01mreturn\u001B[39;00m \u001B[43mfunc\u001B[49m\u001B[43m(\u001B[49m\u001B[38;5;28;43mself\u001B[39;49m\u001B[43m,\u001B[49m\u001B[43m \u001B[49m\u001B[38;5;241;43m*\u001B[39;49m\u001B[43margs\u001B[49m\u001B[43m,\u001B[49m\u001B[43m \u001B[49m\u001B[38;5;241;43m*\u001B[39;49m\u001B[38;5;241;43m*\u001B[39;49m\u001B[43mkwargs\u001B[49m\u001B[43m)\u001B[49m\n",
      "File \u001B[0;32m~/PycharmProjects/nanoGPT/nanoGPT/venv/lib/python3.9/site-packages/pandas/core/strings/accessor.py:1500\u001B[0m, in \u001B[0;36mStringMethods.replace\u001B[0;34m(self, pat, repl, n, case, flags, regex)\u001B[0m\n\u001B[1;32m   1497\u001B[0m \u001B[38;5;28;01mif\u001B[39;00m case \u001B[38;5;129;01mis\u001B[39;00m \u001B[38;5;28;01mNone\u001B[39;00m:\n\u001B[1;32m   1498\u001B[0m     case \u001B[38;5;241m=\u001B[39m \u001B[38;5;28;01mTrue\u001B[39;00m\n\u001B[0;32m-> 1500\u001B[0m result \u001B[38;5;241m=\u001B[39m \u001B[38;5;28;43mself\u001B[39;49m\u001B[38;5;241;43m.\u001B[39;49m\u001B[43m_data\u001B[49m\u001B[38;5;241;43m.\u001B[39;49m\u001B[43marray\u001B[49m\u001B[38;5;241;43m.\u001B[39;49m\u001B[43m_str_replace\u001B[49m\u001B[43m(\u001B[49m\n\u001B[1;32m   1501\u001B[0m \u001B[43m    \u001B[49m\u001B[43mpat\u001B[49m\u001B[43m,\u001B[49m\u001B[43m \u001B[49m\u001B[43mrepl\u001B[49m\u001B[43m,\u001B[49m\u001B[43m \u001B[49m\u001B[43mn\u001B[49m\u001B[38;5;241;43m=\u001B[39;49m\u001B[43mn\u001B[49m\u001B[43m,\u001B[49m\u001B[43m \u001B[49m\u001B[43mcase\u001B[49m\u001B[38;5;241;43m=\u001B[39;49m\u001B[43mcase\u001B[49m\u001B[43m,\u001B[49m\u001B[43m \u001B[49m\u001B[43mflags\u001B[49m\u001B[38;5;241;43m=\u001B[39;49m\u001B[43mflags\u001B[49m\u001B[43m,\u001B[49m\u001B[43m \u001B[49m\u001B[43mregex\u001B[49m\u001B[38;5;241;43m=\u001B[39;49m\u001B[43mregex\u001B[49m\n\u001B[1;32m   1502\u001B[0m \u001B[43m\u001B[49m\u001B[43m)\u001B[49m\n\u001B[1;32m   1503\u001B[0m \u001B[38;5;28;01mreturn\u001B[39;00m \u001B[38;5;28mself\u001B[39m\u001B[38;5;241m.\u001B[39m_wrap_result(result)\n",
      "File \u001B[0;32m~/PycharmProjects/nanoGPT/nanoGPT/venv/lib/python3.9/site-packages/pandas/core/strings/object_array.py:158\u001B[0m, in \u001B[0;36mObjectStringArrayMixin._str_replace\u001B[0;34m(self, pat, repl, n, case, flags, regex)\u001B[0m\n\u001B[1;32m    156\u001B[0m     \u001B[38;5;28;01mif\u001B[39;00m regex \u001B[38;5;129;01mis\u001B[39;00m \u001B[38;5;28;01mFalse\u001B[39;00m:\n\u001B[1;32m    157\u001B[0m         pat \u001B[38;5;241m=\u001B[39m re\u001B[38;5;241m.\u001B[39mescape(pat)\n\u001B[0;32m--> 158\u001B[0m     pat \u001B[38;5;241m=\u001B[39m \u001B[43mre\u001B[49m\u001B[38;5;241;43m.\u001B[39;49m\u001B[43mcompile\u001B[49m\u001B[43m(\u001B[49m\u001B[43mpat\u001B[49m\u001B[43m,\u001B[49m\u001B[43m \u001B[49m\u001B[43mflags\u001B[49m\u001B[38;5;241;43m=\u001B[39;49m\u001B[43mflags\u001B[49m\u001B[43m)\u001B[49m\n\u001B[1;32m    160\u001B[0m n \u001B[38;5;241m=\u001B[39m n \u001B[38;5;28;01mif\u001B[39;00m n \u001B[38;5;241m>\u001B[39m\u001B[38;5;241m=\u001B[39m \u001B[38;5;241m0\u001B[39m \u001B[38;5;28;01melse\u001B[39;00m \u001B[38;5;241m0\u001B[39m\n\u001B[1;32m    161\u001B[0m f \u001B[38;5;241m=\u001B[39m \u001B[38;5;28;01mlambda\u001B[39;00m x: pat\u001B[38;5;241m.\u001B[39msub(repl\u001B[38;5;241m=\u001B[39mrepl, string\u001B[38;5;241m=\u001B[39mx, count\u001B[38;5;241m=\u001B[39mn)\n",
      "File \u001B[0;32m/Applications/Xcode.app/Contents/Developer/Library/Frameworks/Python3.framework/Versions/3.9/lib/python3.9/re.py:252\u001B[0m, in \u001B[0;36mcompile\u001B[0;34m(pattern, flags)\u001B[0m\n\u001B[1;32m    250\u001B[0m \u001B[38;5;28;01mdef\u001B[39;00m \u001B[38;5;21mcompile\u001B[39m(pattern, flags\u001B[38;5;241m=\u001B[39m\u001B[38;5;241m0\u001B[39m):\n\u001B[1;32m    251\u001B[0m     \u001B[38;5;124m\"\u001B[39m\u001B[38;5;124mCompile a regular expression pattern, returning a Pattern object.\u001B[39m\u001B[38;5;124m\"\u001B[39m\n\u001B[0;32m--> 252\u001B[0m     \u001B[38;5;28;01mreturn\u001B[39;00m \u001B[43m_compile\u001B[49m\u001B[43m(\u001B[49m\u001B[43mpattern\u001B[49m\u001B[43m,\u001B[49m\u001B[43m \u001B[49m\u001B[43mflags\u001B[49m\u001B[43m)\u001B[49m\n",
      "File \u001B[0;32m/Applications/Xcode.app/Contents/Developer/Library/Frameworks/Python3.framework/Versions/3.9/lib/python3.9/re.py:294\u001B[0m, in \u001B[0;36m_compile\u001B[0;34m(pattern, flags)\u001B[0m\n\u001B[1;32m    292\u001B[0m     flags \u001B[38;5;241m=\u001B[39m flags\u001B[38;5;241m.\u001B[39mvalue\n\u001B[1;32m    293\u001B[0m \u001B[38;5;28;01mtry\u001B[39;00m:\n\u001B[0;32m--> 294\u001B[0m     \u001B[38;5;28;01mreturn\u001B[39;00m \u001B[43m_cache\u001B[49m\u001B[43m[\u001B[49m\u001B[38;5;28;43mtype\u001B[39;49m\u001B[43m(\u001B[49m\u001B[43mpattern\u001B[49m\u001B[43m)\u001B[49m\u001B[43m,\u001B[49m\u001B[43m \u001B[49m\u001B[43mpattern\u001B[49m\u001B[43m,\u001B[49m\u001B[43m \u001B[49m\u001B[43mflags\u001B[49m\u001B[43m]\u001B[49m\n\u001B[1;32m    295\u001B[0m \u001B[38;5;28;01mexcept\u001B[39;00m \u001B[38;5;167;01mKeyError\u001B[39;00m:\n\u001B[1;32m    296\u001B[0m     \u001B[38;5;28;01mpass\u001B[39;00m\n",
      "\u001B[0;31mTypeError\u001B[0m: unhashable type: 'Series'"
     ]
    }
   ],
   "source": [
    "# rplace the card name in the oracle_text with the token <card_name>\n",
    "data['oracle_text'] = data['oracle_text'].str.replace(data['name'], '<card_name>')"
   ],
   "metadata": {
    "collapsed": false
   }
  },
  {
   "cell_type": "code",
   "execution_count": 21,
   "outputs": [],
   "source": [
    "data['oracle_text'] = data.apply(lambda x: x['oracle_text'].replace(x['name'], '<card_name>'), axis=1)\n"
   ],
   "metadata": {
    "collapsed": false
   }
  },
  {
   "cell_type": "code",
   "execution_count": 22,
   "outputs": [
    {
     "name": "stdout",
     "output_type": "stream",
     "text": [
      "(25438, 43)\n"
     ]
    },
    {
     "data": {
      "text/plain": "  object                                    id  \\\n0   card  0000579f-7b35-4ed3-b44c-db2a538066fe   \n1   card  00006596-1166-4a79-8443-ca9f82e6db4e   \n3   card  0000cd57-91fe-411f-b798-646e965eec37   \n4   card  00012bd8-ed68-4978-a22d-f450c8a6e048   \n5   card  0001f1ef-b957-4a55-b47f-14839cdbab6f   \n\n                              oracle_id multiverse_ids              name  \\\n0  44623693-51d6-49ad-8cd7-140505caf02f       [109722]       Fury Sliver   \n1  8ae3562f-28b7-4462-96ed-be0cf7052ccc       [189637]     Kor Outfitter   \n3  9f0d82ae-38bf-45d8-8cda-982b6ead1d72       [435231]     Siren Lookout   \n4  5aa12aff-db3c-4be5-822b-3afdf536b33e         [1278]               Web   \n5  ef027846-be81-4959-a6b5-56bd01b1e68a       [472997]  Venerable Knight   \n\n                                                 uri  \\\n0  https://api.scryfall.com/cards/0000579f-7b35-4...   \n1  https://api.scryfall.com/cards/00006596-1166-4...   \n3  https://api.scryfall.com/cards/0000cd57-91fe-4...   \n4  https://api.scryfall.com/cards/00012bd8-ed68-4...   \n5  https://api.scryfall.com/cards/0001f1ef-b957-4...   \n\n                                        scryfall_uri  layout  highres_image  \\\n0  https://scryfall.com/card/tsp/157/fury-sliver?...  normal           True   \n1  https://scryfall.com/card/zen/21/kor-outfitter...  normal           True   \n3  https://scryfall.com/card/xln/78/siren-lookout...  normal           True   \n4  https://scryfall.com/card/3ed/229/web?utm_sour...  normal           True   \n5  https://scryfall.com/card/eld/35/venerable-kni...  normal           True   \n\n   image_status  ... printed_name card_faces  attraction_lights  \\\n0  highres_scan  ...          NaN        NaN                NaN   \n1  highres_scan  ...          NaN        NaN                NaN   \n3  highres_scan  ...          NaN        NaN                NaN   \n4  highres_scan  ...          NaN        NaN                NaN   \n5  highres_scan  ...          NaN        NaN                NaN   \n\n  color_indicator life_modifier hand_modifier printed_type_line printed_text  \\\n0             NaN           NaN           NaN               NaN          NaN   \n1             NaN           NaN           NaN               NaN          NaN   \n3             NaN           NaN           NaN               NaN          NaN   \n4             NaN           NaN           NaN               NaN          NaN   \n5             NaN           NaN           NaN               NaN          NaN   \n\n  content_warning flavor_name  \n0             NaN         NaN  \n1             NaN         NaN  \n3             NaN         NaN  \n4             NaN         NaN  \n5             NaN         NaN  \n\n[5 rows x 43 columns]",
      "text/html": "<div>\n<style scoped>\n    .dataframe tbody tr th:only-of-type {\n        vertical-align: middle;\n    }\n\n    .dataframe tbody tr th {\n        vertical-align: top;\n    }\n\n    .dataframe thead th {\n        text-align: right;\n    }\n</style>\n<table border=\"1\" class=\"dataframe\">\n  <thead>\n    <tr style=\"text-align: right;\">\n      <th></th>\n      <th>object</th>\n      <th>id</th>\n      <th>oracle_id</th>\n      <th>multiverse_ids</th>\n      <th>name</th>\n      <th>uri</th>\n      <th>scryfall_uri</th>\n      <th>layout</th>\n      <th>highres_image</th>\n      <th>image_status</th>\n      <th>...</th>\n      <th>printed_name</th>\n      <th>card_faces</th>\n      <th>attraction_lights</th>\n      <th>color_indicator</th>\n      <th>life_modifier</th>\n      <th>hand_modifier</th>\n      <th>printed_type_line</th>\n      <th>printed_text</th>\n      <th>content_warning</th>\n      <th>flavor_name</th>\n    </tr>\n  </thead>\n  <tbody>\n    <tr>\n      <th>0</th>\n      <td>card</td>\n      <td>0000579f-7b35-4ed3-b44c-db2a538066fe</td>\n      <td>44623693-51d6-49ad-8cd7-140505caf02f</td>\n      <td>[109722]</td>\n      <td>Fury Sliver</td>\n      <td>https://api.scryfall.com/cards/0000579f-7b35-4...</td>\n      <td>https://scryfall.com/card/tsp/157/fury-sliver?...</td>\n      <td>normal</td>\n      <td>True</td>\n      <td>highres_scan</td>\n      <td>...</td>\n      <td>NaN</td>\n      <td>NaN</td>\n      <td>NaN</td>\n      <td>NaN</td>\n      <td>NaN</td>\n      <td>NaN</td>\n      <td>NaN</td>\n      <td>NaN</td>\n      <td>NaN</td>\n      <td>NaN</td>\n    </tr>\n    <tr>\n      <th>1</th>\n      <td>card</td>\n      <td>00006596-1166-4a79-8443-ca9f82e6db4e</td>\n      <td>8ae3562f-28b7-4462-96ed-be0cf7052ccc</td>\n      <td>[189637]</td>\n      <td>Kor Outfitter</td>\n      <td>https://api.scryfall.com/cards/00006596-1166-4...</td>\n      <td>https://scryfall.com/card/zen/21/kor-outfitter...</td>\n      <td>normal</td>\n      <td>True</td>\n      <td>highres_scan</td>\n      <td>...</td>\n      <td>NaN</td>\n      <td>NaN</td>\n      <td>NaN</td>\n      <td>NaN</td>\n      <td>NaN</td>\n      <td>NaN</td>\n      <td>NaN</td>\n      <td>NaN</td>\n      <td>NaN</td>\n      <td>NaN</td>\n    </tr>\n    <tr>\n      <th>3</th>\n      <td>card</td>\n      <td>0000cd57-91fe-411f-b798-646e965eec37</td>\n      <td>9f0d82ae-38bf-45d8-8cda-982b6ead1d72</td>\n      <td>[435231]</td>\n      <td>Siren Lookout</td>\n      <td>https://api.scryfall.com/cards/0000cd57-91fe-4...</td>\n      <td>https://scryfall.com/card/xln/78/siren-lookout...</td>\n      <td>normal</td>\n      <td>True</td>\n      <td>highres_scan</td>\n      <td>...</td>\n      <td>NaN</td>\n      <td>NaN</td>\n      <td>NaN</td>\n      <td>NaN</td>\n      <td>NaN</td>\n      <td>NaN</td>\n      <td>NaN</td>\n      <td>NaN</td>\n      <td>NaN</td>\n      <td>NaN</td>\n    </tr>\n    <tr>\n      <th>4</th>\n      <td>card</td>\n      <td>00012bd8-ed68-4978-a22d-f450c8a6e048</td>\n      <td>5aa12aff-db3c-4be5-822b-3afdf536b33e</td>\n      <td>[1278]</td>\n      <td>Web</td>\n      <td>https://api.scryfall.com/cards/00012bd8-ed68-4...</td>\n      <td>https://scryfall.com/card/3ed/229/web?utm_sour...</td>\n      <td>normal</td>\n      <td>True</td>\n      <td>highres_scan</td>\n      <td>...</td>\n      <td>NaN</td>\n      <td>NaN</td>\n      <td>NaN</td>\n      <td>NaN</td>\n      <td>NaN</td>\n      <td>NaN</td>\n      <td>NaN</td>\n      <td>NaN</td>\n      <td>NaN</td>\n      <td>NaN</td>\n    </tr>\n    <tr>\n      <th>5</th>\n      <td>card</td>\n      <td>0001f1ef-b957-4a55-b47f-14839cdbab6f</td>\n      <td>ef027846-be81-4959-a6b5-56bd01b1e68a</td>\n      <td>[472997]</td>\n      <td>Venerable Knight</td>\n      <td>https://api.scryfall.com/cards/0001f1ef-b957-4...</td>\n      <td>https://scryfall.com/card/eld/35/venerable-kni...</td>\n      <td>normal</td>\n      <td>True</td>\n      <td>highres_scan</td>\n      <td>...</td>\n      <td>NaN</td>\n      <td>NaN</td>\n      <td>NaN</td>\n      <td>NaN</td>\n      <td>NaN</td>\n      <td>NaN</td>\n      <td>NaN</td>\n      <td>NaN</td>\n      <td>NaN</td>\n      <td>NaN</td>\n    </tr>\n  </tbody>\n</table>\n<p>5 rows × 43 columns</p>\n</div>"
     },
     "execution_count": 22,
     "metadata": {},
     "output_type": "execute_result"
    }
   ],
   "source": [
    "print(data.shape)\n",
    "data.head()"
   ],
   "metadata": {
    "collapsed": false
   }
  },
  {
   "cell_type": "code",
   "execution_count": 24,
   "outputs": [
    {
     "data": {
      "text/plain": "['<|endoftext|>Fury Sliver | {5}{R} | Creature — Sliver | uncommon | All Sliver creatures have double strike. | \"A rift opened, and our arrows were abruptly stilled. To move was to push the world. But the sliver\\'s claw still twitched, red wounds appeared in Thed\\'s chest, and ribbons of blood hung in the air.\"\\n—Adom Capashen, Benalish hero | 3 | 3<|endoftext|>',\n '<|endoftext|>Kor Outfitter | {W}{W} | Creature — Kor Soldier | common | When <card_name> enters the battlefield, you may attach target Equipment you control to target creature you control. | \"We take only what we need to survive. Believe me, you will need this.\" | 2 | 2<|endoftext|>',\n \"<|endoftext|>Siren Lookout | {2}{U} | Creature — Siren Pirate | common | Flying\\nWhen <card_name> enters the battlefield, it explores. (Reveal the top card of your library. Put that card into your hand if it's a land. Otherwise, put a +1/+1 counter on this creature, then put the card back or put it into your graveyard.) | nan | 1 | 2<|endoftext|>\",\n '<|endoftext|>Web | {G} | Enchantment — Aura | rare | Enchant creature (Target a creature as you cast this. This card enters the battlefield attached to that creature.)\\nEnchanted creature gets +0/+2 and has reach. (It can block creatures with flying.) | nan | nan | nan<|endoftext|>',\n '<|endoftext|>Venerable Knight | {W} | Creature — Human Knight | uncommon | When <card_name> dies, put a +1/+1 counter on target Knight you control. | \"May this blade guide you on your great journey, as it did me on mine.\" | 2 | 1<|endoftext|>',\n \"<|endoftext|>Wildcall | {X}{G}{G} | Sorcery | rare | Manifest the top card of your library, then put X +1/+1 counters on it. (To manifest a card, put it onto the battlefield face down as a 2/2 creature. Turn it face up any time for its mana cost if it's a creature card.) | A howl on the wind hides many dangers. | nan | nan<|endoftext|>\",\n \"<|endoftext|>Mystic Skyfish | {2}{U} | Creature — Fish | common | Whenever you draw your second card each turn, <card_name> gains flying until end of turn. | The problem wasn't that fish had learned how to fly. It was that sharks had adapted to follow them. | 3 | 1<|endoftext|>\",\n '<|endoftext|>Swamp |  | Basic Land — Swamp | common | ({T}: Add {B}.) | nan | nan | nan<|endoftext|>',\n '<|endoftext|>Battlewing Mystic | {1}{U} | Creature — Bird Wizard | uncommon | Kicker {R} (You may pay an additional {R} as you cast this spell.)\\nFlying\\nWhen <card_name> enters the battlefield, if it was kicked, discard your hand, then draw two cards. | nan | 2 | 1<|endoftext|>',\n '<|endoftext|>Birds of Paradise | {G} | Creature — Bird | rare | Flying\\n{T}: Add one mana of any color. | nan | 0 | 1<|endoftext|>']"
     },
     "execution_count": 24,
     "metadata": {},
     "output_type": "execute_result"
    }
   ],
   "source": [
    "# Build a string representation of each card to be saved out as a text file.\n",
    "# Card data will be represented as a string with the following format:\n",
    "# \"<|endoftext|>{card_name} | ?{mana_cost} | {type_line} | {rarity} | ?{oracle_text} | ?{flavor_text} | ?{power} | ?{toughness}<|endoftext|>\"\n",
    "# The ? indicates that the field may be empty.\n",
    "\n",
    "# end of text token\n",
    "eot = \"<|endoftext|>\"\n",
    "card_data = []\n",
    "for index, row in data.iterrows():\n",
    "    card_data.append(f\"{eot}{row['name']} | {row['mana_cost']} | {row['type_line']} | {row['rarity']} | {row['oracle_text']} | {row['flavor_text']} | {row['power']} | {row['toughness']}{eot}\")\n",
    "\n",
    "# sample the first 10 cards\n",
    "card_data[:10]\n"
   ],
   "metadata": {
    "collapsed": false
   }
  },
  {
   "cell_type": "code",
   "execution_count": 25,
   "outputs": [],
   "source": [
    "# save the card data to a text file\n",
    "with open('data/mtg_char/mtg_card_data.txt', 'w') as f:\n",
    "    f.write('\\n'.join(card_data))"
   ],
   "metadata": {
    "collapsed": false
   }
  },
  {
   "cell_type": "code",
   "execution_count": 26,
   "outputs": [],
   "source": [
    "# write out the dataframe to a json file\n",
    "data.to_json('data/mtg_char/mtg_card_data.json', orient='records', lines=True)"
   ],
   "metadata": {
    "collapsed": false
   }
  },
  {
   "cell_type": "code",
   "execution_count": null,
   "outputs": [],
   "source": [],
   "metadata": {
    "collapsed": false
   }
  }
 ],
 "metadata": {
  "kernelspec": {
   "display_name": "Python 3",
   "language": "python",
   "name": "python3"
  },
  "language_info": {
   "codemirror_mode": {
    "name": "ipython",
    "version": 2
   },
   "file_extension": ".py",
   "mimetype": "text/x-python",
   "name": "python",
   "nbconvert_exporter": "python",
   "pygments_lexer": "ipython2",
   "version": "2.7.6"
  }
 },
 "nbformat": 4,
 "nbformat_minor": 0
}
